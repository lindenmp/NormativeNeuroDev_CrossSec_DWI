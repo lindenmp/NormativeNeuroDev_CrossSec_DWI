{
 "cells": [
  {
   "cell_type": "code",
   "execution_count": 1,
   "metadata": {},
   "outputs": [],
   "source": [
    "# Essentials\n",
    "import os, sys, glob\n",
    "import pandas as pd\n",
    "import numpy as np\n",
    "import nibabel as nib\n",
    "import scipy.io as sio\n",
    "\n",
    "# Stats\n",
    "import scipy as sp\n",
    "from scipy import stats\n",
    "import statsmodels.api as sm\n",
    "import pingouin as pg\n",
    "\n",
    "# Plotting\n",
    "import seaborn as sns\n",
    "import matplotlib.pyplot as plt\n",
    "plt.rcParams['svg.fonttype'] = 'none'"
   ]
  },
  {
   "cell_type": "code",
   "execution_count": 2,
   "metadata": {},
   "outputs": [],
   "source": [
    "import copy\n",
    "from sklearn.metrics import make_scorer, mean_squared_error"
   ]
  },
  {
   "cell_type": "code",
   "execution_count": 3,
   "metadata": {},
   "outputs": [],
   "source": [
    "sys.path.append('/Users/lindenmp/Google-Drive-Penn/work/research_projects/neurodev_cs_predictive/1_code/')\n",
    "from func import set_proj_env, my_get_cmap, root_mean_squared_error, get_reg, get_stratified_cv, cross_val_score_nuis"
   ]
  },
  {
   "cell_type": "code",
   "execution_count": 4,
   "metadata": {},
   "outputs": [],
   "source": [
    "parc_str = 'schaefer'\n",
    "parc_scale = 200\n",
    "edge_weight = 'streamlineCount'\n",
    "parcel_names, parcel_loc, drop_parcels, num_parcels = set_proj_env(parc_str = parc_str, parc_scale = parc_scale, edge_weight = edge_weight)"
   ]
  },
  {
   "cell_type": "code",
   "execution_count": 5,
   "metadata": {},
   "outputs": [
    {
     "data": {
      "text/plain": [
       "'schaefer_200_streamlineCount_'"
      ]
     },
     "execution_count": 5,
     "metadata": {},
     "output_type": "execute_result"
    }
   ],
   "source": [
    "# output file prefix\n",
    "outfile_prefix = parc_str+'_'+str(parc_scale)+'_'+edge_weight+'_'\n",
    "outfile_prefix"
   ]
  },
  {
   "cell_type": "markdown",
   "metadata": {},
   "source": [
    "### Setup directory variables"
   ]
  },
  {
   "cell_type": "code",
   "execution_count": 6,
   "metadata": {},
   "outputs": [
    {
     "name": "stdout",
     "output_type": "stream",
     "text": [
      "/Users/lindenmp/Google-Drive-Penn/work/research_projects/neurodev_cs_predictive/2_pipeline\n"
     ]
    }
   ],
   "source": [
    "print(os.environ['PIPELINEDIR'])\n",
    "if not os.path.exists(os.environ['PIPELINEDIR']): os.makedirs(os.environ['PIPELINEDIR'])"
   ]
  },
  {
   "cell_type": "code",
   "execution_count": 7,
   "metadata": {},
   "outputs": [
    {
     "name": "stdout",
     "output_type": "stream",
     "text": [
      "/Users/lindenmp/Google-Drive-Penn/work/research_projects/neurodev_cs_predictive/3_output/figs\n"
     ]
    }
   ],
   "source": [
    "figdir = os.path.join(os.environ['OUTPUTDIR'], 'figs')\n",
    "print(figdir)\n",
    "if not os.path.exists(figdir): os.makedirs(figdir)"
   ]
  },
  {
   "cell_type": "code",
   "execution_count": 8,
   "metadata": {},
   "outputs": [
    {
     "name": "stdout",
     "output_type": "stream",
     "text": [
      "['Overall_Psychopathology', 'Psychosis_Positive', 'Psychosis_NegativeDisorg']\n"
     ]
    }
   ],
   "source": [
    "phenos = ['Overall_Psychopathology','Psychosis_Positive','Psychosis_NegativeDisorg']\n",
    "phenos_label = ['Overall Psychopathology','Psychosis (Positive)','Psychosis (Negative)']\n",
    "phenos_short = ['Ov. Psy.','Psy. (pos)','Psy. (neg)']\n",
    "\n",
    "print(phenos)\n",
    "\n",
    "metrics = ['str', 'ac']\n",
    "metrics_label = ['Strength', 'Average Controllability']\n",
    "\n",
    "algs = ['rr', 'krr_rbf']\n",
    "scores = ['corr', 'rmse']\n",
    "seeds = np.arange(0,100)"
   ]
  },
  {
   "cell_type": "markdown",
   "metadata": {},
   "source": [
    "### Model options"
   ]
  },
  {
   "cell_type": "code",
   "execution_count": 9,
   "metadata": {},
   "outputs": [
    {
     "name": "stdout",
     "output_type": "stream",
     "text": [
      "krr_rbf\n",
      "rmse\n"
     ]
    }
   ],
   "source": [
    "a = 1; alg = algs[a]; print(alg)\n",
    "s = 1; score = scores[s]; print(score)"
   ]
  },
  {
   "cell_type": "code",
   "execution_count": 10,
   "metadata": {},
   "outputs": [
    {
     "data": {
      "text/plain": [
       "make_scorer(root_mean_squared_error, greater_is_better=False)"
      ]
     },
     "execution_count": 10,
     "metadata": {},
     "output_type": "execute_result"
    }
   ],
   "source": [
    "my_scorer = make_scorer(root_mean_squared_error, greater_is_better = False)\n",
    "my_scorer"
   ]
  },
  {
   "cell_type": "code",
   "execution_count": 11,
   "metadata": {},
   "outputs": [],
   "source": [
    "regs, param_grid = get_reg()"
   ]
  },
  {
   "cell_type": "code",
   "execution_count": 12,
   "metadata": {},
   "outputs": [],
   "source": [
    "n_splits = 10"
   ]
  },
  {
   "cell_type": "code",
   "execution_count": 13,
   "metadata": {},
   "outputs": [],
   "source": [
    "g = 0\n",
    "gradient = np.loadtxt(os.path.join(os.environ['PIPELINEDIR'], '2_compute_gradient', 'out', parc_str+'_'+str(parc_scale)+'_'+'pnc_grads_template.txt'))[:,g]\n",
    "# sort gradient\n",
    "sort_idx = np.argsort(gradient)"
   ]
  },
  {
   "cell_type": "markdown",
   "metadata": {},
   "source": [
    "## Setup plots"
   ]
  },
  {
   "cell_type": "code",
   "execution_count": 14,
   "metadata": {},
   "outputs": [],
   "source": [
    "if not os.path.exists(figdir): os.makedirs(figdir)\n",
    "os.chdir(figdir)\n",
    "sns.set(style='white', context = 'paper', font_scale = 1)\n",
    "cmap = my_get_cmap('pair')"
   ]
  },
  {
   "cell_type": "markdown",
   "metadata": {},
   "source": [
    "## Load data"
   ]
  },
  {
   "cell_type": "code",
   "execution_count": 15,
   "metadata": {},
   "outputs": [
    {
     "name": "stdout",
     "output_type": "stream",
     "text": [
      "(1068, 4)\n"
     ]
    },
    {
     "data": {
      "text/plain": [
       "Index(['ageAtScan1', 'sex', 'mprage_antsCT_vol_TBV', 'dti64MeanRelRMS'], dtype='object')"
      ]
     },
     "execution_count": 15,
     "metadata": {},
     "output_type": "execute_result"
    }
   ],
   "source": [
    "df_node = pd.read_csv(os.path.join(os.environ['PIPELINEDIR'], '1_compute_node_features', 'out', outfile_prefix+'X.csv'))\n",
    "df_node.set_index(['bblid', 'scanid'], inplace = True)\n",
    "\n",
    "df_node_ac_overc = pd.read_csv(os.path.join(os.environ['PIPELINEDIR'], '1_compute_node_features', 'out', outfile_prefix+'X_ac_c.csv'))\n",
    "df_node_ac_overc.set_index(['bblid', 'scanid'], inplace = True)\n",
    "\n",
    "df_pheno = pd.read_csv(os.path.join(os.environ['PIPELINEDIR'], '1_compute_node_features', 'out', outfile_prefix+'y.csv'))\n",
    "df_pheno.set_index(['bblid', 'scanid'], inplace = True)\n",
    "\n",
    "c = pd.read_csv(os.path.join(os.environ['PIPELINEDIR'], '1_compute_node_features', 'out', outfile_prefix+'c.csv'))\n",
    "c.set_index(['bblid', 'scanid'], inplace = True); print(c.shape)\n",
    "c.columns"
   ]
  },
  {
   "cell_type": "code",
   "execution_count": 16,
   "metadata": {},
   "outputs": [
    {
     "data": {
      "text/plain": [
       "45.50561797752809"
      ]
     },
     "execution_count": 16,
     "metadata": {},
     "output_type": "execute_result"
    }
   ],
   "source": [
    "(np.sum(c.loc[:,'sex'] == 1)/c.shape[0]) * 100"
   ]
  },
  {
   "cell_type": "code",
   "execution_count": 17,
   "metadata": {},
   "outputs": [],
   "source": [
    "bin_size = 5"
   ]
  },
  {
   "cell_type": "code",
   "execution_count": 18,
   "metadata": {},
   "outputs": [
    {
     "name": "stdout",
     "output_type": "stream",
     "text": [
      "None\n"
     ]
    }
   ],
   "source": [
    "c_params = np.array([10, 100, 1000, 10000])\n",
    "c_params\n",
    "\n",
    "# control_c = c_params[3]\n",
    "control_c = None\n",
    "print(control_c)\n",
    "\n",
    "if control_c == None:\n",
    "    metrics = ['str', 'ac']\n",
    "    metrics_label = ['Strength', 'Average Controllability']\n",
    "else:\n",
    "    metrics = ['ac',]\n",
    "    metrics_label = ['Average Controllability',]\n",
    "\n",
    "phenos = ['Psychosis_Positive','Psychosis_NegativeDisorg']\n",
    "phenos_label = ['Psychosis (Positive)','Psychosis (Negative)']\n",
    "phenos_short = ['Psy. (pos)','Psy. (neg)']"
   ]
  },
  {
   "cell_type": "code",
   "execution_count": 19,
   "metadata": {},
   "outputs": [
    {
     "name": "stdout",
     "output_type": "stream",
     "text": [
      "str Psychosis_Positive\n",
      "(1068, 200)\n",
      "(1068,)\n",
      "Full model score: 1.0197046630074635 0.0070202966249324214\n",
      "Computing accuracy for non overlapping windows\n",
      "str Psychosis_NegativeDisorg\n",
      "(1068, 200)\n",
      "(1068,)\n",
      "Full model score: 1.0171486556603173 0.006721732204419747\n",
      "Computing accuracy for non overlapping windows\n",
      "ac Psychosis_Positive\n",
      "(1068, 200)\n",
      "(1068,)\n",
      "Full model score: 0.9990405995119062 0.008122164896685423\n",
      "Computing accuracy for non overlapping windows\n",
      "ac Psychosis_NegativeDisorg\n",
      "(1068, 200)\n",
      "(1068,)\n",
      "Full model score: 1.026084128508262 0.010649254312639864\n",
      "Computing accuracy for non overlapping windows\n"
     ]
    },
    {
     "data": {
      "image/png": "[encoded data removed]",
      "text/plain": [
       "<Figure size 144x144 with 1 Axes>"
      ]
     },
     "metadata": {},
     "output_type": "display_data"
    },
    {
     "data": {
      "image/png": "[encoded data removed]",
      "text/plain": [
       "<Figure size 144x144 with 1 Axes>"
      ]
     },
     "metadata": {},
     "output_type": "display_data"
    },
    {
     "data": {
      "image/png": "[encoded data removed]",
      "text/plain": [
       "<Figure size 144x144 with 1 Axes>"
      ]
     },
     "metadata": {},
     "output_type": "display_data"
    },
    {
     "data": {
      "image/png": "[encoded data removed]",
      "text/plain": [
       "<Figure size 144x144 with 1 Axes>"
      ]
     },
     "metadata": {},
     "output_type": "display_data"
    }
   ],
   "source": [
    "my_r = pd.DataFrame(index = metrics, columns = phenos)\n",
    "my_pvals = pd.DataFrame(index = metrics, columns = phenos)\n",
    "\n",
    "for m, metric in enumerate(metrics):\n",
    "    for p, pheno in enumerate(phenos):\n",
    "        print(metric, pheno)\n",
    "        \n",
    "        # Get X and y data\n",
    "        if control_c == None:\n",
    "            X = df_node.filter(regex = metric)\n",
    "        else:\n",
    "            X = df_node_ac_overc.filter(regex = metric + '_c' + str(control_c) + '_')\n",
    "        print(X.shape)\n",
    "        y = df_pheno.loc[:,pheno]; print(y.shape)\n",
    "\n",
    "        # set regression estimator\n",
    "        reg = copy.deepcopy(regs[alg])\n",
    "    \n",
    "        # sort and get cross-val\n",
    "        X_sort, y_sort, my_cv, c_sort = get_stratified_cv(X = X, y = y, c = c, n_splits = n_splits)\n",
    "\n",
    "        # get full model score\n",
    "        nuis_model, _ = cross_val_score_nuis(X = X_sort, y = y_sort, c = c_sort, my_cv = my_cv, reg = reg, my_scorer = my_scorer)\n",
    "        if score == 'rmse': nuis_model = np.abs(nuis_model)\n",
    "        main_score_nuis = nuis_model.mean()\n",
    "        main_sterr_nuis = nuis_model.std() / np.sqrt(n_splits)\n",
    "        print('Full model score:', main_score_nuis, main_sterr_nuis)\n",
    "        \n",
    "        print('Computing accuracy for non overlapping windows')\n",
    "        # reorder X by gradient\n",
    "        X_sort_grad = X_sort.iloc[:,sort_idx]\n",
    "        \n",
    "        window_start = np.arange(0,num_parcels - bin_size + 1, bin_size)\n",
    "        num_windows = len(window_start)\n",
    "\n",
    "        # compute accuracy for non overlapping windows\n",
    "        window_score = np.zeros(num_windows,)\n",
    "        window_sterr = np.zeros(num_windows,)\n",
    "\n",
    "        for i, w in enumerate(window_start):\n",
    "            Xl = X_sort_grad.iloc[:,w:w+bin_size]\n",
    "            cv_results, _ = cross_val_score_nuis(X = Xl, y = y_sort, c = c_sort, my_cv = my_cv, reg = reg, my_scorer = my_scorer)\n",
    "            if score == 'rmse': cv_results = np.abs(cv_results)\n",
    "            window_score[i] = cv_results.mean()\n",
    "            window_sterr[i] = cv_results.std() / np.sqrt(n_splits)\n",
    "            \n",
    "        if metric == 'str':\n",
    "            window_score_str = window_score.copy()\n",
    "        elif metric == 'ac':\n",
    "            window_score_ac = window_score.copy()\n",
    "            \n",
    "        # plot\n",
    "        f, ax = plt.subplots()\n",
    "        if control_c == None:\n",
    "            f.set_figwidth(2)\n",
    "            f.set_figheight(2)\n",
    "        else:\n",
    "            f.set_figwidth(1.25)\n",
    "            f.set_figheight(1.25)\n",
    "        sns.regplot(x = window_start, y = window_score, color = 'r', scatter = False)\n",
    "        \n",
    "        my_r.loc[metric,pheno] = sp.stats.pearsonr(window_start, window_score)[0]\n",
    "        my_pvals.loc[metric,pheno] = sp.stats.pearsonr(window_start, window_score)[1]\n",
    "        \n",
    "        # non overlapping windows\n",
    "        if len(window_start) > len(window_score): window_start = window_start[:len(window_score)]\n",
    "        plt.scatter(x = window_start, y = window_score, marker = 'o', s = 30, edgecolors = 'black', facecolors = 'gray', alpha=0.8, linewidth = 1)\n",
    "        ax.tick_params(pad = -2)\n",
    "\n",
    "        ax.set_xlabel('Gradient (sliding window)')\n",
    "        ax.set_ylabel('RMSE (lower = better)')\n",
    "        ax.set_xlim([-10, num_parcels+10])\n",
    "        if control_c != None:\n",
    "            ax.set_ylim([0.995, 1.04])\n",
    "\n",
    "        ax.set_title('X: ' + metrics_label[m] + '\\n y: ' + phenos_label[p])\n",
    "\n",
    "        if control_c == None:\n",
    "            f.savefig(outfile_prefix+'gradient_'+str(g)+'_window_'+metric+'_'+pheno+'.svg', dpi = 300, bbox_inches = 'tight')\n",
    "        else:\n",
    "            f.savefig(outfile_prefix+'c_' + str(control_c) + '_gradient_'+str(g)+'_window_'+metric+'_'+pheno+'.svg', dpi = 300, bbox_inches = 'tight')"
   ]
  },
  {
   "cell_type": "code",
   "execution_count": 20,
   "metadata": {},
   "outputs": [
    {
     "data": {
      "text/html": [
       "<div>\n",
       "<style scoped>\n",
       "    .dataframe tbody tr th:only-of-type {\n",
       "        vertical-align: middle;\n",
       "    }\n",
       "\n",
       "    .dataframe tbody tr th {\n",
       "        vertical-align: top;\n",
       "    }\n",
       "\n",
       "    .dataframe thead th {\n",
       "        text-align: right;\n",
       "    }\n",
       "</style>\n",
       "<table border=\"1\" class=\"dataframe\">\n",
       "  <thead>\n",
       "    <tr style=\"text-align: right;\">\n",
       "      <th></th>\n",
       "      <th>Psychosis_Positive</th>\n",
       "      <th>Psychosis_NegativeDisorg</th>\n",
       "    </tr>\n",
       "  </thead>\n",
       "  <tbody>\n",
       "    <tr>\n",
       "      <th>str</th>\n",
       "      <td>0.0680691</td>\n",
       "      <td>0.0577813</td>\n",
       "    </tr>\n",
       "    <tr>\n",
       "      <th>ac</th>\n",
       "      <td>-0.574395</td>\n",
       "      <td>-0.25512</td>\n",
       "    </tr>\n",
       "  </tbody>\n",
       "</table>\n",
       "</div>"
      ],
      "text/plain": [
       "    Psychosis_Positive Psychosis_NegativeDisorg\n",
       "str          0.0680691                0.0577813\n",
       "ac           -0.574395                 -0.25512"
      ]
     },
     "execution_count": 20,
     "metadata": {},
     "output_type": "execute_result"
    }
   ],
   "source": [
    "my_r"
   ]
  },
  {
   "cell_type": "code",
   "execution_count": 21,
   "metadata": {},
   "outputs": [
    {
     "data": {
      "text/html": [
       "<div>\n",
       "<style scoped>\n",
       "    .dataframe tbody tr th:only-of-type {\n",
       "        vertical-align: middle;\n",
       "    }\n",
       "\n",
       "    .dataframe tbody tr th {\n",
       "        vertical-align: top;\n",
       "    }\n",
       "\n",
       "    .dataframe thead th {\n",
       "        text-align: right;\n",
       "    }\n",
       "</style>\n",
       "<table border=\"1\" class=\"dataframe\">\n",
       "  <thead>\n",
       "    <tr style=\"text-align: right;\">\n",
       "      <th></th>\n",
       "      <th>Psychosis_Positive</th>\n",
       "      <th>Psychosis_NegativeDisorg</th>\n",
       "    </tr>\n",
       "  </thead>\n",
       "  <tbody>\n",
       "    <tr>\n",
       "      <th>str</th>\n",
       "      <td>0.67643</td>\n",
       "      <td>0.723227</td>\n",
       "    </tr>\n",
       "    <tr>\n",
       "      <th>ac</th>\n",
       "      <td>0.000106268</td>\n",
       "      <td>0.112112</td>\n",
       "    </tr>\n",
       "  </tbody>\n",
       "</table>\n",
       "</div>"
      ],
      "text/plain": [
       "    Psychosis_Positive Psychosis_NegativeDisorg\n",
       "str            0.67643                 0.723227\n",
       "ac         0.000106268                 0.112112"
      ]
     },
     "execution_count": 21,
     "metadata": {},
     "output_type": "execute_result"
    }
   ],
   "source": [
    "my_pvals"
   ]
  }
 ],
 "metadata": {
  "kernelspec": {
   "display_name": "Python 3",
   "language": "python",
   "name": "python3"
  },
  "language_info": {
   "codemirror_mode": {
    "name": "ipython",
    "version": 3
   },
   "file_extension": ".py",
   "mimetype": "text/x-python",
   "name": "python",
   "nbconvert_exporter": "python",
   "pygments_lexer": "ipython3",
   "version": "3.7.7"
  }
 },
 "nbformat": 4,
 "nbformat_minor": 4
}
