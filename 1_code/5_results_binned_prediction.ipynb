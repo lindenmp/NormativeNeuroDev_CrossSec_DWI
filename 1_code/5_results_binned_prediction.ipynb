{
 "cells": [
  {
   "cell_type": "code",
   "execution_count": 1,
   "metadata": {},
   "outputs": [],
   "source": [
    "# Essentials\n",
    "import os, sys, glob\n",
    "import pandas as pd\n",
    "import numpy as np\n",
    "import nibabel as nib\n",
    "import scipy.io as sio\n",
    "from tqdm import tqdm\n",
    "\n",
    "# Stats\n",
    "import scipy as sp\n",
    "from scipy import stats\n",
    "import statsmodels.api as sm\n",
    "import pingouin as pg\n",
    "\n",
    "# Plotting\n",
    "import seaborn as sns\n",
    "import matplotlib.pyplot as plt\n",
    "plt.rcParams['svg.fonttype'] = 'none'"
   ]
  },
  {
   "cell_type": "code",
   "execution_count": 2,
   "metadata": {},
   "outputs": [
    {
     "name": "stderr",
     "output_type": "stream",
     "text": [
      "/Users/lindenmp/opt/anaconda3/envs/neurodev_cs_predictive/lib/python3.7/site-packages/outdated/utils.py:18: OutdatedPackageWarning: The package pingouin is out of date. Your version is 0.3.7, the latest is 0.3.9.\n",
      "Set the environment variable OUTDATED_IGNORE=1 to disable these warnings.\n",
      "  **kwargs\n"
     ]
    }
   ],
   "source": [
    "import copy\n",
    "from sklearn.metrics import make_scorer, mean_squared_error"
   ]
  },
  {
   "cell_type": "code",
   "execution_count": 3,
   "metadata": {},
   "outputs": [],
   "source": [
    "sys.path.append('/Users/lindenmp/Google-Drive-Penn/work/research_projects/neurodev_cs_predictive/1_code/')\n",
    "from func import set_proj_env, my_get_cmap, root_mean_squared_error, get_reg, get_stratified_cv, cross_val_score_nuis, get_fdr_p"
   ]
  },
  {
   "cell_type": "code",
   "execution_count": 4,
   "metadata": {},
   "outputs": [],
   "source": [
    "parc_str = 'schaefer' # 'schaefer' 'lausanne' 'glasser'\n",
    "parc_scale = 200 # 200/400 | 125/250 | 360\n",
    "edge_weight = 'streamlineCount' # 'streamlineCount' 'volNormStreamline'\n",
    "parcel_names, parcel_loc, drop_parcels, num_parcels = set_proj_env(parc_str = parc_str, parc_scale = parc_scale, edge_weight = edge_weight)"
   ]
  },
  {
   "cell_type": "code",
   "execution_count": 5,
   "metadata": {},
   "outputs": [
    {
     "data": {
      "text/plain": [
       "'schaefer_200_streamlineCount_'"
      ]
     },
     "execution_count": 5,
     "metadata": {},
     "output_type": "execute_result"
    }
   ],
   "source": [
    "# output file prefix\n",
    "run_hemi = ''\n",
    "if run_hemi == 'ipsi':\n",
    "    outfile_prefix = parc_str+'_'+str(parc_scale)+'_'+edge_weight+'_ipsi_'\n",
    "elif run_hemi == 'contra':\n",
    "    outfile_prefix = parc_str+'_'+str(parc_scale)+'_'+edge_weight+'_contra_'\n",
    "else:\n",
    "    outfile_prefix = parc_str+'_'+str(parc_scale)+'_'+edge_weight+'_'\n",
    "outfile_prefix"
   ]
  },
  {
   "cell_type": "code",
   "execution_count": 6,
   "metadata": {},
   "outputs": [],
   "source": [
    "# drop brainstem\n",
    "if parc_str == 'lausanne':\n",
    "    parcel_loc = parcel_loc[parcel_loc != 2]\n",
    "#     parcel_loc = parcel_loc[parcel_loc == 1]\n",
    "    num_parcels = len(parcel_loc[parcel_loc == 1])"
   ]
  },
  {
   "cell_type": "markdown",
   "metadata": {},
   "source": [
    "### Setup directory variables"
   ]
  },
  {
   "cell_type": "code",
   "execution_count": 7,
   "metadata": {},
   "outputs": [
    {
     "name": "stdout",
     "output_type": "stream",
     "text": [
      "/Users/lindenmp/Google-Drive-Penn/work/research_projects/neurodev_cs_predictive/2_pipeline\n"
     ]
    }
   ],
   "source": [
    "print(os.environ['PIPELINEDIR'])\n",
    "if not os.path.exists(os.environ['PIPELINEDIR']): os.makedirs(os.environ['PIPELINEDIR'])"
   ]
  },
  {
   "cell_type": "code",
   "execution_count": 8,
   "metadata": {},
   "outputs": [
    {
     "name": "stdout",
     "output_type": "stream",
     "text": [
      "/Users/lindenmp/Google-Drive-Penn/work/research_projects/neurodev_cs_predictive/3_output/figs\n"
     ]
    }
   ],
   "source": [
    "figdir = os.path.join(os.environ['OUTPUTDIR'], 'figs')\n",
    "print(figdir)\n",
    "if not os.path.exists(figdir): os.makedirs(figdir)"
   ]
  },
  {
   "cell_type": "code",
   "execution_count": 9,
   "metadata": {},
   "outputs": [],
   "source": [
    "# phenos = ['Overall_Psychopathology','Psychosis_Positive','Psychosis_NegativeDisorg']\n",
    "# phenos_label = ['Overall Psychopathology','Psychosis (Positive)','Psychosis (Negative)']\n",
    "# phenos_short = ['Ov. Psy.','Psy. (pos)','Psy. (neg)']\n",
    "\n",
    "# print(phenos)\n",
    "\n",
    "# metrics = ['str', 'ac', 'bc', 'cc', 'sgc']\n",
    "# metrics_label = ['Strength', 'Average controllability', 'Betweenness centrality', 'Closeness centrality', 'Subgraph centrality']\n",
    "\n",
    "algs = ['rr', 'krr_rbf']\n",
    "scores = ['corr', 'rmse']\n",
    "seeds = np.arange(0,100)"
   ]
  },
  {
   "cell_type": "markdown",
   "metadata": {},
   "source": [
    "### Model options"
   ]
  },
  {
   "cell_type": "code",
   "execution_count": 10,
   "metadata": {},
   "outputs": [
    {
     "name": "stdout",
     "output_type": "stream",
     "text": [
      "krr_rbf\n",
      "rmse\n"
     ]
    }
   ],
   "source": [
    "a = 1; alg = algs[a]; print(alg)\n",
    "s = 1; score = scores[s]; print(score)"
   ]
  },
  {
   "cell_type": "code",
   "execution_count": 11,
   "metadata": {},
   "outputs": [
    {
     "data": {
      "text/plain": [
       "make_scorer(root_mean_squared_error, greater_is_better=False)"
      ]
     },
     "execution_count": 11,
     "metadata": {},
     "output_type": "execute_result"
    }
   ],
   "source": [
    "my_scorer = make_scorer(root_mean_squared_error, greater_is_better = False)\n",
    "my_scorer"
   ]
  },
  {
   "cell_type": "code",
   "execution_count": 12,
   "metadata": {},
   "outputs": [],
   "source": [
    "regs, param_grid = get_reg()\n",
    "# regs = get_reg()"
   ]
  },
  {
   "cell_type": "code",
   "execution_count": 13,
   "metadata": {},
   "outputs": [],
   "source": [
    "n_splits = 10"
   ]
  },
  {
   "cell_type": "code",
   "execution_count": 14,
   "metadata": {},
   "outputs": [],
   "source": [
    "g = 0\n",
    "gradient = np.loadtxt(os.path.join(os.environ['PIPELINEDIR'], '2_compute_gradient', 'out', parc_str+'_'+str(parc_scale)+'_'+'pnc_grads_template.txt'))[:,g]\n",
    "# sort gradient\n",
    "sort_idx = np.argsort(gradient)"
   ]
  },
  {
   "cell_type": "markdown",
   "metadata": {},
   "source": [
    "## Setup plots"
   ]
  },
  {
   "cell_type": "code",
   "execution_count": 15,
   "metadata": {},
   "outputs": [],
   "source": [
    "if not os.path.exists(figdir): os.makedirs(figdir)\n",
    "os.chdir(figdir)\n",
    "sns.set(style='white', context = 'paper', font_scale = 1)\n",
    "sns.set_style({'font.family':'sans-serif', 'font.sans-serif':['Public Sans']})\n",
    "cmap = my_get_cmap('pair')"
   ]
  },
  {
   "cell_type": "markdown",
   "metadata": {},
   "source": [
    "## Load data"
   ]
  },
  {
   "cell_type": "code",
   "execution_count": 16,
   "metadata": {},
   "outputs": [
    {
     "name": "stdout",
     "output_type": "stream",
     "text": [
      "(1068, 4)\n"
     ]
    },
    {
     "data": {
      "text/plain": [
       "Index(['ageAtScan1', 'sex', 'mprage_antsCT_vol_TBV', 'dti64MeanRelRMS'], dtype='object')"
      ]
     },
     "execution_count": 16,
     "metadata": {},
     "output_type": "execute_result"
    }
   ],
   "source": [
    "df_node = pd.read_csv(os.path.join(os.environ['PIPELINEDIR'], '1_compute_node_features', 'out', outfile_prefix+'X.csv'))\n",
    "df_node.set_index(['bblid', 'scanid'], inplace = True)\n",
    "\n",
    "df_node_ac_overc = pd.read_csv(os.path.join(os.environ['PIPELINEDIR'], '1_compute_node_features', 'out', outfile_prefix+'X_ac_c.csv'))\n",
    "df_node_ac_overc.set_index(['bblid', 'scanid'], inplace = True)\n",
    "\n",
    "df_node_ac_i2 = pd.read_csv(os.path.join(os.environ['PIPELINEDIR'], '1_compute_node_features', 'out', outfile_prefix+'X_ac_i2.csv'))\n",
    "df_node_ac_i2.set_index(['bblid', 'scanid'], inplace = True)\n",
    "\n",
    "df_node_ac_overc_i2 = pd.read_csv(os.path.join(os.environ['PIPELINEDIR'], '1_compute_node_features', 'out', outfile_prefix+'X_ac_c_i2.csv'))\n",
    "df_node_ac_overc_i2.set_index(['bblid', 'scanid'], inplace = True)\n",
    "\n",
    "df_pheno = pd.read_csv(os.path.join(os.environ['PIPELINEDIR'], '1_compute_node_features', 'out', outfile_prefix+'y.csv'))\n",
    "df_pheno.set_index(['bblid', 'scanid'], inplace = True)\n",
    "\n",
    "c = pd.read_csv(os.path.join(os.environ['PIPELINEDIR'], '1_compute_node_features', 'out', outfile_prefix+'c.csv'))\n",
    "c.set_index(['bblid', 'scanid'], inplace = True); print(c.shape)\n",
    "c.columns"
   ]
  },
  {
   "cell_type": "code",
   "execution_count": 17,
   "metadata": {},
   "outputs": [
    {
     "name": "stdout",
     "output_type": "stream",
     "text": [
      "True\n",
      "0\n",
      "True\n",
      "0\n"
     ]
    }
   ],
   "source": [
    "print(np.all(df_node.filter(regex = 'ac') == df_node_ac_i2))\n",
    "print(np.sum(df_node.filter(regex = 'ac').corrwith(df_node_ac_i2, method='spearman') < 0.99))\n",
    "\n",
    "print(np.all(df_node_ac_overc == df_node_ac_overc_i2))\n",
    "print(np.sum(df_node_ac_overc.corrwith(df_node_ac_overc_i2, method='spearman') < 0.99))"
   ]
  },
  {
   "cell_type": "code",
   "execution_count": 18,
   "metadata": {},
   "outputs": [],
   "source": [
    "# # replace ac with initial condition = 2\n",
    "# ac_labels = ['ac_' + str(i) for i in range(num_parcels)]\n",
    "# df_node.loc[:,ac_labels]"
   ]
  },
  {
   "cell_type": "code",
   "execution_count": 19,
   "metadata": {},
   "outputs": [
    {
     "data": {
      "text/plain": [
       "45.50561797752809"
      ]
     },
     "execution_count": 19,
     "metadata": {},
     "output_type": "execute_result"
    }
   ],
   "source": [
    "(np.sum(c.loc[:,'sex'] == 1)/c.shape[0]) * 100"
   ]
  },
  {
   "cell_type": "code",
   "execution_count": 20,
   "metadata": {},
   "outputs": [
    {
     "name": "stdout",
     "output_type": "stream",
     "text": [
      "200\n",
      "5\n",
      "0\n"
     ]
    }
   ],
   "source": [
    "print(num_parcels)\n",
    "\n",
    "# num_windows = 40\n",
    "# print(num_parcels/num_windows)\n",
    "# bin_size = int(num_parcels/num_windows)\n",
    "bin_size = 5\n",
    "\n",
    "print(bin_size)\n",
    "print(num_parcels % bin_size)"
   ]
  },
  {
   "cell_type": "code",
   "execution_count": 21,
   "metadata": {},
   "outputs": [
    {
     "name": "stdout",
     "output_type": "stream",
     "text": [
      "[  0   5  10  15  20  25  30  35  40  45  50  55  60  65  70  75  80  85\n",
      "  90  95 100 105 110 115 120 125 130 135 140 145 150 155 160 165 170 175\n",
      " 180 185 190 195]\n",
      "40\n"
     ]
    }
   ],
   "source": [
    "if num_parcels % bin_size == 0:\n",
    "    window_start = np.arange(0,num_parcels - bin_size + 1, bin_size)\n",
    "else:\n",
    "    window_start = np.arange(0,num_parcels, bin_size)\n",
    "    \n",
    "num_windows = len(window_start)\n",
    "\n",
    "print(window_start)\n",
    "print(num_windows)\n",
    "\n",
    "# if window_start[-1]+bin_size != num_parcels:\n",
    "#     print('Warning: check bins')\n",
    "#     window_start = np.append(window_start, num_parcels-bin_size)\n",
    "#     num_windows = len(window_start)\n",
    "#     print(window_start)\n",
    "#     print(num_windows)"
   ]
  },
  {
   "cell_type": "markdown",
   "metadata": {},
   "source": [
    "### Export for permutation testing on cluster"
   ]
  },
  {
   "cell_type": "code",
   "execution_count": 22,
   "metadata": {},
   "outputs": [
    {
     "name": "stdout",
     "output_type": "stream",
     "text": [
      "/Users/lindenmp/Google-Drive-Penn/work/research_projects/neurodev_cs_predictive/2_pipeline/1_compute_node_features/out_gradient_bin\n"
     ]
    }
   ],
   "source": [
    "if parc_str == 'schaefer' and parc_scale == 200:\n",
    "    outputdir = os.path.join(os.environ['PIPELINEDIR'], '1_compute_node_features', 'out_gradient_bin')\n",
    "    print(outputdir)\n",
    "    if not os.path.exists(outputdir):\n",
    "        os.makedirs(outputdir)\n",
    "\n",
    "        metrics = ['str', 'ac']\n",
    "\n",
    "        for metric in metrics:\n",
    "            X = df_node.filter(regex = metric)\n",
    "\n",
    "            # reorder X by gradient\n",
    "            X_sort_grad = X.iloc[:,sort_idx]\n",
    "\n",
    "            for i, w in enumerate(window_start):\n",
    "                Xl = X_sort_grad.iloc[:,w:w+bin_size]\n",
    "                Xl.to_csv(os.path.join(outputdir, outfile_prefix+'X_'+metric+'_bin_'+str(i)+'.csv'))"
   ]
  },
  {
   "cell_type": "markdown",
   "metadata": {},
   "source": [
    "## Plot"
   ]
  },
  {
   "cell_type": "code",
   "execution_count": 23,
   "metadata": {},
   "outputs": [],
   "source": [
    "metrics = ['str', 'ac']\n",
    "metrics_label = ['Strength', 'Average controllability']\n",
    "phenos = ['Psychosis_Positive',]\n",
    "phenos_label = ['Psychosis (positive)',]\n",
    "phenos_short = ['Psy. (pos)',]"
   ]
  },
  {
   "cell_type": "markdown",
   "metadata": {},
   "source": [
    "### Stratified cv, w/ permutation\n",
    "Note, won't run if cluster jobs haven't been run"
   ]
  },
  {
   "cell_type": "code",
   "execution_count": 24,
   "metadata": {},
   "outputs": [
    {
     "data": {
      "text/plain": [
       "'/Users/lindenmp/Google-Drive-Penn/work/research_projects/neurodev_cs_predictive/2_pipeline/3_prediction_rnr/out/schaefer_200_streamlineCount_predict_symptoms_scv_nuis_gradient'"
      ]
     },
     "execution_count": 24,
     "metadata": {},
     "output_type": "execute_result"
    }
   ],
   "source": [
    "predictiondir = os.path.join(os.environ['PIPELINEDIR'], '3_prediction_rnr', 'out', outfile_prefix)\n",
    "indir = predictiondir + 'predict_symptoms_scv_nuis_gradient'\n",
    "indir"
   ]
  },
  {
   "cell_type": "code",
   "execution_count": 25,
   "metadata": {},
   "outputs": [
    {
     "name": "stdout",
     "output_type": "stream",
     "text": [
      "str Psychosis_Positive\n",
      "ac Psychosis_Positive\n"
     ]
    }
   ],
   "source": [
    "if os.path.exists(indir):\n",
    "    # compute accuracy for non overlapping windows\n",
    "    window_sterr = np.zeros((len(metrics), len(phenos), num_windows))\n",
    "    window_score = np.zeros((len(metrics), len(phenos), num_windows))\n",
    "    stats_permutation = np.zeros((len(metrics), len(phenos), num_windows))\n",
    "\n",
    "    my_r = pd.DataFrame(index = metrics, columns = phenos)\n",
    "    my_pvals = pd.DataFrame(index = metrics, columns = phenos)\n",
    "\n",
    "    for m, metric in enumerate(metrics):\n",
    "        for p, pheno in enumerate(phenos):\n",
    "            print(metric, pheno)\n",
    "\n",
    "            for i in np.arange(num_windows):\n",
    "                accuracy = np.loadtxt(os.path.join(indir, 'bin_'+str(i), alg + '_' + score + '_' + metric + '_' + pheno, 'accuracy_nuis.txt'))[:10000]\n",
    "                window_sterr[m,p,i] = np.std(accuracy) / np.sqrt(n_splits)\n",
    "                window_score[m,p,i] = np.mean(accuracy)\n",
    "\n",
    "                permuted_acc = np.loadtxt(os.path.join(indir, 'bin_'+str(i), alg + '_' + score + '_' + metric + '_' + pheno, 'permuted_acc_nuis.txt'))\n",
    "                stats_permutation[m,p,i] = np.sum(permuted_acc >= window_score[m,p,i]) / len(permuted_acc)\n",
    "\n",
    "    #         stats_permutation[m,p,:] = get_fdr_p(stats_permutation[m,p,:])\n",
    "\n",
    "            if score == 'rmse': window_score[m,p,:] = np.abs(window_score[m,p,:])\n",
    "\n",
    "            my_r.loc[metric,pheno] = sp.stats.pearsonr(window_start, window_score[m,p,:])[0]\n",
    "            my_pvals.loc[metric,pheno] = sp.stats.pearsonr(window_start, window_score[m,p,:])[1]\n",
    "else:\n",
    "    print('Skipping... run cluster jobs first')"
   ]
  },
  {
   "cell_type": "code",
   "execution_count": 26,
   "metadata": {},
   "outputs": [
    {
     "data": {
      "image/png": "[encoded data removed]",
      "text/plain": [
       "<Figure size 144x144 with 1 Axes>"
      ]
     },
     "metadata": {},
     "output_type": "display_data"
    },
    {
     "data": {
      "image/png": "[encoded data removed]",
      "text/plain": [
       "<Figure size 144x144 with 1 Axes>"
      ]
     },
     "metadata": {},
     "output_type": "display_data"
    }
   ],
   "source": [
    "if os.path.exists(indir):\n",
    "    for m, metric in enumerate(metrics):\n",
    "        for p, pheno in enumerate(phenos):\n",
    "\n",
    "            # plot\n",
    "            f, ax = plt.subplots()\n",
    "            f.set_figwidth(2)\n",
    "            f.set_figheight(2)\n",
    "            sns.regplot(x = window_start, y = window_score[m,p,:], color = 'r', scatter = False, ax=ax)\n",
    "\n",
    "            # non overlapping windows\n",
    "            for i in np.arange(num_windows):\n",
    "\n",
    "                if stats_permutation[m,p,i] < 0.05:\n",
    "                    ax.scatter(x = window_start[i], y = window_score[m,p,i], marker = 'o', s = 30, edgecolors = 'black', facecolors = 'gray', alpha=1, linewidth = 1)\n",
    "                    ax.plot([window_start[i], window_start[i]], [window_score[m,p,i], window_score[m,p,i]-window_sterr[m,p,i]], color = 'gray', alpha=1, linewidth = 0.75, zorder=0)\n",
    "                    ax.plot([window_start[i], window_start[i]], [window_score[m,p,i], window_score[m,p,i]+window_sterr[m,p,i]], color = 'gray', alpha=1, linewidth = 0.75, zorder=0)\n",
    "                else:\n",
    "                    ax.scatter(x = window_start[i], y = window_score[m,p,i], marker = 'o', s = 15, edgecolors = 'black', facecolors = 'gray', alpha=0.5, linewidth = 0.5)\n",
    "                    ax.plot([window_start[i], window_start[i]], [window_score[m,p,i], window_score[m,p,i]-window_sterr[m,p,i]], color = 'gray', alpha=0.2, linewidth = 0.25, zorder=0)\n",
    "                    ax.plot([window_start[i], window_start[i]], [window_score[m,p,i], window_score[m,p,i]+window_sterr[m,p,i]], color = 'gray', alpha=0.2, linewidth = 0.25, zorder=0)\n",
    "\n",
    "            ax.tick_params(pad = -2)\n",
    "\n",
    "            ax.set_xlabel('Gradient (sliding window)')\n",
    "            ax.set_ylabel('RMSE (lower = better)')\n",
    "            ax.set_xlim([-10, num_parcels+10])\n",
    "            ax.set_title('X: ' + metrics_label[m] + '\\n y: ' + phenos_label[p])\n",
    "            \n",
    "            textstr = 'r = {:.2f}'.format(my_r.loc[metric].values[0])\n",
    "            ax.text(0.95, 0.95, textstr, transform=ax.transAxes,\n",
    "                    verticalalignment='top', horizontalalignment='right')\n",
    "\n",
    "            f.savefig(outfile_prefix+'gradient_'+str(g)+'_window_'+metric+'_'+pheno+'_null.svg', dpi = 300, bbox_inches = 'tight')\n",
    "else:\n",
    "    print('Skipping... run cluster jobs first')"
   ]
  },
  {
   "cell_type": "code",
   "execution_count": 27,
   "metadata": {},
   "outputs": [
    {
     "name": "stdout",
     "output_type": "stream",
     "text": [
      "    Psychosis_Positive\n",
      "str          0.0673871\n",
      "ac           -0.663308\n"
     ]
    }
   ],
   "source": [
    "if os.path.exists(indir):\n",
    "    print(my_r)"
   ]
  },
  {
   "cell_type": "code",
   "execution_count": 28,
   "metadata": {},
   "outputs": [],
   "source": [
    "sns.set(style='white', context = 'paper', font_scale = 0.8)\n",
    "sns.set_style({'font.family':'sans-serif', 'font.sans-serif':['Public Sans']})"
   ]
  },
  {
   "cell_type": "code",
   "execution_count": 29,
   "metadata": {},
   "outputs": [
    {
     "name": "stdout",
     "output_type": "stream",
     "text": [
      "10000\n"
     ]
    }
   ],
   "source": [
    "c_params = np.array([10, 100, 1000, 10000])\n",
    "c_params\n",
    "\n",
    "control_c = c_params[-1]\n",
    "# control_c = None\n",
    "print(control_c)\n",
    "\n",
    "# metrics = ['str', 'ac', 'bc', 'cc', 'sgc']\n",
    "# metrics_label = ['Strength', 'Average controllability', 'Betweenness centrality', 'Closeness centrality', 'Subgraph centrality']\n",
    "# phenos = ['Overall_Psychopathology','Psychosis_Positive','Psychosis_NegativeDisorg']\n",
    "# phenos_label = ['Overall psychopathology','Psychosis (positive)','Psychosis (negative)']\n",
    "\n",
    "metrics = ['ac',]\n",
    "metrics_label = ['Average controllability',]\n",
    "phenos = ['Psychosis_Positive',]\n",
    "phenos_label = ['Psychosis (positive)',]"
   ]
  },
  {
   "cell_type": "code",
   "execution_count": 30,
   "metadata": {},
   "outputs": [],
   "source": [
    "# # age split\n",
    "\n",
    "# # age_split = c['ageAtScan1'] < c['ageAtScan1'].mean()\n",
    "# age_split = c['ageAtScan1'] > c['ageAtScan1'].mean()\n",
    "\n",
    "# c = c.loc[age_split,:]\n",
    "# c.drop(labels=['ageAtScan1'], axis=1, inplace=True)\n",
    "\n",
    "# df_node = df_node.loc[age_split,:]\n",
    "\n",
    "# df_node_ac_overc = df_node_ac_overc.loc[age_split,:]\n",
    "# df_node_ac_i2 = df_node_ac_i2.loc[age_split,:]\n",
    "# df_node_ac_overc_i2 = df_node_ac_overc_i2.loc[age_split,:]\n",
    "\n",
    "# df_pheno = df_pheno.loc[age_split,:]\n",
    "\n",
    "# metrics = ['str', 'ac']\n",
    "# metrics_label = ['Strength', 'Average controllability']\n",
    "# phenos = ['Psychosis_Positive',]\n",
    "# phenos_label = ['Psychosis (positive)',]"
   ]
  },
  {
   "cell_type": "code",
   "execution_count": 31,
   "metadata": {},
   "outputs": [
    {
     "name": "stdout",
     "output_type": "stream",
     "text": [
      "ac Psychosis_Positive\n",
      "(1068, 200)\n",
      "(1068,)\n",
      "Full model score: 1.0172230220092318 0.007612095251709088\n",
      "Computing accuracy for non overlapping windows\n"
     ]
    },
    {
     "name": "stderr",
     "output_type": "stream",
     "text": [
      "/Users/lindenmp/opt/anaconda3/envs/neurodev_cs_predictive/lib/python3.7/site-packages/ipykernel_launcher.py:68: UserWarning: FixedFormatter should only be used together with FixedLocator\n"
     ]
    },
    {
     "data": {
      "image/png": "[encoded data removed]",
      "text/plain": [
       "<Figure size 72x72 with 1 Axes>"
      ]
     },
     "metadata": {},
     "output_type": "display_data"
    }
   ],
   "source": [
    "my_r = pd.DataFrame(index = metrics, columns = phenos)\n",
    "my_pvals = pd.DataFrame(index = metrics, columns = phenos)\n",
    "\n",
    "for m, metric in enumerate(metrics):\n",
    "    for p, pheno in enumerate(phenos):\n",
    "        print(metric, pheno)\n",
    "        \n",
    "        # Get X and y data\n",
    "        if control_c == None:\n",
    "            X = df_node.filter(regex = metric)\n",
    "        else:\n",
    "            X = df_node_ac_overc.filter(regex = metric + '_c' + str(control_c) + '_')\n",
    "        \n",
    "        if parc_str == 'lausanne':\n",
    "            X = X.iloc[:,parcel_loc==1]\n",
    "        print(X.shape)\n",
    "        \n",
    "        y = df_pheno.loc[:,pheno]; print(y.shape)\n",
    "\n",
    "        # set regression estimator\n",
    "        reg = copy.deepcopy(regs[alg])\n",
    "    \n",
    "        # sort and get cross-val\n",
    "        X_sort, y_sort, my_cv, c_sort = get_stratified_cv(X = X, y = y, c = c, n_splits = n_splits)\n",
    "\n",
    "        # get full model score\n",
    "        nuis_model, _ = cross_val_score_nuis(X = X_sort, y = y_sort, c = c_sort, my_cv = my_cv, reg = reg, my_scorer = my_scorer)\n",
    "        if score == 'rmse': nuis_model = np.abs(nuis_model)\n",
    "        main_score_nuis = nuis_model.mean()\n",
    "        main_sterr_nuis = nuis_model.std() / np.sqrt(n_splits)\n",
    "        print('Full model score:', main_score_nuis, main_sterr_nuis)\n",
    "        \n",
    "        print('Computing accuracy for non overlapping windows')\n",
    "        # reorder X by gradient\n",
    "        X_sort_grad = X_sort.iloc[:,sort_idx]\n",
    "\n",
    "        # compute accuracy for non overlapping windows\n",
    "        window_score = np.zeros(num_windows,)\n",
    "        window_sterr = np.zeros(num_windows,)\n",
    "\n",
    "        for i, w in enumerate(window_start):\n",
    "            Xl = X_sort_grad.iloc[:,w:w+bin_size]\n",
    "            cv_results, _ = cross_val_score_nuis(X = Xl, y = y_sort, c = c_sort, my_cv = my_cv, reg = reg, my_scorer = my_scorer)\n",
    "            if score == 'rmse': cv_results = np.abs(cv_results)\n",
    "            window_score[i] = cv_results.mean()\n",
    "            window_sterr[i] = cv_results.std() / np.sqrt(n_splits)\n",
    "\n",
    "        my_r.loc[metric,pheno] = sp.stats.pearsonr(window_start, window_score)[0]\n",
    "        my_pvals.loc[metric,pheno] = sp.stats.pearsonr(window_start, window_score)[1]\n",
    "            \n",
    "        # plot\n",
    "        f, ax = plt.subplots()\n",
    "#         f.set_figwidth(1.25)\n",
    "#         f.set_figheight(1.25)\n",
    "        f.set_figwidth(1)\n",
    "        f.set_figheight(1)\n",
    "        sns.regplot(x = window_start, y = window_score, color = 'r', scatter = False)\n",
    "        \n",
    "        # non overlapping windows\n",
    "        if len(window_start) > len(window_score): window_start = window_start[:len(window_score)]\n",
    "        ax.scatter(x = window_start, y = window_score, marker = 'o', s = 15, edgecolors = 'black', facecolors = 'gray', alpha=0.5, linewidth = 0.5)\n",
    "        ax.tick_params(pad = -2)\n",
    "\n",
    "        ax.set_xlabel('Gradient (sliding window)')\n",
    "        if score == 'rmse': ax.set_ylabel('RMSE (lower = better)')\n",
    "        if score == 'corr': ax.set_ylabel('Correlation (higher = better)')\n",
    "        ax.set_xlim([-10, num_parcels+10])\n",
    "        ax.set_xticklabels(['','0','',str(num_windows)])\n",
    "        if control_c != None:\n",
    "            ax.set_ylim([0.995, 1.04])\n",
    "\n",
    "        if control_c == None:\n",
    "            ax.set_title('X: ' + metrics_label[m] + '\\n y: ' + phenos_label[p])\n",
    "        else:\n",
    "            ax.set_title('c = ' + str(control_c))\n",
    "                    \n",
    "        textstr = 'r = {:.2f}'.format(my_r.loc[metric,pheno])\n",
    "        ax.text(0.95, 0.95, textstr, transform=ax.transAxes,\n",
    "                verticalalignment='top', horizontalalignment='right')\n",
    "\n",
    "        if control_c == None:\n",
    "            f.savefig(outfile_prefix+'gradient_'+str(g)+'_window_'+metric+'_'+pheno+'.svg', dpi = 300, bbox_inches = 'tight')\n",
    "        else:\n",
    "            f.savefig(outfile_prefix+'c_' + str(control_c) + '_gradient_'+str(g)+'_window_'+metric+'_'+pheno+'.svg', dpi = 300, bbox_inches = 'tight')"
   ]
  },
  {
   "cell_type": "code",
   "execution_count": 32,
   "metadata": {},
   "outputs": [
    {
     "data": {
      "text/html": [
       "<div>\n",
       "<style scoped>\n",
       "    .dataframe tbody tr th:only-of-type {\n",
       "        vertical-align: middle;\n",
       "    }\n",
       "\n",
       "    .dataframe tbody tr th {\n",
       "        vertical-align: top;\n",
       "    }\n",
       "\n",
       "    .dataframe thead th {\n",
       "        text-align: right;\n",
       "    }\n",
       "</style>\n",
       "<table border=\"1\" class=\"dataframe\">\n",
       "  <thead>\n",
       "    <tr style=\"text-align: right;\">\n",
       "      <th></th>\n",
       "      <th>Psychosis_Positive</th>\n",
       "    </tr>\n",
       "  </thead>\n",
       "  <tbody>\n",
       "    <tr>\n",
       "      <th>ac</th>\n",
       "      <td>-0.00906994</td>\n",
       "    </tr>\n",
       "  </tbody>\n",
       "</table>\n",
       "</div>"
      ],
      "text/plain": [
       "   Psychosis_Positive\n",
       "ac        -0.00906994"
      ]
     },
     "execution_count": 32,
     "metadata": {},
     "output_type": "execute_result"
    }
   ],
   "source": [
    "my_r"
   ]
  }
 ],
 "metadata": {
  "kernelspec": {
   "display_name": "Python 3",
   "language": "python",
   "name": "python3"
  },
  "language_info": {
   "codemirror_mode": {
    "name": "ipython",
    "version": 3
   },
   "file_extension": ".py",
   "mimetype": "text/x-python",
   "name": "python",
   "nbconvert_exporter": "python",
   "pygments_lexer": "ipython3",
   "version": "3.7.7"
  }
 },
 "nbformat": 4,
 "nbformat_minor": 4
}
