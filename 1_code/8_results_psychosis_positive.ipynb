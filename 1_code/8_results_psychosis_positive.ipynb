{
 "cells": [
  {
   "cell_type": "code",
   "execution_count": 1,
   "metadata": {},
   "outputs": [],
   "source": [
    "# Essentials\n",
    "import os, sys, glob\n",
    "import pandas as pd\n",
    "import numpy as np\n",
    "import nibabel as nib\n",
    "import scipy.io as sio\n",
    "from tqdm import tqdm\n",
    "\n",
    "# Stats\n",
    "import scipy as sp\n",
    "from scipy import stats\n",
    "import statsmodels.api as sm\n",
    "import pingouin as pg\n",
    "\n",
    "# Plotting\n",
    "import seaborn as sns\n",
    "import matplotlib.pyplot as plt\n",
    "plt.rcParams['svg.fonttype'] = 'none'"
   ]
  },
  {
   "cell_type": "code",
   "execution_count": 2,
   "metadata": {},
   "outputs": [
    {
     "name": "stderr",
     "output_type": "stream",
     "text": [
      "/Users/lindenmp/opt/anaconda3/envs/neurodev_cs_predictive/lib/python3.7/site-packages/outdated/utils.py:18: OutdatedPackageWarning: The package pingouin is out of date. Your version is 0.3.7, the latest is 0.3.9.\n",
      "Set the environment variable OUTDATED_IGNORE=1 to disable these warnings.\n",
      "  **kwargs\n"
     ]
    }
   ],
   "source": [
    "from matplotlib.ticker import FormatStrFormatter\n",
    "from sklearn.metrics import make_scorer, r2_score, mean_squared_error, mean_absolute_error\n",
    "from sklearn.utils import resample"
   ]
  },
  {
   "cell_type": "code",
   "execution_count": 3,
   "metadata": {},
   "outputs": [],
   "source": [
    "sys.path.append('/Users/lindenmp/Google-Drive-Penn/work/research_projects/neurodev_cs_predictive/1_code/')\n",
    "from func import set_proj_env, my_get_cmap, get_fdr_p, assemble_df, get_exact_p, get_fdr_p_df\n",
    "from func import get_stratified_cv, cross_val_score_nuis, get_reg, corr_true_pred, root_mean_squared_error"
   ]
  },
  {
   "cell_type": "code",
   "execution_count": 4,
   "metadata": {},
   "outputs": [],
   "source": [
    "parc_str = 'schaefer' # 'schaefer' 'lausanne' 'glasser'\n",
    "parc_scale = 200 # 200/400 | 125/250 | 360\n",
    "edge_weight = 'streamlineCount' # 'streamlineCount' 'volNormStreamline'\n",
    "parcel_names, parcel_loc, drop_parcels, num_parcels = set_proj_env(parc_str = parc_str, parc_scale = parc_scale, edge_weight = edge_weight)"
   ]
  },
  {
   "cell_type": "code",
   "execution_count": 5,
   "metadata": {},
   "outputs": [
    {
     "data": {
      "text/plain": [
       "'schaefer_200_streamlineCount_'"
      ]
     },
     "execution_count": 5,
     "metadata": {},
     "output_type": "execute_result"
    }
   ],
   "source": [
    "# output file prefix\n",
    "outfile_prefix = parc_str+'_'+str(parc_scale)+'_'+edge_weight+'_'\n",
    "outfile_prefix"
   ]
  },
  {
   "cell_type": "markdown",
   "metadata": {},
   "source": [
    "### Setup directory variables"
   ]
  },
  {
   "cell_type": "code",
   "execution_count": 6,
   "metadata": {},
   "outputs": [
    {
     "name": "stdout",
     "output_type": "stream",
     "text": [
      "/Users/lindenmp/Google-Drive-Penn/work/research_projects/neurodev_cs_predictive/2_pipeline\n"
     ]
    }
   ],
   "source": [
    "print(os.environ['PIPELINEDIR'])\n",
    "if not os.path.exists(os.environ['PIPELINEDIR']): os.makedirs(os.environ['PIPELINEDIR'])"
   ]
  },
  {
   "cell_type": "code",
   "execution_count": 7,
   "metadata": {},
   "outputs": [
    {
     "name": "stdout",
     "output_type": "stream",
     "text": [
      "/Users/lindenmp/Google-Drive-Penn/work/research_projects/neurodev_cs_predictive/3_output/figs\n"
     ]
    }
   ],
   "source": [
    "figdir = os.path.join(os.environ['OUTPUTDIR'], 'figs')\n",
    "print(figdir)\n",
    "if not os.path.exists(figdir): os.makedirs(figdir)"
   ]
  },
  {
   "cell_type": "code",
   "execution_count": 8,
   "metadata": {},
   "outputs": [
    {
     "name": "stdout",
     "output_type": "stream",
     "text": [
      "['Overall_Psychopathology', 'Psychosis_Positive', 'Psychosis_NegativeDisorg']\n"
     ]
    }
   ],
   "source": [
    "phenos = ['Overall_Psychopathology','Psychosis_Positive','Psychosis_NegativeDisorg']\n",
    "phenos_label = ['Overall Psychopathology','Psychosis (Positive)','Psychosis (Negative)']\n",
    "phenos_short = ['Ov. Psy.','Psy. (pos)','Psy. (neg)']\n",
    "\n",
    "print(phenos)\n",
    "\n",
    "metrics = ['str', 'ac']\n",
    "metrics_label = ['Strength', 'Average controllability']\n",
    "\n",
    "algs = ['rr', 'krr_rbf']\n",
    "scores = ['corr', 'rmse']\n",
    "seeds = np.arange(0,100)"
   ]
  },
  {
   "cell_type": "code",
   "execution_count": 9,
   "metadata": {},
   "outputs": [],
   "source": [
    "num_algs = len(algs)\n",
    "num_metrics = len(metrics)\n",
    "num_phenos = len(phenos)\n",
    "num_scores = len(scores)"
   ]
  },
  {
   "cell_type": "markdown",
   "metadata": {},
   "source": [
    "## Setup plots"
   ]
  },
  {
   "cell_type": "code",
   "execution_count": 10,
   "metadata": {},
   "outputs": [],
   "source": [
    "if not os.path.exists(figdir): os.makedirs(figdir)\n",
    "os.chdir(figdir)\n",
    "sns.set(style='white', context = 'paper', font_scale = 1)\n",
    "sns.set_style({'font.family':'sans-serif', 'font.sans-serif':['Public Sans']})\n",
    "cmap = my_get_cmap('pair')"
   ]
  },
  {
   "cell_type": "code",
   "execution_count": 11,
   "metadata": {},
   "outputs": [
    {
     "name": "stdout",
     "output_type": "stream",
     "text": [
      "krr_rbf\n",
      "rmse\n",
      "ac\n",
      "Psychosis_Positive\n"
     ]
    }
   ],
   "source": [
    "a = 1; alg = algs[a]; print(alg)\n",
    "score = scores[1]; print(score)\n",
    "m = 1; metric = metrics[m]; print(metric)\n",
    "p = 1; pheno = phenos[p]; print(pheno)"
   ]
  },
  {
   "cell_type": "code",
   "execution_count": 12,
   "metadata": {},
   "outputs": [],
   "source": [
    "n_splits = 10"
   ]
  },
  {
   "cell_type": "code",
   "execution_count": 13,
   "metadata": {},
   "outputs": [
    {
     "data": {
      "text/plain": [
       "make_scorer(root_mean_squared_error, greater_is_better=False)"
      ]
     },
     "execution_count": 13,
     "metadata": {},
     "output_type": "execute_result"
    }
   ],
   "source": [
    "regs, _ = get_reg()\n",
    "reg = regs[alg]\n",
    "if score == 'r2':\n",
    "    my_scorer = make_scorer(r2_score, greater_is_better = True)\n",
    "elif score == 'corr':\n",
    "    my_scorer = make_scorer(corr_true_pred, greater_is_better = True)\n",
    "elif score == 'mse':\n",
    "    my_scorer = make_scorer(mean_squared_error, greater_is_better = False)\n",
    "elif score == 'rmse':\n",
    "    my_scorer = make_scorer(root_mean_squared_error, greater_is_better = False)\n",
    "elif score == 'mae':\n",
    "    my_scorer = make_scorer(mean_absolute_error, greater_is_better = False)\n",
    "my_scorer"
   ]
  },
  {
   "cell_type": "markdown",
   "metadata": {},
   "source": [
    "## Load data"
   ]
  },
  {
   "cell_type": "code",
   "execution_count": 14,
   "metadata": {},
   "outputs": [
    {
     "name": "stdout",
     "output_type": "stream",
     "text": [
      "1068\n"
     ]
    }
   ],
   "source": [
    "df = pd.read_csv(os.path.join(os.environ['PIPELINEDIR'], '1_compute_node_features', 'store', outfile_prefix+'df.csv'))\n",
    "df.set_index(['bblid', 'scanid'], inplace = True)\n",
    "\n",
    "X = pd.read_csv(os.path.join(os.environ['PIPELINEDIR'], '1_compute_node_features', 'out', outfile_prefix+'X.csv'))\n",
    "X.set_index(['bblid', 'scanid'], inplace = True)\n",
    "X = X.filter(regex = metric)\n",
    "\n",
    "y = pd.read_csv(os.path.join(os.environ['PIPELINEDIR'], '1_compute_node_features', 'out', outfile_prefix+'y.csv'))\n",
    "y.set_index(['bblid', 'scanid'], inplace = True)\n",
    "y = y.loc[:,pheno]\n",
    "\n",
    "c = pd.read_csv(os.path.join(os.environ['PIPELINEDIR'], '1_compute_node_features', 'out', outfile_prefix+'c.csv'))\n",
    "c.set_index(['bblid', 'scanid'], inplace = True)\n",
    "\n",
    "num_subjects = df.shape[0]; print(num_subjects)"
   ]
  },
  {
   "cell_type": "code",
   "execution_count": 15,
   "metadata": {},
   "outputs": [
    {
     "data": {
      "text/plain": [
       "'/Users/lindenmp/Google-Drive-Penn/work/research_projects/neurodev_cs_predictive/2_pipeline/3_prediction_rnr/out/schaefer_200_streamlineCount_'"
      ]
     },
     "execution_count": 15,
     "metadata": {},
     "output_type": "execute_result"
    }
   ],
   "source": [
    "predictiondir = os.path.join(os.environ['PIPELINEDIR'], '3_prediction_rnr', 'out', outfile_prefix)\n",
    "predictiondir"
   ]
  },
  {
   "cell_type": "code",
   "execution_count": 16,
   "metadata": {},
   "outputs": [
    {
     "name": "stdout",
     "output_type": "stream",
     "text": [
      "-0.9980049692074731\n"
     ]
    },
    {
     "data": {
      "image/png": "[encoded data removed]",
      "text/plain": [
       "<Figure size 144x144 with 1 Axes>"
      ]
     },
     "metadata": {},
     "output_type": "display_data"
    }
   ],
   "source": [
    "indir = predictiondir + 'predict_symptoms_scv_nuis'\n",
    "\n",
    "accuracy_mean = np.loadtxt(os.path.join(indir, alg + '_' + score + '_' + metric + '_' + pheno, 'accuracy_mean_nuis.txt'))\n",
    "print(accuracy_mean)\n",
    "permuted_acc = np.loadtxt(os.path.join(indir, alg + '_' + score + '_' + metric + '_' + pheno, 'permuted_acc_nuis.txt'))\n",
    "\n",
    "if score == 'rmse':\n",
    "    accuracy_mean = np.abs(accuracy_mean)\n",
    "    permuted_acc = np.abs(permuted_acc)\n",
    "\n",
    "f, ax = plt.subplots()\n",
    "f.set_figwidth(2)\n",
    "f.set_figheight(2)\n",
    "\n",
    "sns.distplot(permuted_acc, ax=ax)\n",
    "ax.axvline(accuracy_mean, color = 'r')\n",
    "ax.tick_params(pad = -.5)\n",
    "\n",
    "if score == 'rmse':\n",
    "    ax.set_xlabel('RMSE \\n(lower = better)')\n",
    "elif score == 'corr':\n",
    "    ax.set_xlabel('Correlation \\n(higher positive = better)')\n",
    "ax.set_ylabel('Counts')\n",
    "\n",
    "f.savefig(outfile_prefix+'psy_pos_null_'+score+'.svg', dpi = 300, bbox_inches = 'tight')"
   ]
  },
  {
   "cell_type": "markdown",
   "metadata": {},
   "source": [
    "## Sample the clinical people"
   ]
  },
  {
   "cell_type": "code",
   "execution_count": 17,
   "metadata": {},
   "outputs": [],
   "source": [
    "df['goassessDxpmr4_bin'] = df.loc[:,'goassessDxpmr4'] == '4PS'\n",
    "df['goassessDxpmr4_bin'] = df['goassessDxpmr4_bin'].astype(int)*4"
   ]
  },
  {
   "cell_type": "code",
   "execution_count": 18,
   "metadata": {},
   "outputs": [
    {
     "name": "stdout",
     "output_type": "stream",
     "text": [
      "303\n",
      "28.370786516853936\n"
     ]
    }
   ],
   "source": [
    "clinical_idx = df.loc[:,'goassessDxpmr4_bin'] == 4\n",
    "n = np.sum(clinical_idx)\n",
    "print(n)\n",
    "print(n/df.shape[0]*100)"
   ]
  },
  {
   "cell_type": "code",
   "execution_count": 19,
   "metadata": {},
   "outputs": [
    {
     "name": "stdout",
     "output_type": "stream",
     "text": [
      "0.69 0.997\n",
      "-0.28 0.729\n"
     ]
    }
   ],
   "source": [
    "print(np.round(y[clinical_idx].mean(),2), np.round(y[clinical_idx].var(),3))\n",
    "print(np.round(y[~clinical_idx].mean(),2), np.round(y[~clinical_idx].var(),3))"
   ]
  },
  {
   "cell_type": "code",
   "execution_count": 20,
   "metadata": {},
   "outputs": [
    {
     "data": {
      "text/plain": [
       "Ttest_indResult(statistic=15.86859219529422, pvalue=4.5530447326206133e-51)"
      ]
     },
     "execution_count": 20,
     "metadata": {},
     "output_type": "execute_result"
    }
   ],
   "source": [
    "sp.stats.ttest_ind(y[clinical_idx],y[~clinical_idx])"
   ]
  },
  {
   "cell_type": "code",
   "execution_count": 21,
   "metadata": {},
   "outputs": [
    {
     "name": "stdout",
     "output_type": "stream",
     "text": [
      "-0.9980049692074727\n",
      "(0.12106236783140396, 7.299264199387467e-05)\n"
     ]
    },
    {
     "data": {
      "image/png": "[encoded data removed]",
      "text/plain": [
       "<Figure size 144x144 with 1 Axes>"
      ]
     },
     "metadata": {},
     "output_type": "display_data"
    }
   ],
   "source": [
    "X_sort, y_sort, my_cv, c_sort = get_stratified_cv(X = X, y = y, c = c, n_splits = n_splits)\n",
    "accuracy_nuis, y_pred = cross_val_score_nuis(X = X_sort, y = y_sort, c = c_sort, my_cv = my_cv, reg = reg, my_scorer = my_scorer)\n",
    "print(np.mean(accuracy_nuis))\n",
    "\n",
    "clinical_idx_sort = clinical_idx[y_sort.index]\n",
    "\n",
    "f, ax = plt.subplots()\n",
    "f.set_figwidth(2)\n",
    "f.set_figheight(2)\n",
    "sns.regplot(x = y_pred, y = y_sort, color = 'r', scatter = False)\n",
    "# plt.scatter(x = y_pred, y = y_sort, marker = 'o', s = 2, c = y_sort, cmap = 'viridis', alpha=0.75, linewidth = 1)\n",
    "plt.scatter(x = y_pred[~clinical_idx_sort], y = y_sort[~clinical_idx_sort], marker = 'o', s = 1, c = 'gray', alpha=0.75, linewidth = .5)\n",
    "plt.scatter(x = y_pred[clinical_idx_sort], y = y_sort[clinical_idx_sort],\n",
    "            marker = 'o', s = 10, c = y_sort[clinical_idx_sort], cmap = 'viridis', edgecolors = 'k',\n",
    "            alpha=0.75, linewidth = .75)\n",
    "# plt.scatter(x = y_pred, y = y_sort, marker = 'o', s = 10, alpha=0.75, linewidth = 1)\n",
    "ax.set_xlabel('Predicted y')\n",
    "ax.set_ylabel('True y')\n",
    "# ax.set_ylim([-3,3])\n",
    "ax.set_xlim([-.9,.9])\n",
    "ax.tick_params(pad = -.5)\n",
    "print(sp.stats.pearsonr(y_pred,y_sort))\n",
    "\n",
    "f.savefig(outfile_prefix+'psy_pos_'+score+'.svg', dpi = 300, bbox_inches = 'tight')"
   ]
  },
  {
   "cell_type": "code",
   "execution_count": 22,
   "metadata": {},
   "outputs": [],
   "source": [
    "# X_s = X.loc[clinical_idx,:]; y_s = y.loc[clinical_idx]; c_s = c.loc[clinical_idx,:]\n",
    "# X_sort, y_sort, my_cv, c_sort = get_stratified_cv(X = X_s, y = y_s, c = c_s, n_splits = n_splits)\n",
    "# accuracy_clinical, y_pred = cross_val_score_nuis(X = X_sort, y = y_sort, c = c_sort, my_cv = my_cv, reg = reg, my_scorer = my_scorer)\n",
    "# print(np.mean(accuracy_clinical))\n",
    "\n",
    "# f, ax = plt.subplots()\n",
    "# f.set_figwidth(2)\n",
    "# f.set_figheight(2)\n",
    "# sns.regplot(x = y_pred, y = y_sort, color = 'r', scatter = False)\n",
    "# plt.scatter(x = y_pred, y = y_sort, marker = 'o', s = 10, c = y_sort, cmap = 'viridis', alpha=0.75, linewidth = 1, edgecolors = 'k')\n",
    "# ax.set_xlabel('Predicted y')\n",
    "# ax.set_ylabel('True y')\n",
    "# # ax.set_ylim([-3,3])\n",
    "# # ax.set_xlim([-.9,.9])\n",
    "# ax.tick_params(pad = -.5)\n",
    "# print(sp.stats.pearsonr(y_pred,y_sort))\n",
    "\n",
    "# f.savefig(outfile_prefix+'psy_pos_clinical_'+score+'.svg', dpi = 300, bbox_inches = 'tight')"
   ]
  },
  {
   "cell_type": "code",
   "execution_count": 23,
   "metadata": {},
   "outputs": [],
   "source": [
    "# X_s, y_s, c_s = resample(X, y, c, n_samples = n, replace = False, random_state = 0)\n",
    "# X_sort, y_sort, my_cv, c_sort = get_stratified_cv(X = X_s, y = y_s, c = c_s, n_splits = n_splits)\n",
    "# accuracy_nuis, y_pred = cross_val_score_nuis(X = X_sort, y = y_sort, c = c_sort, my_cv = my_cv, reg = reg, my_scorer = my_scorer)\n",
    "# print(np.mean(accuracy_nuis))\n",
    "\n",
    "# f, ax = plt.subplots()\n",
    "# f.set_figwidth(2)\n",
    "# f.set_figheight(2)\n",
    "# sns.regplot(x = y_pred, y = y_sort, color = 'r', scatter = False)\n",
    "# plt.scatter(x = y_pred, y = y_sort, marker = 'o', s = 10, c = y_sort, cmap = 'viridis', alpha=0.75, linewidth = 1, edgecolors = 'k')\n",
    "# ax.set_xlabel('Predicted y')\n",
    "# ax.set_ylabel('True y')\n",
    "# # ax.set_ylim([-3,3])\n",
    "# # ax.set_xlim([-.9,.9])\n",
    "# ax.tick_params(pad = -.5)\n",
    "# print(sp.stats.pearsonr(y_pred,y_sort))"
   ]
  },
  {
   "cell_type": "code",
   "execution_count": 24,
   "metadata": {},
   "outputs": [],
   "source": [
    "# num_samples = 100\n",
    "\n",
    "# accuracy_mean = np.zeros(num_samples)\n",
    "# accuracy_std = np.zeros(num_samples)\n",
    "\n",
    "# for i in np.arange(0,num_samples):\n",
    "#     X_s, y_s, c_s = resample(X, y, c, n_samples = n, replace = False, random_state = i)\n",
    "#     X_sort, y_sort, my_cv, c_sort = get_stratified_cv(X = X_s, y = y_s, c = c_s, n_splits = n_splits)\n",
    "#     accuracy_nuis, y_pred = cross_val_score_nuis(X = X_sort, y = y_sort, c = c_sort, my_cv = my_cv, reg = reg, my_scorer = my_scorer)\n",
    "\n",
    "#     accuracy_mean[i] = accuracy_nuis.mean()\n",
    "#     accuracy_std[i] = accuracy_nuis.std()"
   ]
  },
  {
   "cell_type": "code",
   "execution_count": 25,
   "metadata": {},
   "outputs": [],
   "source": [
    "# f, ax = plt.subplots()\n",
    "# f.set_figwidth(2)\n",
    "# f.set_figheight(2)\n",
    "# sns.distplot(accuracy_mean, ax=ax)\n",
    "# ax.axvline(accuracy_mean.mean(), color='b')\n",
    "# ax.axvline(accuracy_clinical.mean(), color='r')"
   ]
  },
  {
   "cell_type": "code",
   "execution_count": 26,
   "metadata": {},
   "outputs": [],
   "source": [
    "# accuracy_mean.mean()"
   ]
  },
  {
   "cell_type": "code",
   "execution_count": 27,
   "metadata": {},
   "outputs": [],
   "source": [
    "# accuracy_mean.std()"
   ]
  },
  {
   "cell_type": "code",
   "execution_count": 28,
   "metadata": {},
   "outputs": [],
   "source": [
    "# accuracy_mean.max()"
   ]
  },
  {
   "cell_type": "markdown",
   "metadata": {},
   "source": [
    "### vs Strength"
   ]
  },
  {
   "cell_type": "code",
   "execution_count": 29,
   "metadata": {},
   "outputs": [
    {
     "name": "stdout",
     "output_type": "stream",
     "text": [
      "0.9997089402305751 0.00299\n"
     ]
    }
   ],
   "source": [
    "indir = predictiondir + 'predict_symptoms_rcv_nuis'\n",
    "accuracy_mean_nuis = np.loadtxt(os.path.join(indir, alg + '_' + score + '_' + metric + '_' + pheno, 'accuracy_mean.txt'))\n",
    "if score == 'rmse' or score == 'mae': accuracy_mean_nuis = np.abs(accuracy_mean_nuis)\n",
    "\n",
    "indir = predictiondir + 'predict_symptoms_scv_nuis'\n",
    "accuracy_mean = np.loadtxt(os.path.join(indir, alg + '_' + score + '_' + metric + '_' + pheno, 'accuracy_mean_nuis.txt'))\n",
    "permuted_acc = np.loadtxt(os.path.join(indir, alg + '_' + score + '_' + metric + '_' + pheno, 'permuted_acc_nuis.txt'))\n",
    "print(accuracy_mean_nuis.mean(),np.sum(permuted_acc >= accuracy_mean) / len(permuted_acc))"
   ]
  },
  {
   "cell_type": "code",
   "execution_count": 30,
   "metadata": {},
   "outputs": [
    {
     "name": "stdout",
     "output_type": "stream",
     "text": [
      "1.0228437862994906 0.77193\n"
     ]
    }
   ],
   "source": [
    "indir = predictiondir + 'predict_symptoms_rcv_nuis'\n",
    "accuracy_mean_nuis_str = np.loadtxt(os.path.join(indir, alg + '_' + score + '_str_' + pheno, 'accuracy_mean.txt'))\n",
    "if score == 'rmse' or score == 'mae': accuracy_mean_nuis_str = np.abs(accuracy_mean_nuis_str)\n",
    "\n",
    "indir = predictiondir + 'predict_symptoms_scv_nuis'\n",
    "accuracy_mean_str = np.loadtxt(os.path.join(indir, alg + '_' + score + '_str_' + pheno, 'accuracy_mean_nuis.txt'))\n",
    "permuted_acc = np.loadtxt(os.path.join(indir, alg + '_' + score + '_str_' + pheno, 'permuted_acc_nuis.txt'))\n",
    "print(accuracy_mean_nuis_str.mean(),np.sum(permuted_acc >= accuracy_mean_str) / len(permuted_acc))"
   ]
  },
  {
   "cell_type": "code",
   "execution_count": 31,
   "metadata": {},
   "outputs": [],
   "source": [
    "sns.set(style='white', context = 'paper', font_scale = 1)\n",
    "sns.set_style({'font.family':'sans-serif', 'font.sans-serif':['Public Sans']})"
   ]
  },
  {
   "cell_type": "code",
   "execution_count": 32,
   "metadata": {},
   "outputs": [
    {
     "name": "stdout",
     "output_type": "stream",
     "text": [
      "0.0\n",
      "0.00299\n",
      "0.77193\n"
     ]
    },
    {
     "data": {
      "image/png": "[encoded data removed]",
      "text/plain": [
       "<Figure size 144x144 with 1 Axes>"
      ]
     },
     "metadata": {},
     "output_type": "display_data"
    }
   ],
   "source": [
    "df_ac = pd.DataFrame(data = accuracy_mean_nuis, columns=['data']); df_ac['metric'] = 'ac'\n",
    "df_str = pd.DataFrame(data = accuracy_mean_nuis_str, columns=['data']); df_str['metric'] = 'str'\n",
    "p_val = get_exact_p(df_str['data'], df_ac['data'], tailed=1)\n",
    "print(p_val)\n",
    "\n",
    "data = pd.concat((df_str,df_ac), axis=0)\n",
    "\n",
    "f, ax = plt.subplots()\n",
    "f.set_figwidth(2)\n",
    "f.set_figheight(2)\n",
    "sns.violinplot(x = 'metric', y = 'data', data = data, inner = 'quartile', split = False, palette = 'Pastel2', linewidth = 1)\n",
    "ax.tick_params(pad = -4)\n",
    "ax.set_xlabel('Connectivity feature')\n",
    "ax.yaxis.set_major_formatter(FormatStrFormatter('%.3f'))\n",
    "\n",
    "if score == 'rmse':\n",
    "    ax.set_ylabel('RMSE (lower = better)')\n",
    "#     ax.set_ylim([ax.get_ylim()[0],\n",
    "# #                  ax.get_ylim()[1]+ax.get_ylim()[1]*.01])\n",
    "#                  ax.get_ylim()[1]+ax.get_ylim()[1]*.005])\n",
    "elif score == 'corr':\n",
    "    ax.set_ylabel('Correlation (higher = better)')\n",
    "#     ax.set_ylim([ax.get_ylim()[0],\n",
    "#                  ax.get_ylim()[1]+ax.get_ylim()[1]*.3])\n",
    "\n",
    "y_pos = data['data'].max()\n",
    "ax.hlines(y = y_pos, xmin = 0, xmax = 1, color = 'black', linewidth = 0.5)\n",
    "if p_val < 0.05:\n",
    "    ax.text(x = 0.5, y = y_pos, s = 'p < 0.05', horizontalalignment='center', verticalalignment='top', color = 'black', fontsize = 8)\n",
    "else:\n",
    "    ax.text(x = 0.5, y = y_pos, s = 'p = '+str(p_val), horizontalalignment='center', verticalalignment='top', color = 'black', fontsize = 8)\n",
    "\n",
    "indir = predictiondir + 'predict_symptoms_scv_nuis'\n",
    "accuracy_mean = np.loadtxt(os.path.join(indir, alg + '_' + score + '_' + metric + '_' + pheno, 'accuracy_mean_nuis.txt'))\n",
    "permuted_acc = np.loadtxt(os.path.join(indir, alg + '_' + score + '_' + metric + '_' + pheno, 'permuted_acc_nuis.txt'))\n",
    "p_val_null = np.sum(permuted_acc >= accuracy_mean) / len(permuted_acc)\n",
    "print(p_val_null)\n",
    "if p_val_null < 0.05: ax.scatter(x = 1, y = np.abs(accuracy_mean), marker = 'o', s = 50, edgecolors = 'black', facecolors = 'gray', alpha = 0.75, linewidth = 1)       \n",
    "    \n",
    "accuracy_mean = np.loadtxt(os.path.join(indir, alg + '_' + score + '_str_' + pheno, 'accuracy_mean_nuis.txt'))\n",
    "permuted_acc = np.loadtxt(os.path.join(indir, alg + '_' + score + '_str_' + pheno, 'permuted_acc_nuis.txt'))\n",
    "p_val_null = np.sum(permuted_acc >= accuracy_mean) / len(permuted_acc)\n",
    "print(p_val_null)\n",
    "if p_val_null < 0.05: ax.scatter(x = 0, y = np.abs(accuracy_mean), marker = 'o', s = 20, edgecolors = 'black', facecolors = 'gray', alpha = 0.75, linewidth = 1)       \n",
    "    \n",
    "f.savefig(outfile_prefix+'psy_pos_'+metric+'_'+score+'.svg', dpi = 300, bbox_inches = 'tight')"
   ]
  },
  {
   "cell_type": "markdown",
   "metadata": {},
   "source": [
    "### Yeo systems"
   ]
  },
  {
   "cell_type": "code",
   "execution_count": 33,
   "metadata": {},
   "outputs": [],
   "source": [
    "indir = predictiondir + 'predict_symptoms_rcv_nuis'\n",
    "accuracy_mean_nuis_yeo = np.loadtxt(os.path.join(indir, alg + '_' + score + '_' + metric + '_' + pheno, 'accuracy_mean_yeo.txt'))\n",
    "if score == 'rmse' or score == 'mae': accuracy_mean_nuis_yeo = np.abs(accuracy_mean_nuis_yeo)"
   ]
  },
  {
   "cell_type": "code",
   "execution_count": 34,
   "metadata": {},
   "outputs": [],
   "source": [
    "num_systems = accuracy_mean_nuis_yeo.shape[1]\n",
    "unique_systems = np.arange(0,num_systems)"
   ]
  },
  {
   "cell_type": "code",
   "execution_count": 35,
   "metadata": {},
   "outputs": [
    {
     "data": {
      "text/plain": [
       "(array([0, 0, 0, 0, 0, 0, 1, 1, 1, 1, 1, 2, 2, 2, 2, 3, 3, 3, 4, 4, 5]),\n",
       " array([1, 2, 3, 4, 5, 6, 2, 3, 4, 5, 6, 3, 4, 5, 6, 4, 5, 6, 5, 6, 6]))"
      ]
     },
     "execution_count": 35,
     "metadata": {},
     "output_type": "execute_result"
    }
   ],
   "source": [
    "indices = np.triu_indices(num_systems,1)\n",
    "indices"
   ]
  },
  {
   "cell_type": "code",
   "execution_count": 36,
   "metadata": {},
   "outputs": [
    {
     "data": {
      "text/plain": [
       "array([0.        , 0.        , 0.64      , 0.12923077, 0.        ,\n",
       "       0.        , 0.        , 0.        , 0.        , 0.        ,\n",
       "       0.        , 0.07      , 0.21      , 0.51333333, 0.64      ,\n",
       "       0.32117647, 0.224     , 0.07      , 0.64      , 0.07      ,\n",
       "       0.32117647])"
      ]
     },
     "execution_count": 36,
     "metadata": {},
     "output_type": "execute_result"
    }
   ],
   "source": [
    "stats_yeo_pairs = np.zeros(len(indices[0]))\n",
    "\n",
    "for i in np.arange(len(indices[0])):\n",
    "    stats_yeo_pairs[i] = get_exact_p(accuracy_mean_nuis_yeo[:,indices[0][i]], accuracy_mean_nuis_yeo[:,indices[1][i]])\n",
    "    \n",
    "stats_yeo_pairs = get_fdr_p(stats_yeo_pairs)\n",
    "stats_yeo_pairs"
   ]
  },
  {
   "cell_type": "code",
   "execution_count": 37,
   "metadata": {},
   "outputs": [
    {
     "data": {
      "image/png": "[encoded data removed]",
      "text/plain": [
       "<Figure size 216x180 with 1 Axes>"
      ]
     },
     "metadata": {},
     "output_type": "display_data"
    }
   ],
   "source": [
    "cmap = my_get_cmap('yeo7')\n",
    "\n",
    "f, ax = plt.subplots()\n",
    "f.set_figwidth(3)\n",
    "f.set_figheight(2.5)\n",
    "\n",
    "data = pd.DataFrame(columns=['data', 'yeo'])\n",
    "\n",
    "for i in np.arange(accuracy_mean_nuis_yeo.shape[1]):\n",
    "    tmp = pd.DataFrame(data = accuracy_mean_nuis_yeo[:,i], columns=['data'])\n",
    "    tmp['yeo'] = i+1\n",
    "    data = pd.concat((data,tmp), axis=0)\n",
    "\n",
    "sns.violinplot(x = 'yeo', y = 'data', data = data, inner = 'quartile', split = False, palette = cmap, linewidth = 1, ax=ax)\n",
    "\n",
    "ax.tick_params(pad = -.5)\n",
    "if score == 'rmse': ax.set_ylabel('RMSE (lower = better)')\n",
    "elif score == 'corr': ax.set_ylabel('Correlation (higher = better)')\n",
    "ax.yaxis.set_major_formatter(FormatStrFormatter('%.3f'))\n",
    "ax.set_xlabel('Yeo systems')\n",
    "# ax.set_xticklabels(['Visual', 'Somatomotor', 'Dorsal attention', 'Ventral attention', 'Limbic', 'Frontoparietal control', 'Default mode'], rotation=90)\n",
    "ax.set_xticklabels(['Vis.', 'SM', 'DA', 'VA', 'Lim.', 'FPC', 'DM'])\n",
    "ax.set_title(metrics_label[m])\n",
    "\n",
    "# for i in np.arange(len(indices[0])):\n",
    "#     if stats_yeo_pairs[i] < 0.05:\n",
    "#         y_pos = np.max(list(accuracy_mean_nuis_yeo[:,indices[0][i]]) + list(accuracy_mean_nuis_yeo[:,indices[1][i]]))\n",
    "#         ax.hlines(y = y_pos, xmin = indices[0][i], xmax = indices[1][i], color = 'black', linewidth = 0.5)\n",
    "#         ax.text(x = np.mean([indices[0][i],indices[1][i]]), y = y_pos, s =  '*', horizontalalignment='center', verticalalignment='top', color = 'black', fontsize = 8)\n",
    "        \n",
    "f.savefig(outfile_prefix+'psy_pos_'+metric+'_'+score+'_yeo.svg', dpi = 300, bbox_inches = 'tight')"
   ]
  }
 ],
 "metadata": {
  "kernelspec": {
   "display_name": "Python 3",
   "language": "python",
   "name": "python3"
  },
  "language_info": {
   "codemirror_mode": {
    "name": "ipython",
    "version": 3
   },
   "file_extension": ".py",
   "mimetype": "text/x-python",
   "name": "python",
   "nbconvert_exporter": "python",
   "pygments_lexer": "ipython3",
   "version": "3.7.7"
  }
 },
 "nbformat": 4,
 "nbformat_minor": 4
}
