{
 "cells": [
  {
   "cell_type": "code",
   "execution_count": 1,
   "metadata": {},
   "outputs": [],
   "source": [
    "# Essentials\n",
    "import os, sys, glob\n",
    "import pandas as pd\n",
    "import numpy as np\n",
    "import nibabel as nib\n",
    "import scipy.io as sio\n",
    "from tqdm import tqdm\n",
    "\n",
    "# Stats\n",
    "import scipy as sp\n",
    "from scipy import stats\n",
    "import statsmodels.api as sm\n",
    "import pingouin as pg\n",
    "\n",
    "# Plotting\n",
    "import seaborn as sns\n",
    "import matplotlib.pyplot as plt\n",
    "plt.rcParams['svg.fonttype'] = 'none'"
   ]
  },
  {
   "cell_type": "code",
   "execution_count": 2,
   "metadata": {},
   "outputs": [
    {
     "name": "stderr",
     "output_type": "stream",
     "text": [
      "/Users/lindenmp/opt/anaconda3/envs/neurodev_cs_predictive/lib/python3.7/site-packages/outdated/utils.py:18: OutdatedPackageWarning: The package pingouin is out of date. Your version is 0.3.7, the latest is 0.3.9.\n",
      "Set the environment variable OUTDATED_IGNORE=1 to disable these warnings.\n",
      "  **kwargs\n"
     ]
    }
   ],
   "source": [
    "from networkx import from_numpy_matrix, degree_centrality, closeness_centrality, betweenness_centrality, subgraph_centrality\n",
    "# from sklearn.kernel_ridge import KernelRidge"
   ]
  },
  {
   "cell_type": "code",
   "execution_count": 3,
   "metadata": {},
   "outputs": [],
   "source": [
    "sys.path.append('/Users/lindenmp/Google-Drive-Penn/work/research_projects/neurodev_cs_predictive/1_code/')\n",
    "from func import set_proj_env, my_get_cmap, get_fdr_p, get_fdr_p_df, node_strength, ave_control"
   ]
  },
  {
   "cell_type": "code",
   "execution_count": 4,
   "metadata": {},
   "outputs": [],
   "source": [
    "parc_str = 'schaefer' # 'schaefer' 'lausanne' 'glasser'\n",
    "parc_scale = 200 # 200/400 | 125/250 | 360\n",
    "edge_weight = 'streamlineCount' # 'streamlineCount' 'volNormStreamline'\n",
    "parcel_names, parcel_loc, drop_parcels, num_parcels = set_proj_env(parc_str = parc_str, parc_scale = parc_scale, edge_weight = edge_weight)"
   ]
  },
  {
   "cell_type": "code",
   "execution_count": 5,
   "metadata": {},
   "outputs": [
    {
     "data": {
      "text/plain": [
       "'schaefer_200_streamlineCount_'"
      ]
     },
     "execution_count": 5,
     "metadata": {},
     "output_type": "execute_result"
    }
   ],
   "source": [
    "# output file prefix\n",
    "run_hemi = ''\n",
    "if run_hemi == 'ipsi':\n",
    "    outfile_prefix = parc_str+'_'+str(parc_scale)+'_'+edge_weight+'_ipsi_'\n",
    "elif run_hemi == 'contra':\n",
    "    outfile_prefix = parc_str+'_'+str(parc_scale)+'_'+edge_weight+'_contra_'\n",
    "else:\n",
    "    outfile_prefix = parc_str+'_'+str(parc_scale)+'_'+edge_weight+'_'\n",
    "outfile_prefix"
   ]
  },
  {
   "cell_type": "code",
   "execution_count": 6,
   "metadata": {},
   "outputs": [
    {
     "name": "stdout",
     "output_type": "stream",
     "text": [
      "200\n"
     ]
    }
   ],
   "source": [
    "# we want to calculate conn features including subcortex\n",
    "# drop brainstem but retain subcortex.\n",
    "# here because conn features have already been calculate, we actually drop the brainstem from parcel_loc\n",
    "if parc_str == 'lausanne':\n",
    "    parcel_loc = parcel_loc[parcel_loc != 2]\n",
    "    num_parcels = len(parcel_loc)\n",
    "print(num_parcels)"
   ]
  },
  {
   "cell_type": "markdown",
   "metadata": {},
   "source": [
    "### Setup directory variables"
   ]
  },
  {
   "cell_type": "code",
   "execution_count": 7,
   "metadata": {},
   "outputs": [
    {
     "name": "stdout",
     "output_type": "stream",
     "text": [
      "/Users/lindenmp/Google-Drive-Penn/work/research_projects/neurodev_cs_predictive/2_pipeline\n"
     ]
    }
   ],
   "source": [
    "print(os.environ['PIPELINEDIR'])\n",
    "if not os.path.exists(os.environ['PIPELINEDIR']): os.makedirs(os.environ['PIPELINEDIR'])"
   ]
  },
  {
   "cell_type": "code",
   "execution_count": 8,
   "metadata": {},
   "outputs": [
    {
     "name": "stdout",
     "output_type": "stream",
     "text": [
      "/Users/lindenmp/Google-Drive-Penn/work/research_projects/neurodev_cs_predictive/3_output/figs\n"
     ]
    }
   ],
   "source": [
    "figdir = os.path.join(os.environ['OUTPUTDIR'], 'figs')\n",
    "print(figdir)\n",
    "if not os.path.exists(figdir): os.makedirs(figdir)"
   ]
  },
  {
   "cell_type": "code",
   "execution_count": 9,
   "metadata": {},
   "outputs": [
    {
     "name": "stdout",
     "output_type": "stream",
     "text": [
      "['Overall_Psychopathology', 'Psychosis_Positive', 'Psychosis_NegativeDisorg']\n"
     ]
    }
   ],
   "source": [
    "phenos = ['Overall_Psychopathology','Psychosis_Positive','Psychosis_NegativeDisorg']\n",
    "phenos_label = ['Overall Psychopathology','Psychosis (Positive)','Psychosis (Negative)']\n",
    "phenos_short = ['Ov. Psy.','Psy. (pos)','Psy. (neg)']\n",
    "\n",
    "print(phenos)\n",
    "\n",
    "# metrics = ['str', 'ac']\n",
    "metrics = ['str', 'ac', 'bc', 'cc', 'sgc']\n",
    "algs = ['rr', 'krr_rbf']\n",
    "scores = ['corr', 'rmse']"
   ]
  },
  {
   "cell_type": "markdown",
   "metadata": {},
   "source": [
    "## Setup plots"
   ]
  },
  {
   "cell_type": "code",
   "execution_count": 10,
   "metadata": {},
   "outputs": [],
   "source": [
    "if not os.path.exists(figdir): os.makedirs(figdir)\n",
    "os.chdir(figdir)\n",
    "sns.set(style='white', context = 'paper', font_scale = 1)\n",
    "sns.set_style({'font.family':'sans-serif', 'font.sans-serif':['Public Sans']})\n",
    "cmap = my_get_cmap('pair')"
   ]
  },
  {
   "cell_type": "markdown",
   "metadata": {},
   "source": [
    "## Load data"
   ]
  },
  {
   "cell_type": "code",
   "execution_count": 11,
   "metadata": {},
   "outputs": [
    {
     "name": "stdout",
     "output_type": "stream",
     "text": [
      "(1068, 4)\n"
     ]
    },
    {
     "data": {
      "text/plain": [
       "Index(['ageAtScan1', 'sex', 'mprage_antsCT_vol_TBV', 'dti64MeanRelRMS'], dtype='object')"
      ]
     },
     "execution_count": 11,
     "metadata": {},
     "output_type": "execute_result"
    }
   ],
   "source": [
    "df = pd.read_csv(os.path.join(os.environ['PIPELINEDIR'], '1_compute_node_features', 'store', outfile_prefix+'df.csv'))\n",
    "df.set_index(['bblid', 'scanid'], inplace = True)\n",
    "\n",
    "df_node = pd.read_csv(os.path.join(os.environ['PIPELINEDIR'], '1_compute_node_features', 'out', outfile_prefix+'X.csv'))\n",
    "df_node.set_index(['bblid', 'scanid'], inplace = True)\n",
    "\n",
    "df_node_ac_overc = pd.read_csv(os.path.join(os.environ['PIPELINEDIR'], '1_compute_node_features', 'out', outfile_prefix+'X_ac_c.csv'))\n",
    "df_node_ac_overc.set_index(['bblid', 'scanid'], inplace = True)\n",
    "\n",
    "df_node_ac_i2 = pd.read_csv(os.path.join(os.environ['PIPELINEDIR'], '1_compute_node_features', 'out', outfile_prefix+'X_ac_i2.csv'))\n",
    "df_node_ac_i2.set_index(['bblid', 'scanid'], inplace = True)\n",
    "\n",
    "df_pheno = pd.read_csv(os.path.join(os.environ['PIPELINEDIR'], '1_compute_node_features', 'out', outfile_prefix+'y.csv'))\n",
    "df_pheno.set_index(['bblid', 'scanid'], inplace = True)\n",
    "\n",
    "c = pd.read_csv(os.path.join(os.environ['PIPELINEDIR'], '1_compute_node_features', 'out', outfile_prefix+'c.csv'))\n",
    "c.set_index(['bblid', 'scanid'], inplace = True); print(c.shape)\n",
    "c.columns"
   ]
  },
  {
   "cell_type": "code",
   "execution_count": 12,
   "metadata": {},
   "outputs": [
    {
     "name": "stdout",
     "output_type": "stream",
     "text": [
      "True\n",
      "0\n"
     ]
    }
   ],
   "source": [
    "print(np.all(df_node.filter(regex = 'ac') == df_node_ac_i2))\n",
    "print(np.sum(df_node.filter(regex = 'ac').corrwith(df_node_ac_i2, method='spearman') < 0.99))"
   ]
  },
  {
   "cell_type": "code",
   "execution_count": 13,
   "metadata": {},
   "outputs": [
    {
     "name": "stdout",
     "output_type": "stream",
     "text": [
      "0.56\n",
      "-0.78\n",
      "-0.75\n"
     ]
    },
    {
     "data": {
      "text/plain": [
       "<matplotlib.legend.Legend at 0x10cb53d10>"
      ]
     },
     "execution_count": 13,
     "metadata": {},
     "output_type": "execute_result"
    },
    {
     "data": {
      "image/png": "[encoded data removed]",
      "text/plain": [
       "<Figure size 360x360 with 1 Axes>"
      ]
     },
     "metadata": {},
     "output_type": "display_data"
    }
   ],
   "source": [
    "f, ax = plt.subplots()\n",
    "f.set_figwidth(5)\n",
    "f.set_figheight(5)\n",
    "\n",
    "df_x = df_node.filter(regex = 'str'); df_x.columns = np.arange(df_x.shape[1])         \n",
    "df_y = df_node.filter(regex = 'ac'); df_y.columns = np.arange(df_y.shape[1])\n",
    "xy_corr = df_x.corrwith(df_y, method = 'pearson')\n",
    "print(np.round(xy_corr.mean(),2))\n",
    "sns.distplot(xy_corr, ax=ax, label='str_ac')\n",
    "\n",
    "df_x = df_node.filter(regex = 'str'); df_x.columns = np.arange(df_x.shape[1])         \n",
    "df_y = df_node.filter(regex = 'mc'); df_y.columns = np.arange(df_y.shape[1])\n",
    "xy_corr = df_x.corrwith(df_y, method = 'pearson')\n",
    "print(np.round(xy_corr.mean(),2))\n",
    "sns.distplot(xy_corr, ax=ax, label='str_mc')\n",
    "\n",
    "df_x = df_node.filter(regex = 'ac'); df_x.columns = np.arange(df_x.shape[1])         \n",
    "df_y = df_node.filter(regex = 'mc'); df_y.columns = np.arange(df_y.shape[1])\n",
    "xy_corr = df_x.corrwith(df_y, method = 'pearson')\n",
    "print(np.round(xy_corr.mean(),2))\n",
    "sns.distplot(xy_corr, ax=ax, label='ac_mc')\n",
    "\n",
    "f.legend()"
   ]
  },
  {
   "cell_type": "code",
   "execution_count": 14,
   "metadata": {},
   "outputs": [],
   "source": [
    "# # replace ac with initial condition = 2\n",
    "# ac_labels = ['ac_' + str(i) for i in range(num_parcels)]\n",
    "# df_node.loc[:,ac_labels]"
   ]
  },
  {
   "cell_type": "markdown",
   "metadata": {},
   "source": [
    "### Nuisance regression"
   ]
  },
  {
   "cell_type": "code",
   "execution_count": 15,
   "metadata": {},
   "outputs": [],
   "source": [
    "# Note, this nuisance regression made no difference.\n",
    "# Leaving off for simplicity of reporting.\n",
    "\n",
    "# nuis_reg = KernelRidge(kernel='rbf'); nuis_reg.fit(c, df_node)\n",
    "# X_pred = nuis_reg.predict(c); df_node = df_node - X_pred\n",
    "\n",
    "# nuis_reg = KernelRidge(kernel='rbf'); nuis_reg.fit(c, df_node_ac_overc)\n",
    "# X_pred = nuis_reg.predict(c); df_node_ac_overc = df_node_ac_overc - X_pred"
   ]
  },
  {
   "cell_type": "code",
   "execution_count": 16,
   "metadata": {},
   "outputs": [],
   "source": [
    "g = 0\n",
    "gradient = np.loadtxt(os.path.join(os.environ['PIPELINEDIR'], '2_compute_gradient', 'out', parc_str+'_'+str(parc_scale)+'_'+'pnc_grads_template.txt'))[:,g]"
   ]
  },
  {
   "cell_type": "code",
   "execution_count": 17,
   "metadata": {},
   "outputs": [],
   "source": [
    "if parc_str == 'lausanne' and len(gradient) == num_parcels:\n",
    "    print('cutting subcortex')\n",
    "    gradient = gradient[parcel_loc==1]"
   ]
  },
  {
   "cell_type": "code",
   "execution_count": 18,
   "metadata": {},
   "outputs": [],
   "source": [
    "# load spin test outputs\n",
    "if parc_scale != 250:\n",
    "    spin_indices = pd.read_csv(os.path.join(os.environ['PROJDIR'],'rotated_ind_'+parc_str+str(parc_scale)+'.csv'),sep=',' , header=None).values\n",
    "    num_perms = spin_indices.shape[1]"
   ]
  },
  {
   "cell_type": "code",
   "execution_count": 19,
   "metadata": {},
   "outputs": [],
   "source": [
    "# if run_ipsi == True and parc_str == 'schaefer' and parc_scale == 200: # reting ipsilateral hemisphere (optional)\n",
    "#     num_parcels = int(num_parcels/2)\n",
    "#     gradient = gradient[:num_parcels]\n",
    "#     spin_indices = spin_indices[:num_parcels,:]"
   ]
  },
  {
   "cell_type": "code",
   "execution_count": 20,
   "metadata": {},
   "outputs": [
    {
     "data": {
      "text/plain": [
       "False"
      ]
     },
     "execution_count": 20,
     "metadata": {},
     "output_type": "execute_result"
    }
   ],
   "source": [
    "A = np.load(os.path.join(os.environ['PIPELINEDIR'], '1_compute_node_features', 'store', outfile_prefix+'A.npy'))\n",
    "A = np.mean(A, axis = 2)\n",
    "np.any(np.isnan(A))"
   ]
  },
  {
   "cell_type": "code",
   "execution_count": 21,
   "metadata": {},
   "outputs": [
    {
     "data": {
      "text/plain": [
       "0.795175879396985"
      ]
     },
     "execution_count": 21,
     "metadata": {},
     "output_type": "execute_result"
    }
   ],
   "source": [
    "# density\n",
    "np.count_nonzero(np.triu(A))/((A.shape[0]**2-A.shape[0])/2)"
   ]
  },
  {
   "cell_type": "code",
   "execution_count": 22,
   "metadata": {},
   "outputs": [
    {
     "name": "stdout",
     "output_type": "stream",
     "text": [
      "0.12274993883274048\n"
     ]
    }
   ],
   "source": [
    "# threshold to mean density of cohort\n",
    "print(df.loc[:,'network_density'].mean())\n",
    "thresh = np.percentile(A,100-(df.loc[:,'network_density'].mean()*100))\n",
    "A[A < thresh] = 0"
   ]
  },
  {
   "cell_type": "code",
   "execution_count": 23,
   "metadata": {},
   "outputs": [
    {
     "data": {
      "text/plain": [
       "0.12336683417085427"
      ]
     },
     "execution_count": 23,
     "metadata": {},
     "output_type": "execute_result"
    }
   ],
   "source": [
    "# new density\n",
    "np.count_nonzero(np.triu(A))/((A.shape[0]**2-A.shape[0])/2)"
   ]
  },
  {
   "cell_type": "code",
   "execution_count": 24,
   "metadata": {},
   "outputs": [],
   "source": [
    "r_vals = pd.DataFrame(index = metrics, columns = phenos)\n",
    "p_vals = pd.DataFrame(index = metrics, columns = phenos)\n",
    "\n",
    "for metric in metrics:\n",
    "    for pheno in phenos:\n",
    "        X = df_node.filter(regex = metric).copy()\n",
    "        if parc_str == 'lausanne':\n",
    "            X = X.iloc[:,parcel_loc==1]\n",
    "        y = df_pheno.loc[:,pheno].copy()\n",
    "        \n",
    "        X_y_corr = X.corrwith(y, method = 'spearman').values\n",
    "\n",
    "        my_corr = sp.stats.spearmanr(gradient, X_y_corr)\n",
    "        r_vals.loc[metric,pheno] = my_corr[0]\n",
    "        p_vals.loc[metric,pheno] = my_corr[1]\n",
    "        \n",
    "p_vals = get_fdr_p_df(p_vals, rows = True)"
   ]
  },
  {
   "cell_type": "code",
   "execution_count": 25,
   "metadata": {},
   "outputs": [
    {
     "data": {
      "text/html": [
       "<div>\n",
       "<style scoped>\n",
       "    .dataframe tbody tr th:only-of-type {\n",
       "        vertical-align: middle;\n",
       "    }\n",
       "\n",
       "    .dataframe tbody tr th {\n",
       "        vertical-align: top;\n",
       "    }\n",
       "\n",
       "    .dataframe thead th {\n",
       "        text-align: right;\n",
       "    }\n",
       "</style>\n",
       "<table border=\"1\" class=\"dataframe\">\n",
       "  <thead>\n",
       "    <tr style=\"text-align: right;\">\n",
       "      <th></th>\n",
       "      <th>Overall_Psychopathology</th>\n",
       "      <th>Psychosis_Positive</th>\n",
       "      <th>Psychosis_NegativeDisorg</th>\n",
       "    </tr>\n",
       "  </thead>\n",
       "  <tbody>\n",
       "    <tr>\n",
       "      <th>str</th>\n",
       "      <td>-0.103675</td>\n",
       "      <td>-0.00378159</td>\n",
       "      <td>-0.0231576</td>\n",
       "    </tr>\n",
       "    <tr>\n",
       "      <th>ac</th>\n",
       "      <td>-0.280102</td>\n",
       "      <td>-0.292101</td>\n",
       "      <td>0.331508</td>\n",
       "    </tr>\n",
       "    <tr>\n",
       "      <th>bc</th>\n",
       "      <td>-0.127089</td>\n",
       "      <td>0.0313703</td>\n",
       "      <td>0.0545984</td>\n",
       "    </tr>\n",
       "    <tr>\n",
       "      <th>cc</th>\n",
       "      <td>-0.0843501</td>\n",
       "      <td>-0.00686717</td>\n",
       "      <td>-0.0233526</td>\n",
       "    </tr>\n",
       "    <tr>\n",
       "      <th>sgc</th>\n",
       "      <td>0.0219215</td>\n",
       "      <td>-0.0206</td>\n",
       "      <td>-0.102139</td>\n",
       "    </tr>\n",
       "  </tbody>\n",
       "</table>\n",
       "</div>"
      ],
      "text/plain": [
       "    Overall_Psychopathology Psychosis_Positive Psychosis_NegativeDisorg\n",
       "str               -0.103675        -0.00378159               -0.0231576\n",
       "ac                -0.280102          -0.292101                 0.331508\n",
       "bc                -0.127089          0.0313703                0.0545984\n",
       "cc               -0.0843501        -0.00686717               -0.0233526\n",
       "sgc               0.0219215            -0.0206                -0.102139"
      ]
     },
     "execution_count": 25,
     "metadata": {},
     "output_type": "execute_result"
    }
   ],
   "source": [
    "r_vals"
   ]
  },
  {
   "cell_type": "code",
   "execution_count": 26,
   "metadata": {},
   "outputs": [
    {
     "data": {
      "text/html": [
       "<div>\n",
       "<style scoped>\n",
       "    .dataframe tbody tr th:only-of-type {\n",
       "        vertical-align: middle;\n",
       "    }\n",
       "\n",
       "    .dataframe tbody tr th {\n",
       "        vertical-align: top;\n",
       "    }\n",
       "\n",
       "    .dataframe thead th {\n",
       "        text-align: right;\n",
       "    }\n",
       "</style>\n",
       "<table border=\"1\" class=\"dataframe\">\n",
       "  <thead>\n",
       "    <tr style=\"text-align: right;\">\n",
       "      <th></th>\n",
       "      <th>Overall_Psychopathology</th>\n",
       "      <th>Psychosis_Positive</th>\n",
       "      <th>Psychosis_NegativeDisorg</th>\n",
       "    </tr>\n",
       "  </thead>\n",
       "  <tbody>\n",
       "    <tr>\n",
       "      <th>str</th>\n",
       "      <td>NaN</td>\n",
       "      <td>NaN</td>\n",
       "      <td>NaN</td>\n",
       "    </tr>\n",
       "    <tr>\n",
       "      <th>ac</th>\n",
       "      <td>-0.280102</td>\n",
       "      <td>-0.292101</td>\n",
       "      <td>0.331508</td>\n",
       "    </tr>\n",
       "    <tr>\n",
       "      <th>bc</th>\n",
       "      <td>NaN</td>\n",
       "      <td>NaN</td>\n",
       "      <td>NaN</td>\n",
       "    </tr>\n",
       "    <tr>\n",
       "      <th>cc</th>\n",
       "      <td>NaN</td>\n",
       "      <td>NaN</td>\n",
       "      <td>NaN</td>\n",
       "    </tr>\n",
       "    <tr>\n",
       "      <th>sgc</th>\n",
       "      <td>NaN</td>\n",
       "      <td>NaN</td>\n",
       "      <td>NaN</td>\n",
       "    </tr>\n",
       "  </tbody>\n",
       "</table>\n",
       "</div>"
      ],
      "text/plain": [
       "    Overall_Psychopathology Psychosis_Positive Psychosis_NegativeDisorg\n",
       "str                     NaN                NaN                      NaN\n",
       "ac                -0.280102          -0.292101                 0.331508\n",
       "bc                      NaN                NaN                      NaN\n",
       "cc                      NaN                NaN                      NaN\n",
       "sgc                     NaN                NaN                      NaN"
      ]
     },
     "execution_count": 26,
     "metadata": {},
     "output_type": "execute_result"
    }
   ],
   "source": [
    "r_vals[p_vals < .05]"
   ]
  },
  {
   "cell_type": "code",
   "execution_count": 27,
   "metadata": {},
   "outputs": [],
   "source": [
    "my_ac = ave_control(A)\n",
    "my_str = node_strength(A)\n",
    "G = from_numpy_matrix(A)\n",
    "my_bc = np.array(list(betweenness_centrality(G, normalized=False).values()))\n",
    "my_cc = np.array(list(closeness_centrality(G).values()))\n",
    "my_sgc = np.array(list(subgraph_centrality(G).values()))\n",
    "    \n",
    "my_ac = sp.stats.boxcox(my_ac)[0]\n",
    "my_str = sp.stats.boxcox(my_str)[0]"
   ]
  },
  {
   "cell_type": "code",
   "execution_count": 28,
   "metadata": {},
   "outputs": [
    {
     "data": {
      "image/png": "[encoded data removed]",
      "text/plain": [
       "<Figure size 180x180 with 3 Axes>"
      ]
     },
     "metadata": {},
     "output_type": "display_data"
    }
   ],
   "source": [
    "f = sns.jointplot(x = my_str, y = my_ac)\n",
    "f.fig.set_figwidth(2.5)\n",
    "f.fig.set_figheight(2.5)\n",
    "# f.annotate(sp.stats.spearmanr)\n",
    "f.plot_joint(sns.kdeplot, zorder = 0, n_levels = 20, alpha = 0.1)\n",
    "f.plot_joint(plt.scatter, c = \"k\", s = 10, linewidth = 2, marker = \".\", alpha = 0.5)\n",
    "f.ax_joint.collections[0].set_alpha(0)\n",
    "f.ax_joint.set_xlabel('Regional Strength')\n",
    "f.ax_joint.set_ylabel('Regional Average Controllability')\n",
    "f.ax_joint.tick_params(pad = -2)\n",
    "f.savefig(outfile_prefix+'regional_str_vs_ac.png', dpi = 300, bbox_inches = 'tight')"
   ]
  },
  {
   "cell_type": "code",
   "execution_count": 29,
   "metadata": {},
   "outputs": [
    {
     "data": {
      "text/plain": [
       "(0.44710351522403025, 3.202964824941121e-11)"
      ]
     },
     "execution_count": 29,
     "metadata": {},
     "output_type": "execute_result"
    }
   ],
   "source": [
    "sp.stats.pearsonr(my_ac,my_str)"
   ]
  },
  {
   "cell_type": "code",
   "execution_count": 30,
   "metadata": {},
   "outputs": [
    {
     "data": {
      "text/plain": [
       "SpearmanrResult(correlation=0.544707117677942, pvalue=7.558846170508737e-17)"
      ]
     },
     "execution_count": 30,
     "metadata": {},
     "output_type": "execute_result"
    }
   ],
   "source": [
    "sp.stats.spearmanr(my_ac,my_str)"
   ]
  },
  {
   "cell_type": "code",
   "execution_count": 31,
   "metadata": {},
   "outputs": [
    {
     "data": {
      "text/plain": [
       "array([   10,   100,  1000, 10000])"
      ]
     },
     "execution_count": 31,
     "metadata": {},
     "output_type": "execute_result"
    }
   ],
   "source": [
    "c_params = np.array([10, 100, 1000, 10000])\n",
    "c_params"
   ]
  },
  {
   "cell_type": "code",
   "execution_count": 32,
   "metadata": {},
   "outputs": [],
   "source": [
    "ac_orig_r = np.zeros(c_params.shape,)\n",
    "ac_str_r = np.zeros(c_params.shape,)\n",
    "\n",
    "for i, c_param in enumerate(c_params):\n",
    "    ac_tmp = ave_control(A, c = c_param)\n",
    "    ac_tmp = sp.stats.boxcox(ac_tmp)[0]\n",
    "    \n",
    "    ac_orig_r[i] = sp.stats.spearmanr(my_ac,ac_tmp)[0]\n",
    "    ac_str_r[i] = sp.stats.spearmanr(my_str,ac_tmp)[0]"
   ]
  },
  {
   "cell_type": "code",
   "execution_count": 33,
   "metadata": {},
   "outputs": [
    {
     "data": {
      "text/plain": [
       "0.5660601515037876"
      ]
     },
     "execution_count": 33,
     "metadata": {},
     "output_type": "execute_result"
    }
   ],
   "source": [
    "ac_orig_r[-1]"
   ]
  },
  {
   "cell_type": "code",
   "execution_count": 34,
   "metadata": {},
   "outputs": [
    {
     "data": {
      "text/plain": [
       "0.9284032100802522"
      ]
     },
     "execution_count": 34,
     "metadata": {},
     "output_type": "execute_result"
    }
   ],
   "source": [
    "ac_str_r[-1]"
   ]
  },
  {
   "cell_type": "code",
   "execution_count": 35,
   "metadata": {},
   "outputs": [
    {
     "data": {
      "image/png": "[encoded data removed]",
      "text/plain": [
       "<Figure size 180x180 with 3 Axes>"
      ]
     },
     "metadata": {},
     "output_type": "display_data"
    }
   ],
   "source": [
    "f = sns.jointplot(x = c_params, y = ac_orig_r)\n",
    "f.fig.set_figwidth(2.5)\n",
    "f.fig.set_figheight(2.5)\n",
    "f.plot_joint(plt.scatter, c = \"k\", s = 5, linewidth = 2, marker = \".\", alpha = 0.3)\n",
    "f.ax_joint.collections[0].set_alpha(0)\n",
    "f.ax_joint.set_xlabel('C params')\n",
    "f.ax_joint.set_ylabel('corr(ac_orig,ac)')\n",
    "f.ax_joint.tick_params(pad = -2)\n",
    "f.savefig(outfile_prefix+'regional_c_vs_corr(ac_orig,ac).png', dpi = 300, bbox_inches = 'tight')"
   ]
  },
  {
   "cell_type": "code",
   "execution_count": 36,
   "metadata": {},
   "outputs": [
    {
     "data": {
      "image/png": "[encoded data removed]",
      "text/plain": [
       "<Figure size 180x180 with 3 Axes>"
      ]
     },
     "metadata": {},
     "output_type": "display_data"
    }
   ],
   "source": [
    "f = sns.jointplot(x = c_params, y = ac_str_r)\n",
    "f.fig.set_figwidth(2.5)\n",
    "f.fig.set_figheight(2.5)\n",
    "f.plot_joint(plt.scatter, c = \"k\", s = 5, linewidth = 2, marker = \".\", alpha = 0.3)\n",
    "f.ax_joint.collections[0].set_alpha(0)\n",
    "f.ax_joint.set_xlabel('C params')\n",
    "f.ax_joint.set_ylabel('corr(str,ac)')\n",
    "f.ax_joint.tick_params(pad = -2)\n",
    "f.savefig(outfile_prefix+'regional_c_vs_corr(str,ac).png', dpi = 300, bbox_inches = 'tight')"
   ]
  },
  {
   "cell_type": "markdown",
   "metadata": {},
   "source": [
    "## Correlation between metric gradient value"
   ]
  },
  {
   "cell_type": "code",
   "execution_count": 37,
   "metadata": {},
   "outputs": [],
   "source": [
    "# plot_me = my_cc.copy()\n",
    "\n",
    "# f, ax = plt.subplots()\n",
    "# f.set_figwidth(2)\n",
    "# f.set_figheight(2)\n",
    "# sns.regplot(x = gradient, y = plot_me, color = 'gray', scatter = False)\n",
    "# plt.scatter(x = gradient, y = plot_me, marker = 'o', s = 10, c = gradient, cmap = 'viridis', alpha=0.75, linewidth = 1)\n",
    "# ax.set_xlabel('Regional gradient value')\n",
    "# # ax.set_ylabel(metric)\n",
    "# # ax.set_ylim([0.25,0.9])\n",
    "# # ax.set_xlim([-0.13,0.115])\n",
    "# ax.tick_params(pad = -2)\n",
    "\n",
    "# textstr = 'r = {:.2f}'.format(sp.stats.pearsonr(gradient,plot_me)[0])\n",
    "# ax.text(0.95, 0.95, textstr, transform=ax.transAxes,\n",
    "#         verticalalignment='top', horizontalalignment='right')\n",
    "\n",
    "# # f.savefig(outfile_prefix+'regional_gradient_'+str(g)+'_vs_corr(str,ac).svg', dpi = 300, bbox_inches = 'tight')"
   ]
  },
  {
   "cell_type": "markdown",
   "metadata": {},
   "source": [
    "## Correlation between (x,y) cross-subject similarity and gradient value"
   ]
  },
  {
   "cell_type": "code",
   "execution_count": 38,
   "metadata": {},
   "outputs": [],
   "source": [
    "# num_perms = spin_indices.shape[1]\n",
    "num_perms = 10000"
   ]
  },
  {
   "cell_type": "code",
   "execution_count": 39,
   "metadata": {},
   "outputs": [
    {
     "data": {
      "text/plain": [
       "['str_ac',\n",
       " 'str_bc',\n",
       " 'str_cc',\n",
       " 'str_sgc',\n",
       " 'ac_bc',\n",
       " 'ac_cc',\n",
       " 'ac_sgc',\n",
       " 'bc_cc',\n",
       " 'bc_sgc',\n",
       " 'cc_sgc',\n",
       " 'str_mc',\n",
       " 'ac_mc']"
      ]
     },
     "execution_count": 39,
     "metadata": {},
     "output_type": "execute_result"
    }
   ],
   "source": [
    "if parc_str == 'schaefer' and parc_scale == 200 and not run_hemi:\n",
    "    metric_pairs = ['str_ac', 'str_bc', 'str_cc', 'str_sgc',\n",
    "                    'ac_bc', 'ac_cc', 'ac_sgc',\n",
    "                    'bc_cc', 'bc_sgc',\n",
    "                    'cc_sgc',\n",
    "                    'str_mc', 'ac_mc']\n",
    "else:\n",
    "#     metric_pairs = ['str_ac', 'bc_cc']\n",
    "    metric_pairs = ['str_ac',]\n",
    "metric_pairs"
   ]
  },
  {
   "cell_type": "code",
   "execution_count": 40,
   "metadata": {},
   "outputs": [],
   "source": [
    "# # age split\n",
    "\n",
    "# # age_split = c['ageAtScan1'] < c['ageAtScan1'].mean()\n",
    "# age_split = c['ageAtScan1'] > c['ageAtScan1'].mean()\n",
    "\n",
    "# c = c.loc[age_split,:]\n",
    "# c.drop(labels=['ageAtScan1'], axis=1, inplace=True)\n",
    "\n",
    "# df_node = df_node.loc[age_split,:]\n",
    "# df_pheno = df_pheno.loc[age_split,:]"
   ]
  },
  {
   "cell_type": "code",
   "execution_count": 41,
   "metadata": {},
   "outputs": [
    {
     "name": "stderr",
     "output_type": "stream",
     "text": [
      "  3%|▎         | 286/10000 [00:00<00:03, 2854.43it/s]"
     ]
    },
    {
     "name": "stdout",
     "output_type": "stream",
     "text": [
      "str_ac\n"
     ]
    },
    {
     "name": "stderr",
     "output_type": "stream",
     "text": [
      "100%|██████████| 10000/10000 [00:03<00:00, 3087.73it/s]\n",
      "  2%|▏         | 218/10000 [00:00<00:04, 2178.82it/s]"
     ]
    },
    {
     "name": "stdout",
     "output_type": "stream",
     "text": [
      "str_bc\n"
     ]
    },
    {
     "name": "stderr",
     "output_type": "stream",
     "text": [
      "100%|██████████| 10000/10000 [00:03<00:00, 2939.10it/s]\n",
      "  3%|▎         | 302/10000 [00:00<00:03, 3015.39it/s]"
     ]
    },
    {
     "name": "stdout",
     "output_type": "stream",
     "text": [
      "str_cc\n"
     ]
    },
    {
     "name": "stderr",
     "output_type": "stream",
     "text": [
      "100%|██████████| 10000/10000 [00:03<00:00, 3150.73it/s]\n",
      "  3%|▎         | 303/10000 [00:00<00:03, 3029.06it/s]"
     ]
    },
    {
     "name": "stdout",
     "output_type": "stream",
     "text": [
      "str_sgc\n"
     ]
    },
    {
     "name": "stderr",
     "output_type": "stream",
     "text": [
      "100%|██████████| 10000/10000 [00:03<00:00, 3190.12it/s]\n",
      "  3%|▎         | 300/10000 [00:00<00:03, 2996.07it/s]"
     ]
    },
    {
     "name": "stdout",
     "output_type": "stream",
     "text": [
      "ac_bc\n"
     ]
    },
    {
     "name": "stderr",
     "output_type": "stream",
     "text": [
      "100%|██████████| 10000/10000 [00:03<00:00, 3161.33it/s]\n",
      "  6%|▌         | 597/10000 [00:00<00:03, 3044.33it/s]"
     ]
    },
    {
     "name": "stdout",
     "output_type": "stream",
     "text": [
      "ac_cc\n"
     ]
    },
    {
     "name": "stderr",
     "output_type": "stream",
     "text": [
      "100%|██████████| 10000/10000 [00:03<00:00, 3052.29it/s]\n",
      "  3%|▎         | 305/10000 [00:00<00:03, 3044.22it/s]"
     ]
    },
    {
     "name": "stdout",
     "output_type": "stream",
     "text": [
      "ac_sgc\n"
     ]
    },
    {
     "name": "stderr",
     "output_type": "stream",
     "text": [
      "100%|██████████| 10000/10000 [00:03<00:00, 3186.35it/s]\n",
      "  3%|▎         | 313/10000 [00:00<00:03, 3115.98it/s]"
     ]
    },
    {
     "name": "stdout",
     "output_type": "stream",
     "text": [
      "bc_cc\n"
     ]
    },
    {
     "name": "stderr",
     "output_type": "stream",
     "text": [
      "100%|██████████| 10000/10000 [00:03<00:00, 3212.83it/s]\n",
      "  6%|▌         | 601/10000 [00:00<00:03, 2968.61it/s]"
     ]
    },
    {
     "name": "stdout",
     "output_type": "stream",
     "text": [
      "bc_sgc\n"
     ]
    },
    {
     "name": "stderr",
     "output_type": "stream",
     "text": [
      "100%|██████████| 10000/10000 [00:03<00:00, 3144.21it/s]\n",
      "  3%|▎         | 311/10000 [00:00<00:03, 3101.51it/s]"
     ]
    },
    {
     "name": "stdout",
     "output_type": "stream",
     "text": [
      "cc_sgc\n"
     ]
    },
    {
     "name": "stderr",
     "output_type": "stream",
     "text": [
      "100%|██████████| 10000/10000 [00:03<00:00, 3113.46it/s]\n",
      "  3%|▎         | 319/10000 [00:00<00:03, 3188.92it/s]"
     ]
    },
    {
     "name": "stdout",
     "output_type": "stream",
     "text": [
      "str_mc\n"
     ]
    },
    {
     "name": "stderr",
     "output_type": "stream",
     "text": [
      "100%|██████████| 10000/10000 [00:03<00:00, 3132.40it/s]\n",
      "  6%|▌         | 599/10000 [00:00<00:03, 3004.30it/s]"
     ]
    },
    {
     "name": "stdout",
     "output_type": "stream",
     "text": [
      "ac_mc\n"
     ]
    },
    {
     "name": "stderr",
     "output_type": "stream",
     "text": [
      "100%|██████████| 10000/10000 [00:03<00:00, 3102.25it/s]\n"
     ]
    }
   ],
   "source": [
    "emp_corr = np.zeros(len(metric_pairs))\n",
    "p_val = np.zeros(len(metric_pairs))\n",
    "\n",
    "for m, metric_pair in enumerate(metric_pairs):\n",
    "    print(metric_pair)\n",
    "    metric_x = metric_pair.split('_')[0]\n",
    "    metric_y = metric_pair.split('_')[1]\n",
    "\n",
    "    df_x = df_node.filter(regex = metric_x)\n",
    "    df_y = df_node.filter(regex = metric_y)\n",
    "    if parc_str == 'lausanne':\n",
    "        df_x = df_x.iloc[:,parcel_loc==1]\n",
    "        df_y = df_y.iloc[:,parcel_loc==1]\n",
    "\n",
    "    df_x.columns = np.arange(df_x.shape[1])\n",
    "    df_y.columns = np.arange(df_y.shape[1])\n",
    "    xy_corr = df_x.corrwith(df_y, method = 'pearson')\n",
    "\n",
    "    emp_corr[m] = sp.stats.pearsonr(gradient,xy_corr)[0]\n",
    "\n",
    "    if parc_scale != 250:\n",
    "        spun_corr = np.zeros(num_perms)\n",
    "        for i in tqdm(np.arange(num_perms)):\n",
    "            spun_corr[i] = sp.stats.pearsonr(gradient,xy_corr[spin_indices[:,i]-1])[0]\n",
    "\n",
    "        if emp_corr[m] < 0:\n",
    "            p_val[m] = np.sum(spun_corr < emp_corr[m])/num_perms\n",
    "        else:\n",
    "            p_val[m] = np.sum(spun_corr > emp_corr[m])/num_perms\n",
    "    else:\n",
    "        p_val[m] = sp.stats.pearsonr(gradient,xy_corr)[1]\n",
    "\n",
    "# p_val = get_fdr_p(p_val)"
   ]
  },
  {
   "cell_type": "code",
   "execution_count": 42,
   "metadata": {},
   "outputs": [],
   "source": [
    "sns.set(style='white', context = 'paper', font_scale = 0.8)\n",
    "sns.set_style({'font.family':'sans-serif', 'font.sans-serif':['Public Sans']})"
   ]
  },
  {
   "cell_type": "code",
   "execution_count": 43,
   "metadata": {},
   "outputs": [
    {
     "data": {
      "image/png": "[encoded data removed]",
      "text/plain": [
       "<Figure size 72x72 with 1 Axes>"
      ]
     },
     "metadata": {},
     "output_type": "display_data"
    },
    {
     "data": {
      "image/png": "[encoded data removed]",
      "text/plain": [
       "<Figure size 72x72 with 1 Axes>"
      ]
     },
     "metadata": {},
     "output_type": "display_data"
    },
    {
     "data": {
      "image/png": "[encoded data removed]",
      "text/plain": [
       "<Figure size 72x72 with 1 Axes>"
      ]
     },
     "metadata": {},
     "output_type": "display_data"
    },
    {
     "data": {
      "image/png": "[encoded data removed]",
      "text/plain": [
       "<Figure size 72x72 with 1 Axes>"
      ]
     },
     "metadata": {},
     "output_type": "display_data"
    },
    {
     "data": {
      "image/png": "[encoded data removed]",
      "text/plain": [
       "<Figure size 72x72 with 1 Axes>"
      ]
     },
     "metadata": {},
     "output_type": "display_data"
    },
    {
     "data": {
      "image/png": "[encoded data removed]",
      "text/plain": [
       "<Figure size 72x72 with 1 Axes>"
      ]
     },
     "metadata": {},
     "output_type": "display_data"
    },
    {
     "data": {
      "image/png": "[encoded data removed]",
      "text/plain": [
       "<Figure size 72x72 with 1 Axes>"
      ]
     },
     "metadata": {},
     "output_type": "display_data"
    },
    {
     "data": {
      "image/png": "[encoded data removed]",
      "text/plain": [
       "<Figure size 72x72 with 1 Axes>"
      ]
     },
     "metadata": {},
     "output_type": "display_data"
    },
    {
     "data": {
      "image/png": "[encoded data removed]",
      "text/plain": [
       "<Figure size 72x72 with 1 Axes>"
      ]
     },
     "metadata": {},
     "output_type": "display_data"
    },
    {
     "data": {
      "image/png": "[encoded data removed]",
      "text/plain": [
       "<Figure size 72x72 with 1 Axes>"
      ]
     },
     "metadata": {},
     "output_type": "display_data"
    },
    {
     "data": {
      "image/png": "[encoded data removed]",
      "text/plain": [
       "<Figure size 72x72 with 1 Axes>"
      ]
     },
     "metadata": {},
     "output_type": "display_data"
    },
    {
     "data": {
      "image/png": "[encoded data removed]",
      "text/plain": [
       "<Figure size 72x72 with 1 Axes>"
      ]
     },
     "metadata": {},
     "output_type": "display_data"
    }
   ],
   "source": [
    "for m, metric_pair in enumerate(metric_pairs):\n",
    "    metric_x = metric_pair.split('_')[0]\n",
    "    metric_y = metric_pair.split('_')[1]\n",
    "\n",
    "    df_x = df_node.filter(regex = metric_x)            \n",
    "    df_y = df_node.filter(regex = metric_y)\n",
    "    if parc_str == 'lausanne':\n",
    "        df_x = df_x.iloc[:,parcel_loc==1]\n",
    "        df_y = df_y.iloc[:,parcel_loc==1]\n",
    "    \n",
    "    df_x.columns = np.arange(df_x.shape[1])\n",
    "    df_y.columns = np.arange(df_y.shape[1])\n",
    "    xy_corr = df_x.corrwith(df_y, method = 'pearson')\n",
    "\n",
    "    f, ax = plt.subplots()\n",
    "#     f.set_figwidth(1.25)\n",
    "#     f.set_figheight(1.25)\n",
    "    f.set_figwidth(1)\n",
    "    f.set_figheight(1)\n",
    "    sns.regplot(x = gradient, y = xy_corr, color = 'gray', scatter = False)\n",
    "    plt.scatter(x = gradient, y = xy_corr, marker = 'o', s = 10, c = gradient, cmap = 'viridis', alpha=0.75, linewidth = 1)\n",
    "    ax.set_xlabel('Regional gradient value')\n",
    "    ax.set_ylabel('Pearson('+metric_x+','+metric_y+')')\n",
    "    # ax.set_ylim([0.25,0.9])\n",
    "#     ax.set_xlim([-0.13,0.115])\n",
    "    ax.set_xlim([gradient.min()+gradient.min()*.25,\n",
    "                 gradient.max()+gradient.max()*.25])\n",
    "    ax.tick_params(pad = -2)\n",
    "\n",
    "    if p_val[m] < 0.05:\n",
    "        textstr = 'r = {:.2f}\\npFDR < 0.05'.format(emp_corr[m])\n",
    "    else:\n",
    "        textstr = 'r = {:.2f}\\npFDR = {:.2f}'.format(emp_corr[m], p_val[m])\n",
    "    ax.text(0.95, 0.95, textstr, transform=ax.transAxes,\n",
    "            verticalalignment='top', horizontalalignment='right')\n",
    "    \n",
    "    f.savefig(outfile_prefix+'regional_gradient_'+str(g)+'_vs_corr('+metric_x+','+metric_y+').svg', dpi = 300, bbox_inches = 'tight')"
   ]
  },
  {
   "cell_type": "markdown",
   "metadata": {},
   "source": [
    "## Correlation between (ac,str) cross-subject similarity and gradient value"
   ]
  },
  {
   "cell_type": "code",
   "execution_count": 44,
   "metadata": {},
   "outputs": [
    {
     "data": {
      "image/png": "[encoded data removed]",
      "text/plain": [
       "<Figure size 144x144 with 1 Axes>"
      ]
     },
     "metadata": {},
     "output_type": "display_data"
    }
   ],
   "source": [
    "m=0\n",
    "metric_pair = metric_pairs[m]\n",
    "metric_x = metric_pair.split('_')[0]\n",
    "metric_y = metric_pair.split('_')[1]\n",
    "\n",
    "df_x = df_node.filter(regex = metric_x)            \n",
    "df_y = df_node.filter(regex = metric_y)\n",
    "if parc_str == 'lausanne':\n",
    "    df_x = df_x.iloc[:,parcel_loc==1]\n",
    "    df_y = df_y.iloc[:,parcel_loc==1]\n",
    "\n",
    "df_x.columns = np.arange(df_x.shape[1])\n",
    "df_y.columns = np.arange(df_y.shape[1])\n",
    "xy_corr = df_x.corrwith(df_y, method = 'pearson')\n",
    "\n",
    "f, ax = plt.subplots()\n",
    "f.set_figwidth(2)\n",
    "f.set_figheight(2)\n",
    "sns.regplot(x = gradient, y = xy_corr, color = 'gray', scatter = False)\n",
    "plt.scatter(x = gradient, y = xy_corr, marker = 'o', s = 10, c = gradient, cmap = 'viridis', alpha=0.75, linewidth = 1)\n",
    "ax.set_xlabel('Regional gradient value')\n",
    "ax.set_ylabel('Pearson(str,ac)')\n",
    "ax.set_ylim([0.25,0.9])\n",
    "ax.set_xlim([-0.13,0.115])\n",
    "ax.tick_params(pad = -2)\n",
    "\n",
    "if p_val[m] < 0.05:\n",
    "    textstr = 'r = {:.2f}\\npFDR < 0.05'.format(emp_corr[m])\n",
    "else:\n",
    "    textstr = 'r = {:.2f}\\npFDR = {:.2f}'.format(emp_corr[m], p_val[m])\n",
    "ax.text(0.95, 0.95, textstr, transform=ax.transAxes,\n",
    "        verticalalignment='top', horizontalalignment='right')\n",
    "\n",
    "f.savefig(outfile_prefix+'figure3_regional_gradient_'+str(g)+'_vs_corr('+metric_x+','+metric_y+').svg', dpi = 300, bbox_inches = 'tight')"
   ]
  },
  {
   "cell_type": "markdown",
   "metadata": {},
   "source": [
    "## Correlation between (ac_over_c,str) cross-subject similarity and gradient value"
   ]
  },
  {
   "cell_type": "code",
   "execution_count": 45,
   "metadata": {},
   "outputs": [
    {
     "data": {
      "text/plain": [
       "array([   10,   100,  1000, 10000])"
      ]
     },
     "execution_count": 45,
     "metadata": {},
     "output_type": "execute_result"
    }
   ],
   "source": [
    "c_params = np.array([10, 100, 1000, 10000])\n",
    "c_params"
   ]
  },
  {
   "cell_type": "code",
   "execution_count": 46,
   "metadata": {},
   "outputs": [
    {
     "name": "stderr",
     "output_type": "stream",
     "text": [
      "  3%|▎         | 282/10000 [00:00<00:03, 2818.70it/s]"
     ]
    },
    {
     "name": "stdout",
     "output_type": "stream",
     "text": [
      "10\n"
     ]
    },
    {
     "name": "stderr",
     "output_type": "stream",
     "text": [
      "100%|██████████| 10000/10000 [00:03<00:00, 3001.84it/s]\n",
      "  6%|▌         | 595/10000 [00:00<00:03, 2981.34it/s]"
     ]
    },
    {
     "name": "stdout",
     "output_type": "stream",
     "text": [
      "100\n"
     ]
    },
    {
     "name": "stderr",
     "output_type": "stream",
     "text": [
      "100%|██████████| 10000/10000 [00:03<00:00, 2925.40it/s]\n",
      "  6%|▌         | 558/10000 [00:00<00:03, 2756.05it/s]"
     ]
    },
    {
     "name": "stdout",
     "output_type": "stream",
     "text": [
      "1000\n"
     ]
    },
    {
     "name": "stderr",
     "output_type": "stream",
     "text": [
      "100%|██████████| 10000/10000 [00:03<00:00, 2924.43it/s]\n",
      "  3%|▎         | 308/10000 [00:00<00:03, 3071.71it/s]"
     ]
    },
    {
     "name": "stdout",
     "output_type": "stream",
     "text": [
      "10000\n"
     ]
    },
    {
     "name": "stderr",
     "output_type": "stream",
     "text": [
      "100%|██████████| 10000/10000 [00:03<00:00, 3092.00it/s]\n"
     ]
    }
   ],
   "source": [
    "emp_corr = np.zeros(len(metric_pairs))\n",
    "p_val = np.zeros(len(metric_pairs))\n",
    "\n",
    "for m, c_param in enumerate(c_params):\n",
    "    print(c_param)\n",
    "    df_x = df_node.filter(regex = 'str')\n",
    "    df_y = df_node_ac_overc.filter(regex = 'ac_c'+str(c_param)+'_')\n",
    "    if parc_str == 'lausanne':\n",
    "        df_x = df_x.iloc[:,parcel_loc==1]\n",
    "        df_y = df_y.iloc[:,parcel_loc==1]\n",
    "        \n",
    "    df_x.columns = np.arange(df_x.shape[1])\n",
    "    df_y.columns = np.arange(df_y.shape[1])\n",
    "    xy_corr = df_x.corrwith(df_y, method = 'pearson')\n",
    "\n",
    "    emp_corr[m] = sp.stats.pearsonr(gradient,xy_corr)[0]\n",
    "\n",
    "    spun_corr = np.zeros(num_perms)\n",
    "    for i in tqdm(np.arange(num_perms)):\n",
    "        spun_corr[i] = sp.stats.pearsonr(gradient,xy_corr[spin_indices[:,i]-1])[0]\n",
    "\n",
    "    if emp_corr[m] < 0:\n",
    "        p_val[m] = np.sum(spun_corr < emp_corr[m])/num_perms\n",
    "    else:\n",
    "        p_val[m] = np.sum(spun_corr > emp_corr[m])/num_perms\n",
    "\n",
    "p_val = get_fdr_p(p_val)"
   ]
  },
  {
   "cell_type": "code",
   "execution_count": 47,
   "metadata": {},
   "outputs": [
    {
     "name": "stdout",
     "output_type": "stream",
     "text": [
      "10\n",
      "100\n",
      "1000\n",
      "10000\n"
     ]
    },
    {
     "data": {
      "image/png": "[encoded data removed]",
      "text/plain": [
       "<Figure size 72x72 with 1 Axes>"
      ]
     },
     "metadata": {},
     "output_type": "display_data"
    },
    {
     "data": {
      "image/png": "[encoded data removed]",
      "text/plain": [
       "<Figure size 72x72 with 1 Axes>"
      ]
     },
     "metadata": {},
     "output_type": "display_data"
    },
    {
     "data": {
      "image/png": "[encoded data removed]",
      "text/plain": [
       "<Figure size 72x72 with 1 Axes>"
      ]
     },
     "metadata": {},
     "output_type": "display_data"
    },
    {
     "data": {
      "image/png": "[encoded data removed]",
      "text/plain": [
       "<Figure size 72x72 with 1 Axes>"
      ]
     },
     "metadata": {},
     "output_type": "display_data"
    }
   ],
   "source": [
    "for m, c_param in enumerate(c_params):\n",
    "    print(c_param)\n",
    "    df_x = df_node.filter(regex = 'str')\n",
    "    df_y = df_node_ac_overc.filter(regex = 'ac_c'+str(c_param)+'_')\n",
    "    if parc_str == 'lausanne':\n",
    "        df_x = df_x.iloc[:,parcel_loc==1]\n",
    "        df_y = df_y.iloc[:,parcel_loc==1]\n",
    "        \n",
    "    df_x.columns = np.arange(df_x.shape[1])\n",
    "    df_y.columns = np.arange(df_y.shape[1])\n",
    "    xy_corr = df_x.corrwith(df_y, method = 'pearson')\n",
    "\n",
    "    f, ax = plt.subplots()\n",
    "#     f.set_figwidth(1.25)\n",
    "#     f.set_figheight(1.25)\n",
    "    f.set_figwidth(1)\n",
    "    f.set_figheight(1)\n",
    "    sns.regplot(x = gradient, y = xy_corr, color = 'gray', scatter = False)\n",
    "    plt.scatter(x = gradient, y = xy_corr, marker = 'o', s = 10, c = gradient, cmap = 'viridis', alpha=0.75, linewidth = 1)\n",
    "    ax.set_xlabel('Regional gradient value')\n",
    "#     ax.set_xlabel('')\n",
    "    ax.set_ylabel('Pearson(str,ac)')\n",
    "    ax.set_ylim([0.25,1])\n",
    "    ax.set_xlim([-0.12,0.12])\n",
    "    ax.set_xlim([gradient.min()+gradient.min()*.25,\n",
    "                 gradient.max()+gradient.max()*.25])\n",
    "    ax.tick_params(pad = -2)\n",
    "\n",
    "    ax.set_title('c = ' + str(c_param))\n",
    "    \n",
    "    if p_val[m] < 0.05:\n",
    "        textstr = 'r = {:.2f}\\npFDR < 0.05'.format(emp_corr[m])\n",
    "    else:\n",
    "        textstr = 'r = {:.2f}\\npFDR = {:.2f}'.format(emp_corr[m], p_val[m])\n",
    "    ax.text(0.95, 0.95, textstr, transform=ax.transAxes,\n",
    "            verticalalignment='top', horizontalalignment='right')\n",
    "\n",
    "    f.savefig(outfile_prefix+'regional_gradient_'+str(g)+'_vs_corr(str,ac)_c_'+str(c_param)+'.svg', dpi = 300, bbox_inches = 'tight')"
   ]
  }
 ],
 "metadata": {
  "kernelspec": {
   "display_name": "Python 3",
   "language": "python",
   "name": "python3"
  },
  "language_info": {
   "codemirror_mode": {
    "name": "ipython",
    "version": 3
   },
   "file_extension": ".py",
   "mimetype": "text/x-python",
   "name": "python",
   "nbconvert_exporter": "python",
   "pygments_lexer": "ipython3",
   "version": "3.7.7"
  }
 },
 "nbformat": 4,
 "nbformat_minor": 4
}
