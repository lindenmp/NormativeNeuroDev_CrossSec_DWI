{
 "cells": [
  {
   "cell_type": "code",
   "execution_count": 1,
   "metadata": {},
   "outputs": [],
   "source": [
    "# Essentials\n",
    "import os, sys, glob\n",
    "import pandas as pd\n",
    "import numpy as np\n",
    "import nibabel as nib\n",
    "import scipy.io as sio\n",
    "\n",
    "# Stats\n",
    "import scipy as sp\n",
    "from scipy import stats\n",
    "import statsmodels.api as sm\n",
    "import pingouin as pg\n",
    "\n",
    "# Plotting\n",
    "import seaborn as sns\n",
    "import matplotlib.pyplot as plt\n",
    "plt.rcParams['svg.fonttype'] = 'none'"
   ]
  },
  {
   "cell_type": "code",
   "execution_count": 2,
   "metadata": {},
   "outputs": [],
   "source": [
    "from sklearn.kernel_ridge import KernelRidge"
   ]
  },
  {
   "cell_type": "code",
   "execution_count": 3,
   "metadata": {},
   "outputs": [],
   "source": [
    "sys.path.append('/Users/lindenmp/Google-Drive-Penn/work/research_projects/neurodev_cs_predictive/1_code/')\n",
    "from func import set_proj_env, my_get_cmap, get_fdr_p_df, node_strength, ave_control"
   ]
  },
  {
   "cell_type": "code",
   "execution_count": 4,
   "metadata": {},
   "outputs": [],
   "source": [
    "parc_str = 'schaefer'\n",
    "parc_scale = 200\n",
    "edge_weight = 'streamlineCount'\n",
    "parcel_names, parcel_loc, drop_parcels, num_parcels = set_proj_env(parc_str = parc_str, parc_scale = parc_scale, edge_weight = edge_weight)"
   ]
  },
  {
   "cell_type": "code",
   "execution_count": 5,
   "metadata": {},
   "outputs": [
    {
     "data": {
      "text/plain": [
       "'schaefer_200_streamlineCount_'"
      ]
     },
     "execution_count": 5,
     "metadata": {},
     "output_type": "execute_result"
    }
   ],
   "source": [
    "# output file prefix\n",
    "outfile_prefix = parc_str+'_'+str(parc_scale)+'_'+edge_weight+'_'\n",
    "outfile_prefix"
   ]
  },
  {
   "cell_type": "markdown",
   "metadata": {},
   "source": [
    "### Setup directory variables"
   ]
  },
  {
   "cell_type": "code",
   "execution_count": 6,
   "metadata": {},
   "outputs": [
    {
     "name": "stdout",
     "output_type": "stream",
     "text": [
      "/Users/lindenmp/Google-Drive-Penn/work/research_projects/neurodev_cs_predictive/2_pipeline\n"
     ]
    }
   ],
   "source": [
    "print(os.environ['PIPELINEDIR'])\n",
    "if not os.path.exists(os.environ['PIPELINEDIR']): os.makedirs(os.environ['PIPELINEDIR'])"
   ]
  },
  {
   "cell_type": "code",
   "execution_count": 7,
   "metadata": {},
   "outputs": [
    {
     "name": "stdout",
     "output_type": "stream",
     "text": [
      "/Users/lindenmp/Google-Drive-Penn/work/research_projects/neurodev_cs_predictive/3_output/figs\n"
     ]
    }
   ],
   "source": [
    "figdir = os.path.join(os.environ['OUTPUTDIR'], 'figs')\n",
    "print(figdir)\n",
    "if not os.path.exists(figdir): os.makedirs(figdir)"
   ]
  },
  {
   "cell_type": "code",
   "execution_count": 8,
   "metadata": {},
   "outputs": [
    {
     "name": "stdout",
     "output_type": "stream",
     "text": [
      "['Overall_Psychopathology', 'Psychosis_Positive', 'Psychosis_NegativeDisorg']\n"
     ]
    }
   ],
   "source": [
    "phenos = ['Overall_Psychopathology','Psychosis_Positive','Psychosis_NegativeDisorg']\n",
    "phenos_label = ['Overall Psychopathology','Psychosis (Positive)','Psychosis (Negative)']\n",
    "phenos_short = ['Ov. Psy.','Psy. (pos)','Psy. (neg)']\n",
    "\n",
    "print(phenos)\n",
    "\n",
    "metrics = ['str', 'ac']\n",
    "algs = ['rr', 'krr_rbf']\n",
    "scores = ['corr', 'rmse']"
   ]
  },
  {
   "cell_type": "markdown",
   "metadata": {},
   "source": [
    "## Setup plots"
   ]
  },
  {
   "cell_type": "code",
   "execution_count": 9,
   "metadata": {},
   "outputs": [],
   "source": [
    "if not os.path.exists(figdir): os.makedirs(figdir)\n",
    "os.chdir(figdir)\n",
    "sns.set(style='white', context = 'paper', font_scale = 1)\n",
    "cmap = my_get_cmap('pair')"
   ]
  },
  {
   "cell_type": "markdown",
   "metadata": {},
   "source": [
    "## Load data"
   ]
  },
  {
   "cell_type": "code",
   "execution_count": 10,
   "metadata": {},
   "outputs": [
    {
     "name": "stdout",
     "output_type": "stream",
     "text": [
      "(1068, 4)\n"
     ]
    },
    {
     "data": {
      "text/plain": [
       "Index(['ageAtScan1', 'sex', 'mprage_antsCT_vol_TBV', 'dti64MeanRelRMS'], dtype='object')"
      ]
     },
     "execution_count": 10,
     "metadata": {},
     "output_type": "execute_result"
    }
   ],
   "source": [
    "df_node = pd.read_csv(os.path.join(os.environ['PIPELINEDIR'], '1_compute_node_features', 'out', outfile_prefix+'X.csv'))\n",
    "df_node.set_index(['bblid', 'scanid'], inplace = True)\n",
    "\n",
    "df_node_ac_overc = pd.read_csv(os.path.join(os.environ['PIPELINEDIR'], '1_compute_node_features', 'out', outfile_prefix+'X_ac_c.csv'))\n",
    "df_node_ac_overc.set_index(['bblid', 'scanid'], inplace = True)\n",
    "\n",
    "df_pheno = pd.read_csv(os.path.join(os.environ['PIPELINEDIR'], '1_compute_node_features', 'out', outfile_prefix+'y.csv'))\n",
    "df_pheno.set_index(['bblid', 'scanid'], inplace = True)\n",
    "\n",
    "c = pd.read_csv(os.path.join(os.environ['PIPELINEDIR'], '1_compute_node_features', 'out', outfile_prefix+'c.csv'))\n",
    "c.set_index(['bblid', 'scanid'], inplace = True); print(c.shape)\n",
    "c.columns"
   ]
  },
  {
   "cell_type": "markdown",
   "metadata": {},
   "source": [
    "### Nuisance regression"
   ]
  },
  {
   "cell_type": "code",
   "execution_count": 11,
   "metadata": {},
   "outputs": [],
   "source": [
    "# Note, this nuisance regression made no difference.\n",
    "# Leaving off for simplicity of reporting.\n",
    "\n",
    "# nuis_reg = KernelRidge(kernel='rbf'); nuis_reg.fit(c, df_node)\n",
    "# X_pred = nuis_reg.predict(c); df_node = df_node - X_pred\n",
    "\n",
    "# nuis_reg = KernelRidge(kernel='rbf'); nuis_reg.fit(c, df_node_ac_overc)\n",
    "# X_pred = nuis_reg.predict(c); df_node_ac_overc = df_node_ac_overc - X_pred"
   ]
  },
  {
   "cell_type": "code",
   "execution_count": 12,
   "metadata": {},
   "outputs": [],
   "source": [
    "g = 0\n",
    "gradient = np.loadtxt(os.path.join(os.environ['PIPELINEDIR'], '2_compute_gradient', 'out', parc_str+'_'+str(parc_scale)+'_'+'pnc_grads_template.txt'))[:,g]"
   ]
  },
  {
   "cell_type": "code",
   "execution_count": 13,
   "metadata": {},
   "outputs": [
    {
     "data": {
      "text/plain": [
       "False"
      ]
     },
     "execution_count": 13,
     "metadata": {},
     "output_type": "execute_result"
    }
   ],
   "source": [
    "A = np.load(os.path.join(os.environ['PIPELINEDIR'], '1_compute_node_features', 'store', outfile_prefix+'A.npy'))\n",
    "A = np.mean(A, axis = 2)\n",
    "np.any(np.isnan(A))"
   ]
  },
  {
   "cell_type": "code",
   "execution_count": 14,
   "metadata": {},
   "outputs": [],
   "source": [
    "r_vals = pd.DataFrame(index = metrics, columns = phenos)\n",
    "p_vals = pd.DataFrame(index = metrics, columns = phenos)\n",
    "\n",
    "for metric in metrics:\n",
    "    for pheno in phenos:\n",
    "        X = df_node.filter(regex = metric).copy()\n",
    "        y = df_pheno.loc[:,pheno].copy()\n",
    "        \n",
    "        X_y_corr = X.corrwith(y, method = 'spearman').values\n",
    "\n",
    "        my_corr = sp.stats.spearmanr(gradient, X_y_corr)\n",
    "        r_vals.loc[metric,pheno] = my_corr[0]\n",
    "        p_vals.loc[metric,pheno] = my_corr[1]\n",
    "        \n",
    "p_vals = get_fdr_p_df(p_vals, rows = True)"
   ]
  },
  {
   "cell_type": "code",
   "execution_count": 15,
   "metadata": {},
   "outputs": [
    {
     "data": {
      "text/html": [
       "<div>\n",
       "<style scoped>\n",
       "    .dataframe tbody tr th:only-of-type {\n",
       "        vertical-align: middle;\n",
       "    }\n",
       "\n",
       "    .dataframe tbody tr th {\n",
       "        vertical-align: top;\n",
       "    }\n",
       "\n",
       "    .dataframe thead th {\n",
       "        text-align: right;\n",
       "    }\n",
       "</style>\n",
       "<table border=\"1\" class=\"dataframe\">\n",
       "  <thead>\n",
       "    <tr style=\"text-align: right;\">\n",
       "      <th></th>\n",
       "      <th>Overall_Psychopathology</th>\n",
       "      <th>Psychosis_Positive</th>\n",
       "      <th>Psychosis_NegativeDisorg</th>\n",
       "    </tr>\n",
       "  </thead>\n",
       "  <tbody>\n",
       "    <tr>\n",
       "      <th>str</th>\n",
       "      <td>-0.103675</td>\n",
       "      <td>-0.00378159</td>\n",
       "      <td>-0.0231576</td>\n",
       "    </tr>\n",
       "    <tr>\n",
       "      <th>ac</th>\n",
       "      <td>-0.280102</td>\n",
       "      <td>-0.292101</td>\n",
       "      <td>0.331508</td>\n",
       "    </tr>\n",
       "  </tbody>\n",
       "</table>\n",
       "</div>"
      ],
      "text/plain": [
       "    Overall_Psychopathology Psychosis_Positive Psychosis_NegativeDisorg\n",
       "str               -0.103675        -0.00378159               -0.0231576\n",
       "ac                -0.280102          -0.292101                 0.331508"
      ]
     },
     "execution_count": 15,
     "metadata": {},
     "output_type": "execute_result"
    }
   ],
   "source": [
    "r_vals"
   ]
  },
  {
   "cell_type": "code",
   "execution_count": 16,
   "metadata": {},
   "outputs": [
    {
     "data": {
      "text/html": [
       "<div>\n",
       "<style scoped>\n",
       "    .dataframe tbody tr th:only-of-type {\n",
       "        vertical-align: middle;\n",
       "    }\n",
       "\n",
       "    .dataframe tbody tr th {\n",
       "        vertical-align: top;\n",
       "    }\n",
       "\n",
       "    .dataframe thead th {\n",
       "        text-align: right;\n",
       "    }\n",
       "</style>\n",
       "<table border=\"1\" class=\"dataframe\">\n",
       "  <thead>\n",
       "    <tr style=\"text-align: right;\">\n",
       "      <th></th>\n",
       "      <th>Overall_Psychopathology</th>\n",
       "      <th>Psychosis_Positive</th>\n",
       "      <th>Psychosis_NegativeDisorg</th>\n",
       "    </tr>\n",
       "  </thead>\n",
       "  <tbody>\n",
       "    <tr>\n",
       "      <th>str</th>\n",
       "      <td>NaN</td>\n",
       "      <td>NaN</td>\n",
       "      <td>NaN</td>\n",
       "    </tr>\n",
       "    <tr>\n",
       "      <th>ac</th>\n",
       "      <td>-0.280102</td>\n",
       "      <td>-0.292101</td>\n",
       "      <td>0.331508</td>\n",
       "    </tr>\n",
       "  </tbody>\n",
       "</table>\n",
       "</div>"
      ],
      "text/plain": [
       "    Overall_Psychopathology Psychosis_Positive Psychosis_NegativeDisorg\n",
       "str                     NaN                NaN                      NaN\n",
       "ac                -0.280102          -0.292101                 0.331508"
      ]
     },
     "execution_count": 16,
     "metadata": {},
     "output_type": "execute_result"
    }
   ],
   "source": [
    "r_vals[p_vals < .05]"
   ]
  },
  {
   "cell_type": "code",
   "execution_count": 17,
   "metadata": {},
   "outputs": [],
   "source": [
    "my_ac = ave_control(A)\n",
    "my_str = node_strength(A)\n",
    "\n",
    "my_ac = sp.stats.boxcox(my_ac)[0]\n",
    "my_str = sp.stats.boxcox(my_str)[0]"
   ]
  },
  {
   "cell_type": "code",
   "execution_count": 18,
   "metadata": {},
   "outputs": [
    {
     "data": {
      "image/png": "[encoded data removed]",
      "text/plain": [
       "<Figure size 180x180 with 3 Axes>"
      ]
     },
     "metadata": {},
     "output_type": "display_data"
    }
   ],
   "source": [
    "f = sns.jointplot(x = my_str, y = my_ac)\n",
    "f.fig.set_figwidth(2.5)\n",
    "f.fig.set_figheight(2.5)\n",
    "# f.annotate(sp.stats.spearmanr)\n",
    "f.plot_joint(sns.kdeplot, zorder = 0, n_levels = 20, alpha = 0.1)\n",
    "f.plot_joint(plt.scatter, c = \"k\", s = 10, linewidth = 2, marker = \".\", alpha = 0.5)\n",
    "f.ax_joint.collections[0].set_alpha(0)\n",
    "f.ax_joint.set_xlabel('Regional Strength')\n",
    "f.ax_joint.set_ylabel('Regional Average Controllability')\n",
    "f.ax_joint.tick_params(pad = -2)\n",
    "f.savefig(outfile_prefix+'regional_str_vs_ac.png', dpi = 300, bbox_inches = 'tight')"
   ]
  },
  {
   "cell_type": "code",
   "execution_count": 19,
   "metadata": {},
   "outputs": [
    {
     "data": {
      "text/plain": [
       "(0.4663590676186233, 3.40645877914501e-12)"
      ]
     },
     "execution_count": 19,
     "metadata": {},
     "output_type": "execute_result"
    }
   ],
   "source": [
    "sp.stats.pearsonr(my_ac,my_str)"
   ]
  },
  {
   "cell_type": "code",
   "execution_count": 20,
   "metadata": {},
   "outputs": [
    {
     "data": {
      "text/plain": [
       "SpearmanrResult(correlation=0.5318112952823821, pvalue=5.357370564549197e-16)"
      ]
     },
     "execution_count": 20,
     "metadata": {},
     "output_type": "execute_result"
    }
   ],
   "source": [
    "sp.stats.spearmanr(my_ac,my_str)"
   ]
  },
  {
   "cell_type": "code",
   "execution_count": 21,
   "metadata": {},
   "outputs": [
    {
     "data": {
      "text/plain": [
       "array([   10,   100,  1000, 10000])"
      ]
     },
     "execution_count": 21,
     "metadata": {},
     "output_type": "execute_result"
    }
   ],
   "source": [
    "c_params = np.array([10, 100, 1000, 10000])\n",
    "c_params"
   ]
  },
  {
   "cell_type": "code",
   "execution_count": 22,
   "metadata": {},
   "outputs": [],
   "source": [
    "ac_orig_r = np.zeros(c_params.shape,)\n",
    "ac_str_r = np.zeros(c_params.shape,)\n",
    "\n",
    "for i, c_param in enumerate(c_params):\n",
    "    ac_tmp = ave_control(A, c = c_param)\n",
    "    ac_tmp = sp.stats.boxcox(ac_tmp)[0]\n",
    "    \n",
    "    ac_orig_r[i] = sp.stats.spearmanr(my_ac,ac_tmp)[0]\n",
    "    ac_str_r[i] = sp.stats.spearmanr(my_str,ac_tmp)[0]"
   ]
  },
  {
   "cell_type": "code",
   "execution_count": 23,
   "metadata": {},
   "outputs": [
    {
     "data": {
      "text/plain": [
       "0.5376434410860272"
      ]
     },
     "execution_count": 23,
     "metadata": {},
     "output_type": "execute_result"
    }
   ],
   "source": [
    "ac_orig_r[-1]"
   ]
  },
  {
   "cell_type": "code",
   "execution_count": 24,
   "metadata": {},
   "outputs": [
    {
     "data": {
      "text/plain": [
       "0.9250611265281633"
      ]
     },
     "execution_count": 24,
     "metadata": {},
     "output_type": "execute_result"
    }
   ],
   "source": [
    "ac_str_r[-1]"
   ]
  },
  {
   "cell_type": "code",
   "execution_count": 25,
   "metadata": {},
   "outputs": [
    {
     "data": {
      "image/png": "[encoded data removed]",
      "text/plain": [
       "<Figure size 180x180 with 3 Axes>"
      ]
     },
     "metadata": {},
     "output_type": "display_data"
    }
   ],
   "source": [
    "f = sns.jointplot(x = c_params, y = ac_orig_r)\n",
    "f.fig.set_figwidth(2.5)\n",
    "f.fig.set_figheight(2.5)\n",
    "f.plot_joint(plt.scatter, c = \"k\", s = 5, linewidth = 2, marker = \".\", alpha = 0.3)\n",
    "f.ax_joint.collections[0].set_alpha(0)\n",
    "f.ax_joint.set_xlabel('C params')\n",
    "f.ax_joint.set_ylabel('corr(ac_orig,ac)')\n",
    "f.ax_joint.tick_params(pad = -2)\n",
    "f.savefig(outfile_prefix+'regional_c_vs_corr(ac_orig,ac).png', dpi = 300, bbox_inches = 'tight')"
   ]
  },
  {
   "cell_type": "code",
   "execution_count": 26,
   "metadata": {},
   "outputs": [
    {
     "data": {
      "image/png": "[encoded data removed]",
      "text/plain": [
       "<Figure size 180x180 with 3 Axes>"
      ]
     },
     "metadata": {},
     "output_type": "display_data"
    }
   ],
   "source": [
    "f = sns.jointplot(x = c_params, y = ac_str_r)\n",
    "f.fig.set_figwidth(2.5)\n",
    "f.fig.set_figheight(2.5)\n",
    "f.plot_joint(plt.scatter, c = \"k\", s = 5, linewidth = 2, marker = \".\", alpha = 0.3)\n",
    "f.ax_joint.collections[0].set_alpha(0)\n",
    "f.ax_joint.set_xlabel('C params')\n",
    "f.ax_joint.set_ylabel('corr(str,ac)')\n",
    "f.ax_joint.tick_params(pad = -2)\n",
    "f.savefig(outfile_prefix+'regional_c_vs_corr(str,ac).png', dpi = 300, bbox_inches = 'tight')"
   ]
  },
  {
   "cell_type": "markdown",
   "metadata": {},
   "source": [
    "## Correlation between (ac,str) cross-subject similarity and gradient value"
   ]
  },
  {
   "cell_type": "code",
   "execution_count": 27,
   "metadata": {},
   "outputs": [],
   "source": [
    "df_str = df_node.filter(regex = 'str')\n",
    "df_ac = df_node.filter(regex = 'ac')\n",
    "ac_str_corr = df_str.corrwith(df_ac.set_axis(df_str.columns, axis='columns', inplace=False), method = 'pearson')"
   ]
  },
  {
   "cell_type": "code",
   "execution_count": 28,
   "metadata": {},
   "outputs": [
    {
     "data": {
      "image/png": "[encoded data removed]",
      "text/plain": [
       "<Figure size 144x144 with 1 Axes>"
      ]
     },
     "metadata": {},
     "output_type": "display_data"
    }
   ],
   "source": [
    "f, ax = plt.subplots()\n",
    "f.set_figwidth(2)\n",
    "f.set_figheight(2)\n",
    "sns.regplot(x = gradient, y = ac_str_corr, color = 'gray', scatter = False)\n",
    "plt.scatter(x = gradient, y = ac_str_corr, marker = 'o', s = 10, c = gradient, cmap = 'viridis', alpha=0.75, linewidth = 1)\n",
    "ax.set_xlabel('Regional gradient value')\n",
    "ax.set_ylabel('Pearson(str,ac)')\n",
    "ax.set_ylim([0.25,0.9])\n",
    "ax.set_xlim([-0.12,0.12])\n",
    "ax.tick_params(pad = -2)\n",
    "f.savefig(outfile_prefix+'regional_gradient_'+str(g)+'_vs_corr(str,ac).svg', dpi = 300, bbox_inches = 'tight')"
   ]
  },
  {
   "cell_type": "code",
   "execution_count": 29,
   "metadata": {},
   "outputs": [
    {
     "data": {
      "text/plain": [
       "(-0.5535848611136346, 1.8681278858728375e-17)"
      ]
     },
     "execution_count": 29,
     "metadata": {},
     "output_type": "execute_result"
    }
   ],
   "source": [
    "sp.stats.pearsonr(gradient,ac_str_corr)"
   ]
  },
  {
   "cell_type": "code",
   "execution_count": 30,
   "metadata": {},
   "outputs": [
    {
     "data": {
      "text/plain": [
       "0.5588465221721748"
      ]
     },
     "execution_count": 30,
     "metadata": {},
     "output_type": "execute_result"
    }
   ],
   "source": [
    "ac_str_corr.mean()"
   ]
  },
  {
   "cell_type": "code",
   "execution_count": 31,
   "metadata": {},
   "outputs": [
    {
     "name": "stdout",
     "output_type": "stream",
     "text": [
      "10\n",
      "0.6568096568218852\n",
      "(-0.5082477554234892, 1.558263200950377e-14)\n",
      "100\n",
      "0.7356021616794278\n",
      "(-0.47017531291923714, 2.1482556351835254e-12)\n",
      "1000\n",
      "0.8011358470403206\n",
      "(-0.4655741278955286, 3.7426393995067895e-12)\n",
      "10000\n",
      "0.8834482514171904\n",
      "(-0.41738670726879107, 7.812252045858413e-10)\n"
     ]
    },
    {
     "data": {
      "image/png": "[encoded data removed]",
      "text/plain": [
       "<Figure size 90x90 with 1 Axes>"
      ]
     },
     "metadata": {},
     "output_type": "display_data"
    },
    {
     "data": {
      "image/png": "[encoded data removed]",
      "text/plain": [
       "<Figure size 90x90 with 1 Axes>"
      ]
     },
     "metadata": {},
     "output_type": "display_data"
    },
    {
     "data": {
      "image/png": "[encoded data removed]",
      "text/plain": [
       "<Figure size 90x90 with 1 Axes>"
      ]
     },
     "metadata": {},
     "output_type": "display_data"
    },
    {
     "data": {
      "image/png": "[encoded data removed]",
      "text/plain": [
       "<Figure size 90x90 with 1 Axes>"
      ]
     },
     "metadata": {},
     "output_type": "display_data"
    }
   ],
   "source": [
    "r_vals = np.zeros(len(c_params))\n",
    "\n",
    "for i, c_param in enumerate(c_params):\n",
    "    print(c_param)\n",
    "    df_ac = df_node_ac_overc.filter(regex = 'ac_c'+str(c_param)+'_', axis = 1)\n",
    "    ac_str_corr = df_str.corrwith(df_ac.set_axis(df_str.columns, axis='columns', inplace=False), method = 'pearson')\n",
    "    print(ac_str_corr.mean())\n",
    "    r_vals[i] = sp.stats.pearsonr(gradient,ac_str_corr)[0]\n",
    "    print(sp.stats.pearsonr(gradient,ac_str_corr))\n",
    "\n",
    "    f, ax = plt.subplots()\n",
    "    f.set_figwidth(1.25)\n",
    "    f.set_figheight(1.25)\n",
    "    sns.regplot(x = gradient, y = ac_str_corr, color = 'gray', scatter = False)\n",
    "    plt.scatter(x = gradient, y = ac_str_corr, marker = 'o', s = 10, c = gradient, cmap = 'viridis', alpha=0.75, linewidth = 1)\n",
    "#     ax.set_xlabel('Regional gradient value')\n",
    "    ax.set_xlabel('')\n",
    "    ax.set_ylabel('Pearson(str,ac)')\n",
    "    ax.set_ylim([0.25,1])\n",
    "    ax.set_xlim([-0.12,0.12])\n",
    "    ax.tick_params(pad = -2)\n",
    "    f.savefig(outfile_prefix+'regional_gradient_'+str(g)+'_vs_corr(str,ac)_c_'+str(c_param)+'.svg', dpi = 300, bbox_inches = 'tight')        "
   ]
  }
 ],
 "metadata": {
  "kernelspec": {
   "display_name": "Python 3",
   "language": "python",
   "name": "python3"
  },
  "language_info": {
   "codemirror_mode": {
    "name": "ipython",
    "version": 3
   },
   "file_extension": ".py",
   "mimetype": "text/x-python",
   "name": "python",
   "nbconvert_exporter": "python",
   "pygments_lexer": "ipython3",
   "version": "3.7.7"
  }
 },
 "nbformat": 4,
 "nbformat_minor": 4
}
