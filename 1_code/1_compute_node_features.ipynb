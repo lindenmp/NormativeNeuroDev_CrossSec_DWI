{
 "cells": [
  {
   "cell_type": "code",
   "execution_count": 1,
   "metadata": {},
   "outputs": [],
   "source": [
    "# Essentials\n",
    "import os, sys, glob\n",
    "import pandas as pd\n",
    "import numpy as np\n",
    "import nibabel as nib\n",
    "import scipy.io as sio\n",
    "from tqdm import tqdm\n",
    "\n",
    "# Stats\n",
    "import scipy as sp\n",
    "from scipy import stats\n",
    "import statsmodels.api as sm\n",
    "import pingouin as pg\n",
    "\n",
    "# Plotting\n",
    "import seaborn as sns\n",
    "import matplotlib.pyplot as plt\n",
    "plt.rcParams['svg.fonttype'] = 'none'"
   ]
  },
  {
   "cell_type": "code",
   "execution_count": 2,
   "metadata": {},
   "outputs": [
    {
     "name": "stderr",
     "output_type": "stream",
     "text": [
      "/Users/lindenmp/opt/anaconda3/envs/neurodev_cs_predictive/lib/python3.7/site-packages/outdated/utils.py:18: OutdatedPackageWarning: The package pingouin is out of date. Your version is 0.3.7, the latest is 0.3.8.\n",
      "Set the environment variable OUTDATED_IGNORE=1 to disable these warnings.\n",
      "  **kwargs\n"
     ]
    }
   ],
   "source": [
    "from networkx import from_numpy_matrix, degree_centrality, closeness_centrality, betweenness_centrality, subgraph_centrality"
   ]
  },
  {
   "cell_type": "code",
   "execution_count": 3,
   "metadata": {},
   "outputs": [],
   "source": [
    "sys.path.append('/Users/lindenmp/Google-Drive-Penn/work/research_projects/neurodev_cs_predictive/1_code/')\n",
    "from func import set_proj_env, rank_int, node_strength, ave_control"
   ]
  },
  {
   "cell_type": "code",
   "execution_count": 4,
   "metadata": {},
   "outputs": [],
   "source": [
    "parc_str = 'schaefer' # 'schaefer' 'lausanne' 'glasser'\n",
    "parc_scale = 200 # 200/400 | 125/250 | 360\n",
    "edge_weight = 'streamlineCount' # 'streamlineCount' 'volNormStreamline'\n",
    "parcel_names, parcel_loc, drop_parcels, num_parcels = set_proj_env(parc_str = parc_str, parc_scale = parc_scale, edge_weight = edge_weight)"
   ]
  },
  {
   "cell_type": "code",
   "execution_count": 5,
   "metadata": {},
   "outputs": [],
   "source": [
    "if parc_str == 'schaefer' or parc_str == 'glasser':\n",
    "    exclude_str = 't1Exclude'\n",
    "else:\n",
    "    exclude_str = 'fsFinalExclude'"
   ]
  },
  {
   "cell_type": "code",
   "execution_count": 6,
   "metadata": {},
   "outputs": [
    {
     "data": {
      "text/plain": [
       "'schaefer_200_streamlineCount_'"
      ]
     },
     "execution_count": 6,
     "metadata": {},
     "output_type": "execute_result"
    }
   ],
   "source": [
    "# output file prefix\n",
    "outfile_prefix = parc_str+'_'+str(parc_scale)+'_'+edge_weight+'_'\n",
    "outfile_prefix"
   ]
  },
  {
   "cell_type": "code",
   "execution_count": 7,
   "metadata": {},
   "outputs": [],
   "source": [
    "# we want to calculate conn features including subcortex\n",
    "# drop brainstem but retain subcortex.\n",
    "if parc_str == 'lausanne':\n",
    "    num_parcels = len(parcel_loc[parcel_loc != 2])"
   ]
  },
  {
   "cell_type": "markdown",
   "metadata": {},
   "source": [
    "### Setup directory variables"
   ]
  },
  {
   "cell_type": "code",
   "execution_count": 8,
   "metadata": {},
   "outputs": [
    {
     "name": "stdout",
     "output_type": "stream",
     "text": [
      "/Users/lindenmp/Google-Drive-Penn/work/research_projects/neurodev_cs_predictive/2_pipeline\n"
     ]
    }
   ],
   "source": [
    "print(os.environ['PIPELINEDIR'])\n",
    "if not os.path.exists(os.environ['PIPELINEDIR']): os.makedirs(os.environ['PIPELINEDIR'])"
   ]
  },
  {
   "cell_type": "code",
   "execution_count": 9,
   "metadata": {},
   "outputs": [
    {
     "name": "stdout",
     "output_type": "stream",
     "text": [
      "/Users/lindenmp/Google-Drive-Penn/work/research_projects/neurodev_cs_predictive/2_pipeline/1_compute_node_features/store\n",
      "/Users/lindenmp/Google-Drive-Penn/work/research_projects/neurodev_cs_predictive/2_pipeline/1_compute_node_features/out\n"
     ]
    }
   ],
   "source": [
    "storedir = os.path.join(os.environ['PIPELINEDIR'], '1_compute_node_features', 'store')\n",
    "print(storedir)\n",
    "if not os.path.exists(storedir): os.makedirs(storedir)\n",
    "\n",
    "outputdir = os.path.join(os.environ['PIPELINEDIR'], '1_compute_node_features', 'out')\n",
    "print(outputdir)\n",
    "if not os.path.exists(outputdir): os.makedirs(outputdir)"
   ]
  },
  {
   "cell_type": "code",
   "execution_count": 10,
   "metadata": {},
   "outputs": [
    {
     "name": "stdout",
     "output_type": "stream",
     "text": [
      "/Users/lindenmp/Google-Drive-Penn/work/research_projects/neurodev_cs_predictive/3_output/figs\n"
     ]
    }
   ],
   "source": [
    "figdir = os.path.join(os.environ['OUTPUTDIR'], 'figs')\n",
    "print(figdir)\n",
    "if not os.path.exists(figdir): os.makedirs(figdir)"
   ]
  },
  {
   "cell_type": "markdown",
   "metadata": {},
   "source": [
    "## Load data"
   ]
  },
  {
   "cell_type": "code",
   "execution_count": 11,
   "metadata": {},
   "outputs": [
    {
     "name": "stdout",
     "output_type": "stream",
     "text": [
      "(1100, 51)\n"
     ]
    }
   ],
   "source": [
    "# Load data\n",
    "df = pd.read_csv(os.path.join(os.environ['PIPELINEDIR'], '0_get_sample', 'out', exclude_str+'_df.csv'))\n",
    "df.set_index(['bblid', 'scanid'], inplace = True)\n",
    "print(df.shape)"
   ]
  },
  {
   "cell_type": "code",
   "execution_count": 12,
   "metadata": {},
   "outputs": [],
   "source": [
    "# Missing data file for this subject only for schaefer 200\n",
    "if parc_scale == 200:\n",
    "    df.drop(labels = (112598, 5161), inplace=True)"
   ]
  },
  {
   "cell_type": "code",
   "execution_count": 13,
   "metadata": {},
   "outputs": [
    {
     "name": "stdout",
     "output_type": "stream",
     "text": [
      "(1099, 1000)\n"
     ]
    }
   ],
   "source": [
    "# output dataframe\n",
    "str_labels = ['str_' + str(i) for i in range(num_parcels)]\n",
    "ac_labels = ['ac_' + str(i) for i in range(num_parcels)]\n",
    "bc_labels = ['bc_' + str(i) for i in range(num_parcels)]\n",
    "cc_labels = ['cc_' + str(i) for i in range(num_parcels)]\n",
    "sgc_labels = ['sgc_' + str(i) for i in range(num_parcels)]\n",
    "\n",
    "df_node = pd.DataFrame(index = df.index, columns = str_labels + ac_labels + bc_labels + cc_labels + sgc_labels)\n",
    "print(df_node.shape)"
   ]
  },
  {
   "cell_type": "markdown",
   "metadata": {},
   "source": [
    "## Load in structural connectivity matrices"
   ]
  },
  {
   "cell_type": "code",
   "execution_count": 14,
   "metadata": {},
   "outputs": [],
   "source": [
    "# subject filter\n",
    "subj_filt = np.zeros((df.shape[0],)).astype(bool)"
   ]
  },
  {
   "cell_type": "code",
   "execution_count": 15,
   "metadata": {},
   "outputs": [
    {
     "name": "stdout",
     "output_type": "stream",
     "text": [
      "connectivity\n",
      "['/Volumes/work_ssd/research_data/PNC/processedData/diffusion/deterministic_20171118/81287/20100114x2738/tractography/connectivity/81287_20100114x2738_SchaeferPNC_200_dti_streamlineCount_connectivity.mat']\n",
      "82051/*x2856/tractography/connectivity/82051_*x2856_SchaeferPNC_200_dti_streamlineCount_connectivity.mat: NOT FOUND\n",
      "87804/*x3144/tractography/connectivity/87804_*x3144_SchaeferPNC_200_dti_streamlineCount_connectivity.mat: NOT FOUND\n",
      "91332/*x3362/tractography/connectivity/91332_*x3362_SchaeferPNC_200_dti_streamlineCount_connectivity.mat: NOT FOUND\n",
      "87990/*x3676/tractography/connectivity/87990_*x3676_SchaeferPNC_200_dti_streamlineCount_connectivity.mat: NOT FOUND\n",
      "103737/*x3964/tractography/connectivity/103737_*x3964_SchaeferPNC_200_dti_streamlineCount_connectivity.mat: NOT FOUND\n",
      "87470/*x4000/tractography/connectivity/87470_*x4000_SchaeferPNC_200_dti_streamlineCount_connectivity.mat: NOT FOUND\n",
      "104161/*x4104/tractography/connectivity/104161_*x4104_SchaeferPNC_200_dti_streamlineCount_connectivity.mat: NOT FOUND\n",
      "103768/*x4499/tractography/connectivity/103768_*x4499_SchaeferPNC_200_dti_streamlineCount_connectivity.mat: NOT FOUND\n",
      "113216/*x4506/tractography/connectivity/113216_*x4506_SchaeferPNC_200_dti_streamlineCount_connectivity.mat: NOT FOUND\n",
      "90050/*x4746/tractography/connectivity/90050_*x4746_SchaeferPNC_200_dti_streamlineCount_connectivity.mat: NOT FOUND\n",
      "115276/*x5012/tractography/connectivity/115276_*x5012_SchaeferPNC_200_dti_streamlineCount_connectivity.mat: NOT FOUND\n",
      "116618/*x5274/tractography/connectivity/116618_*x5274_SchaeferPNC_200_dti_streamlineCount_connectivity.mat: NOT FOUND\n",
      "127128/*x5545/tractography/connectivity/127128_*x5545_SchaeferPNC_200_dti_streamlineCount_connectivity.mat: NOT FOUND\n",
      "112802/*x6401/tractography/connectivity/112802_*x6401_SchaeferPNC_200_dti_streamlineCount_connectivity.mat: NOT FOUND\n",
      "85397/*x6643/tractography/connectivity/85397_*x6643_SchaeferPNC_200_dti_streamlineCount_connectivity.mat: NOT FOUND\n",
      "83632/*x6818/tractography/connectivity/83632_*x6818_SchaeferPNC_200_dti_streamlineCount_connectivity.mat: NOT FOUND\n",
      "81533/*x6869/tractography/connectivity/81533_*x6869_SchaeferPNC_200_dti_streamlineCount_connectivity.mat: NOT FOUND\n",
      "91025/*x6881/tractography/connectivity/91025_*x6881_SchaeferPNC_200_dti_streamlineCount_connectivity.mat: NOT FOUND\n",
      "105272/*x8238/tractography/connectivity/105272_*x8238_SchaeferPNC_200_dti_streamlineCount_connectivity.mat: NOT FOUND\n"
     ]
    }
   ],
   "source": [
    "print(os.environ['CONN_STR'])\n",
    "\n",
    "A = np.zeros((num_parcels, num_parcels, df.shape[0]))\n",
    "for (i, (index, row)) in enumerate(df.iterrows()):\n",
    "    file_name = os.environ['SC_NAME_TMP'].replace(\"scanid\", str(index[1]))\n",
    "    file_name = file_name.replace(\"bblid\", str(index[0]))\n",
    "    full_path = glob.glob(os.path.join(os.environ['SCDIR'], file_name))\n",
    "    if i == 0: print(full_path)\n",
    "    if len(full_path) > 0:\n",
    "        mat_contents = sio.loadmat(full_path[0])\n",
    "        a = mat_contents[os.environ['CONN_STR']]\n",
    "        if parc_str == 'lausanne': # drop brainstem but retain subcortex.\n",
    "            a = a[parcel_loc != 2,:]\n",
    "            a = a[:,parcel_loc != 2]\n",
    "        A[:,:,i] = a\n",
    "    elif len(full_path) == 0:\n",
    "        print(file_name + ': NOT FOUND')\n",
    "        subj_filt[i] = True\n",
    "        A[:,:,i] = np.full((num_parcels, num_parcels), np.nan)"
   ]
  },
  {
   "cell_type": "code",
   "execution_count": 16,
   "metadata": {},
   "outputs": [
    {
     "data": {
      "text/plain": [
       "19"
      ]
     },
     "execution_count": 16,
     "metadata": {},
     "output_type": "execute_result"
    }
   ],
   "source": [
    "np.sum(subj_filt)"
   ]
  },
  {
   "cell_type": "code",
   "execution_count": 17,
   "metadata": {},
   "outputs": [
    {
     "name": "stdout",
     "output_type": "stream",
     "text": [
      "(1080, 1000)\n"
     ]
    }
   ],
   "source": [
    "if any(subj_filt):\n",
    "    A = A[:,:,~subj_filt]\n",
    "    df = df.loc[~subj_filt]\n",
    "    df_node = df_node.loc[~subj_filt]\n",
    "print(df_node.shape)"
   ]
  },
  {
   "cell_type": "markdown",
   "metadata": {},
   "source": [
    "### Check if any subjects have disconnected nodes in A matrix"
   ]
  },
  {
   "cell_type": "code",
   "execution_count": 18,
   "metadata": {},
   "outputs": [],
   "source": [
    "# subject filter\n",
    "subj_filt = np.zeros((df.shape[0],)).astype(bool)"
   ]
  },
  {
   "cell_type": "code",
   "execution_count": 19,
   "metadata": {},
   "outputs": [],
   "source": [
    "for i in range(A.shape[2]):\n",
    "    if np.any(np.sum(A[:,:,i], axis = 1) == 0):\n",
    "        subj_filt[i] = True"
   ]
  },
  {
   "cell_type": "code",
   "execution_count": 20,
   "metadata": {},
   "outputs": [
    {
     "data": {
      "text/plain": [
       "12"
      ]
     },
     "execution_count": 20,
     "metadata": {},
     "output_type": "execute_result"
    }
   ],
   "source": [
    "np.sum(subj_filt)"
   ]
  },
  {
   "cell_type": "code",
   "execution_count": 21,
   "metadata": {},
   "outputs": [
    {
     "name": "stdout",
     "output_type": "stream",
     "text": [
      "(1068, 1000)\n"
     ]
    }
   ],
   "source": [
    "if any(subj_filt):\n",
    "    A = A[:,:,~subj_filt]\n",
    "    df = df.loc[~subj_filt]\n",
    "    df_node = df_node.loc[~subj_filt]\n",
    "print(df_node.shape)"
   ]
  },
  {
   "cell_type": "code",
   "execution_count": 22,
   "metadata": {},
   "outputs": [
    {
     "data": {
      "text/plain": [
       "924"
      ]
     },
     "execution_count": 22,
     "metadata": {},
     "output_type": "execute_result"
    }
   ],
   "source": [
    "np.sum(df['averageManualRating'] == 2)"
   ]
  },
  {
   "cell_type": "code",
   "execution_count": 23,
   "metadata": {},
   "outputs": [
    {
     "data": {
      "text/plain": [
       "655"
      ]
     },
     "execution_count": 23,
     "metadata": {},
     "output_type": "execute_result"
    }
   ],
   "source": [
    "np.sum(df['dti64QAManualScore'] == 2)"
   ]
  },
  {
   "cell_type": "markdown",
   "metadata": {},
   "source": [
    "### Get streamline count and network density"
   ]
  },
  {
   "cell_type": "code",
   "execution_count": 24,
   "metadata": {},
   "outputs": [],
   "source": [
    "A_c = np.zeros((A.shape[2],))\n",
    "A_d = np.zeros((A.shape[2],))\n",
    "for i in range(A.shape[2]):\n",
    "    A_c[i] = np.sum(np.triu(A[:,:,i]))\n",
    "    A_d[i] = np.count_nonzero(np.triu(A[:,:,i]))/((A[:,:,i].shape[0]**2-A[:,:,i].shape[0])/2)\n",
    "df.loc[:,'streamline_count'] = A_c\n",
    "df.loc[:,'network_density'] = A_d"
   ]
  },
  {
   "cell_type": "markdown",
   "metadata": {},
   "source": [
    "### Compute node metrics"
   ]
  },
  {
   "cell_type": "code",
   "execution_count": 25,
   "metadata": {},
   "outputs": [
    {
     "name": "stderr",
     "output_type": "stream",
     "text": [
      "100%|██████████| 1068/1068 [05:36<00:00,  3.17it/s]\n"
     ]
    }
   ],
   "source": [
    "# fc stored as 3d matrix, subjects of 3rd dim\n",
    "S = np.zeros((df.shape[0], num_parcels))\n",
    "AC = np.zeros((df.shape[0], num_parcels))\n",
    "BC = np.zeros((df.shape[0], num_parcels))\n",
    "CC = np.zeros((df.shape[0], num_parcels))\n",
    "SGC = np.zeros((df.shape[0], num_parcels))\n",
    "\n",
    "# for (i, (index, row)) in enumerate(df.iterrows()):\n",
    "for i in tqdm(np.arange(df.shape[0])):\n",
    "    S[i,:] = node_strength(A[:,:,i])\n",
    "    AC[i,:] = ave_control(A[:,:,i])\n",
    "    G = from_numpy_matrix(A[:,:,i])\n",
    "    BC[i,:] = np.array(list(betweenness_centrality(G, normalized=False).values()))\n",
    "    CC[i,:] = np.array(list(closeness_centrality(G).values()))\n",
    "    SGC[i,:] = np.array(list(subgraph_centrality(G).values()))\n",
    "    \n",
    "df_node.loc[:,str_labels] = S\n",
    "df_node.loc[:,ac_labels] = AC\n",
    "df_node.loc[:,bc_labels] = BC\n",
    "df_node.loc[:,cc_labels] = CC\n",
    "df_node.loc[:,sgc_labels] = SGC"
   ]
  },
  {
   "cell_type": "markdown",
   "metadata": {},
   "source": [
    "## Recalculate average control at different C params"
   ]
  },
  {
   "cell_type": "code",
   "execution_count": 26,
   "metadata": {},
   "outputs": [
    {
     "data": {
      "text/plain": [
       "array([   10,   100,  1000, 10000])"
      ]
     },
     "execution_count": 26,
     "metadata": {},
     "output_type": "execute_result"
    }
   ],
   "source": [
    "c_params = np.array([10, 100, 1000, 10000])\n",
    "c_params"
   ]
  },
  {
   "cell_type": "code",
   "execution_count": 27,
   "metadata": {},
   "outputs": [
    {
     "name": "stderr",
     "output_type": "stream",
     "text": [
      "  0%|          | 4/1068 [00:00<00:26, 39.58it/s]"
     ]
    },
    {
     "name": "stdout",
     "output_type": "stream",
     "text": [
      "10\n"
     ]
    },
    {
     "name": "stderr",
     "output_type": "stream",
     "text": [
      "100%|██████████| 1068/1068 [00:26<00:00, 39.78it/s]\n",
      "  0%|          | 5/1068 [00:00<00:25, 41.03it/s]"
     ]
    },
    {
     "name": "stdout",
     "output_type": "stream",
     "text": [
      "100\n"
     ]
    },
    {
     "name": "stderr",
     "output_type": "stream",
     "text": [
      "100%|██████████| 1068/1068 [00:26<00:00, 39.71it/s]\n",
      "  0%|          | 5/1068 [00:00<00:25, 40.94it/s]"
     ]
    },
    {
     "name": "stdout",
     "output_type": "stream",
     "text": [
      "1000\n"
     ]
    },
    {
     "name": "stderr",
     "output_type": "stream",
     "text": [
      "100%|██████████| 1068/1068 [00:26<00:00, 40.58it/s]\n",
      "  0%|          | 5/1068 [00:00<00:25, 40.95it/s]"
     ]
    },
    {
     "name": "stdout",
     "output_type": "stream",
     "text": [
      "10000\n"
     ]
    },
    {
     "name": "stderr",
     "output_type": "stream",
     "text": [
      "100%|██████████| 1068/1068 [00:27<00:00, 39.01it/s]\n"
     ]
    }
   ],
   "source": [
    "# output dataframe\n",
    "df_node_ac_overc = pd.DataFrame(index = df.index)\n",
    "\n",
    "for c in c_params:\n",
    "    print(c)\n",
    "    ac_labels_new = ['ac_c' + str(c) + '_' + str(i) for i in range(num_parcels)]\n",
    "    df_node_ac_temp = pd.DataFrame(index = df.index, columns = ac_labels_new)\n",
    "    \n",
    "    # fc stored as 3d matrix, subjects of 3rd dim\n",
    "    AC = np.zeros((df.shape[0], num_parcels))\n",
    "    for i in tqdm(np.arange(df.shape[0])):\n",
    "        AC[i,:] = ave_control(A[:,:,i], c = c)\n",
    "\n",
    "    df_node_ac_temp.loc[:,ac_labels_new] = AC\n",
    "    df_node_ac_overc = pd.concat((df_node_ac_overc, df_node_ac_temp), axis = 1)"
   ]
  },
  {
   "cell_type": "markdown",
   "metadata": {},
   "source": [
    "## Scale average controllability to test for differences in initial conditions"
   ]
  },
  {
   "cell_type": "code",
   "execution_count": 28,
   "metadata": {},
   "outputs": [
    {
     "data": {
      "text/html": [
       "<div>\n",
       "<style scoped>\n",
       "    .dataframe tbody tr th:only-of-type {\n",
       "        vertical-align: middle;\n",
       "    }\n",
       "\n",
       "    .dataframe tbody tr th {\n",
       "        vertical-align: top;\n",
       "    }\n",
       "\n",
       "    .dataframe thead th {\n",
       "        text-align: right;\n",
       "    }\n",
       "</style>\n",
       "<table border=\"1\" class=\"dataframe\">\n",
       "  <thead>\n",
       "    <tr style=\"text-align: right;\">\n",
       "      <th></th>\n",
       "      <th></th>\n",
       "      <th>ac_0</th>\n",
       "      <th>ac_1</th>\n",
       "      <th>ac_2</th>\n",
       "      <th>ac_3</th>\n",
       "      <th>ac_4</th>\n",
       "      <th>ac_5</th>\n",
       "      <th>ac_6</th>\n",
       "      <th>ac_7</th>\n",
       "      <th>ac_8</th>\n",
       "      <th>ac_9</th>\n",
       "      <th>...</th>\n",
       "      <th>ac_190</th>\n",
       "      <th>ac_191</th>\n",
       "      <th>ac_192</th>\n",
       "      <th>ac_193</th>\n",
       "      <th>ac_194</th>\n",
       "      <th>ac_195</th>\n",
       "      <th>ac_196</th>\n",
       "      <th>ac_197</th>\n",
       "      <th>ac_198</th>\n",
       "      <th>ac_199</th>\n",
       "    </tr>\n",
       "    <tr>\n",
       "      <th>bblid</th>\n",
       "      <th>scanid</th>\n",
       "      <th></th>\n",
       "      <th></th>\n",
       "      <th></th>\n",
       "      <th></th>\n",
       "      <th></th>\n",
       "      <th></th>\n",
       "      <th></th>\n",
       "      <th></th>\n",
       "      <th></th>\n",
       "      <th></th>\n",
       "      <th></th>\n",
       "      <th></th>\n",
       "      <th></th>\n",
       "      <th></th>\n",
       "      <th></th>\n",
       "      <th></th>\n",
       "      <th></th>\n",
       "      <th></th>\n",
       "      <th></th>\n",
       "      <th></th>\n",
       "      <th></th>\n",
       "    </tr>\n",
       "  </thead>\n",
       "  <tbody>\n",
       "    <tr>\n",
       "      <th>81287</th>\n",
       "      <th>2738</th>\n",
       "      <td>4.43468</td>\n",
       "      <td>4.10575</td>\n",
       "      <td>4.13392</td>\n",
       "      <td>4.04356</td>\n",
       "      <td>4.04503</td>\n",
       "      <td>4.11175</td>\n",
       "      <td>4.06094</td>\n",
       "      <td>4.17129</td>\n",
       "      <td>4.01457</td>\n",
       "      <td>4.05663</td>\n",
       "      <td>...</td>\n",
       "      <td>4.20857</td>\n",
       "      <td>23.4328</td>\n",
       "      <td>18.1331</td>\n",
       "      <td>4.16028</td>\n",
       "      <td>4.09473</td>\n",
       "      <td>4.17991</td>\n",
       "      <td>4.25065</td>\n",
       "      <td>4.05589</td>\n",
       "      <td>4.07651</td>\n",
       "      <td>4.08423</td>\n",
       "    </tr>\n",
       "    <tr>\n",
       "      <th>80680</th>\n",
       "      <th>2739</th>\n",
       "      <td>4.46303</td>\n",
       "      <td>4.03204</td>\n",
       "      <td>9.40825</td>\n",
       "      <td>4.20029</td>\n",
       "      <td>4.02867</td>\n",
       "      <td>4.16083</td>\n",
       "      <td>4.14702</td>\n",
       "      <td>4.43658</td>\n",
       "      <td>4.04873</td>\n",
       "      <td>4.45214</td>\n",
       "      <td>...</td>\n",
       "      <td>38.215</td>\n",
       "      <td>490.179</td>\n",
       "      <td>1245.51</td>\n",
       "      <td>77.22</td>\n",
       "      <td>8.59439</td>\n",
       "      <td>11.0215</td>\n",
       "      <td>16.0148</td>\n",
       "      <td>5.31901</td>\n",
       "      <td>7.7746</td>\n",
       "      <td>9.27361</td>\n",
       "    </tr>\n",
       "    <tr>\n",
       "      <th>81754</th>\n",
       "      <th>2740</th>\n",
       "      <td>4.24757</td>\n",
       "      <td>4.05902</td>\n",
       "      <td>4.05762</td>\n",
       "      <td>4.05663</td>\n",
       "      <td>4.06498</td>\n",
       "      <td>4.13941</td>\n",
       "      <td>4.07664</td>\n",
       "      <td>4.02832</td>\n",
       "      <td>4.0307</td>\n",
       "      <td>4.16414</td>\n",
       "      <td>...</td>\n",
       "      <td>4.4644</td>\n",
       "      <td>4.24664</td>\n",
       "      <td>7.12033</td>\n",
       "      <td>4.4122</td>\n",
       "      <td>4.22798</td>\n",
       "      <td>4.13203</td>\n",
       "      <td>4.06124</td>\n",
       "      <td>4.0094</td>\n",
       "      <td>4.07202</td>\n",
       "      <td>4.01678</td>\n",
       "    </tr>\n",
       "    <tr>\n",
       "      <th>81903</th>\n",
       "      <th>2749</th>\n",
       "      <td>4.13147</td>\n",
       "      <td>4.00683</td>\n",
       "      <td>4.04414</td>\n",
       "      <td>4.05523</td>\n",
       "      <td>4.03695</td>\n",
       "      <td>4.0369</td>\n",
       "      <td>4.01868</td>\n",
       "      <td>4.02167</td>\n",
       "      <td>4.02456</td>\n",
       "      <td>4.06423</td>\n",
       "      <td>...</td>\n",
       "      <td>4.25671</td>\n",
       "      <td>4.38306</td>\n",
       "      <td>62.7773</td>\n",
       "      <td>4.23304</td>\n",
       "      <td>4.08596</td>\n",
       "      <td>4.18215</td>\n",
       "      <td>4.13089</td>\n",
       "      <td>4.01645</td>\n",
       "      <td>4.06997</td>\n",
       "      <td>4.025</td>\n",
       "    </tr>\n",
       "    <tr>\n",
       "      <th>81043</th>\n",
       "      <th>2750</th>\n",
       "      <td>4.17039</td>\n",
       "      <td>4.11102</td>\n",
       "      <td>4.78324</td>\n",
       "      <td>4.10579</td>\n",
       "      <td>4.13066</td>\n",
       "      <td>4.16035</td>\n",
       "      <td>4.05459</td>\n",
       "      <td>4.01947</td>\n",
       "      <td>4.01141</td>\n",
       "      <td>4.05958</td>\n",
       "      <td>...</td>\n",
       "      <td>4.92372</td>\n",
       "      <td>4.49082</td>\n",
       "      <td>7.49184</td>\n",
       "      <td>4.22606</td>\n",
       "      <td>4.08274</td>\n",
       "      <td>4.16158</td>\n",
       "      <td>4.1003</td>\n",
       "      <td>4.0523</td>\n",
       "      <td>4.12231</td>\n",
       "      <td>4.05621</td>\n",
       "    </tr>\n",
       "  </tbody>\n",
       "</table>\n",
       "<p>5 rows × 200 columns</p>\n",
       "</div>"
      ],
      "text/plain": [
       "                 ac_0     ac_1     ac_2     ac_3     ac_4     ac_5     ac_6  \\\n",
       "bblid scanid                                                                  \n",
       "81287 2738    4.43468  4.10575  4.13392  4.04356  4.04503  4.11175  4.06094   \n",
       "80680 2739    4.46303  4.03204  9.40825  4.20029  4.02867  4.16083  4.14702   \n",
       "81754 2740    4.24757  4.05902  4.05762  4.05663  4.06498  4.13941  4.07664   \n",
       "81903 2749    4.13147  4.00683  4.04414  4.05523  4.03695   4.0369  4.01868   \n",
       "81043 2750    4.17039  4.11102  4.78324  4.10579  4.13066  4.16035  4.05459   \n",
       "\n",
       "                 ac_7     ac_8     ac_9  ...   ac_190   ac_191   ac_192  \\\n",
       "bblid scanid                             ...                              \n",
       "81287 2738    4.17129  4.01457  4.05663  ...  4.20857  23.4328  18.1331   \n",
       "80680 2739    4.43658  4.04873  4.45214  ...   38.215  490.179  1245.51   \n",
       "81754 2740    4.02832   4.0307  4.16414  ...   4.4644  4.24664  7.12033   \n",
       "81903 2749    4.02167  4.02456  4.06423  ...  4.25671  4.38306  62.7773   \n",
       "81043 2750    4.01947  4.01141  4.05958  ...  4.92372  4.49082  7.49184   \n",
       "\n",
       "               ac_193   ac_194   ac_195   ac_196   ac_197   ac_198   ac_199  \n",
       "bblid scanid                                                                 \n",
       "81287 2738    4.16028  4.09473  4.17991  4.25065  4.05589  4.07651  4.08423  \n",
       "80680 2739      77.22  8.59439  11.0215  16.0148  5.31901   7.7746  9.27361  \n",
       "81754 2740     4.4122  4.22798  4.13203  4.06124   4.0094  4.07202  4.01678  \n",
       "81903 2749    4.23304  4.08596  4.18215  4.13089  4.01645  4.06997    4.025  \n",
       "81043 2750    4.22606  4.08274  4.16158   4.1003   4.0523  4.12231  4.05621  \n",
       "\n",
       "[5 rows x 200 columns]"
      ]
     },
     "execution_count": 28,
     "metadata": {},
     "output_type": "execute_result"
    }
   ],
   "source": [
    "df_node_ac_i2 = df_node.loc[:,ac_labels] * (2**2)\n",
    "df_node_ac_i2.head()"
   ]
  },
  {
   "cell_type": "code",
   "execution_count": 29,
   "metadata": {},
   "outputs": [
    {
     "data": {
      "text/html": [
       "<div>\n",
       "<style scoped>\n",
       "    .dataframe tbody tr th:only-of-type {\n",
       "        vertical-align: middle;\n",
       "    }\n",
       "\n",
       "    .dataframe tbody tr th {\n",
       "        vertical-align: top;\n",
       "    }\n",
       "\n",
       "    .dataframe thead th {\n",
       "        text-align: right;\n",
       "    }\n",
       "</style>\n",
       "<table border=\"1\" class=\"dataframe\">\n",
       "  <thead>\n",
       "    <tr style=\"text-align: right;\">\n",
       "      <th></th>\n",
       "      <th></th>\n",
       "      <th>ac_c10_0</th>\n",
       "      <th>ac_c10_1</th>\n",
       "      <th>ac_c10_2</th>\n",
       "      <th>ac_c10_3</th>\n",
       "      <th>ac_c10_4</th>\n",
       "      <th>ac_c10_5</th>\n",
       "      <th>ac_c10_6</th>\n",
       "      <th>ac_c10_7</th>\n",
       "      <th>ac_c10_8</th>\n",
       "      <th>ac_c10_9</th>\n",
       "      <th>...</th>\n",
       "      <th>ac_c10000_190</th>\n",
       "      <th>ac_c10000_191</th>\n",
       "      <th>ac_c10000_192</th>\n",
       "      <th>ac_c10000_193</th>\n",
       "      <th>ac_c10000_194</th>\n",
       "      <th>ac_c10000_195</th>\n",
       "      <th>ac_c10000_196</th>\n",
       "      <th>ac_c10000_197</th>\n",
       "      <th>ac_c10000_198</th>\n",
       "      <th>ac_c10000_199</th>\n",
       "    </tr>\n",
       "    <tr>\n",
       "      <th>bblid</th>\n",
       "      <th>scanid</th>\n",
       "      <th></th>\n",
       "      <th></th>\n",
       "      <th></th>\n",
       "      <th></th>\n",
       "      <th></th>\n",
       "      <th></th>\n",
       "      <th></th>\n",
       "      <th></th>\n",
       "      <th></th>\n",
       "      <th></th>\n",
       "      <th></th>\n",
       "      <th></th>\n",
       "      <th></th>\n",
       "      <th></th>\n",
       "      <th></th>\n",
       "      <th></th>\n",
       "      <th></th>\n",
       "      <th></th>\n",
       "      <th></th>\n",
       "      <th></th>\n",
       "      <th></th>\n",
       "    </tr>\n",
       "  </thead>\n",
       "  <tbody>\n",
       "    <tr>\n",
       "      <th>81287</th>\n",
       "      <th>2738</th>\n",
       "      <td>4.160120</td>\n",
       "      <td>4.092036</td>\n",
       "      <td>4.093107</td>\n",
       "      <td>4.040229</td>\n",
       "      <td>4.037758</td>\n",
       "      <td>4.084432</td>\n",
       "      <td>4.053120</td>\n",
       "      <td>4.109415</td>\n",
       "      <td>4.013584</td>\n",
       "      <td>4.044086</td>\n",
       "      <td>...</td>\n",
       "      <td>4.027053</td>\n",
       "      <td>4.106296</td>\n",
       "      <td>4.070072</td>\n",
       "      <td>4.021275</td>\n",
       "      <td>4.003737</td>\n",
       "      <td>4.020574</td>\n",
       "      <td>4.030353</td>\n",
       "      <td>4.007394</td>\n",
       "      <td>4.011361</td>\n",
       "      <td>4.007299</td>\n",
       "    </tr>\n",
       "    <tr>\n",
       "      <th>80680</th>\n",
       "      <th>2739</th>\n",
       "      <td>4.252323</td>\n",
       "      <td>4.015835</td>\n",
       "      <td>4.607413</td>\n",
       "      <td>4.054295</td>\n",
       "      <td>4.027314</td>\n",
       "      <td>4.116766</td>\n",
       "      <td>4.110584</td>\n",
       "      <td>4.188318</td>\n",
       "      <td>4.020290</td>\n",
       "      <td>4.147870</td>\n",
       "      <td>...</td>\n",
       "      <td>4.027945</td>\n",
       "      <td>4.057771</td>\n",
       "      <td>4.202422</td>\n",
       "      <td>4.095051</td>\n",
       "      <td>4.024277</td>\n",
       "      <td>4.035263</td>\n",
       "      <td>4.028265</td>\n",
       "      <td>4.009764</td>\n",
       "      <td>4.029263</td>\n",
       "      <td>4.011326</td>\n",
       "    </tr>\n",
       "    <tr>\n",
       "      <th>81754</th>\n",
       "      <th>2740</th>\n",
       "      <td>4.234071</td>\n",
       "      <td>4.055776</td>\n",
       "      <td>4.055097</td>\n",
       "      <td>4.054822</td>\n",
       "      <td>4.059832</td>\n",
       "      <td>4.079835</td>\n",
       "      <td>4.075693</td>\n",
       "      <td>4.027565</td>\n",
       "      <td>4.029863</td>\n",
       "      <td>4.157487</td>\n",
       "      <td>...</td>\n",
       "      <td>4.053892</td>\n",
       "      <td>4.009598</td>\n",
       "      <td>4.040507</td>\n",
       "      <td>4.049698</td>\n",
       "      <td>4.022206</td>\n",
       "      <td>4.017173</td>\n",
       "      <td>4.008040</td>\n",
       "      <td>4.001297</td>\n",
       "      <td>4.008790</td>\n",
       "      <td>4.002280</td>\n",
       "    </tr>\n",
       "    <tr>\n",
       "      <th>81903</th>\n",
       "      <th>2749</th>\n",
       "      <td>4.127245</td>\n",
       "      <td>4.006670</td>\n",
       "      <td>4.041787</td>\n",
       "      <td>4.054342</td>\n",
       "      <td>4.036801</td>\n",
       "      <td>4.032573</td>\n",
       "      <td>4.018572</td>\n",
       "      <td>4.021521</td>\n",
       "      <td>4.024475</td>\n",
       "      <td>4.063946</td>\n",
       "      <td>...</td>\n",
       "      <td>4.030197</td>\n",
       "      <td>4.009415</td>\n",
       "      <td>4.080617</td>\n",
       "      <td>4.030167</td>\n",
       "      <td>4.009983</td>\n",
       "      <td>4.023875</td>\n",
       "      <td>4.015908</td>\n",
       "      <td>4.002213</td>\n",
       "      <td>4.009255</td>\n",
       "      <td>4.003400</td>\n",
       "    </tr>\n",
       "    <tr>\n",
       "      <th>81043</th>\n",
       "      <th>2750</th>\n",
       "      <td>4.131424</td>\n",
       "      <td>4.084625</td>\n",
       "      <td>4.386908</td>\n",
       "      <td>4.102527</td>\n",
       "      <td>4.128737</td>\n",
       "      <td>4.148904</td>\n",
       "      <td>4.048154</td>\n",
       "      <td>4.017240</td>\n",
       "      <td>4.011070</td>\n",
       "      <td>4.050749</td>\n",
       "      <td>...</td>\n",
       "      <td>4.075637</td>\n",
       "      <td>4.011281</td>\n",
       "      <td>4.106869</td>\n",
       "      <td>4.028906</td>\n",
       "      <td>4.005785</td>\n",
       "      <td>4.019627</td>\n",
       "      <td>4.012532</td>\n",
       "      <td>4.006849</td>\n",
       "      <td>4.016539</td>\n",
       "      <td>4.007771</td>\n",
       "    </tr>\n",
       "  </tbody>\n",
       "</table>\n",
       "<p>5 rows × 800 columns</p>\n",
       "</div>"
      ],
      "text/plain": [
       "              ac_c10_0  ac_c10_1  ac_c10_2  ac_c10_3  ac_c10_4  ac_c10_5  \\\n",
       "bblid scanid                                                               \n",
       "81287 2738    4.160120  4.092036  4.093107  4.040229  4.037758  4.084432   \n",
       "80680 2739    4.252323  4.015835  4.607413  4.054295  4.027314  4.116766   \n",
       "81754 2740    4.234071  4.055776  4.055097  4.054822  4.059832  4.079835   \n",
       "81903 2749    4.127245  4.006670  4.041787  4.054342  4.036801  4.032573   \n",
       "81043 2750    4.131424  4.084625  4.386908  4.102527  4.128737  4.148904   \n",
       "\n",
       "              ac_c10_6  ac_c10_7  ac_c10_8  ac_c10_9  ...  ac_c10000_190  \\\n",
       "bblid scanid                                          ...                  \n",
       "81287 2738    4.053120  4.109415  4.013584  4.044086  ...       4.027053   \n",
       "80680 2739    4.110584  4.188318  4.020290  4.147870  ...       4.027945   \n",
       "81754 2740    4.075693  4.027565  4.029863  4.157487  ...       4.053892   \n",
       "81903 2749    4.018572  4.021521  4.024475  4.063946  ...       4.030197   \n",
       "81043 2750    4.048154  4.017240  4.011070  4.050749  ...       4.075637   \n",
       "\n",
       "              ac_c10000_191  ac_c10000_192  ac_c10000_193  ac_c10000_194  \\\n",
       "bblid scanid                                                               \n",
       "81287 2738         4.106296       4.070072       4.021275       4.003737   \n",
       "80680 2739         4.057771       4.202422       4.095051       4.024277   \n",
       "81754 2740         4.009598       4.040507       4.049698       4.022206   \n",
       "81903 2749         4.009415       4.080617       4.030167       4.009983   \n",
       "81043 2750         4.011281       4.106869       4.028906       4.005785   \n",
       "\n",
       "              ac_c10000_195  ac_c10000_196  ac_c10000_197  ac_c10000_198  \\\n",
       "bblid scanid                                                               \n",
       "81287 2738         4.020574       4.030353       4.007394       4.011361   \n",
       "80680 2739         4.035263       4.028265       4.009764       4.029263   \n",
       "81754 2740         4.017173       4.008040       4.001297       4.008790   \n",
       "81903 2749         4.023875       4.015908       4.002213       4.009255   \n",
       "81043 2750         4.019627       4.012532       4.006849       4.016539   \n",
       "\n",
       "              ac_c10000_199  \n",
       "bblid scanid                 \n",
       "81287 2738         4.007299  \n",
       "80680 2739         4.011326  \n",
       "81754 2740         4.002280  \n",
       "81903 2749         4.003400  \n",
       "81043 2750         4.007771  \n",
       "\n",
       "[5 rows x 800 columns]"
      ]
     },
     "execution_count": 29,
     "metadata": {},
     "output_type": "execute_result"
    }
   ],
   "source": [
    "df_node_ac_overc_i2 = df_node_ac_overc * (2**2)\n",
    "df_node_ac_overc_i2.head()"
   ]
  },
  {
   "cell_type": "markdown",
   "metadata": {},
   "source": [
    "# Save out raw data"
   ]
  },
  {
   "cell_type": "code",
   "execution_count": 30,
   "metadata": {},
   "outputs": [
    {
     "data": {
      "text/html": [
       "<div>\n",
       "<style scoped>\n",
       "    .dataframe tbody tr th:only-of-type {\n",
       "        vertical-align: middle;\n",
       "    }\n",
       "\n",
       "    .dataframe tbody tr th {\n",
       "        vertical-align: top;\n",
       "    }\n",
       "\n",
       "    .dataframe thead th {\n",
       "        text-align: right;\n",
       "    }\n",
       "</style>\n",
       "<table border=\"1\" class=\"dataframe\">\n",
       "  <thead>\n",
       "    <tr style=\"text-align: right;\">\n",
       "      <th></th>\n",
       "      <th></th>\n",
       "      <th>str_0</th>\n",
       "      <th>str_1</th>\n",
       "      <th>str_2</th>\n",
       "      <th>str_3</th>\n",
       "      <th>str_4</th>\n",
       "      <th>str_5</th>\n",
       "      <th>str_6</th>\n",
       "      <th>str_7</th>\n",
       "      <th>str_8</th>\n",
       "      <th>str_9</th>\n",
       "      <th>...</th>\n",
       "      <th>sgc_190</th>\n",
       "      <th>sgc_191</th>\n",
       "      <th>sgc_192</th>\n",
       "      <th>sgc_193</th>\n",
       "      <th>sgc_194</th>\n",
       "      <th>sgc_195</th>\n",
       "      <th>sgc_196</th>\n",
       "      <th>sgc_197</th>\n",
       "      <th>sgc_198</th>\n",
       "      <th>sgc_199</th>\n",
       "    </tr>\n",
       "    <tr>\n",
       "      <th>bblid</th>\n",
       "      <th>scanid</th>\n",
       "      <th></th>\n",
       "      <th></th>\n",
       "      <th></th>\n",
       "      <th></th>\n",
       "      <th></th>\n",
       "      <th></th>\n",
       "      <th></th>\n",
       "      <th></th>\n",
       "      <th></th>\n",
       "      <th></th>\n",
       "      <th></th>\n",
       "      <th></th>\n",
       "      <th></th>\n",
       "      <th></th>\n",
       "      <th></th>\n",
       "      <th></th>\n",
       "      <th></th>\n",
       "      <th></th>\n",
       "      <th></th>\n",
       "      <th></th>\n",
       "      <th></th>\n",
       "    </tr>\n",
       "  </thead>\n",
       "  <tbody>\n",
       "    <tr>\n",
       "      <th>81287</th>\n",
       "      <th>2738</th>\n",
       "      <td>3647</td>\n",
       "      <td>2302</td>\n",
       "      <td>2646</td>\n",
       "      <td>1760</td>\n",
       "      <td>1617</td>\n",
       "      <td>2478</td>\n",
       "      <td>2273</td>\n",
       "      <td>2980</td>\n",
       "      <td>990</td>\n",
       "      <td>2250</td>\n",
       "      <td>...</td>\n",
       "      <td>3.68217e+10</td>\n",
       "      <td>3.04259e+10</td>\n",
       "      <td>1.07027e+11</td>\n",
       "      <td>8.096e+10</td>\n",
       "      <td>7.84375e+10</td>\n",
       "      <td>7.45103e+10</td>\n",
       "      <td>3.7598e+10</td>\n",
       "      <td>1.07025e+10</td>\n",
       "      <td>5.60843e+09</td>\n",
       "      <td>2.0806e+10</td>\n",
       "    </tr>\n",
       "    <tr>\n",
       "      <th>80680</th>\n",
       "      <th>2739</th>\n",
       "      <td>2626</td>\n",
       "      <td>366</td>\n",
       "      <td>1763</td>\n",
       "      <td>1052</td>\n",
       "      <td>537</td>\n",
       "      <td>1826</td>\n",
       "      <td>1711</td>\n",
       "      <td>2319</td>\n",
       "      <td>747</td>\n",
       "      <td>2288</td>\n",
       "      <td>...</td>\n",
       "      <td>3.5798e+10</td>\n",
       "      <td>3.99868e+10</td>\n",
       "      <td>1.26228e+11</td>\n",
       "      <td>2.1227e+10</td>\n",
       "      <td>3.36271e+10</td>\n",
       "      <td>1.80682e+10</td>\n",
       "      <td>1.4127e+10</td>\n",
       "      <td>2.0402e+09</td>\n",
       "      <td>3.8416e+09</td>\n",
       "      <td>5.59552e+09</td>\n",
       "    </tr>\n",
       "    <tr>\n",
       "      <th>81754</th>\n",
       "      <th>2740</th>\n",
       "      <td>4382</td>\n",
       "      <td>1635</td>\n",
       "      <td>1963</td>\n",
       "      <td>1737</td>\n",
       "      <td>2286</td>\n",
       "      <td>3084</td>\n",
       "      <td>2287</td>\n",
       "      <td>1280</td>\n",
       "      <td>1370</td>\n",
       "      <td>3674</td>\n",
       "      <td>...</td>\n",
       "      <td>1.70919e+12</td>\n",
       "      <td>4.15374e+12</td>\n",
       "      <td>1.14913e+12</td>\n",
       "      <td>7.89807e+11</td>\n",
       "      <td>2.77616e+12</td>\n",
       "      <td>5.69962e+11</td>\n",
       "      <td>1.43612e+11</td>\n",
       "      <td>2.86068e+10</td>\n",
       "      <td>1.67185e+10</td>\n",
       "      <td>9.6386e+09</td>\n",
       "    </tr>\n",
       "    <tr>\n",
       "      <th>81903</th>\n",
       "      <th>2749</th>\n",
       "      <td>3763</td>\n",
       "      <td>521</td>\n",
       "      <td>1725</td>\n",
       "      <td>1656</td>\n",
       "      <td>1204</td>\n",
       "      <td>2004</td>\n",
       "      <td>1027</td>\n",
       "      <td>1215</td>\n",
       "      <td>963</td>\n",
       "      <td>1987</td>\n",
       "      <td>...</td>\n",
       "      <td>7.48686e+10</td>\n",
       "      <td>3.09238e+10</td>\n",
       "      <td>1.98961e+11</td>\n",
       "      <td>4.93299e+10</td>\n",
       "      <td>1.13646e+11</td>\n",
       "      <td>1.47841e+11</td>\n",
       "      <td>1.23089e+11</td>\n",
       "      <td>1.57867e+10</td>\n",
       "      <td>6.12191e+09</td>\n",
       "      <td>7.23361e+09</td>\n",
       "    </tr>\n",
       "    <tr>\n",
       "      <th>81043</th>\n",
       "      <th>2750</th>\n",
       "      <td>2673</td>\n",
       "      <td>2388</td>\n",
       "      <td>4273</td>\n",
       "      <td>2068</td>\n",
       "      <td>2545</td>\n",
       "      <td>3955</td>\n",
       "      <td>2017</td>\n",
       "      <td>951</td>\n",
       "      <td>809</td>\n",
       "      <td>1957</td>\n",
       "      <td>...</td>\n",
       "      <td>3.34602e+11</td>\n",
       "      <td>1.71809e+11</td>\n",
       "      <td>5.96726e+11</td>\n",
       "      <td>1.2995e+11</td>\n",
       "      <td>2.81008e+11</td>\n",
       "      <td>3.93797e+11</td>\n",
       "      <td>7.94044e+10</td>\n",
       "      <td>2.26076e+10</td>\n",
       "      <td>4.38804e+09</td>\n",
       "      <td>1.02e+10</td>\n",
       "    </tr>\n",
       "  </tbody>\n",
       "</table>\n",
       "<p>5 rows × 1000 columns</p>\n",
       "</div>"
      ],
      "text/plain": [
       "             str_0 str_1 str_2 str_3 str_4 str_5 str_6 str_7 str_8 str_9  ...  \\\n",
       "bblid scanid                                                              ...   \n",
       "81287 2738    3647  2302  2646  1760  1617  2478  2273  2980   990  2250  ...   \n",
       "80680 2739    2626   366  1763  1052   537  1826  1711  2319   747  2288  ...   \n",
       "81754 2740    4382  1635  1963  1737  2286  3084  2287  1280  1370  3674  ...   \n",
       "81903 2749    3763   521  1725  1656  1204  2004  1027  1215   963  1987  ...   \n",
       "81043 2750    2673  2388  4273  2068  2545  3955  2017   951   809  1957  ...   \n",
       "\n",
       "                  sgc_190      sgc_191      sgc_192      sgc_193      sgc_194  \\\n",
       "bblid scanid                                                                    \n",
       "81287 2738    3.68217e+10  3.04259e+10  1.07027e+11    8.096e+10  7.84375e+10   \n",
       "80680 2739     3.5798e+10  3.99868e+10  1.26228e+11   2.1227e+10  3.36271e+10   \n",
       "81754 2740    1.70919e+12  4.15374e+12  1.14913e+12  7.89807e+11  2.77616e+12   \n",
       "81903 2749    7.48686e+10  3.09238e+10  1.98961e+11  4.93299e+10  1.13646e+11   \n",
       "81043 2750    3.34602e+11  1.71809e+11  5.96726e+11   1.2995e+11  2.81008e+11   \n",
       "\n",
       "                  sgc_195      sgc_196      sgc_197      sgc_198      sgc_199  \n",
       "bblid scanid                                                                   \n",
       "81287 2738    7.45103e+10   3.7598e+10  1.07025e+10  5.60843e+09   2.0806e+10  \n",
       "80680 2739    1.80682e+10   1.4127e+10   2.0402e+09   3.8416e+09  5.59552e+09  \n",
       "81754 2740    5.69962e+11  1.43612e+11  2.86068e+10  1.67185e+10   9.6386e+09  \n",
       "81903 2749    1.47841e+11  1.23089e+11  1.57867e+10  6.12191e+09  7.23361e+09  \n",
       "81043 2750    3.93797e+11  7.94044e+10  2.26076e+10  4.38804e+09     1.02e+10  \n",
       "\n",
       "[5 rows x 1000 columns]"
      ]
     },
     "execution_count": 30,
     "metadata": {},
     "output_type": "execute_result"
    }
   ],
   "source": [
    "df_node.head()"
   ]
  },
  {
   "cell_type": "code",
   "execution_count": 31,
   "metadata": {},
   "outputs": [
    {
     "name": "stdout",
     "output_type": "stream",
     "text": [
      "False\n",
      "False\n",
      "False\n"
     ]
    }
   ],
   "source": [
    "print(df_node.isna().any().any())\n",
    "print(df_node_ac_overc.isna().any().any())\n",
    "print(df_node_ac_i2.isna().any().any())"
   ]
  },
  {
   "cell_type": "code",
   "execution_count": 32,
   "metadata": {},
   "outputs": [],
   "source": [
    "np.save(os.path.join(storedir, outfile_prefix+'A'), A)\n",
    "\n",
    "df_node.to_csv(os.path.join(storedir, outfile_prefix+'df_node.csv'))\n",
    "df_node_ac_overc.to_csv(os.path.join(storedir, outfile_prefix+'df_node_ac_overc.csv'))\n",
    "df_node_ac_i2.to_csv(os.path.join(storedir, outfile_prefix+'df_node_ac_i2.csv'))\n",
    "df_node_ac_overc_i2.to_csv(os.path.join(storedir, outfile_prefix+'df_node_ac_overc_i2.csv'))\n",
    "\n",
    "df.to_csv(os.path.join(storedir, outfile_prefix+'df.csv'))"
   ]
  },
  {
   "cell_type": "markdown",
   "metadata": {},
   "source": [
    "# Export for prediction"
   ]
  },
  {
   "cell_type": "markdown",
   "metadata": {},
   "source": [
    "## Normalize"
   ]
  },
  {
   "cell_type": "markdown",
   "metadata": {},
   "source": [
    "### Covariates"
   ]
  },
  {
   "cell_type": "code",
   "execution_count": 33,
   "metadata": {},
   "outputs": [],
   "source": [
    "covs = ['ageAtScan1', 'mprage_antsCT_vol_TBV', 'dti64MeanRelRMS', 'network_density', 'streamline_count']"
   ]
  },
  {
   "cell_type": "code",
   "execution_count": 34,
   "metadata": {},
   "outputs": [
    {
     "name": "stdout",
     "output_type": "stream",
     "text": [
      "0\n"
     ]
    }
   ],
   "source": [
    "rank_r = np.zeros(len(covs),)\n",
    "\n",
    "for i, cov in enumerate(covs):\n",
    "    x = rank_int(df.loc[:,cov])\n",
    "    rank_r[i] = sp.stats.spearmanr(df.loc[:,cov],x)[0]\n",
    "    df.loc[:,cov] = x\n",
    "\n",
    "print(np.sum(rank_r < 0.99))"
   ]
  },
  {
   "cell_type": "markdown",
   "metadata": {},
   "source": [
    "### Node features"
   ]
  },
  {
   "cell_type": "code",
   "execution_count": 35,
   "metadata": {},
   "outputs": [
    {
     "name": "stderr",
     "output_type": "stream",
     "text": [
      "100%|██████████| 1000/1000 [02:06<00:00,  7.93it/s]"
     ]
    },
    {
     "name": "stdout",
     "output_type": "stream",
     "text": [
      "0\n"
     ]
    },
    {
     "name": "stderr",
     "output_type": "stream",
     "text": [
      "\n"
     ]
    }
   ],
   "source": [
    "rank_r = np.zeros(df_node.shape[1],)\n",
    "\n",
    "for i in tqdm(np.arange(df_node.shape[1])):\n",
    "    col = df_node.iloc[:,i].name\n",
    "    x = rank_int(df_node.loc[:,col])\n",
    "    rank_r[i] = sp.stats.spearmanr(df_node.loc[:,col],x)[0]\n",
    "    df_node.loc[:,col] = x\n",
    "\n",
    "print(np.sum(rank_r < .99))"
   ]
  },
  {
   "cell_type": "code",
   "execution_count": 36,
   "metadata": {},
   "outputs": [
    {
     "name": "stderr",
     "output_type": "stream",
     "text": [
      "100%|██████████| 200/200 [00:24<00:00,  8.24it/s]"
     ]
    },
    {
     "name": "stdout",
     "output_type": "stream",
     "text": [
      "0\n"
     ]
    },
    {
     "name": "stderr",
     "output_type": "stream",
     "text": [
      "\n"
     ]
    }
   ],
   "source": [
    "rank_r = np.zeros(df_node_ac_i2.shape[1],)\n",
    "\n",
    "for i in tqdm(np.arange(df_node_ac_i2.shape[1])):\n",
    "    col = df_node_ac_i2.iloc[:,i].name\n",
    "    x = rank_int(df_node_ac_i2.loc[:,col])\n",
    "    rank_r[i] = sp.stats.spearmanr(df_node_ac_i2.loc[:,col],x)[0]\n",
    "    df_node_ac_i2.loc[:,col] = x\n",
    "\n",
    "print(np.sum(rank_r < .99))"
   ]
  },
  {
   "cell_type": "code",
   "execution_count": 37,
   "metadata": {},
   "outputs": [
    {
     "name": "stderr",
     "output_type": "stream",
     "text": [
      "100%|██████████| 800/800 [01:34<00:00,  8.42it/s]"
     ]
    },
    {
     "name": "stdout",
     "output_type": "stream",
     "text": [
      "0\n"
     ]
    },
    {
     "name": "stderr",
     "output_type": "stream",
     "text": [
      "\n"
     ]
    }
   ],
   "source": [
    "rank_r = np.zeros(df_node_ac_overc.shape[1],)\n",
    "\n",
    "for i in tqdm(np.arange(df_node_ac_overc.shape[1])):\n",
    "    col = df_node_ac_overc.iloc[:,i].name\n",
    "    x = rank_int(df_node_ac_overc.loc[:,col])\n",
    "    rank_r[i] = sp.stats.spearmanr(df_node_ac_overc.loc[:,col],x)[0]\n",
    "    df_node_ac_overc.loc[:,col] = x\n",
    "\n",
    "print(np.sum(rank_r < .99))"
   ]
  },
  {
   "cell_type": "code",
   "execution_count": 38,
   "metadata": {},
   "outputs": [
    {
     "name": "stderr",
     "output_type": "stream",
     "text": [
      "100%|██████████| 800/800 [01:34<00:00,  8.49it/s]"
     ]
    },
    {
     "name": "stdout",
     "output_type": "stream",
     "text": [
      "0\n"
     ]
    },
    {
     "name": "stderr",
     "output_type": "stream",
     "text": [
      "\n"
     ]
    }
   ],
   "source": [
    "rank_r = np.zeros(df_node_ac_overc_i2.shape[1],)\n",
    "\n",
    "for i in tqdm(np.arange(df_node_ac_overc_i2.shape[1])):\n",
    "    col = df_node_ac_overc_i2.iloc[:,i].name\n",
    "    x = rank_int(df_node_ac_overc_i2.loc[:,col])\n",
    "    rank_r[i] = sp.stats.spearmanr(df_node_ac_overc_i2.loc[:,col],x)[0]\n",
    "    df_node_ac_overc_i2.loc[:,col] = x\n",
    "\n",
    "print(np.sum(rank_r < .99))"
   ]
  },
  {
   "cell_type": "markdown",
   "metadata": {},
   "source": [
    "### Psychosis"
   ]
  },
  {
   "cell_type": "code",
   "execution_count": 39,
   "metadata": {},
   "outputs": [
    {
     "name": "stdout",
     "output_type": "stream",
     "text": [
      "['Overall_Psychopathology', 'Psychosis_Positive', 'Psychosis_NegativeDisorg']\n"
     ]
    }
   ],
   "source": [
    "covs = ['ageAtScan1', 'sex', 'mprage_antsCT_vol_TBV', 'dti64MeanRelRMS']\n",
    "phenos = ['Overall_Psychopathology','Psychosis_Positive','Psychosis_NegativeDisorg']\n",
    "print(phenos)\n",
    "\n",
    "df_node.to_csv(os.path.join(outputdir, outfile_prefix+'X.csv'))\n",
    "df_node_ac_overc.to_csv(os.path.join(outputdir, outfile_prefix+'X_ac_c.csv'))\n",
    "df_node_ac_i2.to_csv(os.path.join(outputdir, outfile_prefix+'X_ac_i2.csv'))\n",
    "df_node_ac_overc_i2.to_csv(os.path.join(outputdir, outfile_prefix+'X_ac_c_i2.csv'))\n",
    "\n",
    "df.loc[:,phenos].to_csv(os.path.join(outputdir, outfile_prefix+'y.csv'))\n",
    "df.loc[:,covs].to_csv(os.path.join(outputdir, outfile_prefix+'c.csv'))\n",
    "\n",
    "covs = ['ageAtScan1', 'sex', 'mprage_antsCT_vol_TBV', 'dti64MeanRelRMS', 'streamline_count']\n",
    "df.loc[:,covs].to_csv(os.path.join(outputdir, outfile_prefix+'c_sc.csv'))"
   ]
  }
 ],
 "metadata": {
  "kernelspec": {
   "display_name": "Python 3",
   "language": "python",
   "name": "python3"
  },
  "language_info": {
   "codemirror_mode": {
    "name": "ipython",
    "version": 3
   },
   "file_extension": ".py",
   "mimetype": "text/x-python",
   "name": "python",
   "nbconvert_exporter": "python",
   "pygments_lexer": "ipython3",
   "version": "3.7.7"
  }
 },
 "nbformat": 4,
 "nbformat_minor": 4
}
