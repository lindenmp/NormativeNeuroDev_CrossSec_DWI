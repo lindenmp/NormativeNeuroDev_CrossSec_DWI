{
 "cells": [
  {
   "cell_type": "code",
   "execution_count": 1,
   "metadata": {},
   "outputs": [],
   "source": [
    "# Essentials\n",
    "import os, sys, glob\n",
    "import pandas as pd\n",
    "import numpy as np\n",
    "import nibabel as nib\n",
    "import scipy.io as sio\n",
    "\n",
    "# Stats\n",
    "import scipy as sp\n",
    "from scipy import stats\n",
    "import statsmodels.api as sm\n",
    "import pingouin as pg\n",
    "\n",
    "# Plotting\n",
    "import seaborn as sns\n",
    "import matplotlib.pyplot as plt\n",
    "plt.rcParams['svg.fonttype'] = 'none'"
   ]
  },
  {
   "cell_type": "code",
   "execution_count": 2,
   "metadata": {},
   "outputs": [],
   "source": [
    "sys.path.append('/Users/lindenmp/Google-Drive-Penn/work/research_projects/neurodev_cs_predictive/1_code/')\n",
    "from func import set_proj_env, rank_int, node_strength, ave_control"
   ]
  },
  {
   "cell_type": "code",
   "execution_count": 3,
   "metadata": {},
   "outputs": [],
   "source": [
    "parc_str = 'schaefer'\n",
    "parc_scale = 200\n",
    "edge_weight = 'streamlineCount'\n",
    "parcel_names, parcel_loc, drop_parcels, num_parcels = set_proj_env(parc_str = parc_str, parc_scale = parc_scale, edge_weight = edge_weight)"
   ]
  },
  {
   "cell_type": "code",
   "execution_count": 4,
   "metadata": {},
   "outputs": [
    {
     "data": {
      "text/plain": [
       "'schaefer_200_streamlineCount_'"
      ]
     },
     "execution_count": 4,
     "metadata": {},
     "output_type": "execute_result"
    }
   ],
   "source": [
    "# output file prefix\n",
    "outfile_prefix = parc_str+'_'+str(parc_scale)+'_'+edge_weight+'_'\n",
    "outfile_prefix"
   ]
  },
  {
   "cell_type": "markdown",
   "metadata": {},
   "source": [
    "### Setup directory variables"
   ]
  },
  {
   "cell_type": "code",
   "execution_count": 5,
   "metadata": {},
   "outputs": [
    {
     "name": "stdout",
     "output_type": "stream",
     "text": [
      "/Users/lindenmp/Google-Drive-Penn/work/research_projects/neurodev_cs_predictive/2_pipeline\n"
     ]
    }
   ],
   "source": [
    "print(os.environ['PIPELINEDIR'])\n",
    "if not os.path.exists(os.environ['PIPELINEDIR']): os.makedirs(os.environ['PIPELINEDIR'])"
   ]
  },
  {
   "cell_type": "code",
   "execution_count": 6,
   "metadata": {},
   "outputs": [
    {
     "name": "stdout",
     "output_type": "stream",
     "text": [
      "/Users/lindenmp/Google-Drive-Penn/work/research_projects/neurodev_cs_predictive/2_pipeline/1_compute_node_features/store\n",
      "/Users/lindenmp/Google-Drive-Penn/work/research_projects/neurodev_cs_predictive/2_pipeline/1_compute_node_features/out\n"
     ]
    }
   ],
   "source": [
    "storedir = os.path.join(os.environ['PIPELINEDIR'], '1_compute_node_features', 'store')\n",
    "print(storedir)\n",
    "if not os.path.exists(storedir): os.makedirs(storedir)\n",
    "\n",
    "outputdir = os.path.join(os.environ['PIPELINEDIR'], '1_compute_node_features', 'out')\n",
    "print(outputdir)\n",
    "if not os.path.exists(outputdir): os.makedirs(outputdir)"
   ]
  },
  {
   "cell_type": "code",
   "execution_count": 7,
   "metadata": {},
   "outputs": [
    {
     "name": "stdout",
     "output_type": "stream",
     "text": [
      "/Users/lindenmp/Google-Drive-Penn/work/research_projects/neurodev_cs_predictive/3_output/figs\n"
     ]
    }
   ],
   "source": [
    "figdir = os.path.join(os.environ['OUTPUTDIR'], 'figs')\n",
    "print(figdir)\n",
    "if not os.path.exists(figdir): os.makedirs(figdir)"
   ]
  },
  {
   "cell_type": "markdown",
   "metadata": {},
   "source": [
    "## Load data"
   ]
  },
  {
   "cell_type": "code",
   "execution_count": 8,
   "metadata": {},
   "outputs": [
    {
     "name": "stdout",
     "output_type": "stream",
     "text": [
      "(1100, 19)\n"
     ]
    }
   ],
   "source": [
    "# Load data\n",
    "df = pd.read_csv(os.path.join(os.environ['PIPELINEDIR'], '0_get_sample', 'out', 'df.csv'))\n",
    "df.set_index(['bblid', 'scanid'], inplace = True)\n",
    "print(df.shape)"
   ]
  },
  {
   "cell_type": "code",
   "execution_count": 9,
   "metadata": {},
   "outputs": [],
   "source": [
    "# Missing data file for this subject only for schaefer 200\n",
    "if parc_scale == 200:\n",
    "    df.drop(labels = (112598, 5161), inplace=True)"
   ]
  },
  {
   "cell_type": "code",
   "execution_count": 10,
   "metadata": {},
   "outputs": [
    {
     "name": "stdout",
     "output_type": "stream",
     "text": [
      "(1099, 400)\n"
     ]
    }
   ],
   "source": [
    "# output dataframe\n",
    "str_labels = ['str_' + str(i) for i in range(num_parcels)]\n",
    "ac_labels = ['ac_' + str(i) for i in range(num_parcels)]\n",
    "\n",
    "df_node = pd.DataFrame(index = df.index, columns = str_labels + ac_labels)\n",
    "print(df_node.shape)"
   ]
  },
  {
   "cell_type": "markdown",
   "metadata": {},
   "source": [
    "## Load in structural connectivity matrices"
   ]
  },
  {
   "cell_type": "code",
   "execution_count": 11,
   "metadata": {},
   "outputs": [],
   "source": [
    "# subject filter\n",
    "subj_filt = np.zeros((df.shape[0],)).astype(bool)"
   ]
  },
  {
   "cell_type": "code",
   "execution_count": 12,
   "metadata": {},
   "outputs": [
    {
     "name": "stdout",
     "output_type": "stream",
     "text": [
      "['/Volumes/work_ssd/research_data/PNC/processedData/diffusion/deterministic_20171118/81287/20100114x2738/tractography/connectivity/81287_20100114x2738_SchaeferPNC_200_dti_streamlineCount_connectivity.mat']\n",
      "82051/*x2856/tractography/connectivity/82051_*x2856_SchaeferPNC_200_dti_streamlineCount_connectivity.mat: NOT FOUND\n",
      "87804/*x3144/tractography/connectivity/87804_*x3144_SchaeferPNC_200_dti_streamlineCount_connectivity.mat: NOT FOUND\n",
      "91332/*x3362/tractography/connectivity/91332_*x3362_SchaeferPNC_200_dti_streamlineCount_connectivity.mat: NOT FOUND\n",
      "87990/*x3676/tractography/connectivity/87990_*x3676_SchaeferPNC_200_dti_streamlineCount_connectivity.mat: NOT FOUND\n",
      "103737/*x3964/tractography/connectivity/103737_*x3964_SchaeferPNC_200_dti_streamlineCount_connectivity.mat: NOT FOUND\n",
      "87470/*x4000/tractography/connectivity/87470_*x4000_SchaeferPNC_200_dti_streamlineCount_connectivity.mat: NOT FOUND\n",
      "104161/*x4104/tractography/connectivity/104161_*x4104_SchaeferPNC_200_dti_streamlineCount_connectivity.mat: NOT FOUND\n",
      "103768/*x4499/tractography/connectivity/103768_*x4499_SchaeferPNC_200_dti_streamlineCount_connectivity.mat: NOT FOUND\n",
      "113216/*x4506/tractography/connectivity/113216_*x4506_SchaeferPNC_200_dti_streamlineCount_connectivity.mat: NOT FOUND\n",
      "90050/*x4746/tractography/connectivity/90050_*x4746_SchaeferPNC_200_dti_streamlineCount_connectivity.mat: NOT FOUND\n",
      "115276/*x5012/tractography/connectivity/115276_*x5012_SchaeferPNC_200_dti_streamlineCount_connectivity.mat: NOT FOUND\n",
      "116618/*x5274/tractography/connectivity/116618_*x5274_SchaeferPNC_200_dti_streamlineCount_connectivity.mat: NOT FOUND\n",
      "127128/*x5545/tractography/connectivity/127128_*x5545_SchaeferPNC_200_dti_streamlineCount_connectivity.mat: NOT FOUND\n",
      "112802/*x6401/tractography/connectivity/112802_*x6401_SchaeferPNC_200_dti_streamlineCount_connectivity.mat: NOT FOUND\n",
      "85397/*x6643/tractography/connectivity/85397_*x6643_SchaeferPNC_200_dti_streamlineCount_connectivity.mat: NOT FOUND\n",
      "83632/*x6818/tractography/connectivity/83632_*x6818_SchaeferPNC_200_dti_streamlineCount_connectivity.mat: NOT FOUND\n",
      "81533/*x6869/tractography/connectivity/81533_*x6869_SchaeferPNC_200_dti_streamlineCount_connectivity.mat: NOT FOUND\n",
      "91025/*x6881/tractography/connectivity/91025_*x6881_SchaeferPNC_200_dti_streamlineCount_connectivity.mat: NOT FOUND\n",
      "105272/*x8238/tractography/connectivity/105272_*x8238_SchaeferPNC_200_dti_streamlineCount_connectivity.mat: NOT FOUND\n"
     ]
    }
   ],
   "source": [
    "A = np.zeros((num_parcels, num_parcels, df.shape[0]))\n",
    "for (i, (index, row)) in enumerate(df.iterrows()):\n",
    "    file_name = os.environ['SC_NAME_TMP'].replace(\"scanid\", str(index[1]))\n",
    "    file_name = file_name.replace(\"bblid\", str(index[0]))\n",
    "    full_path = glob.glob(os.path.join(os.environ['SCDIR'], file_name))\n",
    "    if i == 0: print(full_path)\n",
    "    if len(full_path) > 0:\n",
    "        mat_contents = sio.loadmat(full_path[0])\n",
    "        a = mat_contents[os.environ['CONN_STR']]\n",
    "        if parc_str == 'lausanne' and parc_variant == 'cortex_only':\n",
    "            a = a[parcel_loc == 1,:]\n",
    "            a = a[:,parcel_loc == 1]\n",
    "        A[:,:,i] = a\n",
    "    elif len(full_path) == 0:\n",
    "        print(file_name + ': NOT FOUND')\n",
    "        subj_filt[i] = True\n",
    "        A[:,:,i] = np.full((num_parcels, num_parcels), np.nan)"
   ]
  },
  {
   "cell_type": "code",
   "execution_count": 13,
   "metadata": {},
   "outputs": [
    {
     "data": {
      "text/plain": [
       "19"
      ]
     },
     "execution_count": 13,
     "metadata": {},
     "output_type": "execute_result"
    }
   ],
   "source": [
    "np.sum(subj_filt)"
   ]
  },
  {
   "cell_type": "code",
   "execution_count": 14,
   "metadata": {},
   "outputs": [
    {
     "name": "stdout",
     "output_type": "stream",
     "text": [
      "(1080, 400)\n"
     ]
    }
   ],
   "source": [
    "if any(subj_filt):\n",
    "    A = A[:,:,~subj_filt]\n",
    "    df = df.loc[~subj_filt]\n",
    "    df_node = df_node.loc[~subj_filt]\n",
    "print(df_node.shape)"
   ]
  },
  {
   "cell_type": "markdown",
   "metadata": {},
   "source": [
    "### Check if any subjects have disconnected nodes in A matrix"
   ]
  },
  {
   "cell_type": "code",
   "execution_count": 15,
   "metadata": {},
   "outputs": [],
   "source": [
    "# subject filter\n",
    "subj_filt = np.zeros((df.shape[0],)).astype(bool)"
   ]
  },
  {
   "cell_type": "code",
   "execution_count": 16,
   "metadata": {},
   "outputs": [],
   "source": [
    "for i in range(A.shape[2]):\n",
    "    if np.any(np.sum(A[:,:,i], axis = 1) == 0):\n",
    "        subj_filt[i] = True"
   ]
  },
  {
   "cell_type": "code",
   "execution_count": 17,
   "metadata": {},
   "outputs": [
    {
     "data": {
      "text/plain": [
       "12"
      ]
     },
     "execution_count": 17,
     "metadata": {},
     "output_type": "execute_result"
    }
   ],
   "source": [
    "np.sum(subj_filt)"
   ]
  },
  {
   "cell_type": "code",
   "execution_count": 18,
   "metadata": {},
   "outputs": [
    {
     "name": "stdout",
     "output_type": "stream",
     "text": [
      "(1068, 400)\n"
     ]
    }
   ],
   "source": [
    "if any(subj_filt):\n",
    "    A = A[:,:,~subj_filt]\n",
    "    df = df.loc[~subj_filt]\n",
    "    df_node = df_node.loc[~subj_filt]\n",
    "print(df_node.shape)"
   ]
  },
  {
   "cell_type": "code",
   "execution_count": 19,
   "metadata": {},
   "outputs": [
    {
     "data": {
      "text/plain": [
       "924"
      ]
     },
     "execution_count": 19,
     "metadata": {},
     "output_type": "execute_result"
    }
   ],
   "source": [
    "np.sum(df['averageManualRating'] == 2)"
   ]
  },
  {
   "cell_type": "code",
   "execution_count": 20,
   "metadata": {},
   "outputs": [
    {
     "data": {
      "text/plain": [
       "655"
      ]
     },
     "execution_count": 20,
     "metadata": {},
     "output_type": "execute_result"
    }
   ],
   "source": [
    "np.sum(df['dti64QAManualScore'] == 2)"
   ]
  },
  {
   "cell_type": "markdown",
   "metadata": {},
   "source": [
    "### Get streamline count and network density"
   ]
  },
  {
   "cell_type": "code",
   "execution_count": 21,
   "metadata": {},
   "outputs": [],
   "source": [
    "A_c = np.zeros((A.shape[2],))\n",
    "A_d = np.zeros((A.shape[2],))\n",
    "for i in range(A.shape[2]):\n",
    "    A_c[i] = np.sum(np.triu(A[:,:,i]))\n",
    "    A_d[i] = np.count_nonzero(np.triu(A[:,:,i]))/((A[:,:,i].shape[0]**2-A[:,:,i].shape[0])/2)\n",
    "df.loc[:,'streamline_count'] = A_c\n",
    "df.loc[:,'network_density'] = A_d"
   ]
  },
  {
   "cell_type": "markdown",
   "metadata": {},
   "source": [
    "### Compute node metrics"
   ]
  },
  {
   "cell_type": "code",
   "execution_count": 22,
   "metadata": {},
   "outputs": [],
   "source": [
    "# fc stored as 3d matrix, subjects of 3rd dim\n",
    "S = np.zeros((df.shape[0], num_parcels))\n",
    "AC = np.zeros((df.shape[0], num_parcels))\n",
    "\n",
    "for (i, (index, row)) in enumerate(df.iterrows()):\n",
    "    S[i,:] = node_strength(A[:,:,i])\n",
    "    AC[i,:] = ave_control(A[:,:,i])\n",
    "\n",
    "df_node.loc[:,str_labels] = S\n",
    "df_node.loc[:,ac_labels] = AC"
   ]
  },
  {
   "cell_type": "markdown",
   "metadata": {},
   "source": [
    "## Recalculate average control at different C params"
   ]
  },
  {
   "cell_type": "code",
   "execution_count": 23,
   "metadata": {},
   "outputs": [
    {
     "data": {
      "text/plain": [
       "array([   10,   100,  1000, 10000])"
      ]
     },
     "execution_count": 23,
     "metadata": {},
     "output_type": "execute_result"
    }
   ],
   "source": [
    "c_params = np.array([10, 100, 1000, 10000])\n",
    "c_params"
   ]
  },
  {
   "cell_type": "code",
   "execution_count": 24,
   "metadata": {},
   "outputs": [
    {
     "name": "stdout",
     "output_type": "stream",
     "text": [
      "10\n",
      "100\n",
      "1000\n",
      "10000\n"
     ]
    }
   ],
   "source": [
    "# output dataframe\n",
    "df_node_ac_overc = pd.DataFrame(index = df.index)\n",
    "\n",
    "for c in c_params:\n",
    "    print(c)\n",
    "    ac_labels_new = ['ac_c' + str(c) + '_' + str(i) for i in range(num_parcels)]\n",
    "    df_node_ac_temp = pd.DataFrame(index = df.index, columns = ac_labels_new)\n",
    "    \n",
    "    # fc stored as 3d matrix, subjects of 3rd dim\n",
    "    AC = np.zeros((df.shape[0], num_parcels))\n",
    "    for (i, (index, row)) in enumerate(df.iterrows()):\n",
    "        AC[i,:] = ave_control(A[:,:,i], c = c)\n",
    "\n",
    "    df_node_ac_temp.loc[:,ac_labels_new] = AC\n",
    "    df_node_ac_overc = pd.concat((df_node_ac_overc, df_node_ac_temp), axis = 1)"
   ]
  },
  {
   "cell_type": "markdown",
   "metadata": {},
   "source": [
    "# Save out raw data"
   ]
  },
  {
   "cell_type": "code",
   "execution_count": 25,
   "metadata": {},
   "outputs": [
    {
     "name": "stdout",
     "output_type": "stream",
     "text": [
      "False\n",
      "False\n"
     ]
    }
   ],
   "source": [
    "print(df_node.isna().any().any())\n",
    "print(df_node_ac_overc.isna().any().any())"
   ]
  },
  {
   "cell_type": "code",
   "execution_count": 26,
   "metadata": {},
   "outputs": [],
   "source": [
    "np.save(os.path.join(storedir, outfile_prefix+'A'), A)\n",
    "df_node.to_csv(os.path.join(storedir, outfile_prefix+'df_node.csv'))\n",
    "df_node_ac_overc.to_csv(os.path.join(storedir, outfile_prefix+'df_node_ac_overc.csv'))\n",
    "df.to_csv(os.path.join(storedir, outfile_prefix+'df.csv'))"
   ]
  },
  {
   "cell_type": "markdown",
   "metadata": {},
   "source": [
    "# Export for prediction"
   ]
  },
  {
   "cell_type": "markdown",
   "metadata": {},
   "source": [
    "## Normalize"
   ]
  },
  {
   "cell_type": "markdown",
   "metadata": {},
   "source": [
    "### Covariates"
   ]
  },
  {
   "cell_type": "code",
   "execution_count": 27,
   "metadata": {},
   "outputs": [],
   "source": [
    "covs = ['ageAtScan1', 'mprage_antsCT_vol_TBV', 'dti64MeanRelRMS', 'network_density', 'streamline_count']"
   ]
  },
  {
   "cell_type": "code",
   "execution_count": 28,
   "metadata": {},
   "outputs": [
    {
     "name": "stdout",
     "output_type": "stream",
     "text": [
      "0\n"
     ]
    }
   ],
   "source": [
    "rank_r = np.zeros(len(covs),)\n",
    "\n",
    "for i, cov in enumerate(covs):\n",
    "    x = rank_int(df.loc[:,cov])\n",
    "    rank_r[i] = sp.stats.spearmanr(df.loc[:,cov],x)[0]\n",
    "    df.loc[:,cov] = x\n",
    "\n",
    "print(np.sum(rank_r < 0.99))"
   ]
  },
  {
   "cell_type": "markdown",
   "metadata": {},
   "source": [
    "### Node features"
   ]
  },
  {
   "cell_type": "code",
   "execution_count": 29,
   "metadata": {},
   "outputs": [
    {
     "name": "stdout",
     "output_type": "stream",
     "text": [
      "0\n"
     ]
    }
   ],
   "source": [
    "rank_r = np.zeros(df_node.shape[1],)\n",
    "\n",
    "for i, col in enumerate(df_node.columns):\n",
    "    x = rank_int(df_node.loc[:,col])\n",
    "    rank_r[i] = sp.stats.spearmanr(df_node.loc[:,col],x)[0]\n",
    "    df_node.loc[:,col] = x\n",
    "\n",
    "print(np.sum(rank_r < .99))"
   ]
  },
  {
   "cell_type": "code",
   "execution_count": 30,
   "metadata": {},
   "outputs": [
    {
     "name": "stdout",
     "output_type": "stream",
     "text": [
      "0\n"
     ]
    }
   ],
   "source": [
    "rank_r = np.zeros(df_node_ac_overc.shape[1],)\n",
    "\n",
    "for i, col in enumerate(df_node_ac_overc.columns):\n",
    "    x = rank_int(df_node_ac_overc.loc[:,col])\n",
    "    rank_r[i] = sp.stats.spearmanr(df_node_ac_overc.loc[:,col],x)[0]\n",
    "    df_node_ac_overc.loc[:,col] = x\n",
    "\n",
    "print(np.sum(rank_r < .99))"
   ]
  },
  {
   "cell_type": "markdown",
   "metadata": {},
   "source": [
    "### Psychosis"
   ]
  },
  {
   "cell_type": "code",
   "execution_count": 31,
   "metadata": {},
   "outputs": [
    {
     "name": "stdout",
     "output_type": "stream",
     "text": [
      "['Overall_Psychopathology', 'Psychosis_Positive', 'Psychosis_NegativeDisorg']\n"
     ]
    }
   ],
   "source": [
    "covs = ['ageAtScan1', 'sex', 'mprage_antsCT_vol_TBV', 'dti64MeanRelRMS']\n",
    "phenos = ['Overall_Psychopathology','Psychosis_Positive','Psychosis_NegativeDisorg']\n",
    "print(phenos)\n",
    "\n",
    "df_node.to_csv(os.path.join(outputdir, outfile_prefix+'X.csv'))\n",
    "df_node_ac_overc.to_csv(os.path.join(outputdir, outfile_prefix+'X_ac_c.csv'))\n",
    "df.loc[:,phenos].to_csv(os.path.join(outputdir, outfile_prefix+'y.csv'))\n",
    "df.loc[:,covs].to_csv(os.path.join(outputdir, outfile_prefix+'c.csv'))\n",
    "\n",
    "covs = ['ageAtScan1', 'sex', 'mprage_antsCT_vol_TBV', 'dti64MeanRelRMS', 'streamline_count']\n",
    "df.loc[:,covs].to_csv(os.path.join(outputdir, outfile_prefix+'c_sc.csv'))"
   ]
  }
 ],
 "metadata": {
  "kernelspec": {
   "display_name": "Python 3",
   "language": "python",
   "name": "python3"
  },
  "language_info": {
   "codemirror_mode": {
    "name": "ipython",
    "version": 3
   },
   "file_extension": ".py",
   "mimetype": "text/x-python",
   "name": "python",
   "nbconvert_exporter": "python",
   "pygments_lexer": "ipython3",
   "version": "3.7.7"
  }
 },
 "nbformat": 4,
 "nbformat_minor": 4
}
