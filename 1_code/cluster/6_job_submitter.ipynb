{
 "cells": [
  {
   "cell_type": "markdown",
   "metadata": {},
   "source": [
    "# Submit jobs to cubic"
   ]
  },
  {
   "cell_type": "code",
   "execution_count": null,
   "metadata": {},
   "outputs": [],
   "source": [
    "import os\n",
    "import numpy as np\n",
    "import subprocess\n",
    "import json\n",
    "\n",
    "py_exec = '/cbica/home/parkesl/miniconda3/envs/neurodev_cs_predictive/bin/python'\n",
    "\n",
    "my_str = 'schaefer_200_streamlineCount'\n",
    "# my_str = 'schaefer_400_streamlineCount'\n",
    "\n",
    "indir = '/cbica/home/parkesl/research_projects/neurodev_cs_predictive/2_pipeline/1_compute_node_features/out/'+my_str+'_'\n",
    "outdir = '/cbica/home/parkesl/research_projects/neurodev_cs_predictive/2_pipeline/3_prediction/out/'+my_str+'_'\n",
    "phenos = ['Overall_Psychopathology','Psychosis_Positive','Psychosis_NegativeDisorg']\n",
    "\n",
    "print(indir)\n",
    "print(phenos)\n",
    "    \n",
    "metrics = ['str', 'ac']\n",
    "algs = ['rr', 'krr_rbf']\n",
    "scores = ['corr', 'rmse']\n",
    "\n",
    "num_algs = len(algs)\n",
    "num_metrics = len(metrics)\n",
    "num_phenos = len(phenos)\n",
    "num_scores = len(scores)\n",
    "\n",
    "print(num_algs * num_metrics * num_phenos * num_scores)"
   ]
  },
  {
   "cell_type": "markdown",
   "metadata": {},
   "source": [
    "## Random splits cross-val (nuis, no param optimization)"
   ]
  },
  {
   "cell_type": "code",
   "execution_count": null,
   "metadata": {},
   "outputs": [],
   "source": [
    "py_script = '/cbica/home/parkesl/research_projects/neurodev_cs_predictive/1_code/cluster/predict_symptoms_rcv_nuis.py'\n",
    "modeldir = outdir+'predict_symptoms_rcv_nuis'\n",
    "\n",
    "for alg in algs:\n",
    "    for metric in metrics:\n",
    "        for pheno in phenos:\n",
    "            for score in scores:\n",
    "                subprocess_str = '{0} {1} -x {2}X.csv -y {2}y.csv -c {2}c.csv -alg {3} -metric {4} -pheno {5} -score {6} -o {7}'.format(py_exec, py_script, indir, alg, metric, pheno, score, modeldir)\n",
    "\n",
    "                name = 'prim' + '_' + alg + '_' + metric[0] + '_' + pheno[0] + '_' + score[0]\n",
    "                qsub_call = 'qsub -N {0} -l h_vmem=1G,s_vmem=1G -pe threaded 4 -j y -b y -o /cbica/home/parkesl/sge/ -e /cbica/home/parkesl/sge/ '.format(name)\n",
    "\n",
    "                os.system(qsub_call + subprocess_str)"
   ]
  },
  {
   "cell_type": "markdown",
   "metadata": {},
   "source": [
    "### Over c"
   ]
  },
  {
   "cell_type": "code",
   "execution_count": null,
   "metadata": {},
   "outputs": [],
   "source": [
    "metrics = ['ac_c10', 'ac_c100', 'ac_c1000', 'ac_c10000']\n",
    "py_script = '/cbica/home/parkesl/research_projects/neurodev_cs_predictive/1_code/cluster/predict_symptoms_rcv_nuis.py'\n",
    "modeldir = outdir+'predict_symptoms_rcv_nuis'\n",
    "\n",
    "for alg in algs:\n",
    "    for metric in metrics:\n",
    "        for pheno in phenos:\n",
    "            for score in scores:\n",
    "                subprocess_str = '{0} {1} -x {2}X_ac_c.csv -y {2}y.csv -c {2}c.csv -alg {3} -metric {4} -pheno {5} -score {6} -o {7}'.format(py_exec, py_script, indir, alg, metric, pheno, score, modeldir)\n",
    "\n",
    "                name = 'prim' + '_' + alg + '_' + metric[0] + '_' + pheno[0] + '_' + score[0]\n",
    "                qsub_call = 'qsub -N {0} -l h_vmem=1G,s_vmem=1G -pe threaded 2 -j y -b y -o /cbica/home/parkesl/sge/ -e /cbica/home/parkesl/sge/ '.format(name)\n",
    "\n",
    "                os.system(qsub_call + subprocess_str)\n",
    "\n",
    "metrics = ['str', 'ac']"
   ]
  },
  {
   "cell_type": "markdown",
   "metadata": {},
   "source": [
    "## Stratified cross-val (nuis, no param optimization)"
   ]
  },
  {
   "cell_type": "code",
   "execution_count": null,
   "metadata": {},
   "outputs": [],
   "source": [
    "py_script = '/cbica/home/parkesl/research_projects/neurodev_cs_predictive/1_code/cluster/predict_symptoms_scv_nuis.py'\n",
    "modeldir = outdir+'predict_symptoms_scv_nuis'\n",
    "\n",
    "for alg in algs:\n",
    "    for metric in metrics:\n",
    "        for pheno in phenos:\n",
    "            for score in scores:\n",
    "                subprocess_str = '{0} {1} -x {2}X.csv -y {2}y.csv -c {2}c.csv -alg {3} -metric {4} -pheno {5} -score {6} -o {7}'.format(py_exec, py_script, indir, alg, metric, pheno, score, modeldir)\n",
    "\n",
    "                name = 'null' + '_' + alg + '_' + metric[0] + '_' + pheno[0] + '_' + score[0]\n",
    "                qsub_call = 'qsub -N {0} -l h_vmem=1G,s_vmem=1G -pe threaded 4 -j y -b y -o /cbica/home/parkesl/sge/ -e /cbica/home/parkesl/sge/ '.format(name)\n",
    "\n",
    "                os.system(qsub_call + subprocess_str)"
   ]
  },
  {
   "cell_type": "markdown",
   "metadata": {},
   "source": [
    "## Random splits cross-val (no nuis, param optimization)"
   ]
  },
  {
   "cell_type": "code",
   "execution_count": null,
   "metadata": {},
   "outputs": [],
   "source": [
    "py_script = '/cbica/home/parkesl/research_projects/neurodev_cs_predictive/1_code/cluster/predict_symptoms_ncv.py'\n",
    "modeldir = outdir+'predict_symptoms_ncv'\n",
    "\n",
    "for alg in algs:\n",
    "    for metric in metrics:\n",
    "        for pheno in phenos:\n",
    "            for score in scores:\n",
    "                subprocess_str = '{0} {1} -x {2}X.csv -y {2}y.csv -alg {3} -metric {4} -pheno {5} -score {6} -o {7}'.format(py_exec, py_script, indir, alg, metric, pheno, score, modeldir)\n",
    "\n",
    "                name = 'ncv' + '_' + alg + '_' + metric[0] + '_' + pheno[0] + '_' + score[0]\n",
    "                qsub_call = 'qsub -N {0} -l h_vmem=1G,s_vmem=1G -t 1-100 -pe threaded 1 -j y -b y -o /cbica/home/parkesl/sge/ -e /cbica/home/parkesl/sge/ '.format(name)\n",
    "\n",
    "                os.system(qsub_call + subprocess_str)"
   ]
  },
  {
   "cell_type": "markdown",
   "metadata": {},
   "source": [
    "## Assemble outputs"
   ]
  },
  {
   "cell_type": "code",
   "execution_count": null,
   "metadata": {},
   "outputs": [],
   "source": [
    "seeds = np.arange(0,100)\n",
    "num_seeds = len(seeds)\n",
    "\n",
    "workdir = outdir+'predict_symptoms_ncv'\n",
    "\n",
    "nested_score_mean = np.zeros((num_seeds, num_algs, num_scores, num_metrics, num_phenos))\n",
    "best_alpha = np.zeros((num_seeds, num_algs, num_scores, num_metrics, num_phenos))\n",
    "run_time_seconds = np.zeros((num_seeds, num_algs, num_scores, num_metrics, num_phenos))\n",
    "\n",
    "for se, seed in enumerate(seeds):\n",
    "    print(seed)\n",
    "    for a, alg in enumerate(algs):\n",
    "        for s, score in enumerate(scores):\n",
    "            for m, metric in enumerate(metrics):\n",
    "                for p, pheno in enumerate(phenos):\n",
    "                    nested_score = np.loadtxt(os.path.join(workdir, 'split_'+str(seed), alg + '_' + score + '_' + metric + '_' + pheno, 'nested_score.csv'))\n",
    "                    nested_score_mean[se,a,s,m,p] = nested_score.mean()\n",
    "\n",
    "                    best_params = json.load(open(os.path.join(workdir, 'split_'+str(seed), alg + '_' + score + '_' + metric + '_' + pheno, 'best_params.json')))\n",
    "                    best_alpha[se,a,s,m,p] = best_params['reg__alpha']\n",
    "\n",
    "                    run_time_seconds[se,a,s,m,p] = np.loadtxt(os.path.join(workdir, 'split_'+str(seed), alg + '_' + score + '_' + metric + '_' + pheno, 'run_time_seconds.txt'))\n",
    "\n",
    "np.save(os.path.join(workdir, 'nested_score_mean'), nested_score_mean)\n",
    "np.save(os.path.join(workdir, 'best_alpha'), best_alpha)\n",
    "np.save(os.path.join(workdir, 'run_time_seconds'), run_time_seconds)"
   ]
  }
 ],
 "metadata": {
  "kernelspec": {
   "display_name": "Python 3",
   "language": "python",
   "name": "python3"
  },
  "language_info": {
   "codemirror_mode": {
    "name": "ipython",
    "version": 3
   },
   "file_extension": ".py",
   "mimetype": "text/x-python",
   "name": "python",
   "nbconvert_exporter": "python",
   "pygments_lexer": "ipython3",
   "version": "3.7.7"
  }
 },
 "nbformat": 4,
 "nbformat_minor": 4
}
