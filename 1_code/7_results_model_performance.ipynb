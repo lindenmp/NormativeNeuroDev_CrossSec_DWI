{
 "cells": [
  {
   "cell_type": "code",
   "execution_count": 1,
   "metadata": {},
   "outputs": [],
   "source": [
    "# Essentials\n",
    "import os, sys, glob\n",
    "import pandas as pd\n",
    "import numpy as np\n",
    "import nibabel as nib\n",
    "import scipy.io as sio\n",
    "\n",
    "# Stats\n",
    "import scipy as sp\n",
    "from scipy import stats\n",
    "import statsmodels.api as sm\n",
    "import pingouin as pg\n",
    "\n",
    "# Plotting\n",
    "import seaborn as sns\n",
    "import matplotlib.pyplot as plt\n",
    "plt.rcParams['svg.fonttype'] = 'none'"
   ]
  },
  {
   "cell_type": "code",
   "execution_count": 2,
   "metadata": {},
   "outputs": [],
   "source": [
    "from matplotlib.ticker import FormatStrFormatter"
   ]
  },
  {
   "cell_type": "code",
   "execution_count": 3,
   "metadata": {},
   "outputs": [],
   "source": [
    "sys.path.append('/Users/lindenmp/Google-Drive-Penn/work/research_projects/neurodev_cs_predictive/1_code/')\n",
    "from func import set_proj_env, my_get_cmap, get_fdr_p, assemble_df, get_exact_p"
   ]
  },
  {
   "cell_type": "code",
   "execution_count": 4,
   "metadata": {},
   "outputs": [],
   "source": [
    "parc_str = 'schaefer'\n",
    "parc_scale = 200\n",
    "edge_weight = 'streamlineCount'\n",
    "parcel_names, parcel_loc, drop_parcels, num_parcels = set_proj_env(parc_str = parc_str, parc_scale = parc_scale, edge_weight = edge_weight)"
   ]
  },
  {
   "cell_type": "code",
   "execution_count": 5,
   "metadata": {},
   "outputs": [
    {
     "data": {
      "text/plain": [
       "'schaefer_200_streamlineCount_'"
      ]
     },
     "execution_count": 5,
     "metadata": {},
     "output_type": "execute_result"
    }
   ],
   "source": [
    "# output file prefix\n",
    "outfile_prefix = parc_str+'_'+str(parc_scale)+'_'+edge_weight+'_'\n",
    "outfile_prefix"
   ]
  },
  {
   "cell_type": "markdown",
   "metadata": {},
   "source": [
    "### Setup directory variables"
   ]
  },
  {
   "cell_type": "code",
   "execution_count": 6,
   "metadata": {},
   "outputs": [
    {
     "name": "stdout",
     "output_type": "stream",
     "text": [
      "/Users/lindenmp/Google-Drive-Penn/work/research_projects/neurodev_cs_predictive/2_pipeline\n"
     ]
    }
   ],
   "source": [
    "print(os.environ['PIPELINEDIR'])\n",
    "if not os.path.exists(os.environ['PIPELINEDIR']): os.makedirs(os.environ['PIPELINEDIR'])"
   ]
  },
  {
   "cell_type": "code",
   "execution_count": 7,
   "metadata": {},
   "outputs": [
    {
     "name": "stdout",
     "output_type": "stream",
     "text": [
      "/Users/lindenmp/Google-Drive-Penn/work/research_projects/neurodev_cs_predictive/3_output/figs\n"
     ]
    }
   ],
   "source": [
    "figdir = os.path.join(os.environ['OUTPUTDIR'], 'figs')\n",
    "print(figdir)\n",
    "if not os.path.exists(figdir): os.makedirs(figdir)"
   ]
  },
  {
   "cell_type": "code",
   "execution_count": 8,
   "metadata": {},
   "outputs": [
    {
     "name": "stdout",
     "output_type": "stream",
     "text": [
      "['Overall_Psychopathology', 'Psychosis_Positive', 'Psychosis_NegativeDisorg']\n"
     ]
    }
   ],
   "source": [
    "phenos = ['Overall_Psychopathology','Psychosis_Positive','Psychosis_NegativeDisorg']\n",
    "phenos_label = ['Overall Psychopathology','Psychosis (Positive)','Psychosis (Negative)']\n",
    "phenos_short = ['Ov. Psy.','Psy. (pos)','Psy. (neg)']\n",
    "\n",
    "print(phenos)\n",
    "\n",
    "metrics = ['str', 'ac']\n",
    "metrics_label = ['Strength', 'Average Controllability']\n",
    "\n",
    "algs = ['rr', 'krr_rbf']\n",
    "scores = ['corr', 'rmse']\n",
    "seeds = np.arange(0,100)"
   ]
  },
  {
   "cell_type": "code",
   "execution_count": 9,
   "metadata": {},
   "outputs": [],
   "source": [
    "num_algs = len(algs)\n",
    "num_metrics = len(metrics)\n",
    "num_phenos = len(phenos)\n",
    "num_scores = len(scores)"
   ]
  },
  {
   "cell_type": "markdown",
   "metadata": {},
   "source": [
    "## Setup plots"
   ]
  },
  {
   "cell_type": "code",
   "execution_count": 10,
   "metadata": {},
   "outputs": [],
   "source": [
    "if not os.path.exists(figdir): os.makedirs(figdir)\n",
    "os.chdir(figdir)\n",
    "sns.set(style='white', context = 'paper', font_scale = 1)\n",
    "cmap = my_get_cmap('pair')"
   ]
  },
  {
   "cell_type": "markdown",
   "metadata": {},
   "source": [
    "## Load data"
   ]
  },
  {
   "cell_type": "code",
   "execution_count": 11,
   "metadata": {},
   "outputs": [],
   "source": [
    "df_node = pd.read_csv(os.path.join(os.environ['PIPELINEDIR'], '1_compute_node_features', 'out', outfile_prefix+'X.csv'))\n",
    "df_node.set_index(['bblid', 'scanid'], inplace = True)\n",
    "\n",
    "df_pheno = pd.read_csv(os.path.join(os.environ['PIPELINEDIR'], '1_compute_node_features', 'out', outfile_prefix+'y.csv'))\n",
    "df_pheno.set_index(['bblid', 'scanid'], inplace = True)"
   ]
  },
  {
   "cell_type": "code",
   "execution_count": 12,
   "metadata": {},
   "outputs": [
    {
     "name": "stdout",
     "output_type": "stream",
     "text": [
      "rmse\n"
     ]
    }
   ],
   "source": [
    "score = scores[1]; print(score)"
   ]
  },
  {
   "cell_type": "code",
   "execution_count": 13,
   "metadata": {},
   "outputs": [
    {
     "data": {
      "text/plain": [
       "'/Users/lindenmp/Google-Drive-Penn/work/research_projects/neurodev_cs_predictive/2_pipeline/3_prediction/out/schaefer_200_streamlineCount_'"
      ]
     },
     "execution_count": 13,
     "metadata": {},
     "output_type": "execute_result"
    }
   ],
   "source": [
    "predictiondir = os.path.join(os.environ['PIPELINEDIR'], '3_prediction', 'out', outfile_prefix)\n",
    "predictiondir"
   ]
  },
  {
   "cell_type": "markdown",
   "metadata": {},
   "source": [
    "### Load random splits cross-val (with nuis)"
   ]
  },
  {
   "cell_type": "code",
   "execution_count": 14,
   "metadata": {},
   "outputs": [
    {
     "name": "stdout",
     "output_type": "stream",
     "text": [
      "/Users/lindenmp/Google-Drive-Penn/work/research_projects/neurodev_cs_predictive/2_pipeline/3_prediction/out/schaefer_200_streamlineCount_predict_symptoms_rcv_nuis\n",
      "(100, 2, 2, 3)\n"
     ]
    }
   ],
   "source": [
    "indir = predictiondir + 'predict_symptoms_rcv_nuis'\n",
    "print(indir)\n",
    "\n",
    "accuracy_mean_nuis = np.zeros((100, len(algs), len(metrics), len(phenos)))\n",
    "accuracy_std_nuis = np.zeros((100, len(algs), len(metrics), len(phenos)))\n",
    "y_pred_var = np.zeros((100, len(algs), len(metrics), len(phenos)))\n",
    "\n",
    "for a, alg in enumerate(algs):\n",
    "    for m, metric in enumerate(metrics):\n",
    "        for p, pheno in enumerate(phenos):\n",
    "            accuracy_mean_nuis[:,a,m,p] = np.loadtxt(os.path.join(indir, alg + '_' + score + '_' + metric + '_' + pheno, 'accuracy_mean.txt'))\n",
    "            accuracy_std_nuis[:,a,m,p] = np.loadtxt(os.path.join(indir, alg + '_' + score + '_' + metric + '_' + pheno, 'accuracy_std.txt'))\n",
    "            y_pred_out_repeats = np.loadtxt(os.path.join(indir, alg + '_' + score + '_' + metric + '_' + pheno, 'y_pred_out_repeats.txt'))\n",
    "            y_pred_var[:,a,m,p] = y_pred_out_repeats.var(axis = 0)\n",
    "\n",
    "if score == 'rmse' or score == 'mae':\n",
    "    accuracy_mean_nuis = np.abs(accuracy_mean_nuis)\n",
    "    accuracy_std_nuis = np.abs(accuracy_std_nuis)\n",
    "                \n",
    "print(accuracy_mean_nuis.shape)"
   ]
  },
  {
   "cell_type": "markdown",
   "metadata": {},
   "source": [
    "### Load stratified cross-val (with nuis)"
   ]
  },
  {
   "cell_type": "code",
   "execution_count": 15,
   "metadata": {},
   "outputs": [
    {
     "name": "stdout",
     "output_type": "stream",
     "text": [
      "/Users/lindenmp/Google-Drive-Penn/work/research_projects/neurodev_cs_predictive/2_pipeline/3_prediction/out/schaefer_200_streamlineCount_predict_symptoms_scv_nuis\n",
      "(2, 2, 3)\n"
     ]
    }
   ],
   "source": [
    "indir = predictiondir + 'predict_symptoms_scv_nuis'\n",
    "print(indir)\n",
    "\n",
    "scv_accuracy_mean_nuis = np.zeros((len(algs), len(metrics), len(phenos)))\n",
    "scv_accuracy_std_nuis = np.zeros((len(algs), len(metrics), len(phenos)))\n",
    "\n",
    "for a, alg in enumerate(algs):\n",
    "    for m, metric in enumerate(metrics):\n",
    "        for p, pheno in enumerate(phenos):\n",
    "            scv_accuracy_mean_nuis[a,m,p] = np.loadtxt(os.path.join(indir, alg + '_' + score + '_' + metric + '_' + pheno, 'accuracy_mean_nuis.txt'))\n",
    "            scv_accuracy_std_nuis[a,m,p] = np.loadtxt(os.path.join(indir, alg + '_' + score + '_' + metric + '_' + pheno, 'accuracy_std_nuis.txt'))\n",
    "\n",
    "if score == 'rmse' or score == 'mae':\n",
    "    scv_accuracy_mean_nuis = np.abs(scv_accuracy_mean_nuis)\n",
    "    scv_accuracy_std_nuis = np.abs(scv_accuracy_std_nuis)\n",
    "                \n",
    "print(scv_accuracy_mean_nuis.shape)"
   ]
  },
  {
   "cell_type": "markdown",
   "metadata": {},
   "source": [
    "# Plot results"
   ]
  },
  {
   "cell_type": "markdown",
   "metadata": {},
   "source": [
    "### Figure S4"
   ]
  },
  {
   "cell_type": "code",
   "execution_count": 16,
   "metadata": {},
   "outputs": [
    {
     "data": {
      "image/png": "[encoded data removed]",
      "text/plain": [
       "<Figure size 216x144 with 1 Axes>"
      ]
     },
     "metadata": {},
     "output_type": "display_data"
    },
    {
     "data": {
      "image/png": "[encoded data removed]",
      "text/plain": [
       "<Figure size 216x144 with 1 Axes>"
      ]
     },
     "metadata": {},
     "output_type": "display_data"
    }
   ],
   "source": [
    "for metric in metrics:\n",
    "    f, ax = plt.subplots()\n",
    "    f.set_figwidth(3)\n",
    "    f.set_figheight(2)\n",
    "\n",
    "    df = assemble_df(accuracy_mean_nuis, algs, metrics, phenos)\n",
    "    df = df.loc[df.loc[:,'metric'] == metric,:]\n",
    "    df.loc[df.loc[:,'alg'] == 'rr','alg'] = 'Ridge'\n",
    "    df.loc[df.loc[:,'alg'] == 'krr_rbf','alg'] = 'Kernel Ridge'\n",
    "\n",
    "    sns.violinplot(x = 'pheno', y = 'score', hue = 'alg', data = df, ax = ax, inner = 'quartile', split = False, linewidth = 0.5, palette = 'Pastel1')\n",
    "    ax.tick_params(pad = -2)\n",
    "\n",
    "    if metric == 'str': ax.set_title('Strength')\n",
    "    elif metric == 'ac': ax.set_title('Average Controllability')\n",
    "\n",
    "    ax.legend(loc='lower center', bbox_to_anchor=(0.5, 1.1), ncol=3)\n",
    "    ax.set_xticklabels(phenos_short)\n",
    "    ax.set_xlabel('Symptom Dimensions')\n",
    "    if score == 'rmse': ax.set_ylabel('RMSE (lower = better)')\n",
    "    elif score == 'corr': ax.set_ylabel('corr(y_true,y_pred)')\n",
    "\n",
    "    if score == 'rmse' and parc_scale == 200: ax.set_ylim([0.975,1.175])\n",
    "    elif score == 'rmse' and parc_scale == 400: ax.set_ylim([0.95,1.45])\n",
    "    ax.yaxis.set_major_formatter(FormatStrFormatter('%.3f'))\n",
    "\n",
    "    f.savefig(outfile_prefix+'model_selection_'+metric+'.svg', dpi = 300, bbox_inches = 'tight')"
   ]
  },
  {
   "cell_type": "code",
   "execution_count": 17,
   "metadata": {},
   "outputs": [
    {
     "name": "stdout",
     "output_type": "stream",
     "text": [
      "krr_rbf\n"
     ]
    }
   ],
   "source": [
    "a = 1; alg = algs[a]; print(alg)"
   ]
  },
  {
   "cell_type": "markdown",
   "metadata": {},
   "source": [
    "### Figure 2"
   ]
  },
  {
   "cell_type": "code",
   "execution_count": 18,
   "metadata": {},
   "outputs": [],
   "source": [
    "df = assemble_df(accuracy_mean_nuis, algs, metrics, phenos)\n",
    "df = df.loc[df.loc[:,'alg'] == alg,:]\n",
    "df = df.loc[df.loc[:,'pheno'] == pheno,:]"
   ]
  },
  {
   "cell_type": "code",
   "execution_count": 19,
   "metadata": {},
   "outputs": [],
   "source": [
    "stats = pd.DataFrame(index = phenos, columns = ['test_stat', 'pval'])\n",
    "for pheno in phenos:\n",
    "    df = assemble_df(accuracy_mean_nuis, algs, metrics, phenos)\n",
    "    df = df.loc[df.loc[:,'alg'] == alg,:]\n",
    "    df = df.loc[df.loc[:,'pheno'] == pheno,:]\n",
    "    \n",
    "    x = df.loc[df.loc[:,'metric'] == 'str','score']\n",
    "    y = df.loc[df.loc[:,'metric'] == 'ac','score']\n",
    "#     my_ttest = sp.stats.ttest_rel(x, y)\n",
    "#     stats.loc[pheno,'test_stat'] = my_ttest[0]\n",
    "#     stats.loc[pheno,'pval'] = my_ttest[1]\n",
    "    stats.loc[pheno,'test_stat'] = np.mean(x)-np.mean(y)\n",
    "    stats.loc[pheno,'pval'] = get_exact_p(x, y)\n",
    "    \n",
    "stats.loc[:,'pval_corr'] = get_fdr_p(stats.loc[:,'pval'])\n",
    "stats.loc[:,'sig'] = stats.loc[:,'pval_corr'] < 0.05"
   ]
  },
  {
   "cell_type": "code",
   "execution_count": 20,
   "metadata": {},
   "outputs": [
    {
     "data": {
      "text/html": [
       "<div>\n",
       "<style scoped>\n",
       "    .dataframe tbody tr th:only-of-type {\n",
       "        vertical-align: middle;\n",
       "    }\n",
       "\n",
       "    .dataframe tbody tr th {\n",
       "        vertical-align: top;\n",
       "    }\n",
       "\n",
       "    .dataframe thead th {\n",
       "        text-align: right;\n",
       "    }\n",
       "</style>\n",
       "<table border=\"1\" class=\"dataframe\">\n",
       "  <thead>\n",
       "    <tr style=\"text-align: right;\">\n",
       "      <th></th>\n",
       "      <th>test_stat</th>\n",
       "      <th>pval</th>\n",
       "      <th>pval_corr</th>\n",
       "      <th>sig</th>\n",
       "    </tr>\n",
       "  </thead>\n",
       "  <tbody>\n",
       "    <tr>\n",
       "      <th>Overall_Psychopathology</th>\n",
       "      <td>-0.00583821</td>\n",
       "      <td>0.06</td>\n",
       "      <td>0.09</td>\n",
       "      <td>False</td>\n",
       "    </tr>\n",
       "    <tr>\n",
       "      <th>Psychosis_Positive</th>\n",
       "      <td>0.0231348</td>\n",
       "      <td>0</td>\n",
       "      <td>0</td>\n",
       "      <td>True</td>\n",
       "    </tr>\n",
       "    <tr>\n",
       "      <th>Psychosis_NegativeDisorg</th>\n",
       "      <td>-0.000659901</td>\n",
       "      <td>0.74</td>\n",
       "      <td>0.74</td>\n",
       "      <td>False</td>\n",
       "    </tr>\n",
       "  </tbody>\n",
       "</table>\n",
       "</div>"
      ],
      "text/plain": [
       "                            test_stat  pval pval_corr    sig\n",
       "Overall_Psychopathology   -0.00583821  0.06      0.09  False\n",
       "Psychosis_Positive          0.0231348     0         0   True\n",
       "Psychosis_NegativeDisorg -0.000659901  0.74      0.74  False"
      ]
     },
     "execution_count": 20,
     "metadata": {},
     "output_type": "execute_result"
    }
   ],
   "source": [
    "stats"
   ]
  },
  {
   "cell_type": "code",
   "execution_count": 21,
   "metadata": {},
   "outputs": [
    {
     "data": {
      "image/png": "[encoded data removed]",
      "text/plain": [
       "<Figure size 468x180 with 3 Axes>"
      ]
     },
     "metadata": {},
     "output_type": "display_data"
    }
   ],
   "source": [
    "f, ax = plt.subplots(1, len(phenos))\n",
    "f.set_figwidth(6.5)\n",
    "f.set_figheight(2.5)\n",
    "\n",
    "for i, pheno in enumerate(phenos): \n",
    "    pheno_label = phenos_label[i]\n",
    "\n",
    "    df = assemble_df(accuracy_mean_nuis, algs, metrics, phenos)\n",
    "    df = df.loc[df.loc[:,'alg'] == alg,:]\n",
    "    df = df.loc[df.loc[:,'pheno'] == pheno,:]\n",
    "\n",
    "    sns.violinplot(x = 'metric', y = 'score', data = df, ax = ax[i], inner = 'quartile', split = False, palette = cmap, linewidth = 1)\n",
    "    ax[i].tick_params(pad = -2)\n",
    "\n",
    "    ax[i].set_title(pheno_label)\n",
    "    if score == 'rmse': ax[i].set_ylabel('RMSE (lower = better)')\n",
    "    elif score == 'corr': ax[i].set_ylabel('corr(y_true,y_pred)')\n",
    "\n",
    "    ax[i].set_xlabel('Connectivity Feature')\n",
    "    ax[i].yaxis.set_major_formatter(FormatStrFormatter('%.3f'))\n",
    "\n",
    "    for tick in ax[i].xaxis.get_majorticklabels():\n",
    "        tick.set_y(.025)\n",
    "\n",
    "    if stats.loc[pheno,'sig']:\n",
    "        y_pos = ax[i].get_ylim()[0]\n",
    "        ax[i].axhline(y = y_pos-(y_pos*.0005), xmin = 0.25, xmax = 0.75, color = 'black')\n",
    "        ax[i].text(x = 0.5, y = y_pos-(y_pos*.0005), s =  '$p$ < 0.05', horizontalalignment='center', verticalalignment='bottom', color = 'black', fontsize = 8)\n",
    "\n",
    "    # add stratified cv score\n",
    "    ax[i].scatter(x = np.arange(len(metrics)), y = scv_accuracy_mean_nuis[a,:,i], marker = 'o', s = 50, edgecolors = 'black', facecolors = 'gray', alpha=0.8, linewidth = 1.5)\n",
    "\n",
    "plt.subplots_adjust(wspace=0.5)\n",
    "        \n",
    "f.savefig(outfile_prefix+'performance_comparison_'+alg+'.svg', dpi = 300, bbox_inches = 'tight')"
   ]
  },
  {
   "cell_type": "markdown",
   "metadata": {},
   "source": [
    "### Correlate across scores"
   ]
  },
  {
   "cell_type": "code",
   "execution_count": 22,
   "metadata": {},
   "outputs": [
    {
     "name": "stdout",
     "output_type": "stream",
     "text": [
      "/Users/lindenmp/Google-Drive-Penn/work/research_projects/neurodev_cs_predictive/2_pipeline/3_prediction/out/schaefer_200_streamlineCount_predict_symptoms_rcv_nuis\n"
     ]
    }
   ],
   "source": [
    "indir = predictiondir + 'predict_symptoms_rcv_nuis'\n",
    "print(indir)\n",
    "accuracy_mean_nuis_rmse = np.zeros((100, len(algs), len(metrics), len(phenos)))\n",
    "\n",
    "for a, alg in enumerate(algs):\n",
    "    for m, metric in enumerate(metrics):\n",
    "        for p, pheno in enumerate(phenos):\n",
    "            accuracy_mean_nuis_rmse[:,a,m,p] = np.loadtxt(os.path.join(indir, alg + '_rmse_' + metric + '_' + pheno, 'accuracy_mean.txt'))"
   ]
  },
  {
   "cell_type": "code",
   "execution_count": 23,
   "metadata": {},
   "outputs": [
    {
     "name": "stdout",
     "output_type": "stream",
     "text": [
      "/Users/lindenmp/Google-Drive-Penn/work/research_projects/neurodev_cs_predictive/2_pipeline/3_prediction/out/schaefer_200_streamlineCount_predict_symptoms_rcv_nuis\n"
     ]
    }
   ],
   "source": [
    "indir = predictiondir + 'predict_symptoms_rcv_nuis'\n",
    "print(indir)\n",
    "accuracy_mean_nuis_corr = np.zeros((100, len(algs), len(metrics), len(phenos)))\n",
    "\n",
    "for a, alg in enumerate(algs):\n",
    "    for m, metric in enumerate(metrics):\n",
    "        for p, pheno in enumerate(phenos):\n",
    "            accuracy_mean_nuis_corr[:,a,m,p] = np.loadtxt(os.path.join(indir, alg + '_corr_' + metric + '_' + pheno, 'accuracy_mean.txt'))"
   ]
  },
  {
   "cell_type": "code",
   "execution_count": 24,
   "metadata": {},
   "outputs": [],
   "source": [
    "rmse_corr_corr = np.zeros((len(algs), len(metrics), len(phenos)))\n",
    "\n",
    "for a, alg in enumerate(algs):\n",
    "    for m, metric in enumerate(metrics):\n",
    "        for p, pheno in enumerate(phenos):\n",
    "            rmse_corr_corr[a,m,p] = sp.stats.pearsonr(accuracy_mean_nuis_rmse[:,a,m,p], accuracy_mean_nuis_corr[:,a,m,p])[0]"
   ]
  },
  {
   "cell_type": "code",
   "execution_count": 25,
   "metadata": {},
   "outputs": [
    {
     "data": {
      "text/plain": [
       "0.8806662073834429"
      ]
     },
     "execution_count": 25,
     "metadata": {},
     "output_type": "execute_result"
    }
   ],
   "source": [
    "rmse_corr_corr.mean()"
   ]
  },
  {
   "cell_type": "code",
   "execution_count": 26,
   "metadata": {},
   "outputs": [
    {
     "data": {
      "text/plain": [
       "0.03354351491184851"
      ]
     },
     "execution_count": 26,
     "metadata": {},
     "output_type": "execute_result"
    }
   ],
   "source": [
    "rmse_corr_corr.std()"
   ]
  },
  {
   "cell_type": "code",
   "execution_count": 27,
   "metadata": {},
   "outputs": [
    {
     "data": {
      "text/plain": [
       "<AxesSubplot:>"
      ]
     },
     "execution_count": 27,
     "metadata": {},
     "output_type": "execute_result"
    },
    {
     "data": {
      "image/png": "[encoded data removed]",
      "text/plain": [
       "<Figure size 432x288 with 1 Axes>"
      ]
     },
     "metadata": {},
     "output_type": "display_data"
    }
   ],
   "source": [
    "sns.distplot(rmse_corr_corr)"
   ]
  },
  {
   "cell_type": "markdown",
   "metadata": {},
   "source": [
    "### Load random splits nested cross-val (without nuis)"
   ]
  },
  {
   "cell_type": "code",
   "execution_count": 28,
   "metadata": {},
   "outputs": [
    {
     "name": "stdout",
     "output_type": "stream",
     "text": [
      "(100, 2, 2, 2, 3)\n",
      "(100, 2, 2, 3)\n"
     ]
    }
   ],
   "source": [
    "nested_score_mean = np.load(os.path.join(predictiondir+'predict_symptoms_ncv', 'nested_score_mean.npy'))\n",
    "print(nested_score_mean.shape)\n",
    "\n",
    "if score == 'corr':\n",
    "    nested_score_mean = nested_score_mean[:,:,0,:,:]\n",
    "elif score == 'rmse':\n",
    "    nested_score_mean = nested_score_mean[:,:,1,:,:]\n",
    "    nested_score_mean = np.abs(nested_score_mean)\n",
    "\n",
    "print(nested_score_mean.shape)"
   ]
  },
  {
   "cell_type": "markdown",
   "metadata": {},
   "source": [
    "### Figure S5"
   ]
  },
  {
   "cell_type": "code",
   "execution_count": 29,
   "metadata": {},
   "outputs": [
    {
     "data": {
      "image/png": "[encoded data removed]",
      "text/plain": [
       "<Figure size 216x144 with 1 Axes>"
      ]
     },
     "metadata": {},
     "output_type": "display_data"
    },
    {
     "data": {
      "image/png": "[encoded data removed]",
      "text/plain": [
       "<Figure size 216x144 with 1 Axes>"
      ]
     },
     "metadata": {},
     "output_type": "display_data"
    }
   ],
   "source": [
    "for metric in metrics:\n",
    "    f, ax = plt.subplots()\n",
    "    f.set_figwidth(3)\n",
    "    f.set_figheight(2)\n",
    "\n",
    "    df = assemble_df(nested_score_mean, algs, metrics, phenos)\n",
    "    df = df.loc[df.loc[:,'metric'] == metric,:]\n",
    "    df.loc[df.loc[:,'alg'] == 'rr','alg'] = 'Ridge'\n",
    "    df.loc[df.loc[:,'alg'] == 'krr_rbf','alg'] = 'Kernel Ridge'\n",
    "\n",
    "    sns.violinplot(x = 'pheno', y = 'score', hue = 'alg', data = df, ax = ax, inner = 'quartile', split = False, linewidth = 0.5, palette = 'Pastel1')\n",
    "#     if score == 'rmse': ax.axhline(y = 1, color = 'black', linestyle = ':')\n",
    "    ax.tick_params(pad = -2)\n",
    "\n",
    "    if metric == 'str': ax.set_title('Strength')\n",
    "    elif metric == 'ac': ax.set_title('Average Controllability')\n",
    "\n",
    "    ax.legend(loc='lower center', bbox_to_anchor=(0.5, 1.1), ncol=3)\n",
    "    ax.set_xticklabels(phenos_short)\n",
    "    ax.set_xlabel('Symptom Dimensions')\n",
    "    if score == 'rmse': ax.set_ylabel('RMSE (lower = better)')\n",
    "    elif score == 'corr': ax.set_ylabel('corr(y_true,y_pred)')\n",
    "\n",
    "    if score == 'rmse' and parc_scale == 200: ax.set_ylim([0.95,1.15])\n",
    "    elif score == 'rmse' and parc_scale == 400: ax.set_ylim([0.95,1.4])\n",
    "    ax.yaxis.set_major_formatter(FormatStrFormatter('%.3f'))\n",
    "\n",
    "    f.savefig(outfile_prefix+'model_selection_2_'+metric+'.svg', dpi = 300, bbox_inches = 'tight')"
   ]
  },
  {
   "cell_type": "markdown",
   "metadata": {},
   "source": [
    "### Figure S6"
   ]
  },
  {
   "cell_type": "code",
   "execution_count": 30,
   "metadata": {},
   "outputs": [],
   "source": [
    "stats = pd.DataFrame(index = phenos, columns = ['test_stat', 'pval'])\n",
    "for pheno in phenos:\n",
    "    df = assemble_df(nested_score_mean, algs, metrics, phenos)\n",
    "    df = df.loc[df.loc[:,'alg'] == alg,:]\n",
    "    df = df.loc[df.loc[:,'pheno'] == pheno,:]\n",
    "    \n",
    "    x = df.loc[df.loc[:,'metric'] == 'str','score']\n",
    "    y = df.loc[df.loc[:,'metric'] == 'ac','score']\n",
    "#     my_ttest = sp.stats.ttest_rel(x, y)\n",
    "#     stats.loc[pheno,'test_stat'] = my_ttest[0]\n",
    "#     stats.loc[pheno,'pval'] = my_ttest[1]\n",
    "    stats.loc[pheno,'test_stat'] = np.mean(x)-np.mean(y)\n",
    "    stats.loc[pheno,'pval'] = get_exact_p(x, y)\n",
    "    \n",
    "stats.loc[:,'pval_corr'] = get_fdr_p(stats.loc[:,'pval'])\n",
    "stats.loc[:,'sig'] = stats.loc[:,'pval_corr'] < 0.05"
   ]
  },
  {
   "cell_type": "code",
   "execution_count": 31,
   "metadata": {},
   "outputs": [
    {
     "data": {
      "image/png": "[encoded data removed]",
      "text/plain": [
       "<Figure size 468x180 with 3 Axes>"
      ]
     },
     "metadata": {},
     "output_type": "display_data"
    }
   ],
   "source": [
    "f, ax = plt.subplots(1, len(phenos))\n",
    "f.set_figwidth(6.5)\n",
    "f.set_figheight(2.5)\n",
    "\n",
    "for i, pheno in enumerate(phenos): \n",
    "    pheno_label = phenos_label[i]\n",
    "\n",
    "    df = assemble_df(nested_score_mean, algs, metrics, phenos)\n",
    "    df = df.loc[df.loc[:,'alg'] == alg,:]\n",
    "    df = df.loc[df.loc[:,'pheno'] == pheno,:]\n",
    "\n",
    "    sns.violinplot(x = 'metric', y = 'score', data = df, ax = ax[i], inner = 'quartile', split = False, palette = cmap, linewidth = 1)\n",
    "    ax[i].tick_params(pad = -2)\n",
    "\n",
    "    ax[i].set_title(pheno_label)\n",
    "    if score == 'rmse': ax[i].set_ylabel('RMSE (lower = better)')\n",
    "    elif score == 'corr': ax[i].set_ylabel('corr(y_true,y_pred)')\n",
    "\n",
    "    ax[i].set_xlabel('Connectivity Feature')\n",
    "    ax[i].yaxis.set_major_formatter(FormatStrFormatter('%.3f'))\n",
    "\n",
    "    for tick in ax[i].xaxis.get_majorticklabels():\n",
    "        tick.set_y(.025)\n",
    "\n",
    "    if stats.loc[pheno,'sig']:\n",
    "        y_pos = ax[i].get_ylim()[0]\n",
    "        ax[i].axhline(y = y_pos-(y_pos*.0005), xmin = 0.25, xmax = 0.75, color = 'black')\n",
    "        ax[i].text(x = 0.5, y = y_pos-(y_pos*.0005), s =  '$p$ < 0.05', horizontalalignment='center', verticalalignment='bottom', color = 'black', fontsize = 8)\n",
    "\n",
    "plt.subplots_adjust(wspace=0.5)\n",
    "        \n",
    "f.savefig(outfile_prefix+'performance_comparison_2_'+alg+'.svg', dpi = 300, bbox_inches = 'tight')"
   ]
  },
  {
   "cell_type": "markdown",
   "metadata": {},
   "source": [
    "### Correlate across scores"
   ]
  },
  {
   "cell_type": "code",
   "execution_count": 32,
   "metadata": {},
   "outputs": [
    {
     "name": "stdout",
     "output_type": "stream",
     "text": [
      "(100, 2, 2, 2, 3)\n"
     ]
    }
   ],
   "source": [
    "nested_score_mean = np.load(os.path.join(predictiondir+'predict_symptoms_ncv', 'nested_score_mean.npy'))\n",
    "print(nested_score_mean.shape)\n",
    "\n",
    "nested_score_mean_corr = nested_score_mean[:,:,0,:,:]\n",
    "nested_score_mean_rmse = nested_score_mean[:,:,1,:,:]"
   ]
  },
  {
   "cell_type": "code",
   "execution_count": 33,
   "metadata": {},
   "outputs": [],
   "source": [
    "rmse_corr_corr = np.zeros((len(algs), len(metrics), len(phenos)))\n",
    "\n",
    "for a, alg in enumerate(algs):\n",
    "    for m, metric in enumerate(metrics):\n",
    "        for p, pheno in enumerate(phenos):\n",
    "            rmse_corr_corr[a,m,p] = sp.stats.pearsonr(nested_score_mean_rmse[:,a,m,p], nested_score_mean_corr[:,a,m,p])[0]"
   ]
  },
  {
   "cell_type": "code",
   "execution_count": 34,
   "metadata": {},
   "outputs": [
    {
     "data": {
      "text/plain": [
       "0.7879058467937993"
      ]
     },
     "execution_count": 34,
     "metadata": {},
     "output_type": "execute_result"
    }
   ],
   "source": [
    "rmse_corr_corr.mean()"
   ]
  },
  {
   "cell_type": "code",
   "execution_count": 35,
   "metadata": {},
   "outputs": [
    {
     "data": {
      "text/plain": [
       "0.10464841246967499"
      ]
     },
     "execution_count": 35,
     "metadata": {},
     "output_type": "execute_result"
    }
   ],
   "source": [
    "rmse_corr_corr.std()"
   ]
  },
  {
   "cell_type": "code",
   "execution_count": 36,
   "metadata": {},
   "outputs": [
    {
     "data": {
      "text/plain": [
       "<AxesSubplot:>"
      ]
     },
     "execution_count": 36,
     "metadata": {},
     "output_type": "execute_result"
    },
    {
     "data": {
      "image/png": "[encoded data removed]",
      "text/plain": [
       "<Figure size 432x288 with 1 Axes>"
      ]
     },
     "metadata": {},
     "output_type": "display_data"
    }
   ],
   "source": [
    "sns.distplot(rmse_corr_corr)"
   ]
  }
 ],
 "metadata": {
  "kernelspec": {
   "display_name": "Python 3",
   "language": "python",
   "name": "python3"
  },
  "language_info": {
   "codemirror_mode": {
    "name": "ipython",
    "version": 3
   },
   "file_extension": ".py",
   "mimetype": "text/x-python",
   "name": "python",
   "nbconvert_exporter": "python",
   "pygments_lexer": "ipython3",
   "version": "3.7.7"
  }
 },
 "nbformat": 4,
 "nbformat_minor": 4
}
