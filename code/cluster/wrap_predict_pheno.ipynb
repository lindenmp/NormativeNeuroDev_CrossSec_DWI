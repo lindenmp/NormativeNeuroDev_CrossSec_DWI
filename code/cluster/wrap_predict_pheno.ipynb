{
 "cells": [
  {
   "cell_type": "markdown",
   "metadata": {},
   "source": [
    "## Submit jobs to cubic"
   ]
  },
  {
   "cell_type": "code",
   "execution_count": null,
   "metadata": {},
   "outputs": [],
   "source": [
    "import os\n",
    "import numpy as np\n",
    "import subprocess\n",
    "import json\n",
    "\n",
    "py_exec = '/cbica/home/parkesl/miniconda3/envs/neurodev_cs_predictive/bin/python'\n",
    "py_script = '/cbica/home/parkesl/ResProjects/neurodev_cs_predictive/code/cluster/predict_pheno.py'\n",
    "indir = '/cbica/home/parkesl/ResProjects/neurodev_cs_predictive/analysis_cubic/normative/t1Exclude/squeakycleanExclude/schaefer_200_streamlineCount_consist/ageAtScan1_Years+sex_adj/predict_pheno'\n",
    "\n",
    "metrics = ['ac', 'mc']\n",
    "phenos = ['Overall_Psychopathology','Psychosis_Positive','Psychosis_NegativeDisorg','AnxiousMisery','Externalizing','Fear']\n",
    "algs = ['rr', 'krr_lin', 'krr_rbf']\n",
    "seeds = np.arange(0,200)\n",
    "\n",
    "num_seeds = len(seeds)\n",
    "num_algs = len(algs)\n",
    "num_metrics = len(metrics)\n",
    "num_phenos = len(phenos)\n",
    "\n",
    "print(num_seeds * num_algs * num_metrics * num_phenos)"
   ]
  },
  {
   "cell_type": "code",
   "execution_count": null,
   "metadata": {},
   "outputs": [],
   "source": [
    "for seed in seeds:\n",
    "    for alg in algs:\n",
    "        for metric in metrics:\n",
    "            for pheno in phenos:\n",
    "                subprocess_str = '{0} {1} -x {2}/X.csv -y {2}/y.csv -seed {3} -alg {4} -metric {5} -pheno {6} -o {2}'.format(py_exec, py_script, indir, seed, alg, metric, pheno)\n",
    "\n",
    "                name = 's' + str(seed) + '_' + alg + '_' + metric + '_' + pheno\n",
    "                qsub_call = 'qsub -N {0} -l h_vmem=1G,s_vmem=1G -pe threaded 1 -j y -b y -o /cbica/home/parkesl/sge/ -e /cbica/home/parkesl/sge/ '.format(name)\n",
    "\n",
    "                os.system(qsub_call + subprocess_str)"
   ]
  },
  {
   "cell_type": "markdown",
   "metadata": {},
   "source": [
    "## Assemble outputs"
   ]
  },
  {
   "cell_type": "code",
   "execution_count": null,
   "metadata": {},
   "outputs": [],
   "source": [
    "nested_score_mean = np.zeros((num_seeds, num_algs, num_metrics, num_phenos))\n",
    "non_nested_r2 = np.zeros((num_seeds, num_algs, num_metrics, num_phenos))\n",
    "non_nested_mse = np.zeros((num_seeds, num_algs, num_metrics, num_phenos))\n",
    "non_nested_mae = np.zeros((num_seeds, num_algs, num_metrics, num_phenos))\n",
    "non_nested_corr = np.zeros((num_seeds, num_algs, num_metrics, num_phenos))\n",
    "\n",
    "for s, seed in enumerate(seeds):\n",
    "    print(seed)\n",
    "    for a, alg in enumerate(algs):\n",
    "        for m, metric in enumerate(metrics):\n",
    "            for p, pheno in enumerate(phenos):\n",
    "                nested_score = np.loadtxt(os.path.join(indir, 'split_'+str(seed), alg + '_' + metric + '_' + pheno, 'nested_score.csv'))\n",
    "                nested_score_mean[s,a,m,p] = nested_score.mean()\n",
    "                \n",
    "                best_scores = json.load(open(os.path.join(indir, 'split_'+str(seed), alg + '_' + metric + '_' + pheno, 'best_scores.json')))\n",
    "                non_nested_r2[s,a,m,p] = best_scores['r2']\n",
    "                non_nested_mse[s,a,m,p] = best_scores['mse']\n",
    "                non_nested_mae[s,a,m,p] = best_scores['mae']\n",
    "                non_nested_corr[s,a,m,p] = best_scores['corr']\n",
    "\n",
    "np.save(os.path.join(indir, 'nested_score_mean'), nested_score_mean)\n",
    "np.save(os.path.join(indir, 'non_nested_r2'), non_nested_r2)\n",
    "np.save(os.path.join(indir, 'non_nested_mse'), non_nested_mse)\n",
    "np.save(os.path.join(indir, 'non_nested_mae'), non_nested_mae)\n",
    "np.save(os.path.join(indir, 'non_nested_corr'), non_nested_corr)"
   ]
  }
 ],
 "metadata": {
  "kernelspec": {
   "display_name": "Python 3",
   "language": "python",
   "name": "python3"
  },
  "language_info": {
   "codemirror_mode": {
    "name": "ipython",
    "version": 3
   },
   "file_extension": ".py",
   "mimetype": "text/x-python",
   "name": "python",
   "nbconvert_exporter": "python",
   "pygments_lexer": "ipython3",
   "version": "3.7.7"
  }
 },
 "nbformat": 4,
 "nbformat_minor": 4
}
