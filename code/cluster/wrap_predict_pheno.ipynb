{
 "cells": [
  {
   "cell_type": "code",
   "execution_count": 34,
   "metadata": {},
   "outputs": [],
   "source": [
    "import os\n",
    "import numpy as np\n",
    "import subprocess\n",
    "\n",
    "py_exec = '/cbica/home/parkesl/miniconda3/envs/neurodev_cs_predictive/bin/python'\n",
    "py_script = '/cbica/home/parkesl/ResProjects/neurodev_cs_predictive/code/cluster/predict_pheno.py'\n",
    "indir = '/cbica/home/parkesl/ResProjects/neurodev_cs_predictive/analysis_cubic/normative/t1Exclude/squeakycleanExclude/schaefer_200_streamlineCount_consist/ageAtScan1_Years+sex_adj/predict_pheno'\n",
    "\n",
    "metrics = ['ac', 'mc']\n",
    "phenos = ['Overall_Psychopathology','Psychosis_Positive','Psychosis_NegativeDisorg','AnxiousMisery','Externalizing','Fear']\n",
    "algs = ['rr', 'krr_lin', 'krr_rbf']\n",
    "seeds = np.arange(0,200)\n",
    "\n",
    "print(len(seeds) * len(algs) * len(metrics) * len(phenos))\n",
    "\n",
    "for seed in seeds:\n",
    "    for alg in algs:\n",
    "        for metric in metrics:\n",
    "            for pheno in phenos:\n",
    "                subprocess_str = '{0} {1} -x {2}/X.csv -y {2}/y.csv -seed {3} -alg {4} -metric {5} -pheno {6} -o {2}'.format(py_exec, py_script, indir, seed, alg, metric, pheno)\n",
    "                # subprocess_str\n",
    "\n",
    "                name = 's' + str(seed) + '_' + alg + '_' + metric + '_' + pheno\n",
    "                qsub_call = 'qsub -N {0} -l h_vmem=1G,s_vmem=1G -pe threaded 1 -j y -b y -o /cbica/home/parkesl/sge/ -e /cbica/home/parkesl/sge/ '.format(name)\n",
    "\n",
    "                os.system(qsub_call + subprocess_str)"
   ]
  }
 ],
 "metadata": {
  "kernelspec": {
   "display_name": "Python 3",
   "language": "python",
   "name": "python3"
  },
  "language_info": {
   "codemirror_mode": {
    "name": "ipython",
    "version": 3
   },
   "file_extension": ".py",
   "mimetype": "text/x-python",
   "name": "python",
   "nbconvert_exporter": "python",
   "pygments_lexer": "ipython3",
   "version": "3.7.7"
  }
 },
 "nbformat": 4,
 "nbformat_minor": 4
}
