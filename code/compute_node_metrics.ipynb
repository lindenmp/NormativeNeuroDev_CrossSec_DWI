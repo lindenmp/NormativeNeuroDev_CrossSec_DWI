{
 "cells": [
  {
   "cell_type": "markdown",
   "metadata": {},
   "source": [
    "# Preamble"
   ]
  },
  {
   "cell_type": "code",
   "execution_count": 1,
   "metadata": {},
   "outputs": [],
   "source": [
    "import os, sys, glob\n",
    "import pandas as pd\n",
    "import numpy as np\n",
    "import scipy.io as sio"
   ]
  },
  {
   "cell_type": "code",
   "execution_count": 2,
   "metadata": {},
   "outputs": [],
   "source": [
    "sys.path.append('/Users/lindenmp/Dropbox/Work/ResProjects/NormativeNeuroDev_CrossSec_DWI/code/func/')\n",
    "from proj_environment import set_proj_env\n",
    "from func import node_strength, ave_control, modal_control"
   ]
  },
  {
   "cell_type": "code",
   "execution_count": 3,
   "metadata": {},
   "outputs": [],
   "source": [
    "train_test_str = 'squeakycleanExclude'\n",
    "exclude_str = 't1Exclude' # 't1Exclude' 'fsFinalExclude'\n",
    "parc_str = 'schaefer' # 'schaefer' 'lausanne'\n",
    "parc_scale = 400 # 200 400 | 60 125\n",
    "parcel_names, parcel_loc, drop_parcels, num_parcels, yeo_idx, yeo_labels = set_proj_env(train_test_str = train_test_str, exclude_str = exclude_str,\n",
    "                                                                            parc_str = parc_str, parc_scale = parc_scale)"
   ]
  },
  {
   "cell_type": "markdown",
   "metadata": {},
   "source": [
    "### Setup output directory"
   ]
  },
  {
   "cell_type": "code",
   "execution_count": 4,
   "metadata": {},
   "outputs": [
    {
     "name": "stdout",
     "output_type": "stream",
     "text": [
      "/Users/lindenmp/Dropbox/Work/ResProjects/NormativeNeuroDev_CrossSec_DWI/analysis/normative/t1Exclude/squeakycleanExclude/schaefer_400_streamlineCount\n"
     ]
    }
   ],
   "source": [
    "print(os.environ['MODELDIR'])\n",
    "if not os.path.exists(os.environ['MODELDIR']): os.makedirs(os.environ['MODELDIR'])"
   ]
  },
  {
   "cell_type": "markdown",
   "metadata": {},
   "source": [
    "## Load train/test .csv and setup node .csv"
   ]
  },
  {
   "cell_type": "code",
   "execution_count": 5,
   "metadata": {},
   "outputs": [
    {
     "data": {
      "text/plain": [
       "'/Users/lindenmp/Dropbox/Work/ResProjects/NormativeNeuroDev_CrossSec_DWI/analysis/normative/t1Exclude/squeakycleanExclude'"
      ]
     },
     "execution_count": 5,
     "metadata": {},
     "output_type": "execute_result"
    }
   ],
   "source": [
    "os.path.join(os.environ['TRTEDIR'])"
   ]
  },
  {
   "cell_type": "code",
   "execution_count": 6,
   "metadata": {},
   "outputs": [
    {
     "name": "stdout",
     "output_type": "stream",
     "text": [
      "(1100, 18)\n"
     ]
    }
   ],
   "source": [
    "# Load data\n",
    "df = pd.read_csv(os.path.join(os.environ['TRTEDIR'], 'df_pheno.csv'))\n",
    "df.set_index(['bblid', 'scanid'], inplace = True)\n",
    "print(df.shape)"
   ]
  },
  {
   "cell_type": "code",
   "execution_count": 7,
   "metadata": {},
   "outputs": [],
   "source": [
    "# Missing data file for this subject only for schaefer 200\n",
    "if parc_str == 'schaefer' and parc_scale == 200:\n",
    "    df.drop(labels = (112598, 5161), inplace=True)"
   ]
  },
  {
   "cell_type": "code",
   "execution_count": 8,
   "metadata": {},
   "outputs": [
    {
     "name": "stdout",
     "output_type": "stream",
     "text": [
      "(1100, 1201)\n"
     ]
    }
   ],
   "source": [
    "# output dataframe\n",
    "str_labels = ['str_' + str(i) for i in range(num_parcels)]\n",
    "ac_labels = ['ac_' + str(i) for i in range(num_parcels)]\n",
    "mc_labels = ['mc_' + str(i) for i in range(num_parcels)]\n",
    "\n",
    "df_node = pd.DataFrame(index = df.index, columns = str_labels + ac_labels + mc_labels)\n",
    "df_node.insert(0, train_test_str, df[train_test_str])\n",
    "\n",
    "print(df_node.shape)"
   ]
  },
  {
   "cell_type": "markdown",
   "metadata": {},
   "source": [
    "## Load in connectivity matrices and compute node metrics"
   ]
  },
  {
   "cell_type": "code",
   "execution_count": 9,
   "metadata": {},
   "outputs": [],
   "source": [
    "# fc stored as 3d matrix, subjects of 3rd dim\n",
    "A = np.zeros((num_parcels, num_parcels, df.shape[0]))\n",
    "S = np.zeros((df.shape[0], num_parcels))\n",
    "AC = np.zeros((df.shape[0], num_parcels))\n",
    "MC = np.zeros((df.shape[0], num_parcels))\n",
    "\n",
    "# subject filter\n",
    "subj_filt = np.zeros((df.shape[0],)).astype(bool)\n",
    "\n",
    "for (i, (index, row)) in enumerate(df.iterrows()):\n",
    "    if parc_str == 'lausanne':\n",
    "        file_name = os.environ['SC_NAME_TMP'].replace(\"scanid\", str(index[1]))\n",
    "        full_path = os.path.join(os.environ['SCDIR'], file_name)\n",
    "        try:\n",
    "            mat_contents = sio.loadmat(full_path)\n",
    "            a = mat_contents[os.environ['CONN_STR']]\n",
    "\n",
    "            A[:,:,i] = a\n",
    "            S[i,:] = node_strength(a)\n",
    "            AC[i,:] = ave_control(a)\n",
    "            MC[i,:] = modal_control(a)\n",
    "        except FileNotFoundError:\n",
    "            print(file_name + ': NOT FOUND')\n",
    "            subj_filt[i] = True\n",
    "            A[:,:,i] = np.full((num_parcels, num_parcels), np.nan)\n",
    "            S[i,:] = np.full(num_parcels, np.nan)\n",
    "            AC[i,:] = np.full(num_parcels, np.nan)\n",
    "            MC[i,:] = np.full(num_parcels, np.nan)\n",
    "    elif parc_str == 'schaefer':\n",
    "        file_name = os.environ['SC_NAME_TMP'].replace(\"scanid\", str(index[1]))\n",
    "        file_name = file_name.replace(\"bblid\", str(index[0]))\n",
    "        full_path = glob.glob(os.path.join(os.environ['SCDIR'], file_name))\n",
    "        if len(full_path) > 0:\n",
    "            mat_contents = sio.loadmat(full_path[0])\n",
    "            a = mat_contents[os.environ['CONN_STR']]\n",
    "\n",
    "            A[:,:,i] = a\n",
    "            S[i,:] = node_strength(a)\n",
    "            AC[i,:] = ave_control(a)\n",
    "            MC[i,:] = modal_control(a)\n",
    "        elif len(full_path) == 0:\n",
    "            print(file_name + ': NOT FOUND')\n",
    "            subj_filt[i] = True\n",
    "            A[:,:,i] = np.full((num_parcels, num_parcels), np.nan)\n",
    "            S[i,:] = np.full(num_parcels, np.nan)\n",
    "            AC[i,:] = np.full(num_parcels, np.nan)\n",
    "            MC[i,:] = np.full(num_parcels, np.nan)     \n",
    "\n",
    "df_node.loc[:,str_labels] = S\n",
    "df_node.loc[:,ac_labels] = AC\n",
    "df_node.loc[:,mc_labels] = MC"
   ]
  },
  {
   "cell_type": "code",
   "execution_count": 10,
   "metadata": {},
   "outputs": [
    {
     "data": {
      "text/plain": [
       "0"
      ]
     },
     "execution_count": 10,
     "metadata": {},
     "output_type": "execute_result"
    }
   ],
   "source": [
    "np.sum(subj_filt)"
   ]
  },
  {
   "cell_type": "code",
   "execution_count": 11,
   "metadata": {},
   "outputs": [],
   "source": [
    "if any(subj_filt):\n",
    "    A = A[:,:,~subj_filt]\n",
    "    df = df.loc[~subj_filt]\n",
    "    df_node = df_node.loc[~subj_filt]"
   ]
  },
  {
   "cell_type": "markdown",
   "metadata": {},
   "source": [
    "### Get streamline count and network density"
   ]
  },
  {
   "cell_type": "code",
   "execution_count": 12,
   "metadata": {},
   "outputs": [],
   "source": [
    "A_c = np.zeros((A.shape[2],))\n",
    "A_d = np.zeros((A.shape[2],))\n",
    "for i in range(A.shape[2]):\n",
    "    a = A[:,:,i]\n",
    "    A_c[i] = np.sum(np.triu(a))\n",
    "    A_d[i] = np.count_nonzero(np.triu(a))/((a.shape[0]**2-a.shape[0])/2)\n",
    "df['streamline_count'] = A_c\n",
    "df['network_density'] = A_d"
   ]
  },
  {
   "cell_type": "markdown",
   "metadata": {},
   "source": [
    "## Save out"
   ]
  },
  {
   "cell_type": "code",
   "execution_count": 13,
   "metadata": {},
   "outputs": [
    {
     "data": {
      "text/plain": [
       "'/Users/lindenmp/Dropbox/Work/ResProjects/NormativeNeuroDev_CrossSec_DWI/analysis/normative/t1Exclude/squeakycleanExclude/schaefer_400_streamlineCount'"
      ]
     },
     "execution_count": 13,
     "metadata": {},
     "output_type": "execute_result"
    }
   ],
   "source": [
    "os.environ['MODELDIR']"
   ]
  },
  {
   "cell_type": "code",
   "execution_count": 14,
   "metadata": {},
   "outputs": [],
   "source": [
    "# Save out\n",
    "np.save(os.path.join(os.environ['MODELDIR'], 'A'), A)\n",
    "df_node.to_csv(os.path.join(os.environ['MODELDIR'], 'df_node_base.csv'))\n",
    "df.to_csv(os.path.join(os.environ['MODELDIR'], 'df_pheno.csv'))\n",
    "\n",
    "if any(subj_filt):\n",
    "    np.save(os.path.join(os.environ['MODELDIR'], 'subj_filt'), subj_filt)"
   ]
  }
 ],
 "metadata": {
  "kernelspec": {
   "display_name": "Python 3",
   "language": "python",
   "name": "python3"
  },
  "language_info": {
   "codemirror_mode": {
    "name": "ipython",
    "version": 3
   },
   "file_extension": ".py",
   "mimetype": "text/x-python",
   "name": "python",
   "nbconvert_exporter": "python",
   "pygments_lexer": "ipython3",
   "version": "3.7.3"
  }
 },
 "nbformat": 4,
 "nbformat_minor": 4
}
