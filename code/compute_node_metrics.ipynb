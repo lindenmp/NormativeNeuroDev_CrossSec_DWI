{
 "cells": [
  {
   "cell_type": "markdown",
   "metadata": {},
   "source": [
    "# Preamble"
   ]
  },
  {
   "cell_type": "code",
   "execution_count": 1,
   "metadata": {},
   "outputs": [],
   "source": [
    "import os, sys, glob\n",
    "import pandas as pd\n",
    "import numpy as np\n",
    "import scipy.io as sio\n",
    "import nibabel as nib"
   ]
  },
  {
   "cell_type": "code",
   "execution_count": 2,
   "metadata": {},
   "outputs": [],
   "source": [
    "sys.path.append('/Users/lindenmp/Dropbox/Work/ResProjects/NormativeNeuroDev_CrossSec_DWI/code/func/')\n",
    "from proj_environment import set_proj_env\n",
    "from func import node_strength, ave_control, modal_control"
   ]
  },
  {
   "cell_type": "code",
   "execution_count": 3,
   "metadata": {},
   "outputs": [],
   "source": [
    "train_test_str = 'squeakycleanExclude'\n",
    "exclude_str = 't1Exclude'\n",
    "parc_str = 'schaefer'\n",
    "parc_scale = 200\n",
    "parcel_names, parcel_loc, drop_parcels, num_parcels, yeo_idx, yeo_labels = set_proj_env(train_test_str = train_test_str, exclude_str = exclude_str,\n",
    "                                                                            parc_str = parc_str, parc_scale = parc_scale)"
   ]
  },
  {
   "cell_type": "markdown",
   "metadata": {},
   "source": [
    "### Setup output directory"
   ]
  },
  {
   "cell_type": "code",
   "execution_count": 4,
   "metadata": {},
   "outputs": [
    {
     "name": "stdout",
     "output_type": "stream",
     "text": [
      "/Users/lindenmp/Dropbox/Work/ResProjects/NormativeNeuroDev_CrossSec_DWI/analysis/normative/t1Exclude/squeakycleanExclude/schaefer_200_streamlineCount\n"
     ]
    }
   ],
   "source": [
    "print(os.environ['MODELDIR'])\n",
    "if not os.path.exists(os.environ['MODELDIR']): os.makedirs(os.environ['MODELDIR'])"
   ]
  },
  {
   "cell_type": "markdown",
   "metadata": {},
   "source": [
    "## Load train/test .csv and setup node .csv"
   ]
  },
  {
   "cell_type": "code",
   "execution_count": 5,
   "metadata": {},
   "outputs": [
    {
     "data": {
      "text/plain": [
       "'/Users/lindenmp/Dropbox/Work/ResProjects/NormativeNeuroDev_CrossSec_DWI/analysis/normative/t1Exclude/squeakycleanExclude'"
      ]
     },
     "execution_count": 5,
     "metadata": {},
     "output_type": "execute_result"
    }
   ],
   "source": [
    "os.path.join(os.environ['TRTEDIR'])"
   ]
  },
  {
   "cell_type": "code",
   "execution_count": 6,
   "metadata": {},
   "outputs": [
    {
     "name": "stdout",
     "output_type": "stream",
     "text": [
      "(1100, 44)\n"
     ]
    }
   ],
   "source": [
    "# Load data\n",
    "df = pd.read_csv(os.path.join(os.environ['TRTEDIR'], 'df_pheno.csv'))\n",
    "df.set_index(['bblid', 'scanid'], inplace = True)\n",
    "print(df.shape)"
   ]
  },
  {
   "cell_type": "code",
   "execution_count": 7,
   "metadata": {},
   "outputs": [],
   "source": [
    "# Missing data file for this subject only for schaefer 200\n",
    "if parc_str == 'schaefer' and parc_scale == 200:\n",
    "    df.drop(labels = (112598, 5161), inplace=True)"
   ]
  },
  {
   "cell_type": "code",
   "execution_count": 8,
   "metadata": {},
   "outputs": [
    {
     "name": "stdout",
     "output_type": "stream",
     "text": [
      "(1099, 1001)\n"
     ]
    }
   ],
   "source": [
    "# output dataframe\n",
    "ct_labels = ['ct_' + str(i) for i in range(num_parcels)]\n",
    "vol_labels = ['vol_' + str(i) for i in range(num_parcels)]\n",
    "str_labels = ['str_' + str(i) for i in range(num_parcels)]\n",
    "ac_labels = ['ac_' + str(i) for i in range(num_parcels)]\n",
    "mc_labels = ['mc_' + str(i) for i in range(num_parcels)]\n",
    "\n",
    "df_node = pd.DataFrame(index = df.index, columns = ct_labels + vol_labels + str_labels + ac_labels + mc_labels)\n",
    "df_node.insert(0, train_test_str, df[train_test_str])\n",
    "\n",
    "print(df_node.shape)"
   ]
  },
  {
   "cell_type": "markdown",
   "metadata": {},
   "source": [
    "## Load in cortical thickness and volume"
   ]
  },
  {
   "cell_type": "code",
   "execution_count": 9,
   "metadata": {},
   "outputs": [
    {
     "name": "stdout",
     "output_type": "stream",
     "text": [
      "['/Users/lindenmp/Dropbox/Work/ResData/PNC/processedData/antsCorticalThickness/81287/20100114x2738/ct_schaefer200_17.txt']\n"
     ]
    }
   ],
   "source": [
    "CT = np.zeros((df.shape[0], num_parcels))\n",
    "\n",
    "for (i, (index, row)) in enumerate(df.iterrows()):\n",
    "    file_name = os.environ['CT_NAME_TMP'].replace(\"bblid\", str(index[0]))\n",
    "    file_name = file_name.replace(\"scanid\", str(index[1]))\n",
    "    full_path = glob.glob(os.path.join(os.environ['CTDIR'], file_name))\n",
    "    if i == 0: print(full_path)    \n",
    "\n",
    "    ct = np.loadtxt(full_path[0])\n",
    "    CT[i,:] = ct\n",
    "    \n",
    "df_node.loc[:,ct_labels] = CT"
   ]
  },
  {
   "cell_type": "code",
   "execution_count": 10,
   "metadata": {},
   "outputs": [],
   "source": [
    "# subject filter\n",
    "subj_filt = np.zeros((df.shape[0],)).astype(bool)"
   ]
  },
  {
   "cell_type": "code",
   "execution_count": 11,
   "metadata": {},
   "outputs": [
    {
     "name": "stdout",
     "output_type": "stream",
     "text": [
      "['/Users/lindenmp/Dropbox/Work/ResData/PNC/processedData/gm_vol_masks_native/81287/20100114x2738/Schaefer2018_200_17Networks_native_gm.nii.gz']\n"
     ]
    }
   ],
   "source": [
    "VOL = np.zeros((df.shape[0], num_parcels))\n",
    "\n",
    "for (i, (index, row)) in enumerate(df.iterrows()):\n",
    "    file_name = os.environ['VOL_NAME_TMP'].replace(\"bblid\", str(index[0]))\n",
    "    file_name = file_name.replace(\"scanid\", str(index[1]))\n",
    "    full_path = glob.glob(os.path.join(os.environ['VOLDIR'], file_name))\n",
    "    if i == 0: print(full_path)    \n",
    "    \n",
    "    img = nib.load(full_path[0])\n",
    "    v = np.array(img.dataobj)\n",
    "    v = v[v != 0]\n",
    "    unique_elements, counts_elements = np.unique(v, return_counts=True)\n",
    "    if len(unique_elements) == num_parcels:\n",
    "        VOL[i,:] = counts_elements\n",
    "    else:\n",
    "        print(str(index) + '. Warning: not all parcels present')\n",
    "        subj_filt[i] = True\n",
    "    \n",
    "df_node.loc[:,vol_labels] = VOL"
   ]
  },
  {
   "cell_type": "code",
   "execution_count": 12,
   "metadata": {},
   "outputs": [
    {
     "data": {
      "text/plain": [
       "0"
      ]
     },
     "execution_count": 12,
     "metadata": {},
     "output_type": "execute_result"
    }
   ],
   "source": [
    "np.sum(subj_filt)"
   ]
  },
  {
   "cell_type": "markdown",
   "metadata": {},
   "source": [
    "## Load in connectivity matrices and compute node metrics"
   ]
  },
  {
   "cell_type": "code",
   "execution_count": 13,
   "metadata": {},
   "outputs": [],
   "source": [
    "# subject filter\n",
    "subj_filt = np.zeros((df.shape[0],)).astype(bool)"
   ]
  },
  {
   "cell_type": "code",
   "execution_count": 14,
   "metadata": {},
   "outputs": [
    {
     "name": "stdout",
     "output_type": "stream",
     "text": [
      "['/Users/lindenmp/Dropbox/Work/ResData/PNC/processedData/diffusion/deterministic_20171118/81287/20100114x2738/tractography/connectivity/81287_20100114x2738_SchaeferPNC_200_dti_streamlineCount_connectivity.mat']\n",
      "82051/*x2856/tractography/connectivity/82051_*x2856_SchaeferPNC_200_dti_streamlineCount_connectivity.mat: NOT FOUND\n",
      "87804/*x3144/tractography/connectivity/87804_*x3144_SchaeferPNC_200_dti_streamlineCount_connectivity.mat: NOT FOUND\n",
      "91332/*x3362/tractography/connectivity/91332_*x3362_SchaeferPNC_200_dti_streamlineCount_connectivity.mat: NOT FOUND\n",
      "87990/*x3676/tractography/connectivity/87990_*x3676_SchaeferPNC_200_dti_streamlineCount_connectivity.mat: NOT FOUND\n",
      "103737/*x3964/tractography/connectivity/103737_*x3964_SchaeferPNC_200_dti_streamlineCount_connectivity.mat: NOT FOUND\n",
      "87470/*x4000/tractography/connectivity/87470_*x4000_SchaeferPNC_200_dti_streamlineCount_connectivity.mat: NOT FOUND\n",
      "104161/*x4104/tractography/connectivity/104161_*x4104_SchaeferPNC_200_dti_streamlineCount_connectivity.mat: NOT FOUND\n",
      "103768/*x4499/tractography/connectivity/103768_*x4499_SchaeferPNC_200_dti_streamlineCount_connectivity.mat: NOT FOUND\n",
      "113216/*x4506/tractography/connectivity/113216_*x4506_SchaeferPNC_200_dti_streamlineCount_connectivity.mat: NOT FOUND\n",
      "90050/*x4746/tractography/connectivity/90050_*x4746_SchaeferPNC_200_dti_streamlineCount_connectivity.mat: NOT FOUND\n",
      "115276/*x5012/tractography/connectivity/115276_*x5012_SchaeferPNC_200_dti_streamlineCount_connectivity.mat: NOT FOUND\n",
      "116618/*x5274/tractography/connectivity/116618_*x5274_SchaeferPNC_200_dti_streamlineCount_connectivity.mat: NOT FOUND\n",
      "127128/*x5545/tractography/connectivity/127128_*x5545_SchaeferPNC_200_dti_streamlineCount_connectivity.mat: NOT FOUND\n",
      "112802/*x6401/tractography/connectivity/112802_*x6401_SchaeferPNC_200_dti_streamlineCount_connectivity.mat: NOT FOUND\n",
      "85397/*x6643/tractography/connectivity/85397_*x6643_SchaeferPNC_200_dti_streamlineCount_connectivity.mat: NOT FOUND\n",
      "83632/*x6818/tractography/connectivity/83632_*x6818_SchaeferPNC_200_dti_streamlineCount_connectivity.mat: NOT FOUND\n",
      "81533/*x6869/tractography/connectivity/81533_*x6869_SchaeferPNC_200_dti_streamlineCount_connectivity.mat: NOT FOUND\n",
      "91025/*x6881/tractography/connectivity/91025_*x6881_SchaeferPNC_200_dti_streamlineCount_connectivity.mat: NOT FOUND\n",
      "105272/*x8238/tractography/connectivity/105272_*x8238_SchaeferPNC_200_dti_streamlineCount_connectivity.mat: NOT FOUND\n"
     ]
    }
   ],
   "source": [
    "# fc stored as 3d matrix, subjects of 3rd dim\n",
    "A = np.zeros((num_parcels, num_parcels, df.shape[0]))\n",
    "S = np.zeros((df.shape[0], num_parcels))\n",
    "AC = np.zeros((df.shape[0], num_parcels))\n",
    "MC = np.zeros((df.shape[0], num_parcels))\n",
    "\n",
    "for (i, (index, row)) in enumerate(df.iterrows()):\n",
    "    if parc_str == 'schaefer':\n",
    "        file_name = os.environ['SC_NAME_TMP'].replace(\"scanid\", str(index[1]))\n",
    "        file_name = file_name.replace(\"bblid\", str(index[0]))\n",
    "        full_path = glob.glob(os.path.join(os.environ['SCDIR'], file_name))\n",
    "        if i == 0: print(full_path)\n",
    "        if len(full_path) > 0:\n",
    "            mat_contents = sio.loadmat(full_path[0])\n",
    "            a = mat_contents[os.environ['CONN_STR']]\n",
    "\n",
    "            A[:,:,i] = a\n",
    "            S[i,:] = node_strength(a)\n",
    "            AC[i,:] = ave_control(a)\n",
    "            MC[i,:] = modal_control(a)\n",
    "        elif len(full_path) == 0:\n",
    "            print(file_name + ': NOT FOUND')\n",
    "            subj_filt[i] = True\n",
    "            A[:,:,i] = np.full((num_parcels, num_parcels), np.nan)\n",
    "            S[i,:] = np.full(num_parcels, np.nan)\n",
    "            AC[i,:] = np.full(num_parcels, np.nan)\n",
    "            MC[i,:] = np.full(num_parcels, np.nan)     \n",
    "\n",
    "df_node.loc[:,str_labels] = S\n",
    "df_node.loc[:,ac_labels] = AC\n",
    "df_node.loc[:,mc_labels] = MC"
   ]
  },
  {
   "cell_type": "code",
   "execution_count": 15,
   "metadata": {},
   "outputs": [
    {
     "data": {
      "text/plain": [
       "19"
      ]
     },
     "execution_count": 15,
     "metadata": {},
     "output_type": "execute_result"
    }
   ],
   "source": [
    "np.sum(subj_filt)"
   ]
  },
  {
   "cell_type": "code",
   "execution_count": 16,
   "metadata": {},
   "outputs": [
    {
     "name": "stdout",
     "output_type": "stream",
     "text": [
      "(1080, 1001)\n"
     ]
    }
   ],
   "source": [
    "if any(subj_filt):\n",
    "    A = A[:,:,~subj_filt]\n",
    "    df = df.loc[~subj_filt]\n",
    "    df_node = df_node.loc[~subj_filt]\n",
    "print(df_node.shape)"
   ]
  },
  {
   "cell_type": "markdown",
   "metadata": {},
   "source": [
    "### Check if any subjects have disconnected nodes in A matrix"
   ]
  },
  {
   "cell_type": "code",
   "execution_count": 17,
   "metadata": {},
   "outputs": [],
   "source": [
    "# subject filter\n",
    "subj_filt = np.zeros((df.shape[0],)).astype(bool)"
   ]
  },
  {
   "cell_type": "code",
   "execution_count": 18,
   "metadata": {},
   "outputs": [],
   "source": [
    "for i in range(A.shape[2]):\n",
    "    if np.any(np.sum(A[:,:,i], axis = 1) == 0):\n",
    "        subj_filt[i] = True"
   ]
  },
  {
   "cell_type": "code",
   "execution_count": 19,
   "metadata": {},
   "outputs": [
    {
     "data": {
      "text/plain": [
       "12"
      ]
     },
     "execution_count": 19,
     "metadata": {},
     "output_type": "execute_result"
    }
   ],
   "source": [
    "np.sum(subj_filt)"
   ]
  },
  {
   "cell_type": "code",
   "execution_count": 20,
   "metadata": {},
   "outputs": [
    {
     "name": "stdout",
     "output_type": "stream",
     "text": [
      "(1068, 1001)\n"
     ]
    }
   ],
   "source": [
    "if any(subj_filt):\n",
    "    A = A[:,:,~subj_filt]\n",
    "    df = df.loc[~subj_filt]\n",
    "    df_node = df_node.loc[~subj_filt]\n",
    "print(df_node.shape)"
   ]
  },
  {
   "cell_type": "markdown",
   "metadata": {},
   "source": [
    "### Get streamline count and network density"
   ]
  },
  {
   "cell_type": "code",
   "execution_count": 21,
   "metadata": {},
   "outputs": [],
   "source": [
    "A_c = np.zeros((A.shape[2],))\n",
    "A_d = np.zeros((A.shape[2],))\n",
    "for i in range(A.shape[2]):\n",
    "    a = A[:,:,i]\n",
    "    A_c[i] = np.sum(np.triu(a))\n",
    "    A_d[i] = np.count_nonzero(np.triu(a))/((a.shape[0]**2-a.shape[0])/2)\n",
    "df.loc[:,'streamline_count'] = A_c\n",
    "df.loc[:,'network_density'] = A_d"
   ]
  },
  {
   "cell_type": "markdown",
   "metadata": {},
   "source": [
    "## Save out"
   ]
  },
  {
   "cell_type": "code",
   "execution_count": 22,
   "metadata": {},
   "outputs": [
    {
     "data": {
      "text/plain": [
       "'/Users/lindenmp/Dropbox/Work/ResProjects/NormativeNeuroDev_CrossSec_DWI/analysis/normative/t1Exclude/squeakycleanExclude/schaefer_200_streamlineCount'"
      ]
     },
     "execution_count": 22,
     "metadata": {},
     "output_type": "execute_result"
    }
   ],
   "source": [
    "os.environ['MODELDIR']"
   ]
  },
  {
   "cell_type": "code",
   "execution_count": 23,
   "metadata": {},
   "outputs": [],
   "source": [
    "# Save out\n",
    "np.save(os.path.join(os.environ['MODELDIR'], 'A'), A)\n",
    "df_node.to_csv(os.path.join(os.environ['MODELDIR'], 'df_node_base.csv'))\n",
    "df.to_csv(os.path.join(os.environ['MODELDIR'], 'df_pheno.csv'))"
   ]
  }
 ],
 "metadata": {
  "kernelspec": {
   "display_name": "Python 3",
   "language": "python",
   "name": "python3"
  },
  "language_info": {
   "codemirror_mode": {
    "name": "ipython",
    "version": 3
   },
   "file_extension": ".py",
   "mimetype": "text/x-python",
   "name": "python",
   "nbconvert_exporter": "python",
   "pygments_lexer": "ipython3",
   "version": "3.7.6"
  }
 },
 "nbformat": 4,
 "nbformat_minor": 4
}
