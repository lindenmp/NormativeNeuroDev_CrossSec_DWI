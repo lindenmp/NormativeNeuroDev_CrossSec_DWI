{
 "cells": [
  {
   "cell_type": "markdown",
   "metadata": {},
   "source": [
    "# Preamble"
   ]
  },
  {
   "cell_type": "code",
   "execution_count": 1,
   "metadata": {},
   "outputs": [],
   "source": [
    "# Essentials\n",
    "import os, sys, glob\n",
    "import pandas as pd\n",
    "import numpy as np\n",
    "import nibabel as nib\n",
    "import scipy.io as sio\n",
    "\n",
    "# Stats\n",
    "import scipy as sp\n",
    "from scipy import stats\n",
    "import statsmodels.api as sm\n",
    "import pingouin as pg\n",
    "\n",
    "# Plotting\n",
    "import seaborn as sns\n",
    "import matplotlib.pyplot as plt\n",
    "plt.rcParams['svg.fonttype'] = 'none'"
   ]
  },
  {
   "cell_type": "code",
   "execution_count": 2,
   "metadata": {},
   "outputs": [],
   "source": [
    "sys.path.append('/Users/lindenmp/Dropbox/Work/ResProjects/neurodev_cs_predictive/code/func/')\n",
    "from proj_environment import set_proj_env\n",
    "sys.path.append('/Users/lindenmp/Dropbox/Work/git/pyfunc/')\n",
    "from func import node_strength, ave_control, modal_control, consistency_thresh"
   ]
  },
  {
   "cell_type": "code",
   "execution_count": 3,
   "metadata": {},
   "outputs": [],
   "source": [
    "exclude_str = 't1Exclude'\n",
    "extra_str = '' # '_vol_norm' '_noboxcox' '_consist'\n",
    "edge_weight = 'streamlineCount' # 'streamlineCount' 'fa' 'mean_streamlineLength' 'adc'\n",
    "parc_scale = 400\n",
    "parcel_names, parcel_loc, drop_parcels, num_parcels, yeo_idx, yeo_labels = set_proj_env(exclude_str = exclude_str,\n",
    "                                                                                        parc_scale = parc_scale,\n",
    "                                                                                       extra_str = extra_str, edge_weight = edge_weight)"
   ]
  },
  {
   "cell_type": "markdown",
   "metadata": {},
   "source": [
    "### Setup output directory"
   ]
  },
  {
   "cell_type": "code",
   "execution_count": 4,
   "metadata": {},
   "outputs": [
    {
     "name": "stdout",
     "output_type": "stream",
     "text": [
      "/Users/lindenmp/Dropbox/Work/ResProjects/neurodev_cs_predictive/analysis/t1Exclude/schaefer_400_streamlineCount\n"
     ]
    }
   ],
   "source": [
    "print(os.environ['MODELDIR'])\n",
    "if not os.path.exists(os.environ['MODELDIR']): os.makedirs(os.environ['MODELDIR'])"
   ]
  },
  {
   "cell_type": "markdown",
   "metadata": {},
   "source": [
    "### Data processing options"
   ]
  },
  {
   "cell_type": "code",
   "execution_count": 5,
   "metadata": {},
   "outputs": [],
   "source": [
    "threshold = False\n",
    "vol_norm = False"
   ]
  },
  {
   "cell_type": "markdown",
   "metadata": {},
   "source": [
    "## Load train/test .csv and setup node .csv"
   ]
  },
  {
   "cell_type": "code",
   "execution_count": 6,
   "metadata": {},
   "outputs": [
    {
     "data": {
      "text/plain": [
       "'/Users/lindenmp/Dropbox/Work/ResProjects/neurodev_cs_predictive/analysis/t1Exclude'"
      ]
     },
     "execution_count": 6,
     "metadata": {},
     "output_type": "execute_result"
    }
   ],
   "source": [
    "os.path.join(os.environ['TRTEDIR'])"
   ]
  },
  {
   "cell_type": "code",
   "execution_count": 7,
   "metadata": {},
   "outputs": [
    {
     "name": "stdout",
     "output_type": "stream",
     "text": [
      "(1100, 45)\n"
     ]
    }
   ],
   "source": [
    "# Load data\n",
    "df = pd.read_csv(os.path.join(os.environ['TRTEDIR'], 'df_pheno.csv'))\n",
    "df.set_index(['bblid', 'scanid'], inplace = True)\n",
    "print(df.shape)"
   ]
  },
  {
   "cell_type": "code",
   "execution_count": 8,
   "metadata": {},
   "outputs": [],
   "source": [
    "# Missing data file for this subject only for schaefer 200\n",
    "if parc_scale == 200:\n",
    "    df.drop(labels = (112598, 5161), inplace=True)"
   ]
  },
  {
   "cell_type": "code",
   "execution_count": 9,
   "metadata": {},
   "outputs": [
    {
     "name": "stdout",
     "output_type": "stream",
     "text": [
      "(1100, 1600)\n"
     ]
    }
   ],
   "source": [
    "# output dataframe\n",
    "vol_labels = ['vol_' + str(i) for i in range(num_parcels)]\n",
    "str_labels = ['str_' + str(i) for i in range(num_parcels)]\n",
    "ac_labels = ['ac_' + str(i) for i in range(num_parcels)]\n",
    "mc_labels = ['mc_' + str(i) for i in range(num_parcels)]\n",
    "\n",
    "df_node = pd.DataFrame(index = df.index, columns = vol_labels + str_labels + ac_labels + mc_labels)\n",
    "# df_node.insert(0, 'nuisance_sample', df['nuisance_sample'])\n",
    "\n",
    "print(df_node.shape)"
   ]
  },
  {
   "cell_type": "markdown",
   "metadata": {},
   "source": [
    "## Load in cortical volume"
   ]
  },
  {
   "cell_type": "code",
   "execution_count": 10,
   "metadata": {},
   "outputs": [],
   "source": [
    "# subject filter\n",
    "subj_filt = np.zeros((df.shape[0],)).astype(bool)"
   ]
  },
  {
   "cell_type": "code",
   "execution_count": 11,
   "metadata": {},
   "outputs": [
    {
     "name": "stdout",
     "output_type": "stream",
     "text": [
      "['/Volumes/ResProjects_2TB/ResData/PNC/processedData/gm_vol_masks_native/81287/20100114x2738/Schaefer2018_400_17Networks_native_gm.nii.gz']\n",
      "(80265, 3145). Warning: not all parcels present\n"
     ]
    }
   ],
   "source": [
    "VOL = np.zeros((df.shape[0], num_parcels))\n",
    "\n",
    "for (i, (index, row)) in enumerate(df.iterrows()):\n",
    "    file_name = os.environ['VOL_NAME_TMP'].replace(\"bblid\", str(index[0]))\n",
    "    file_name = file_name.replace(\"scanid\", str(index[1]))\n",
    "    full_path = glob.glob(os.path.join(os.environ['VOLDIR'], file_name))\n",
    "    if i == 0: print(full_path)    \n",
    "    \n",
    "    if len(full_path) > 0:\n",
    "        img = nib.load(full_path[0])\n",
    "        v = np.array(img.dataobj)\n",
    "        v = v[v != 0]\n",
    "        unique_elements, counts_elements = np.unique(v, return_counts=True)\n",
    "        if len(unique_elements) == num_parcels:\n",
    "            VOL[i,:] = counts_elements\n",
    "        else:\n",
    "            print(str(index) + '. Warning: not all parcels present')\n",
    "            subj_filt[i] = True\n",
    "    elif len(full_path) == 0:\n",
    "        subj_filt[i] = True\n",
    "    \n",
    "df_node.loc[:,vol_labels] = VOL"
   ]
  },
  {
   "cell_type": "code",
   "execution_count": 12,
   "metadata": {},
   "outputs": [
    {
     "data": {
      "text/plain": [
       "1"
      ]
     },
     "execution_count": 12,
     "metadata": {},
     "output_type": "execute_result"
    }
   ],
   "source": [
    "np.sum(subj_filt)"
   ]
  },
  {
   "cell_type": "code",
   "execution_count": 13,
   "metadata": {},
   "outputs": [],
   "source": [
    "if any(subj_filt):\n",
    "    df = df.loc[~subj_filt]\n",
    "    df_node = df_node.loc[~subj_filt]"
   ]
  },
  {
   "cell_type": "markdown",
   "metadata": {},
   "source": [
    "## Load in structural connectivity matrices"
   ]
  },
  {
   "cell_type": "code",
   "execution_count": 14,
   "metadata": {},
   "outputs": [],
   "source": [
    "# subject filter\n",
    "subj_filt = np.zeros((df.shape[0],)).astype(bool)"
   ]
  },
  {
   "cell_type": "code",
   "execution_count": 15,
   "metadata": {},
   "outputs": [
    {
     "name": "stdout",
     "output_type": "stream",
     "text": [
      "['/Volumes/ResProjects_2TB/ResData/PNC/processedData/diffusion/deterministic_20171118/81287/20100114x2738/tractography/connectivity/81287_20100114x2738_SchaeferPNC_400_dti_streamlineCount_connectivity.mat']\n"
     ]
    }
   ],
   "source": [
    "A = np.zeros((num_parcels, num_parcels, df.shape[0]))\n",
    "for (i, (index, row)) in enumerate(df.iterrows()):\n",
    "    file_name = os.environ['SC_NAME_TMP'].replace(\"scanid\", str(index[1]))\n",
    "    file_name = file_name.replace(\"bblid\", str(index[0]))\n",
    "    full_path = glob.glob(os.path.join(os.environ['SCDIR'], file_name))\n",
    "    if i == 0: print(full_path)\n",
    "    if len(full_path) > 0:\n",
    "        mat_contents = sio.loadmat(full_path[0])\n",
    "        a = mat_contents[os.environ['CONN_STR']]\n",
    "        A[:,:,i] = a\n",
    "    elif len(full_path) == 0:\n",
    "        print(file_name + ': NOT FOUND')\n",
    "        subj_filt[i] = True\n",
    "        A[:,:,i] = np.full((num_parcels, num_parcels), np.nan)"
   ]
  },
  {
   "cell_type": "code",
   "execution_count": 16,
   "metadata": {},
   "outputs": [
    {
     "data": {
      "text/plain": [
       "0"
      ]
     },
     "execution_count": 16,
     "metadata": {},
     "output_type": "execute_result"
    }
   ],
   "source": [
    "np.sum(subj_filt)"
   ]
  },
  {
   "cell_type": "code",
   "execution_count": 17,
   "metadata": {},
   "outputs": [
    {
     "name": "stdout",
     "output_type": "stream",
     "text": [
      "(1099, 1600)\n"
     ]
    }
   ],
   "source": [
    "if any(subj_filt):\n",
    "    A = A[:,:,~subj_filt]\n",
    "    df = df.loc[~subj_filt]\n",
    "    df_node = df_node.loc[~subj_filt]\n",
    "print(df_node.shape)"
   ]
  },
  {
   "cell_type": "markdown",
   "metadata": {},
   "source": [
    "### Consistency thresholding"
   ]
  },
  {
   "cell_type": "code",
   "execution_count": 18,
   "metadata": {},
   "outputs": [
    {
     "name": "stdout",
     "output_type": "stream",
     "text": [
      "skipping..\n"
     ]
    }
   ],
   "source": [
    "if threshold:\n",
    "    A_out, A_mask = consistency_thresh(A, thresh = 0.6)\n",
    "    sns.heatmap(A_mask)\n",
    "else:\n",
    "    print('skipping..')\n",
    "    A_out = A.copy()"
   ]
  },
  {
   "cell_type": "code",
   "execution_count": 20,
   "metadata": {},
   "outputs": [],
   "source": [
    "if threshold:\n",
    "    np.all(np.sum(A_mask, axis = 1) > 0)"
   ]
  },
  {
   "cell_type": "markdown",
   "metadata": {},
   "source": [
    "### Check if any subjects have disconnected nodes in A matrix"
   ]
  },
  {
   "cell_type": "code",
   "execution_count": 21,
   "metadata": {},
   "outputs": [],
   "source": [
    "# subject filter\n",
    "subj_filt = np.zeros((df.shape[0],)).astype(bool)"
   ]
  },
  {
   "cell_type": "code",
   "execution_count": 22,
   "metadata": {},
   "outputs": [],
   "source": [
    "for i in range(A_out.shape[2]):\n",
    "    if np.any(np.sum(A_out[:,:,i], axis = 1) == 0):\n",
    "        subj_filt[i] = True"
   ]
  },
  {
   "cell_type": "code",
   "execution_count": 23,
   "metadata": {},
   "outputs": [
    {
     "data": {
      "text/plain": [
       "68"
      ]
     },
     "execution_count": 23,
     "metadata": {},
     "output_type": "execute_result"
    }
   ],
   "source": [
    "np.sum(subj_filt)"
   ]
  },
  {
   "cell_type": "code",
   "execution_count": 24,
   "metadata": {},
   "outputs": [
    {
     "name": "stdout",
     "output_type": "stream",
     "text": [
      "(1031, 1600)\n"
     ]
    }
   ],
   "source": [
    "if any(subj_filt):\n",
    "    A_out = A_out[:,:,~subj_filt]\n",
    "    df = df.loc[~subj_filt]\n",
    "    df_node = df_node.loc[~subj_filt]\n",
    "print(df_node.shape)"
   ]
  },
  {
   "cell_type": "markdown",
   "metadata": {},
   "source": [
    "### Get streamline count and network density"
   ]
  },
  {
   "cell_type": "code",
   "execution_count": 25,
   "metadata": {},
   "outputs": [],
   "source": [
    "A_c = np.zeros((A_out.shape[2],))\n",
    "A_d = np.zeros((A_out.shape[2],))\n",
    "for i in range(A_out.shape[2]):\n",
    "    A_c[i] = np.sum(np.triu(A_out[:,:,i]))\n",
    "    A_d[i] = np.count_nonzero(np.triu(A_out[:,:,i]))/((A_out[:,:,i].shape[0]**2-A_out[:,:,i].shape[0])/2)\n",
    "df.loc[:,'streamline_count'] = A_c\n",
    "df.loc[:,'network_density'] = A_d"
   ]
  },
  {
   "cell_type": "markdown",
   "metadata": {},
   "source": [
    "### Normalize A by regional volume"
   ]
  },
  {
   "cell_type": "code",
   "execution_count": 26,
   "metadata": {},
   "outputs": [
    {
     "name": "stdout",
     "output_type": "stream",
     "text": [
      "skipping..\n"
     ]
    }
   ],
   "source": [
    "if vol_norm:\n",
    "    vol_ref = os.path.join(os.environ['DERIVSDIR'], 'Schaefer2018_'+str(parc_scale)+'_17Networks_PNC_2mm.nii.gz')\n",
    "    print(vol_ref)\n",
    "    img = nib.load(vol_ref)\n",
    "    v = np.array(img.dataobj)\n",
    "    v = v[v != 0]\n",
    "    unique_elements, counts_elements = np.unique(v, return_counts=True)\n",
    "\n",
    "    for i in range(num_parcels):\n",
    "        for j in range(num_parcels):\n",
    "            denom = counts_elements[i] + counts_elements[j]\n",
    "            A_out[i,j,:] = A_out[i,j,:]/denom\n",
    "else:\n",
    "    print('skipping..')"
   ]
  },
  {
   "cell_type": "markdown",
   "metadata": {},
   "source": [
    "### Compute node metrics"
   ]
  },
  {
   "cell_type": "code",
   "execution_count": 27,
   "metadata": {},
   "outputs": [],
   "source": [
    "# fc stored as 3d matrix, subjects of 3rd dim\n",
    "S = np.zeros((df.shape[0], num_parcels))\n",
    "AC = np.zeros((df.shape[0], num_parcels))\n",
    "MC = np.zeros((df.shape[0], num_parcels))\n",
    "\n",
    "for (i, (index, row)) in enumerate(df.iterrows()):\n",
    "    S[i,:] = node_strength(A_out[:,:,i])\n",
    "    AC[i,:] = ave_control(A_out[:,:,i])\n",
    "    MC[i,:] = modal_control(A_out[:,:,i])\n",
    "\n",
    "df_node.loc[:,str_labels] = S\n",
    "df_node.loc[:,ac_labels] = AC\n",
    "df_node.loc[:,mc_labels] = MC"
   ]
  },
  {
   "cell_type": "markdown",
   "metadata": {},
   "source": [
    "## Save out"
   ]
  },
  {
   "cell_type": "code",
   "execution_count": 28,
   "metadata": {},
   "outputs": [
    {
     "data": {
      "text/plain": [
       "False"
      ]
     },
     "execution_count": 28,
     "metadata": {},
     "output_type": "execute_result"
    }
   ],
   "source": [
    "df_node.isna().any().any()"
   ]
  },
  {
   "cell_type": "code",
   "execution_count": 29,
   "metadata": {},
   "outputs": [
    {
     "data": {
      "text/plain": [
       "'/Users/lindenmp/Dropbox/Work/ResProjects/neurodev_cs_predictive/analysis/t1Exclude/schaefer_400_streamlineCount'"
      ]
     },
     "execution_count": 29,
     "metadata": {},
     "output_type": "execute_result"
    }
   ],
   "source": [
    "os.environ['MODELDIR']"
   ]
  },
  {
   "cell_type": "code",
   "execution_count": 30,
   "metadata": {},
   "outputs": [],
   "source": [
    "# Save out\n",
    "np.save(os.path.join(os.environ['MODELDIR'], 'A'), A)\n",
    "np.save(os.path.join(os.environ['MODELDIR'], 'A_out'), A_out)\n",
    "df_node.to_csv(os.path.join(os.environ['MODELDIR'], 'df_node_base.csv'))\n",
    "df.to_csv(os.path.join(os.environ['MODELDIR'], 'df_pheno.csv'))"
   ]
  }
 ],
 "metadata": {
  "kernelspec": {
   "display_name": "Python 3",
   "language": "python",
   "name": "python3"
  },
  "language_info": {
   "codemirror_mode": {
    "name": "ipython",
    "version": 3
   },
   "file_extension": ".py",
   "mimetype": "text/x-python",
   "name": "python",
   "nbconvert_exporter": "python",
   "pygments_lexer": "ipython3",
   "version": "3.7.7"
  }
 },
 "nbformat": 4,
 "nbformat_minor": 4
}
