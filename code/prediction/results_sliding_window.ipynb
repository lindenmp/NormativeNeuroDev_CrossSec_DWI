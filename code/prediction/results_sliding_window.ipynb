{
 "cells": [
  {
   "cell_type": "code",
   "execution_count": 1,
   "metadata": {},
   "outputs": [],
   "source": [
    "# Essentials\n",
    "import os, sys, glob\n",
    "import pandas as pd\n",
    "import numpy as np\n",
    "import nibabel as nib\n",
    "import scipy.io as sio\n",
    "\n",
    "# Stats\n",
    "import scipy as sp\n",
    "from scipy import stats\n",
    "import statsmodels.api as sm\n",
    "import pingouin as pg\n",
    "\n",
    "# Plotting\n",
    "import seaborn as sns\n",
    "import matplotlib.pyplot as plt\n",
    "plt.rcParams['svg.fonttype'] = 'none'"
   ]
  },
  {
   "cell_type": "code",
   "execution_count": 2,
   "metadata": {},
   "outputs": [
    {
     "name": "stderr",
     "output_type": "stream",
     "text": [
      "/Users/lindenmp/opt/anaconda3/envs/neurodev_cs_predictive/lib/python3.7/site-packages/outdated/utils.py:18: OutdatedPackageWarning: The package pingouin is out of date. Your version is 0.3.3, the latest is 0.3.7.\n",
      "Set the environment variable OUTDATED_IGNORE=1 to disable these warnings.\n",
      "  **kwargs\n"
     ]
    }
   ],
   "source": [
    "import json\n",
    "import copy\n",
    "from sklearn.model_selection import cross_val_score\n",
    "from sklearn.metrics import make_scorer, r2_score, mean_squared_error, mean_absolute_error\n",
    "from sklearn.pipeline import Pipeline\n",
    "\n",
    "from sklearn.preprocessing import StandardScaler\n",
    "from sklearn.decomposition import PCA\n",
    "from pygam import LinearGAM, s, l"
   ]
  },
  {
   "cell_type": "code",
   "execution_count": 3,
   "metadata": {},
   "outputs": [],
   "source": [
    "sys.path.append('/Users/lindenmp/Google-Drive-Penn/work/research_projects/neurodev_cs_predictive/code/func/')\n",
    "from proj_environment import set_proj_env\n",
    "sys.path.append('/Users/lindenmp/Google-Drive-Penn/work/misc_projects/pyfunc/')\n",
    "from func import get_fdr_p_df, corr_true_pred, root_mean_squared_error, get_reg, get_stratified_cv, update_progress, cross_val_score_nuis"
   ]
  },
  {
   "cell_type": "code",
   "execution_count": 4,
   "metadata": {},
   "outputs": [],
   "source": [
    "exclude_str = 't1Exclude' # 't1Exclude' 'fsFinalExclude'\n",
    "extra_str = '' # '_consist'\n",
    "edge_weight = 'streamlineCount' # 'streamlineCount' 'fa' 'mean_streamlineLength' 'adc'\n",
    "parc_str = 'schaefer' # 'schaefer' 'lausanne'\n",
    "parc_scale = 200\n",
    "parc_variant = 'orig' # 'orig' 'cortex_only'\n",
    "parcel_names, parcel_loc, drop_parcels, num_parcels, yeo_idx, yeo_labels = set_proj_env(exclude_str = exclude_str,\n",
    "                                                                                        parc_str = parc_str, parc_scale = parc_scale,\n",
    "                                                                                       extra_str = extra_str, edge_weight = edge_weight,\n",
    "                                                                                       parc_variant = parc_variant)"
   ]
  },
  {
   "cell_type": "code",
   "execution_count": 5,
   "metadata": {},
   "outputs": [
    {
     "data": {
      "text/plain": [
       "'/Users/lindenmp/Google-Drive-Penn/work/research_projects/neurodev_cs_predictive/analysis/t1Exclude/schaefer_200_streamlineCount'"
      ]
     },
     "execution_count": 5,
     "metadata": {},
     "output_type": "execute_result"
    }
   ],
   "source": [
    "os.environ['MODELDIR']"
   ]
  },
  {
   "cell_type": "code",
   "execution_count": 6,
   "metadata": {},
   "outputs": [
    {
     "data": {
      "text/plain": [
       "'/Users/lindenmp/Google-Drive-Penn/work/research_projects/neurodev_cs_predictive/analysis/t1Exclude/schaefer_200_streamlineCount/predict_psy'"
      ]
     },
     "execution_count": 6,
     "metadata": {},
     "output_type": "execute_result"
    }
   ],
   "source": [
    "# predictiondir = os.path.join(os.environ['MODELDIR'], 'predict_pheno')\n",
    "# predictiondir = os.path.join(os.environ['MODELDIR'], 'predict_cog')\n",
    "predictiondir = os.path.join(os.environ['MODELDIR'], 'predict_psy')\n",
    "predictiondir"
   ]
  },
  {
   "cell_type": "code",
   "execution_count": 7,
   "metadata": {},
   "outputs": [
    {
     "name": "stdout",
     "output_type": "stream",
     "text": [
      "['Overall_Psychopathology', 'Psychosis_Positive', 'Psychosis_NegativeDisorg']\n"
     ]
    }
   ],
   "source": [
    "phenos = ['Overall_Psychopathology','Psychosis_Positive','Psychosis_NegativeDisorg']\n",
    "phenos_label = ['Overall Psychopathology','Psychosis (Positive)','Psychosis (Negative)']\n",
    "phenos_short = ['Ov. Psy.','Psy. (pos)','Psy. (neg)']\n",
    "\n",
    "print(phenos)\n",
    "\n",
    "metrics = ['str', 'ac']\n",
    "metrics_label = ['Strength', 'Average Controllability']\n",
    "\n",
    "algs = ['rr', 'krr_rbf']\n",
    "scores = ['corr', 'rmse']\n",
    "seeds = np.arange(0,100)"
   ]
  },
  {
   "cell_type": "code",
   "execution_count": 8,
   "metadata": {},
   "outputs": [
    {
     "name": "stdout",
     "output_type": "stream",
     "text": [
      "krr_rbf\n",
      "rmse\n"
     ]
    }
   ],
   "source": [
    "a = 1; alg = algs[a]; print(alg)\n",
    "s = 1; score = scores[s]; print(score)"
   ]
  },
  {
   "cell_type": "markdown",
   "metadata": {},
   "source": [
    "## Setup plots"
   ]
  },
  {
   "cell_type": "code",
   "execution_count": 9,
   "metadata": {},
   "outputs": [],
   "source": [
    "if not os.path.exists(os.environ['FIGDIR']): os.makedirs(os.environ['FIGDIR'])\n",
    "os.chdir(os.environ['FIGDIR'])\n",
    "sns.set(style='white', context = 'paper', font_scale = 1)\n",
    "cmap = sns.color_palette(\"pastel\", 3)"
   ]
  },
  {
   "cell_type": "markdown",
   "metadata": {},
   "source": [
    "## Load data"
   ]
  },
  {
   "cell_type": "code",
   "execution_count": 10,
   "metadata": {},
   "outputs": [
    {
     "name": "stdout",
     "output_type": "stream",
     "text": [
      "(1068, 4)\n"
     ]
    },
    {
     "data": {
      "text/plain": [
       "Index(['ageAtScan1', 'sex', 'mprage_antsCT_vol_TBV', 'dti64MeanRelRMS'], dtype='object')"
      ]
     },
     "execution_count": 10,
     "metadata": {},
     "output_type": "execute_result"
    }
   ],
   "source": [
    "df_node = pd.read_csv(os.path.join(predictiondir, 'X.csv'))\n",
    "df_node.set_index(['bblid', 'scanid'], inplace = True)\n",
    "\n",
    "df_node_ac_overc = pd.read_csv(os.path.join(predictiondir, 'X_ac_c.csv'))\n",
    "df_node_ac_overc.set_index(['bblid', 'scanid'], inplace = True)\n",
    "\n",
    "df_pheno = pd.read_csv(os.path.join(predictiondir, 'y.csv'))\n",
    "df_pheno.set_index(['bblid', 'scanid'], inplace = True)\n",
    "\n",
    "c = pd.read_csv(os.path.join(predictiondir, 'c.csv'))\n",
    "c.set_index(['bblid', 'scanid'], inplace = True); print(c.shape)\n",
    "c.columns"
   ]
  },
  {
   "cell_type": "code",
   "execution_count": 11,
   "metadata": {},
   "outputs": [
    {
     "data": {
      "text/plain": [
       "45.50561797752809"
      ]
     },
     "execution_count": 11,
     "metadata": {},
     "output_type": "execute_result"
    }
   ],
   "source": [
    "(np.sum(c.loc[:,'sex'] == 1)/c.shape[0]) * 100"
   ]
  },
  {
   "cell_type": "code",
   "execution_count": 12,
   "metadata": {},
   "outputs": [
    {
     "data": {
      "text/plain": [
       "make_scorer(root_mean_squared_error, greater_is_better=False)"
      ]
     },
     "execution_count": 12,
     "metadata": {},
     "output_type": "execute_result"
    }
   ],
   "source": [
    "if score == 'r2':\n",
    "    my_scorer = make_scorer(r2_score, greater_is_better = True)\n",
    "elif score == 'corr':\n",
    "    my_scorer = make_scorer(corr_true_pred, greater_is_better = True)\n",
    "elif score == 'mse':\n",
    "    my_scorer = make_scorer(mean_squared_error, greater_is_better = False)\n",
    "elif score == 'rmse':\n",
    "    my_scorer = make_scorer(root_mean_squared_error, greater_is_better = False)\n",
    "elif score == 'mae':\n",
    "    my_scorer = make_scorer(mean_absolute_error, greater_is_better = False)\n",
    "my_scorer"
   ]
  },
  {
   "cell_type": "code",
   "execution_count": 13,
   "metadata": {},
   "outputs": [],
   "source": [
    "regs, param_grid = get_reg()"
   ]
  },
  {
   "cell_type": "code",
   "execution_count": 14,
   "metadata": {},
   "outputs": [],
   "source": [
    "n_splits = 10"
   ]
  },
  {
   "cell_type": "markdown",
   "metadata": {},
   "source": [
    "# Plots"
   ]
  },
  {
   "cell_type": "code",
   "execution_count": 15,
   "metadata": {},
   "outputs": [],
   "source": [
    "if not os.path.exists(os.environ['FIGDIR']): os.makedirs(os.environ['FIGDIR'])\n",
    "os.chdir(os.environ['FIGDIR'])\n",
    "sns.set(style='white', context = 'paper', font_scale = 1)"
   ]
  },
  {
   "cell_type": "code",
   "execution_count": 16,
   "metadata": {},
   "outputs": [],
   "source": [
    "g = 0\n",
    "gradient = np.loadtxt(os.path.join(os.environ['MODELDIR'],'pnc_grads_template.txt'))[:,g]\n",
    "# sort gradient\n",
    "sort_idx = np.argsort(gradient)"
   ]
  },
  {
   "cell_type": "code",
   "execution_count": 22,
   "metadata": {},
   "outputs": [],
   "source": [
    "bin_size = 5"
   ]
  },
  {
   "cell_type": "code",
   "execution_count": 28,
   "metadata": {},
   "outputs": [
    {
     "name": "stdout",
     "output_type": "stream",
     "text": [
      "None\n"
     ]
    }
   ],
   "source": [
    "if 'altcontrol' in os.environ['MODELDIR']:\n",
    "    c_params = np.linspace(0.75, 0.25, 3)\n",
    "else:\n",
    "    c_params = np.array([10, 100, 1000, 10000])\n",
    "\n",
    "c_params\n",
    "\n",
    "# control_c = c_params[3]\n",
    "control_c = None\n",
    "print(control_c)\n",
    "\n",
    "if control_c == None:\n",
    "    metrics = ['str', 'ac']\n",
    "    metrics_label = ['Strength', 'Average Controllability']\n",
    "else:\n",
    "    metrics = ['ac',]\n",
    "    metrics_label = ['Average Controllability',]\n",
    "\n",
    "phenos = ['Psychosis_Positive','Psychosis_NegativeDisorg']\n",
    "phenos_label = ['Psychosis (Positive)','Psychosis (Negative)']\n",
    "phenos_short = ['Psy. (pos)','Psy. (neg)']"
   ]
  },
  {
   "cell_type": "code",
   "execution_count": 33,
   "metadata": {},
   "outputs": [
    {
     "name": "stdout",
     "output_type": "stream",
     "text": [
      "str Psychosis_NegativeDisorg\n",
      "(1068, 200)\n",
      "(1068,)\n",
      "Full model score: 1.0171486556603173 0.006721732204419724\n",
      "Computing accuracy for non overlapping windows\n",
      "ac Psychosis_NegativeDisorg\n",
      "(1068, 200)\n",
      "(1068,)\n",
      "Full model score: 1.0260841285082625 0.01064925431263984\n",
      "Computing accuracy for non overlapping windows\n"
     ]
    },
    {
     "data": {
      "image/png": "[encoded data removed]",
      "text/plain": [
       "<Figure size 144x144 with 1 Axes>"
      ]
     },
     "metadata": {},
     "output_type": "display_data"
    },
    {
     "data": {
      "image/png": "[encoded data removed]",
      "text/plain": [
       "<Figure size 144x144 with 1 Axes>"
      ]
     },
     "metadata": {},
     "output_type": "display_data"
    }
   ],
   "source": [
    "my_r = pd.DataFrame(index = metrics, columns = phenos)\n",
    "my_pvals = pd.DataFrame(index = metrics, columns = phenos)\n",
    "\n",
    "for m, metric in enumerate(metrics):\n",
    "    for p, pheno in enumerate(phenos):\n",
    "        print(metric, pheno)\n",
    "        \n",
    "        # Get X and y data\n",
    "        if control_c == None:\n",
    "            X = df_node.filter(regex = metric)\n",
    "        else:\n",
    "            X = df_node_ac_overc.filter(regex = metric + '_c' + str(control_c) + '_')\n",
    "        print(X.shape)\n",
    "        y = df_pheno.loc[:,pheno]; print(y.shape)\n",
    "\n",
    "        # set regression estimator\n",
    "        reg = copy.deepcopy(regs[alg])\n",
    "    \n",
    "        # sort and get cross-val\n",
    "        X_sort, y_sort, my_cv, c_sort = get_stratified_cv(X = X, y = y, c = c, n_splits = n_splits)\n",
    "\n",
    "        # get full model score\n",
    "        nuis_model, _ = cross_val_score_nuis(X = X_sort, y = y_sort, c = c_sort, my_cv = my_cv, reg = reg, my_scorer = my_scorer)\n",
    "        if score == 'rmse': nuis_model = np.abs(nuis_model)\n",
    "        main_score_nuis = nuis_model.mean()\n",
    "        main_sterr_nuis = nuis_model.std() / np.sqrt(n_splits)\n",
    "        print('Full model score:', main_score_nuis, main_sterr_nuis)\n",
    "        \n",
    "        print('Computing accuracy for non overlapping windows')\n",
    "        # reorder X by gradient\n",
    "        X_sort_grad = X_sort.iloc[:,sort_idx]\n",
    "        \n",
    "        window_start = np.arange(0,num_parcels - bin_size + 1, bin_size)\n",
    "        num_windows = len(window_start)\n",
    "\n",
    "        # compute accuracy for non overlapping windows\n",
    "        window_score = np.zeros(num_windows,)\n",
    "        window_sterr = np.zeros(num_windows,)\n",
    "\n",
    "        for i, w in enumerate(window_start):\n",
    "            Xl = X_sort_grad.iloc[:,w:w+bin_size]\n",
    "            cv_results, _ = cross_val_score_nuis(X = Xl, y = y_sort, c = c_sort, my_cv = my_cv, reg = reg, my_scorer = my_scorer)\n",
    "            if score == 'rmse': cv_results = np.abs(cv_results)\n",
    "            window_score[i] = cv_results.mean()\n",
    "            window_sterr[i] = cv_results.std() / np.sqrt(n_splits)\n",
    "            \n",
    "        if metric == 'str':\n",
    "            window_score_str = window_score.copy()\n",
    "        elif metric == 'ac':\n",
    "            window_score_ac = window_score.copy()\n",
    "            \n",
    "        # plot\n",
    "        f, ax = plt.subplots()\n",
    "        if control_c == None:\n",
    "            f.set_figwidth(2)\n",
    "            f.set_figheight(2)\n",
    "        else:\n",
    "            f.set_figwidth(1.25)\n",
    "            f.set_figheight(1.25)\n",
    "        sns.regplot(x = window_start, y = window_score, color = 'r', scatter = False)\n",
    "        \n",
    "#         my_r.loc[metric,pheno] = sp.stats.spearmanr(window_start, window_score)[0]\n",
    "#         my_pvals.loc[metric,pheno] = sp.stats.spearmanr(window_start, window_score)[1]\n",
    "        my_r.loc[metric,pheno] = sp.stats.pearsonr(window_start, window_score)[0]\n",
    "        my_pvals.loc[metric,pheno] = sp.stats.pearsonr(window_start, window_score)[1]\n",
    "        \n",
    "        # non overlapping windows\n",
    "        if len(window_start) > len(window_score): window_start = window_start[:len(window_score)]\n",
    "        plt.scatter(x = window_start, y = window_score, marker = 'o', s = 30, edgecolors = 'black', facecolors = 'gray', alpha=0.8, linewidth = 1)\n",
    "        ax.tick_params(pad = -2)\n",
    "\n",
    "        ax.set_xlabel('Gradient (sliding window)')\n",
    "        ax.set_ylabel('RMSE (lower = better)')\n",
    "#         ax.set_xlim([-bin_size, num_parcels])\n",
    "#         ax.set_xlim([-bin_size*2, num_parcels+bin_size*2])\n",
    "        ax.set_xlim([-10, num_parcels+10])\n",
    "        if control_c != None:\n",
    "            ax.set_ylim([0.995, 1.04])\n",
    "\n",
    "        ax.set_title('X: ' + metrics_label[m] + '\\n y: ' + phenos_label[p])\n",
    "#         ax.set_title(metrics_label[m])\n",
    "\n",
    "        if control_c == None:\n",
    "            f.savefig('gradient_'+str(g)+'_window_'+metric+'_'+pheno+'.svg', dpi = 300, bbox_inches = 'tight')\n",
    "        else:\n",
    "            f.savefig('c_' + str(control_c) + '_gradient_'+str(g)+'_window_'+metric+'_'+pheno+'.svg', dpi = 300, bbox_inches = 'tight')"
   ]
  },
  {
   "cell_type": "code",
   "execution_count": 34,
   "metadata": {},
   "outputs": [],
   "source": [
    "# my_pvals_corr = get_fdr_p_df(my_pvals, rows = False)"
   ]
  },
  {
   "cell_type": "code",
   "execution_count": 35,
   "metadata": {},
   "outputs": [
    {
     "data": {
      "text/html": [
       "<div>\n",
       "<style scoped>\n",
       "    .dataframe tbody tr th:only-of-type {\n",
       "        vertical-align: middle;\n",
       "    }\n",
       "\n",
       "    .dataframe tbody tr th {\n",
       "        vertical-align: top;\n",
       "    }\n",
       "\n",
       "    .dataframe thead th {\n",
       "        text-align: right;\n",
       "    }\n",
       "</style>\n",
       "<table border=\"1\" class=\"dataframe\">\n",
       "  <thead>\n",
       "    <tr style=\"text-align: right;\">\n",
       "      <th></th>\n",
       "      <th>Psychosis_NegativeDisorg</th>\n",
       "    </tr>\n",
       "  </thead>\n",
       "  <tbody>\n",
       "    <tr>\n",
       "      <th>str</th>\n",
       "      <td>0.0577813</td>\n",
       "    </tr>\n",
       "    <tr>\n",
       "      <th>ac</th>\n",
       "      <td>-0.25512</td>\n",
       "    </tr>\n",
       "  </tbody>\n",
       "</table>\n",
       "</div>"
      ],
      "text/plain": [
       "    Psychosis_NegativeDisorg\n",
       "str                0.0577813\n",
       "ac                  -0.25512"
      ]
     },
     "execution_count": 35,
     "metadata": {},
     "output_type": "execute_result"
    }
   ],
   "source": [
    "my_r"
   ]
  },
  {
   "cell_type": "code",
   "execution_count": 36,
   "metadata": {},
   "outputs": [
    {
     "data": {
      "text/html": [
       "<div>\n",
       "<style scoped>\n",
       "    .dataframe tbody tr th:only-of-type {\n",
       "        vertical-align: middle;\n",
       "    }\n",
       "\n",
       "    .dataframe tbody tr th {\n",
       "        vertical-align: top;\n",
       "    }\n",
       "\n",
       "    .dataframe thead th {\n",
       "        text-align: right;\n",
       "    }\n",
       "</style>\n",
       "<table border=\"1\" class=\"dataframe\">\n",
       "  <thead>\n",
       "    <tr style=\"text-align: right;\">\n",
       "      <th></th>\n",
       "      <th>Psychosis_NegativeDisorg</th>\n",
       "    </tr>\n",
       "  </thead>\n",
       "  <tbody>\n",
       "    <tr>\n",
       "      <th>str</th>\n",
       "      <td>0.723227</td>\n",
       "    </tr>\n",
       "    <tr>\n",
       "      <th>ac</th>\n",
       "      <td>0.112112</td>\n",
       "    </tr>\n",
       "  </tbody>\n",
       "</table>\n",
       "</div>"
      ],
      "text/plain": [
       "    Psychosis_NegativeDisorg\n",
       "str                 0.723227\n",
       "ac                  0.112112"
      ]
     },
     "execution_count": 36,
     "metadata": {},
     "output_type": "execute_result"
    }
   ],
   "source": [
    "my_pvals"
   ]
  },
  {
   "cell_type": "code",
   "execution_count": null,
   "metadata": {},
   "outputs": [],
   "source": []
  }
 ],
 "metadata": {
  "kernelspec": {
   "display_name": "Python 3",
   "language": "python",
   "name": "python3"
  },
  "language_info": {
   "codemirror_mode": {
    "name": "ipython",
    "version": 3
   },
   "file_extension": ".py",
   "mimetype": "text/x-python",
   "name": "python",
   "nbconvert_exporter": "python",
   "pygments_lexer": "ipython3",
   "version": "3.7.7"
  }
 },
 "nbformat": 4,
 "nbformat_minor": 4
}
