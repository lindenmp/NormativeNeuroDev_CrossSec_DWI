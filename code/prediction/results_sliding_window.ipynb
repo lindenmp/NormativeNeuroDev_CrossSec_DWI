{
 "cells": [
  {
   "cell_type": "code",
   "execution_count": 1,
   "metadata": {},
   "outputs": [],
   "source": [
    "# Essentials\n",
    "import os, sys, glob\n",
    "import pandas as pd\n",
    "import numpy as np\n",
    "import nibabel as nib\n",
    "import scipy.io as sio\n",
    "\n",
    "# Stats\n",
    "import scipy as sp\n",
    "from scipy import stats\n",
    "import statsmodels.api as sm\n",
    "import pingouin as pg\n",
    "\n",
    "# Plotting\n",
    "import seaborn as sns\n",
    "import matplotlib.pyplot as plt\n",
    "plt.rcParams['svg.fonttype'] = 'none'"
   ]
  },
  {
   "cell_type": "code",
   "execution_count": 2,
   "metadata": {},
   "outputs": [],
   "source": [
    "import copy\n",
    "from sklearn.model_selection import cross_val_score\n",
    "from sklearn.metrics import make_scorer, r2_score, mean_squared_error, mean_absolute_error\n",
    "from sklearn.pipeline import Pipeline\n",
    "\n",
    "from sklearn.preprocessing import StandardScaler\n",
    "from pygam import LinearGAM, s, l"
   ]
  },
  {
   "cell_type": "code",
   "execution_count": 3,
   "metadata": {},
   "outputs": [],
   "source": [
    "sys.path.append('/Users/lindenmp/Dropbox/Work/ResProjects/neurodev_cs_predictive/code/func/')\n",
    "from proj_environment import set_proj_env\n",
    "sys.path.append('/Users/lindenmp/Dropbox/Work/git/pyfunc/')\n",
    "from func import get_fdr_p_df, corr_pred_true, get_reg, get_stratified_cv, run_reg_scv, update_progress, cross_val_score_nuis"
   ]
  },
  {
   "cell_type": "code",
   "execution_count": 4,
   "metadata": {},
   "outputs": [],
   "source": [
    "exclude_str = 't1Exclude'\n",
    "extra_str = '_consist' # '_vol_norm' '_noboxcox' '_consist'\n",
    "edge_weight = 'streamlineCount' # 'streamlineCount' 'fa' 'mean_streamlineLength' 'adc'\n",
    "parc_scale = 200\n",
    "parcel_names, parcel_loc, drop_parcels, num_parcels, yeo_idx, yeo_labels = set_proj_env(exclude_str = exclude_str,\n",
    "                                                                                        parc_scale = parc_scale,\n",
    "                                                                                       extra_str = extra_str, edge_weight = edge_weight)"
   ]
  },
  {
   "cell_type": "code",
   "execution_count": 5,
   "metadata": {},
   "outputs": [
    {
     "data": {
      "text/plain": [
       "'/Users/lindenmp/Dropbox/Work/ResProjects/neurodev_cs_predictive/analysis/t1Exclude/schaefer_200_streamlineCount_consist'"
      ]
     },
     "execution_count": 5,
     "metadata": {},
     "output_type": "execute_result"
    }
   ],
   "source": [
    "os.environ['MODELDIR']"
   ]
  },
  {
   "cell_type": "code",
   "execution_count": 6,
   "metadata": {},
   "outputs": [
    {
     "data": {
      "text/plain": [
       "'/Users/lindenmp/Dropbox/Work/ResProjects/neurodev_cs_predictive/analysis/t1Exclude/schaefer_200_streamlineCount_consist/predict_pheno'"
      ]
     },
     "execution_count": 6,
     "metadata": {},
     "output_type": "execute_result"
    }
   ],
   "source": [
    "predictiondir = os.path.join(os.environ['MODELDIR'], 'predict_pheno')\n",
    "predictiondir"
   ]
  },
  {
   "cell_type": "code",
   "execution_count": 7,
   "metadata": {},
   "outputs": [],
   "source": [
    "metrics = ['vol', 'str', 'ac', 'mc']\n",
    "phenos = ['Overall_Psychopathology','Psychosis_Positive','Psychosis_NegativeDisorg','AnxiousMisery','Externalizing','Fear']\n",
    "phenos_short = ['Ov. Psy.','Psy. (pos)','Psy. (neg)','Anx. Mis.','Ext.','Fear']\n",
    "\n",
    "algs = ['rr', 'lr', 'krr_lin', 'krr_rbf', 'svr_rbf']\n",
    "scores = ['r2', 'corr', 'mse']\n",
    "seeds = np.arange(0,100)"
   ]
  },
  {
   "cell_type": "code",
   "execution_count": 8,
   "metadata": {},
   "outputs": [
    {
     "name": "stdout",
     "output_type": "stream",
     "text": [
      "krr_rbf\n",
      "mse\n",
      "ac\n",
      "AnxiousMisery\n"
     ]
    }
   ],
   "source": [
    "a = 3; alg = algs[a]; print(alg)\n",
    "score = 'mse'; print(score)\n",
    "\n",
    "m = 2; metric = metrics[m]; print(metric)\n",
    "p = 3; pheno = phenos[p]; print(pheno)\n",
    "# print(scv_score[m,p])\n",
    "# print(scv_alpha[m,p])\n",
    "# print(scv_gamma[m,p])"
   ]
  },
  {
   "cell_type": "markdown",
   "metadata": {},
   "source": [
    "## Setup plots"
   ]
  },
  {
   "cell_type": "code",
   "execution_count": 9,
   "metadata": {},
   "outputs": [],
   "source": [
    "if not os.path.exists(os.environ['FIGDIR']): os.makedirs(os.environ['FIGDIR'])\n",
    "os.chdir(os.environ['FIGDIR'])\n",
    "sns.set(style='white', context = 'paper', font_scale = 1)\n",
    "cmap = sns.color_palette(\"pastel\", 3)"
   ]
  },
  {
   "cell_type": "markdown",
   "metadata": {},
   "source": [
    "## Load data"
   ]
  },
  {
   "cell_type": "code",
   "execution_count": 10,
   "metadata": {},
   "outputs": [],
   "source": [
    "df_node = pd.read_csv(os.path.join(predictiondir, 'X.csv'))\n",
    "# df_node = pd.read_csv(os.path.join(predictiondir, 'X_wins.csv'))\n",
    "df_node.set_index(['bblid', 'scanid'], inplace = True)\n",
    "\n",
    "# df_pheno = pd.read_csv(os.path.join(predictiondir, 'y.csv'))\n",
    "# df_pheno.set_index(['bblid', 'scanid'], inplace = True)\n",
    "\n",
    "# covariates\n",
    "df_pheno = pd.read_csv(os.path.join(os.environ['MODELDIR'], 'df_pheno.csv'))\n",
    "df_pheno.set_index(['bblid', 'scanid'], inplace = True)"
   ]
  },
  {
   "cell_type": "code",
   "execution_count": 11,
   "metadata": {},
   "outputs": [
    {
     "data": {
      "text/html": [
       "<div>\n",
       "<style scoped>\n",
       "    .dataframe tbody tr th:only-of-type {\n",
       "        vertical-align: middle;\n",
       "    }\n",
       "\n",
       "    .dataframe tbody tr th {\n",
       "        vertical-align: top;\n",
       "    }\n",
       "\n",
       "    .dataframe thead th {\n",
       "        text-align: right;\n",
       "    }\n",
       "</style>\n",
       "<table border=\"1\" class=\"dataframe\">\n",
       "  <thead>\n",
       "    <tr style=\"text-align: right;\">\n",
       "      <th></th>\n",
       "      <th></th>\n",
       "      <th>vol_0</th>\n",
       "      <th>vol_1</th>\n",
       "      <th>vol_2</th>\n",
       "      <th>vol_3</th>\n",
       "      <th>vol_4</th>\n",
       "      <th>vol_5</th>\n",
       "      <th>vol_6</th>\n",
       "      <th>vol_7</th>\n",
       "      <th>vol_8</th>\n",
       "      <th>vol_9</th>\n",
       "      <th>...</th>\n",
       "      <th>mc_190</th>\n",
       "      <th>mc_191</th>\n",
       "      <th>mc_192</th>\n",
       "      <th>mc_193</th>\n",
       "      <th>mc_194</th>\n",
       "      <th>mc_195</th>\n",
       "      <th>mc_196</th>\n",
       "      <th>mc_197</th>\n",
       "      <th>mc_198</th>\n",
       "      <th>mc_199</th>\n",
       "    </tr>\n",
       "    <tr>\n",
       "      <th>bblid</th>\n",
       "      <th>scanid</th>\n",
       "      <th></th>\n",
       "      <th></th>\n",
       "      <th></th>\n",
       "      <th></th>\n",
       "      <th></th>\n",
       "      <th></th>\n",
       "      <th></th>\n",
       "      <th></th>\n",
       "      <th></th>\n",
       "      <th></th>\n",
       "      <th></th>\n",
       "      <th></th>\n",
       "      <th></th>\n",
       "      <th></th>\n",
       "      <th></th>\n",
       "      <th></th>\n",
       "      <th></th>\n",
       "      <th></th>\n",
       "      <th></th>\n",
       "      <th></th>\n",
       "      <th></th>\n",
       "    </tr>\n",
       "  </thead>\n",
       "  <tbody>\n",
       "    <tr>\n",
       "      <th>81287</th>\n",
       "      <th>2738</th>\n",
       "      <td>5189.0</td>\n",
       "      <td>2500.0</td>\n",
       "      <td>2724.0</td>\n",
       "      <td>2812.0</td>\n",
       "      <td>3148.0</td>\n",
       "      <td>3396.0</td>\n",
       "      <td>2501.0</td>\n",
       "      <td>1817.0</td>\n",
       "      <td>843.0</td>\n",
       "      <td>4791.0</td>\n",
       "      <td>...</td>\n",
       "      <td>0.959763</td>\n",
       "      <td>0.844990</td>\n",
       "      <td>0.927408</td>\n",
       "      <td>0.968814</td>\n",
       "      <td>0.994395</td>\n",
       "      <td>0.971797</td>\n",
       "      <td>0.966033</td>\n",
       "      <td>0.992555</td>\n",
       "      <td>0.982908</td>\n",
       "      <td>0.990543</td>\n",
       "    </tr>\n",
       "    <tr>\n",
       "      <th>80680</th>\n",
       "      <th>2739</th>\n",
       "      <td>6030.0</td>\n",
       "      <td>4159.0</td>\n",
       "      <td>4376.0</td>\n",
       "      <td>3968.0</td>\n",
       "      <td>4736.0</td>\n",
       "      <td>4269.0</td>\n",
       "      <td>4102.0</td>\n",
       "      <td>3579.0</td>\n",
       "      <td>1518.0</td>\n",
       "      <td>7330.0</td>\n",
       "      <td>...</td>\n",
       "      <td>0.935903</td>\n",
       "      <td>0.873835</td>\n",
       "      <td>0.652250</td>\n",
       "      <td>0.784366</td>\n",
       "      <td>0.943377</td>\n",
       "      <td>0.918424</td>\n",
       "      <td>0.936248</td>\n",
       "      <td>0.977202</td>\n",
       "      <td>0.932814</td>\n",
       "      <td>0.975621</td>\n",
       "    </tr>\n",
       "    <tr>\n",
       "      <th>81754</th>\n",
       "      <th>2740</th>\n",
       "      <td>5426.0</td>\n",
       "      <td>3135.0</td>\n",
       "      <td>4029.0</td>\n",
       "      <td>3247.0</td>\n",
       "      <td>4108.0</td>\n",
       "      <td>3276.0</td>\n",
       "      <td>2612.0</td>\n",
       "      <td>2754.0</td>\n",
       "      <td>741.0</td>\n",
       "      <td>5818.0</td>\n",
       "      <td>...</td>\n",
       "      <td>0.907625</td>\n",
       "      <td>0.983894</td>\n",
       "      <td>0.931573</td>\n",
       "      <td>0.913933</td>\n",
       "      <td>0.976324</td>\n",
       "      <td>0.969865</td>\n",
       "      <td>0.986134</td>\n",
       "      <td>0.997702</td>\n",
       "      <td>0.984583</td>\n",
       "      <td>0.995968</td>\n",
       "    </tr>\n",
       "    <tr>\n",
       "      <th>81903</th>\n",
       "      <th>2749</th>\n",
       "      <td>3173.0</td>\n",
       "      <td>2491.0</td>\n",
       "      <td>2027.0</td>\n",
       "      <td>2494.0</td>\n",
       "      <td>2450.0</td>\n",
       "      <td>3164.0</td>\n",
       "      <td>2554.0</td>\n",
       "      <td>1617.0</td>\n",
       "      <td>664.0</td>\n",
       "      <td>3197.0</td>\n",
       "      <td>...</td>\n",
       "      <td>0.949130</td>\n",
       "      <td>0.983709</td>\n",
       "      <td>0.896786</td>\n",
       "      <td>0.953799</td>\n",
       "      <td>0.982359</td>\n",
       "      <td>0.958171</td>\n",
       "      <td>0.973325</td>\n",
       "      <td>0.996257</td>\n",
       "      <td>0.983886</td>\n",
       "      <td>0.994039</td>\n",
       "    </tr>\n",
       "    <tr>\n",
       "      <th>81043</th>\n",
       "      <th>2750</th>\n",
       "      <td>3327.0</td>\n",
       "      <td>1890.0</td>\n",
       "      <td>2183.0</td>\n",
       "      <td>2525.0</td>\n",
       "      <td>3189.0</td>\n",
       "      <td>2660.0</td>\n",
       "      <td>2451.0</td>\n",
       "      <td>1758.0</td>\n",
       "      <td>871.0</td>\n",
       "      <td>3532.0</td>\n",
       "      <td>...</td>\n",
       "      <td>0.874115</td>\n",
       "      <td>0.981286</td>\n",
       "      <td>0.837727</td>\n",
       "      <td>0.952593</td>\n",
       "      <td>0.991303</td>\n",
       "      <td>0.967862</td>\n",
       "      <td>0.978795</td>\n",
       "      <td>0.995378</td>\n",
       "      <td>0.971681</td>\n",
       "      <td>0.986653</td>\n",
       "    </tr>\n",
       "  </tbody>\n",
       "</table>\n",
       "<p>5 rows × 800 columns</p>\n",
       "</div>"
      ],
      "text/plain": [
       "               vol_0   vol_1   vol_2   vol_3   vol_4   vol_5   vol_6   vol_7  \\\n",
       "bblid scanid                                                                   \n",
       "81287 2738    5189.0  2500.0  2724.0  2812.0  3148.0  3396.0  2501.0  1817.0   \n",
       "80680 2739    6030.0  4159.0  4376.0  3968.0  4736.0  4269.0  4102.0  3579.0   \n",
       "81754 2740    5426.0  3135.0  4029.0  3247.0  4108.0  3276.0  2612.0  2754.0   \n",
       "81903 2749    3173.0  2491.0  2027.0  2494.0  2450.0  3164.0  2554.0  1617.0   \n",
       "81043 2750    3327.0  1890.0  2183.0  2525.0  3189.0  2660.0  2451.0  1758.0   \n",
       "\n",
       "               vol_8   vol_9  ...    mc_190    mc_191    mc_192    mc_193  \\\n",
       "bblid scanid                  ...                                           \n",
       "81287 2738     843.0  4791.0  ...  0.959763  0.844990  0.927408  0.968814   \n",
       "80680 2739    1518.0  7330.0  ...  0.935903  0.873835  0.652250  0.784366   \n",
       "81754 2740     741.0  5818.0  ...  0.907625  0.983894  0.931573  0.913933   \n",
       "81903 2749     664.0  3197.0  ...  0.949130  0.983709  0.896786  0.953799   \n",
       "81043 2750     871.0  3532.0  ...  0.874115  0.981286  0.837727  0.952593   \n",
       "\n",
       "                mc_194    mc_195    mc_196    mc_197    mc_198    mc_199  \n",
       "bblid scanid                                                              \n",
       "81287 2738    0.994395  0.971797  0.966033  0.992555  0.982908  0.990543  \n",
       "80680 2739    0.943377  0.918424  0.936248  0.977202  0.932814  0.975621  \n",
       "81754 2740    0.976324  0.969865  0.986134  0.997702  0.984583  0.995968  \n",
       "81903 2749    0.982359  0.958171  0.973325  0.996257  0.983886  0.994039  \n",
       "81043 2750    0.991303  0.967862  0.978795  0.995378  0.971681  0.986653  \n",
       "\n",
       "[5 rows x 800 columns]"
      ]
     },
     "execution_count": 11,
     "metadata": {},
     "output_type": "execute_result"
    }
   ],
   "source": [
    "df_node.head()"
   ]
  },
  {
   "cell_type": "code",
   "execution_count": 12,
   "metadata": {},
   "outputs": [
    {
     "name": "stdout",
     "output_type": "stream",
     "text": [
      "(1062, 200)\n"
     ]
    }
   ],
   "source": [
    "X = df_node.filter(regex = metric); print(X.shape)\n",
    "y = df_pheno.loc[:,pheno]"
   ]
  },
  {
   "cell_type": "code",
   "execution_count": 13,
   "metadata": {},
   "outputs": [],
   "source": [
    "# covs = ['ageAtScan1', 'sex', 'averageManualRating']\n",
    "covs = ['ageAtScan1', 'sex', 'mprage_antsCT_vol_TBV', 'dti64MeanRelRMS', 'network_density']\n",
    "c = df_pheno.loc[:,covs]"
   ]
  },
  {
   "cell_type": "code",
   "execution_count": 14,
   "metadata": {},
   "outputs": [
    {
     "data": {
      "text/plain": [
       "make_scorer(mean_squared_error, greater_is_better=False)"
      ]
     },
     "execution_count": 14,
     "metadata": {},
     "output_type": "execute_result"
    }
   ],
   "source": [
    "if score == 'r2':\n",
    "    my_scorer = make_scorer(r2_score, greater_is_better = True)\n",
    "elif score == 'corr':\n",
    "    my_scorer = make_scorer(corr_pred_true, greater_is_better = True)\n",
    "elif score == 'mse':\n",
    "    my_scorer = make_scorer(mean_squared_error, greater_is_better = False)\n",
    "my_scorer"
   ]
  },
  {
   "cell_type": "code",
   "execution_count": 15,
   "metadata": {},
   "outputs": [],
   "source": [
    "# scv_score = np.load(os.path.join(predictiondir, 'stratified_null', score, 'accuracy.npy'))"
   ]
  },
  {
   "cell_type": "code",
   "execution_count": 16,
   "metadata": {},
   "outputs": [],
   "source": [
    "# scv_score[a,m,p]"
   ]
  },
  {
   "cell_type": "code",
   "execution_count": 17,
   "metadata": {},
   "outputs": [],
   "source": [
    "regs, param_grids = get_reg()"
   ]
  },
  {
   "cell_type": "code",
   "execution_count": 18,
   "metadata": {},
   "outputs": [],
   "source": [
    "n_splits = 10\n",
    "grid = run_reg_scv(X = X, y = y, reg = regs[alg], param_grid = param_grids[alg], scoring = my_scorer, n_splits = n_splits)"
   ]
  },
  {
   "cell_type": "code",
   "execution_count": 19,
   "metadata": {},
   "outputs": [],
   "source": [
    "main_score = grid.best_score_\n",
    "main_sterr = grid.cv_results_['std_test_score'][grid.best_index_] / np.sqrt(n_splits)"
   ]
  },
  {
   "cell_type": "code",
   "execution_count": 20,
   "metadata": {},
   "outputs": [
    {
     "name": "stdout",
     "output_type": "stream",
     "text": [
      "-0.9898524652451804\n",
      "0.016325653220659587\n",
      "{'reg__alpha': 0.001, 'reg__gamma': 1.0}\n"
     ]
    }
   ],
   "source": [
    "print(main_score)\n",
    "print(main_sterr)\n",
    "print(grid.best_params_)"
   ]
  },
  {
   "cell_type": "code",
   "execution_count": 21,
   "metadata": {},
   "outputs": [
    {
     "name": "stdout",
     "output_type": "stream",
     "text": [
      "Pipeline(memory=None,\n",
      "         steps=[('standardize',\n",
      "                 StandardScaler(copy=True, with_mean=True, with_std=True)),\n",
      "                ('reg',\n",
      "                 KernelRidge(alpha=0.001, coef0=1, degree=3, gamma=1.0,\n",
      "                             kernel='rbf', kernel_params=None))],\n",
      "         verbose=False)\n"
     ]
    }
   ],
   "source": [
    "reg = copy.deepcopy(regs[alg])\n",
    "reg.alpha = grid.best_params_['reg__alpha']\n",
    "reg.gamma = grid.best_params_['reg__gamma']\n",
    "pipe = Pipeline(steps=[('standardize', StandardScaler()),\n",
    "                       ('reg', reg)])\n",
    "print(pipe)"
   ]
  },
  {
   "cell_type": "code",
   "execution_count": 22,
   "metadata": {},
   "outputs": [],
   "source": [
    "X_sort, y_sort, my_cv, c_sort = get_stratified_cv(X = X, y = y, c = c, n_splits = n_splits)"
   ]
  },
  {
   "cell_type": "code",
   "execution_count": 23,
   "metadata": {},
   "outputs": [],
   "source": [
    "nuis_model = cross_val_score_nuis(X = X_sort, y = y_sort, c = c_sort, my_cv = my_cv, reg = reg, my_scorer = my_scorer)\n",
    "main_score_nuis = nuis_model.mean()\n",
    "main_sterr_nuis = nuis_model.std() / np.sqrt(n_splits)"
   ]
  },
  {
   "cell_type": "code",
   "execution_count": 24,
   "metadata": {},
   "outputs": [
    {
     "name": "stdout",
     "output_type": "stream",
     "text": [
      "-0.9898524652451804\n",
      "0.016325653220659587\n"
     ]
    }
   ],
   "source": [
    "print(main_score)\n",
    "print(main_sterr)"
   ]
  },
  {
   "cell_type": "markdown",
   "metadata": {},
   "source": [
    "### Gradient model"
   ]
  },
  {
   "cell_type": "code",
   "execution_count": 25,
   "metadata": {},
   "outputs": [
    {
     "data": {
      "text/plain": [
       "-0.9898524652451804"
      ]
     },
     "execution_count": 25,
     "metadata": {},
     "output_type": "execute_result"
    }
   ],
   "source": [
    "cross_val_score(pipe, X = X_sort, y = y_sort, cv = my_cv, scoring = my_scorer).mean()"
   ]
  },
  {
   "cell_type": "code",
   "execution_count": 26,
   "metadata": {},
   "outputs": [],
   "source": [
    "gradient = np.loadtxt(os.path.join(os.environ['MODELDIR'],'pnc_grads_template.txt'))[:,0]"
   ]
  },
  {
   "cell_type": "code",
   "execution_count": 27,
   "metadata": {},
   "outputs": [
    {
     "name": "stdout",
     "output_type": "stream",
     "text": [
      "Computing accuracy for non overlapping windows\n",
      "Computing accuracy for overlapping windows\n",
      "Computing null accuracy\n"
     ]
    }
   ],
   "source": [
    "bin_size = 5\n",
    "compute_null = True\n",
    "use_nuis = True\n",
    "\n",
    "# sort gradient\n",
    "sort_idx = np.argsort(gradient)\n",
    "\n",
    "# reorder X\n",
    "X_sort_grad = X_sort.iloc[:,sort_idx]\n",
    "\n",
    "# compute accuracy for non overlapping windows\n",
    "print('Computing accuracy for non overlapping windows')\n",
    "window_start = np.arange(0,num_parcels - bin_size + 1, bin_size)\n",
    "num_windows = len(window_start)\n",
    "\n",
    "window_score = np.zeros(num_windows,)\n",
    "window_sterr = np.zeros(num_windows,)\n",
    "\n",
    "for i, w in enumerate(window_start):\n",
    "    Xl = X_sort_grad.iloc[:,w:w+bin_size]\n",
    "    if use_nuis: cv_results = cross_val_score_nuis(X = Xl, y = y_sort, c = c_sort, my_cv = my_cv, reg = reg, my_scorer = my_scorer)\n",
    "    else: cv_results = cross_val_score(pipe, X = Xl, y = y_sort, cv = my_cv, scoring = my_scorer)\n",
    "    window_score[i] = cv_results.mean()\n",
    "    window_sterr[i] = cv_results.std() / np.sqrt(n_splits)\n",
    "\n",
    "# compute accuracy for overlapping windows\n",
    "print('Computing accuracy for overlapping windows')\n",
    "step_size = 1\n",
    "window_start = np.arange(0,num_parcels - bin_size + 1, step_size)\n",
    "num_windows = len(window_start)\n",
    "\n",
    "window_score_overlap = np.zeros(num_windows,)\n",
    "window_sterr_overlap = np.zeros(num_windows,)\n",
    "\n",
    "for i, w in enumerate(window_start):\n",
    "    Xl = X_sort_grad.iloc[:,w:w+bin_size]\n",
    "    if use_nuis: cv_results = cross_val_score_nuis(X = Xl, y = y_sort, c = c_sort, my_cv = my_cv, reg = reg, my_scorer = my_scorer)\n",
    "    else: cv_results = cross_val_score(pipe, X = Xl, y = y_sort, cv = my_cv, scoring = my_scorer)\n",
    "    window_score_overlap[i] = cv_results.mean()\n",
    "    window_sterr_overlap[i] = cv_results.std() / np.sqrt(n_splits)\n",
    "\n",
    "# compute null using random samples of regions\n",
    "if compute_null:\n",
    "    print('Computing null accuracy')\n",
    "    random_score = np.zeros(num_windows,)\n",
    "    random_sterr = np.zeros(num_windows,)\n",
    "    np.random.seed(0)\n",
    "\n",
    "    for i, w in enumerate(window_start):\n",
    "        Xl = X_sort_grad.sample(frac = bin_size/num_parcels, axis = 1)\n",
    "        if use_nuis: cv_results = cross_val_score_nuis(X = Xl, y = y_sort, c = c_sort, my_cv = my_cv, reg = reg, my_scorer = my_scorer)\n",
    "        else: cv_results = cross_val_score(pipe, X = Xl, y = y_sort, cv = my_cv, scoring = my_scorer)\n",
    "        random_score[i] = cv_results.mean()\n",
    "        random_sterr[i] = cv_results.std() / np.sqrt(n_splits)"
   ]
  },
  {
   "cell_type": "code",
   "execution_count": 28,
   "metadata": {},
   "outputs": [
    {
     "data": {
      "text/plain": [
       "Text(0.5, 1.0, 'GAM: p-val: 0.0122\\n GAM (null): p-val: 0.5354')"
      ]
     },
     "execution_count": 28,
     "metadata": {},
     "output_type": "execute_result"
    },
    {
     "data": {
      "image/png": "[encoded data removed]",
      "text/plain": [
       "<Figure size 360x360 with 1 Axes>"
      ]
     },
     "metadata": {},
     "output_type": "display_data"
    }
   ],
   "source": [
    "# plot\n",
    "f, ax = plt.subplots()\n",
    "f.set_figwidth(5)\n",
    "f.set_figheight(5)\n",
    "\n",
    "window_start = np.arange(0,num_parcels - bin_size + 1, step_size)\n",
    "# gradient null model\n",
    "if compute_null:\n",
    "    # plt.scatter(x = window_start, y = window_score_random, color = 'c', s = 10, alpha = 0.5)\n",
    "    gam_null = LinearGAM(s(0), n_splines = 12).fit(window_start, random_score)\n",
    "    XX = gam_null.generate_X_grid(term=0, n=num_parcels)\n",
    "    plt.plot(XX, gam_null.predict(XX), color='c', ls='--', alpha = 0.5)\n",
    "    plt.plot(XX, gam_null.confidence_intervals(XX, width=.95), color='c', ls='--', alpha = 0.5)\n",
    "\n",
    "# overlapping sliding windows scatter\n",
    "plt.scatter(x = window_start, y = window_score_overlap, color = 'gray', s = 10, alpha = 0.75)\n",
    "\n",
    "# full brain model score\n",
    "if use_nuis: ax.axhline(y = main_score_nuis, color = 'gray', linestyle = ':')\n",
    "else: ax.axhline(y = main_score, color = 'gray', linestyle = ':')\n",
    "\n",
    "# ax.axhline(y = main_score - std_error, color = 'black', linestyle = ':')\n",
    "# ax.axhline(y = main_score + std_error, color = 'black', linestyle = ':')\n",
    "\n",
    "# non overlapping windows\n",
    "window_start = np.arange(0,num_parcels - bin_size + 1, bin_size)\n",
    "# x_marks = np.arange(0, num_parcels, bin_size)\n",
    "if len(window_start) > len(window_score): window_start = window_start[:len(window_score)]\n",
    "plt.scatter(x = window_start, y = window_score, color = 'k', s = 30)\n",
    "\n",
    "# main GAM\n",
    "gam = LinearGAM(s(0), n_splines = 12).fit(window_start, window_score)\n",
    "for i, j in enumerate(window_start): plt.plot([j, j], [window_score[i]-window_sterr[i], window_score[i]+window_sterr[i]], color = 'k')\n",
    "XX = gam.generate_X_grid(term=0, n=num_parcels)\n",
    "plt.plot(XX, gam.predict(XX), color='r', ls='--')\n",
    "plt.plot(XX, gam.confidence_intervals(XX, width=0.95), color='b', ls='--')\n",
    "\n",
    "ax.set_xlabel('Gradient (Window)')\n",
    "ax.set_ylabel('Accuracy')\n",
    "ax.set_xlim([-bin_size, num_parcels])\n",
    "\n",
    "ax.set_title('GAM: p-val: '+ str(np.round(gam.statistics_['p_values'][0],4)) + \\\n",
    "            '\\n GAM (null): p-val: '+ str(np.round(gam_null.statistics_['p_values'][0],4)))\n",
    "# ax.set_title('GAM: p-val: '+ str(np.round(gam.statistics_['p_values'][0],4)) + \\\n",
    "#             '\\n Spearman Rank: ' + str(np.round(sp.stats.spearmanr(window_start, window_score),4)[0]) + \\\n",
    "#              ', p-val: ' + str(np.round(sp.stats.spearmanr(window_start, window_score),4)[1]))"
   ]
  },
  {
   "cell_type": "code",
   "execution_count": null,
   "metadata": {},
   "outputs": [],
   "source": []
  }
 ],
 "metadata": {
  "kernelspec": {
   "display_name": "Python 3",
   "language": "python",
   "name": "python3"
  },
  "language_info": {
   "codemirror_mode": {
    "name": "ipython",
    "version": 3
   },
   "file_extension": ".py",
   "mimetype": "text/x-python",
   "name": "python",
   "nbconvert_exporter": "python",
   "pygments_lexer": "ipython3",
   "version": "3.7.7"
  }
 },
 "nbformat": 4,
 "nbformat_minor": 4
}
