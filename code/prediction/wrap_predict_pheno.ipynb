{
 "cells": [
  {
   "cell_type": "markdown",
   "metadata": {},
   "source": [
    "# Submit jobs to cubic"
   ]
  },
  {
   "cell_type": "code",
   "execution_count": 3,
   "metadata": {},
   "outputs": [
    {
     "name": "stdout",
     "output_type": "stream",
     "text": [
      "36000\n"
     ]
    }
   ],
   "source": [
    "import os\n",
    "import numpy as np\n",
    "import subprocess\n",
    "import json\n",
    "\n",
    "py_exec = '/cbica/home/parkesl/miniconda3/envs/neurodev_cs_predictive/bin/python'\n",
    "indir = '/cbica/home/parkesl/ResProjects/neurodev_cs_predictive/analysis/t1Exclude/schaefer_200_streamlineCount/predict_pheno'\n",
    "\n",
    "metrics = ['vol', 'str', 'ac', 'mc']\n",
    "phenos = ['Overall_Psychopathology','Psychosis_Positive','Psychosis_NegativeDisorg','AnxiousMisery','Externalizing','Fear']\n",
    "# phenos = ['F1_Exec_Comp_Res_Accuracy', 'F2_Social_Cog_Accuracy', 'F3_Memory_Accuracy', 'F1_Complex_Reasoning_Efficiency',\n",
    "#           'F2_Memory.Efficiency', 'F3_Executive_Efficiency', 'F4_Social_Cognition_Efficiency']\n",
    "algs = ['rr', 'lr', 'krr_lin', 'krr_rbf', 'svr_rbf']\n",
    "scores = ['r2', 'corr', 'mse']\n",
    "\n",
    "num_algs = len(algs)\n",
    "num_metrics = len(metrics)\n",
    "num_phenos = len(phenos)\n",
    "num_scores = len(scores)\n",
    "\n",
    "# print(num_seeds * num_algs * num_metrics * num_phenos)\n",
    "print(num_algs * num_metrics * num_phenos * num_scores)"
   ]
  },
  {
   "cell_type": "markdown",
   "metadata": {},
   "source": [
    "## Stratified cross-val"
   ]
  },
  {
   "cell_type": "code",
   "execution_count": 1,
   "metadata": {},
   "outputs": [],
   "source": [
    "py_script = '/cbica/home/parkesl/ResProjects/neurodev_cs_predictive/code/cluster/predict_pheno_scv.py'\n",
    "outdir = os.path.join(indir, 'stratified_null')"
   ]
  },
  {
   "cell_type": "code",
   "execution_count": null,
   "metadata": {},
   "outputs": [],
   "source": [
    "for alg in algs:\n",
    "    for metric in metrics:\n",
    "        for pheno in phenos:\n",
    "            for score in scores:\n",
    "                subprocess_str = '{0} {1} -x {2}/X.csv -y {2}/y.csv -alg {3} -metric {4} -pheno {5} -score {6} -o {7}'.format(py_exec, py_script, indir, alg, metric, pheno, score, outdir)\n",
    "\n",
    "                name = alg + '_' + metric + '_' + pheno + '_' + score\n",
    "                qsub_call = 'qsub -N {0} -l h_vmem=1G,s_vmem=1G -pe threaded 4 -j y -b y -o /cbica/home/parkesl/sge/ -e /cbica/home/parkesl/sge/ '.format(name)\n",
    "\n",
    "                os.system(qsub_call + subprocess_str)"
   ]
  },
  {
   "cell_type": "markdown",
   "metadata": {},
   "source": [
    "## Assemble outputs"
   ]
  },
  {
   "cell_type": "code",
   "execution_count": null,
   "metadata": {},
   "outputs": [],
   "source": [
    "for score in scores:\n",
    "    workdir = os.path.join(outdir, score)\n",
    "    print(score)\n",
    "    \n",
    "    accuracy = np.zeros((num_algs, num_metrics, num_phenos))\n",
    "    permuted_acc = np.zeros((num_algs, num_metrics, num_phenos, 5000))\n",
    "\n",
    "    for a, alg in enumerate(algs):\n",
    "        for m, metric in enumerate(metrics):\n",
    "            for p, pheno in enumerate(phenos):\n",
    "                accuracy[a,m,p] = np.loadtxt(os.path.join(workdir, alg + '_' + metric + '_' + pheno, 'best_score.txt'))\n",
    "                permuted_acc[a,m,p,:] = np.loadtxt(os.path.join(workdir, alg + '_' + metric + '_' + pheno, 'permuted_acc.txt'))\n",
    "\n",
    "    np.save(os.path.join(workdir, 'accuracy'), accuracy)\n",
    "    np.save(os.path.join(workdir, 'permuted_acc'), permuted_acc)"
   ]
  },
  {
   "cell_type": "markdown",
   "metadata": {},
   "source": [
    "## Random splits cross-val"
   ]
  },
  {
   "cell_type": "code",
   "execution_count": null,
   "metadata": {},
   "outputs": [],
   "source": [
    "py_script = '/cbica/home/parkesl/ResProjects/neurodev_cs_predictive/code/cluster/predict_pheno.py'\n",
    "outdir = os.path.join(indir, 'random_splits')"
   ]
  },
  {
   "cell_type": "code",
   "execution_count": null,
   "metadata": {},
   "outputs": [],
   "source": [
    "for alg in algs:\n",
    "    for metric in metrics:\n",
    "        for pheno in phenos:\n",
    "            for score in scores:\n",
    "                subprocess_str = '{0} {1} -x {2}/X.csv -y {2}/y.csv -alg {3} -metric {4} -pheno {5} -score {6} -o {7}'.format(py_exec, py_script, indir, alg, metric, pheno, score, outdir)\n",
    "\n",
    "                name = alg + '_' + metric + '_' + pheno + '_' + score\n",
    "                qsub_call = 'qsub -N {0} -l h_vmem=1G,s_vmem=1G -t 1-100 -pe threaded 4 -j y -b y -o /cbica/home/parkesl/sge/ -e /cbica/home/parkesl/sge/ '.format(name)\n",
    "\n",
    "                os.system(qsub_call + subprocess_str)"
   ]
  },
  {
   "cell_type": "markdown",
   "metadata": {},
   "source": [
    "## Assemble outputs"
   ]
  },
  {
   "cell_type": "code",
   "execution_count": null,
   "metadata": {},
   "outputs": [],
   "source": [
    "seeds = np.arange(0,100)\n",
    "num_seeds = len(seeds)\n",
    "\n",
    "for score in scores:\n",
    "    workdir = os.path.join(outdir, 'main_score_'+score)\n",
    "    print(score)\n",
    "    \n",
    "    nested_score_mean = np.zeros((num_seeds, num_algs, num_metrics, num_phenos))\n",
    "    non_nested_r2 = np.zeros((num_seeds, num_algs, num_metrics, num_phenos))\n",
    "    non_nested_mse = np.zeros((num_seeds, num_algs, num_metrics, num_phenos))\n",
    "    non_nested_mae = np.zeros((num_seeds, num_algs, num_metrics, num_phenos))\n",
    "    non_nested_corr = np.zeros((num_seeds, num_algs, num_metrics, num_phenos))\n",
    "\n",
    "    for s, seed in enumerate(seeds):\n",
    "        print(seed)\n",
    "        for a, alg in enumerate(algs):\n",
    "            for m, metric in enumerate(metrics):\n",
    "                for p, pheno in enumerate(phenos):\n",
    "                    nested_score = np.loadtxt(os.path.join(workdir, 'split_'+str(seed), alg + '_' + metric + '_' + pheno, 'nested_score.csv'))\n",
    "                    nested_score_mean[s,a,m,p] = nested_score.mean()\n",
    "\n",
    "                    best_scores = json.load(open(os.path.join(workdir, 'split_'+str(seed), alg + '_' + metric + '_' + pheno, 'best_scores.json')))\n",
    "                    non_nested_r2[s,a,m,p] = best_scores['r2']\n",
    "                    non_nested_mse[s,a,m,p] = best_scores['mse']\n",
    "                    non_nested_mae[s,a,m,p] = best_scores['mae']\n",
    "                    non_nested_corr[s,a,m,p] = best_scores['corr']\n",
    "\n",
    "    np.save(os.path.join(workdir, 'nested_score_mean'), nested_score_mean)\n",
    "    np.save(os.path.join(workdir, 'non_nested_r2'), non_nested_r2)\n",
    "    np.save(os.path.join(workdir, 'non_nested_mse'), non_nested_mse)\n",
    "    np.save(os.path.join(workdir, 'non_nested_mae'), non_nested_mae)\n",
    "    np.save(os.path.join(workdir, 'non_nested_corr'), non_nested_corr)"
   ]
  },
  {
   "cell_type": "markdown",
   "metadata": {},
   "source": [
    "## Lesion analysis"
   ]
  },
  {
   "cell_type": "code",
   "execution_count": 2,
   "metadata": {},
   "outputs": [
    {
     "data": {
      "text/plain": [
       "'/Users/lindenmp/Dropbox/Work/ResProjects/neurodev_cs_predictive/analysis_cubic/normative/t1Exclude/squeakycleanExclude/schaefer_200_streamlineCount_consist/ageAtScan1_Years+sex_adj/predict_pheno_signflip/lesion'"
      ]
     },
     "execution_count": 2,
     "metadata": {},
     "output_type": "execute_result"
    }
   ],
   "source": [
    "py_script = '/cbica/home/parkesl/ResProjects/neurodev_cs_predictive/code/cluster/predict_pheno_lesion.py'\n",
    "outdir = os.path.join(indir, 'lesion')"
   ]
  },
  {
   "cell_type": "code",
   "execution_count": 3,
   "metadata": {},
   "outputs": [],
   "source": [
    "metric = 'ac'\n",
    "pheno = 'AnxiousMisery'\n",
    "alg = 'krr_rbf'"
   ]
  },
  {
   "cell_type": "code",
   "execution_count": 4,
   "metadata": {},
   "outputs": [],
   "source": [
    "for score in scores:\n",
    "    subprocess_str = '{0} {1} -x {2}/X.csv -y {2}/y.csv -alg {3} -metric {4} -pheno {5} -score {6} -o {7}'.format(py_exec, py_script, indir, alg, metric, pheno, score, outdir)\n",
    "\n",
    "    name = alg + '_' + metric + '_' + pheno + '_' + score\n",
    "    qsub_call = 'qsub -N {0} -l h_vmem=1G,s_vmem=1G -t 1-100 -pe threaded 1 -j y -b y -o /cbica/home/parkesl/sge/ -e /cbica/home/parkesl/sge/ '.format(name)\n",
    "\n",
    "    os.system(qsub_call + subprocess_str)"
   ]
  },
  {
   "cell_type": "markdown",
   "metadata": {},
   "source": [
    "## Assemble outputs"
   ]
  },
  {
   "cell_type": "code",
   "execution_count": 13,
   "metadata": {},
   "outputs": [
    {
     "name": "stdout",
     "output_type": "stream",
     "text": [
      "r2\n"
     ]
    }
   ],
   "source": [
    "seeds = np.arange(0,100)\n",
    "num_seeds = len(seeds)\n",
    "\n",
    "for score in scores:\n",
    "    workdir = os.path.join(outdir, score)\n",
    "    print(score)\n",
    "\n",
    "    accuracy = float(np.loadtxt(os.path.join(workdir, 'split_0', alg + '_' + metric + '_' + pheno, 'scv_score.txt'), dtype = 'float'))\n",
    "    n_components = float(np.loadtxt(os.path.join(workdir, 'split_0', alg + '_' + metric + '_' + pheno, 'n_components.txt')))\n",
    "    np.savetxt(os.path.join(workdir, 'accuracy.txt'), np.array([accuracy]))\n",
    "    np.savetxt(os.path.join(workdir, 'n_components.txt'), np.array([n_components]))\n",
    "\n",
    "    shuf_fulln_accuracy = np.zeros((num_seeds,))\n",
    "    shuf_fulln_var_exp = np.zeros((num_seeds,))\n",
    "\n",
    "    shuf_lesioned_accuracy = np.zeros((num_seeds,200))\n",
    "    shuf_lesioned_var_exp = np.zeros((num_seeds,200))\n",
    "\n",
    "    accuracy_delta = np.zeros((num_seeds,200))\n",
    "\n",
    "    for s, seed in enumerate(seeds):\n",
    "        shuf_fulln_accuracy[s] = np.loadtxt(os.path.join(workdir, 'split_'+str(seed), alg + '_' + metric + '_' + pheno, 'shuf_fulln_accuracy.txt'))\n",
    "        shuf_fulln_var_exp[s] = np.loadtxt(os.path.join(workdir, 'split_'+str(seed), alg + '_' + metric + '_' + pheno, 'shuf_fulln_var_exp.txt'))\n",
    "\n",
    "        shuf_lesioned_accuracy[s,:] = np.loadtxt(os.path.join(workdir, 'split_'+str(seed), alg + '_' + metric + '_' + pheno, 'shuf_lesioned_accuracy.txt'))\n",
    "        shuf_lesioned_var_exp[s,:] = np.loadtxt(os.path.join(workdir, 'split_'+str(seed), alg + '_' + metric + '_' + pheno, 'shuf_lesioned_var_exp.txt'))\n",
    "\n",
    "        accuracy_delta[s,:] = shuf_lesioned_accuracy[s,:] - accuracy\n",
    "\n",
    "    np.savetxt(os.path.join(workdir, 'shuf_fulln_accuracy.txt'), shuf_fulln_accuracy)\n",
    "    np.savetxt(os.path.join(workdir, 'shuf_fulln_var_exp.txt'), shuf_fulln_var_exp)\n",
    "    np.savetxt(os.path.join(workdir, 'shuf_lesioned_accuracy.txt'), shuf_lesioned_accuracy)\n",
    "    np.savetxt(os.path.join(workdir, 'shuf_lesioned_var_exp.txt'), shuf_lesioned_var_exp)\n",
    "    np.savetxt(os.path.join(workdir, 'accuracy_delta.txt'), accuracy_delta)"
   ]
  },
  {
   "cell_type": "code",
   "execution_count": null,
   "metadata": {},
   "outputs": [],
   "source": []
  },
  {
   "cell_type": "code",
   "execution_count": null,
   "metadata": {},
   "outputs": [],
   "source": []
  },
  {
   "cell_type": "code",
   "execution_count": 14,
   "metadata": {},
   "outputs": [],
   "source": [
    "import seaborn as sns"
   ]
  },
  {
   "cell_type": "code",
   "execution_count": 15,
   "metadata": {},
   "outputs": [],
   "source": [
    "import scipy as sp"
   ]
  },
  {
   "cell_type": "code",
   "execution_count": 16,
   "metadata": {},
   "outputs": [],
   "source": [
    "r = np.zeros(200,)\n",
    "\n",
    "for i in np.arange(0,200):\n",
    "    r[i] = sp.stats.pearsonr(shuf_lesioned_accuracy[:,i], shuf_lesioned_var_exp[:,i])[0]"
   ]
  },
  {
   "cell_type": "code",
   "execution_count": 17,
   "metadata": {},
   "outputs": [
    {
     "data": {
      "text/plain": [
       "<matplotlib.axes._subplots.AxesSubplot at 0x12bd35690>"
      ]
     },
     "execution_count": 17,
     "metadata": {},
     "output_type": "execute_result"
    },
    {
     "data": {
      "image/png": "[encoded data removed]",
      "text/plain": [
       "<Figure size 432x288 with 1 Axes>"
      ]
     },
     "metadata": {
      "needs_background": "light"
     },
     "output_type": "display_data"
    }
   ],
   "source": [
    "sns.distplot(r)"
   ]
  },
  {
   "cell_type": "code",
   "execution_count": 18,
   "metadata": {},
   "outputs": [],
   "source": [
    "x = np.mean(shuf_lesioned_accuracy, axis = 0)\n",
    "y = np.mean(shuf_lesioned_var_exp, axis = 0)"
   ]
  },
  {
   "cell_type": "code",
   "execution_count": 19,
   "metadata": {},
   "outputs": [
    {
     "data": {
      "text/plain": [
       "SpearmanrResult(correlation=-0.0029205730143253587, pvalue=0.9672605501379307)"
      ]
     },
     "execution_count": 19,
     "metadata": {},
     "output_type": "execute_result"
    }
   ],
   "source": [
    "sp.stats.spearmanr(x,y)"
   ]
  },
  {
   "cell_type": "code",
   "execution_count": 20,
   "metadata": {},
   "outputs": [
    {
     "data": {
      "text/plain": [
       "<matplotlib.axes._subplots.AxesSubplot at 0x12deaf690>"
      ]
     },
     "execution_count": 20,
     "metadata": {},
     "output_type": "execute_result"
    },
    {
     "data": {
      "image/png": "[encoded data removed]",
      "text/plain": [
       "<Figure size 432x288 with 1 Axes>"
      ]
     },
     "metadata": {
      "needs_background": "light"
     },
     "output_type": "display_data"
    }
   ],
   "source": [
    "sns.regplot(x = x, y = y)"
   ]
  },
  {
   "cell_type": "code",
   "execution_count": 21,
   "metadata": {},
   "outputs": [
    {
     "data": {
      "text/plain": [
       "<matplotlib.axes._subplots.AxesSubplot at 0x12dfc0910>"
      ]
     },
     "execution_count": 21,
     "metadata": {},
     "output_type": "execute_result"
    },
    {
     "data": {
      "image/png": "[encoded data removed]",
      "text/plain": [
       "<Figure size 432x288 with 1 Axes>"
      ]
     },
     "metadata": {
      "needs_background": "light"
     },
     "output_type": "display_data"
    }
   ],
   "source": [
    "sns.distplot(np.min(accuracy_delta, axis = 0))"
   ]
  },
  {
   "cell_type": "code",
   "execution_count": 22,
   "metadata": {},
   "outputs": [
    {
     "data": {
      "text/plain": [
       "<matplotlib.axes._subplots.AxesSubplot at 0x12e0c4ed0>"
      ]
     },
     "execution_count": 22,
     "metadata": {},
     "output_type": "execute_result"
    },
    {
     "data": {
      "image/png": "[encoded data removed]",
      "text/plain": [
       "<Figure size 432x288 with 1 Axes>"
      ]
     },
     "metadata": {
      "needs_background": "light"
     },
     "output_type": "display_data"
    }
   ],
   "source": [
    "sns.distplot(np.max(accuracy_delta, axis = 0))"
   ]
  },
  {
   "cell_type": "code",
   "execution_count": 23,
   "metadata": {},
   "outputs": [
    {
     "data": {
      "text/plain": [
       "<matplotlib.axes._subplots.AxesSubplot at 0x12e1f9bd0>"
      ]
     },
     "execution_count": 23,
     "metadata": {},
     "output_type": "execute_result"
    },
    {
     "data": {
      "image/png": "[encoded data removed]",
      "text/plain": [
       "<Figure size 432x288 with 1 Axes>"
      ]
     },
     "metadata": {
      "needs_background": "light"
     },
     "output_type": "display_data"
    }
   ],
   "source": [
    "sns.distplot(np.mean(accuracy_delta, axis = 0))"
   ]
  },
  {
   "cell_type": "code",
   "execution_count": null,
   "metadata": {},
   "outputs": [],
   "source": []
  }
 ],
 "metadata": {
  "kernelspec": {
   "display_name": "Python 3",
   "language": "python",
   "name": "python3"
  },
  "language_info": {
   "codemirror_mode": {
    "name": "ipython",
    "version": 3
   },
   "file_extension": ".py",
   "mimetype": "text/x-python",
   "name": "python",
   "nbconvert_exporter": "python",
   "pygments_lexer": "ipython3",
   "version": "3.7.7"
  }
 },
 "nbformat": 4,
 "nbformat_minor": 4
}
