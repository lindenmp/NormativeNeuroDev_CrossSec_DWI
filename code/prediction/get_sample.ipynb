{
 "cells": [
  {
   "cell_type": "markdown",
   "metadata": {},
   "source": [
    "# Preamble"
   ]
  },
  {
   "cell_type": "code",
   "execution_count": 1,
   "metadata": {},
   "outputs": [],
   "source": [
    "# Essentials\n",
    "import os, sys, glob\n",
    "import pandas as pd\n",
    "import numpy as np\n",
    "import nibabel as nib\n",
    "\n",
    "# Stats\n",
    "import scipy as sp\n",
    "from scipy import stats\n",
    "import statsmodels.api as sm\n",
    "import pingouin as pg\n",
    "\n",
    "# Plotting\n",
    "import seaborn as sns\n",
    "import matplotlib.pyplot as plt\n",
    "plt.rcParams['svg.fonttype'] = 'none'"
   ]
  },
  {
   "cell_type": "code",
   "execution_count": 2,
   "metadata": {},
   "outputs": [],
   "source": [
    "sys.path.append('/Users/lindenmp/Dropbox/Work/ResProjects/neurodev_cs_predictive/code/func/')\n",
    "from proj_environment import set_proj_env\n",
    "sys.path.append('/Users/lindenmp/Dropbox/Work/git/pyfunc/')\n",
    "from func import my_get_cmap"
   ]
  },
  {
   "cell_type": "code",
   "execution_count": 3,
   "metadata": {},
   "outputs": [],
   "source": [
    "exclude_str = 't1Exclude'\n",
    "_ = set_proj_env(exclude_str = exclude_str)"
   ]
  },
  {
   "cell_type": "markdown",
   "metadata": {},
   "source": [
    "### Setup output directory"
   ]
  },
  {
   "cell_type": "code",
   "execution_count": 4,
   "metadata": {},
   "outputs": [
    {
     "name": "stdout",
     "output_type": "stream",
     "text": [
      "/Users/lindenmp/Dropbox/Work/ResProjects/neurodev_cs_predictive/analysis/t1Exclude\n"
     ]
    }
   ],
   "source": [
    "print(os.environ['TRTEDIR'])\n",
    "if not os.path.exists(os.environ['TRTEDIR']): os.makedirs(os.environ['TRTEDIR'])"
   ]
  },
  {
   "cell_type": "markdown",
   "metadata": {},
   "source": [
    "# Load in metadata"
   ]
  },
  {
   "cell_type": "code",
   "execution_count": 5,
   "metadata": {},
   "outputs": [
    {
     "name": "stdout",
     "output_type": "stream",
     "text": [
      "1599\n"
     ]
    }
   ],
   "source": [
    "# LTN and Health Status\n",
    "health = pd.read_csv(os.path.join(os.environ['DERIVSDIR'], 'pncDataFreeze20170905/n1601_dataFreeze/health/n1601_health_20170421.csv'))\n",
    "# Protocol\n",
    "prot = pd.read_csv(os.path.join(os.environ['DERIVSDIR'], 'pncDataFreeze20170905/n1601_dataFreeze/neuroimaging/n1601_pnc_protocol_validation_params_status_20161220.csv'))\n",
    "# T1 QA\n",
    "t1_qa = pd.read_csv(os.path.join(os.environ['DERIVSDIR'], 'pncDataFreeze20170905/n1601_dataFreeze/neuroimaging/t1struct/n1601_t1QaData_20170306.csv'))\n",
    "# DTI QA\n",
    "dti_qa = pd.read_csv(os.path.join(os.environ['DERIVSDIR'], 'pncDataFreeze20170905/n1601_dataFreeze/neuroimaging/dti/n1601_dti_qa_20170301.csv'))\n",
    "# Rest QA\n",
    "rest_qa = pd.read_csv(os.path.join(os.environ['DERIVSDIR'], 'pncDataFreeze20170905/n1601_dataFreeze/neuroimaging/rest/n1601_RestQAData_20170714.csv'))\n",
    "# Demographics\n",
    "demog = pd.read_csv(os.path.join(os.environ['DERIVSDIR'], 'pncDataFreeze20170905/n1601_dataFreeze/demographics/n1601_demographics_go1_20161212.csv'))\n",
    "# Brain volume\n",
    "brain_vol = pd.read_csv(os.path.join(os.environ['DERIVSDIR'], 'pncDataFreeze20170905/n1601_dataFreeze/neuroimaging/t1struct/n1601_ctVol20170412.csv'))\n",
    "\n",
    "# GOASSESS Bifactor scores\n",
    "goassess = pd.read_csv(os.path.join(os.environ['DERIVSDIR'], 'GO1_clinical_factor_scores_psychosis_split_BIFACTOR.csv'))\n",
    "# cnb\n",
    "cnb = pd.read_csv(os.path.join(os.environ['DERIVSDIR'], 'pncDataFreeze20170905/n1601_dataFreeze/cnb/n1601_cnb_factor_scores_tymoore_20151006.csv'))\n",
    "\n",
    "# merge\n",
    "df = health\n",
    "df = pd.merge(df, prot, on=['scanid', 'bblid']) # prot\n",
    "df = pd.merge(df, t1_qa, on=['scanid', 'bblid']) # t1_qa\n",
    "df = pd.merge(df, dti_qa, on=['scanid', 'bblid']) # dti_qa\n",
    "df = pd.merge(df, rest_qa, on=['scanid', 'bblid']) # rest_qa\n",
    "df = pd.merge(df, demog, on=['scanid', 'bblid']) # demog\n",
    "df = pd.merge(df, brain_vol, on=['scanid', 'bblid']) # brain_vol\n",
    "\n",
    "df = pd.merge(df, goassess, on=['bblid']) # goassess\n",
    "df = pd.merge(df, cnb, on=['scanid', 'bblid']) # brain_vol\n",
    "\n",
    "print(df.shape[0])\n",
    "df.set_index(['bblid', 'scanid'], inplace = True)"
   ]
  },
  {
   "cell_type": "code",
   "execution_count": 6,
   "metadata": {},
   "outputs": [
    {
     "data": {
      "text/html": [
       "<div>\n",
       "<style scoped>\n",
       "    .dataframe tbody tr th:only-of-type {\n",
       "        vertical-align: middle;\n",
       "    }\n",
       "\n",
       "    .dataframe tbody tr th {\n",
       "        vertical-align: top;\n",
       "    }\n",
       "\n",
       "    .dataframe thead th {\n",
       "        text-align: right;\n",
       "    }\n",
       "</style>\n",
       "<table border=\"1\" class=\"dataframe\">\n",
       "  <thead>\n",
       "    <tr style=\"text-align: right;\">\n",
       "      <th></th>\n",
       "      <th></th>\n",
       "      <th>timepoint_x</th>\n",
       "      <th>smrytrt_psychinpt</th>\n",
       "      <th>psychoactiveMedPsychv2</th>\n",
       "      <th>psychoactiveMedMedicalv2</th>\n",
       "      <th>incidentalFindingExclude</th>\n",
       "      <th>medicalratingExcludev1</th>\n",
       "      <th>healthExcludev2</th>\n",
       "      <th>ltnExcludev2</th>\n",
       "      <th>squeakycleanExclude</th>\n",
       "      <th>psychoactiveMedMedical</th>\n",
       "      <th>...</th>\n",
       "      <th>F1_Exec_Comp_Cog_Accuracy_Ar</th>\n",
       "      <th>F2_Social_Cog_Accuracy_Ar</th>\n",
       "      <th>F3_Memory_Accuracy_Ar</th>\n",
       "      <th>F1_Social_Cognition_Efficiency_Ar</th>\n",
       "      <th>F2_Complex_Reasoning_Efficiency_Ar</th>\n",
       "      <th>F3_Memory_Efficiency_Ar</th>\n",
       "      <th>F4_Executive_Efficiency_Ar</th>\n",
       "      <th>F1_Slow_Speed_Ar</th>\n",
       "      <th>F2_Memory_Speed_Ar</th>\n",
       "      <th>F3_Fast_Speed_Ar</th>\n",
       "    </tr>\n",
       "    <tr>\n",
       "      <th>bblid</th>\n",
       "      <th>scanid</th>\n",
       "      <th></th>\n",
       "      <th></th>\n",
       "      <th></th>\n",
       "      <th></th>\n",
       "      <th></th>\n",
       "      <th></th>\n",
       "      <th></th>\n",
       "      <th></th>\n",
       "      <th></th>\n",
       "      <th></th>\n",
       "      <th></th>\n",
       "      <th></th>\n",
       "      <th></th>\n",
       "      <th></th>\n",
       "      <th></th>\n",
       "      <th></th>\n",
       "      <th></th>\n",
       "      <th></th>\n",
       "      <th></th>\n",
       "      <th></th>\n",
       "      <th></th>\n",
       "    </tr>\n",
       "  </thead>\n",
       "  <tbody>\n",
       "    <tr>\n",
       "      <th>80961</th>\n",
       "      <th>2632</th>\n",
       "      <td>1</td>\n",
       "      <td>0</td>\n",
       "      <td>1</td>\n",
       "      <td>0</td>\n",
       "      <td>0</td>\n",
       "      <td>0</td>\n",
       "      <td>0</td>\n",
       "      <td>1</td>\n",
       "      <td>1</td>\n",
       "      <td>0</td>\n",
       "      <td>...</td>\n",
       "      <td>-1.147680</td>\n",
       "      <td>-0.985732</td>\n",
       "      <td>0.103675</td>\n",
       "      <td>-0.248342</td>\n",
       "      <td>-1.500726</td>\n",
       "      <td>0.749361</td>\n",
       "      <td>0.276936</td>\n",
       "      <td>0.012737</td>\n",
       "      <td>0.673015</td>\n",
       "      <td>0.927039</td>\n",
       "    </tr>\n",
       "    <tr>\n",
       "      <th>80199</th>\n",
       "      <th>2637</th>\n",
       "      <td>1</td>\n",
       "      <td>0</td>\n",
       "      <td>0</td>\n",
       "      <td>0</td>\n",
       "      <td>0</td>\n",
       "      <td>0</td>\n",
       "      <td>0</td>\n",
       "      <td>0</td>\n",
       "      <td>0</td>\n",
       "      <td>0</td>\n",
       "      <td>...</td>\n",
       "      <td>-0.262102</td>\n",
       "      <td>0.951817</td>\n",
       "      <td>-0.729813</td>\n",
       "      <td>1.309180</td>\n",
       "      <td>0.323467</td>\n",
       "      <td>-0.216490</td>\n",
       "      <td>-0.439120</td>\n",
       "      <td>0.882288</td>\n",
       "      <td>0.621913</td>\n",
       "      <td>-0.233789</td>\n",
       "    </tr>\n",
       "    <tr>\n",
       "      <th>80179</th>\n",
       "      <th>2643</th>\n",
       "      <td>1</td>\n",
       "      <td>1</td>\n",
       "      <td>1</td>\n",
       "      <td>0</td>\n",
       "      <td>0</td>\n",
       "      <td>0</td>\n",
       "      <td>0</td>\n",
       "      <td>1</td>\n",
       "      <td>1</td>\n",
       "      <td>0</td>\n",
       "      <td>...</td>\n",
       "      <td>-2.456514</td>\n",
       "      <td>-3.463454</td>\n",
       "      <td>-2.023924</td>\n",
       "      <td>-2.082903</td>\n",
       "      <td>-0.919736</td>\n",
       "      <td>-0.722441</td>\n",
       "      <td>-1.598467</td>\n",
       "      <td>1.000161</td>\n",
       "      <td>0.009006</td>\n",
       "      <td>-0.118194</td>\n",
       "    </tr>\n",
       "    <tr>\n",
       "      <th>81005</th>\n",
       "      <th>2644</th>\n",
       "      <td>1</td>\n",
       "      <td>0</td>\n",
       "      <td>0</td>\n",
       "      <td>0</td>\n",
       "      <td>0</td>\n",
       "      <td>1</td>\n",
       "      <td>1</td>\n",
       "      <td>1</td>\n",
       "      <td>1</td>\n",
       "      <td>0</td>\n",
       "      <td>...</td>\n",
       "      <td>1.164884</td>\n",
       "      <td>1.348419</td>\n",
       "      <td>0.936387</td>\n",
       "      <td>0.899698</td>\n",
       "      <td>1.231159</td>\n",
       "      <td>1.485604</td>\n",
       "      <td>0.195561</td>\n",
       "      <td>-0.180368</td>\n",
       "      <td>1.025021</td>\n",
       "      <td>0.518658</td>\n",
       "    </tr>\n",
       "    <tr>\n",
       "      <th>80812</th>\n",
       "      <th>2646</th>\n",
       "      <td>1</td>\n",
       "      <td>0</td>\n",
       "      <td>0</td>\n",
       "      <td>0</td>\n",
       "      <td>0</td>\n",
       "      <td>0</td>\n",
       "      <td>0</td>\n",
       "      <td>0</td>\n",
       "      <td>1</td>\n",
       "      <td>0</td>\n",
       "      <td>...</td>\n",
       "      <td>0.454563</td>\n",
       "      <td>0.892760</td>\n",
       "      <td>0.400804</td>\n",
       "      <td>1.000376</td>\n",
       "      <td>1.442359</td>\n",
       "      <td>0.554244</td>\n",
       "      <td>0.390312</td>\n",
       "      <td>0.891195</td>\n",
       "      <td>0.657851</td>\n",
       "      <td>0.582442</td>\n",
       "    </tr>\n",
       "  </tbody>\n",
       "</table>\n",
       "<p>5 rows × 201 columns</p>\n",
       "</div>"
      ],
      "text/plain": [
       "              timepoint_x  smrytrt_psychinpt  psychoactiveMedPsychv2  \\\n",
       "bblid scanid                                                           \n",
       "80961 2632              1                  0                       1   \n",
       "80199 2637              1                  0                       0   \n",
       "80179 2643              1                  1                       1   \n",
       "81005 2644              1                  0                       0   \n",
       "80812 2646              1                  0                       0   \n",
       "\n",
       "              psychoactiveMedMedicalv2  incidentalFindingExclude  \\\n",
       "bblid scanid                                                       \n",
       "80961 2632                           0                         0   \n",
       "80199 2637                           0                         0   \n",
       "80179 2643                           0                         0   \n",
       "81005 2644                           0                         0   \n",
       "80812 2646                           0                         0   \n",
       "\n",
       "              medicalratingExcludev1  healthExcludev2  ltnExcludev2  \\\n",
       "bblid scanid                                                          \n",
       "80961 2632                         0                0             1   \n",
       "80199 2637                         0                0             0   \n",
       "80179 2643                         0                0             1   \n",
       "81005 2644                         1                1             1   \n",
       "80812 2646                         0                0             0   \n",
       "\n",
       "              squeakycleanExclude  psychoactiveMedMedical  ...  \\\n",
       "bblid scanid                                               ...   \n",
       "80961 2632                      1                       0  ...   \n",
       "80199 2637                      0                       0  ...   \n",
       "80179 2643                      1                       0  ...   \n",
       "81005 2644                      1                       0  ...   \n",
       "80812 2646                      1                       0  ...   \n",
       "\n",
       "              F1_Exec_Comp_Cog_Accuracy_Ar  F2_Social_Cog_Accuracy_Ar  \\\n",
       "bblid scanid                                                            \n",
       "80961 2632                       -1.147680                  -0.985732   \n",
       "80199 2637                       -0.262102                   0.951817   \n",
       "80179 2643                       -2.456514                  -3.463454   \n",
       "81005 2644                        1.164884                   1.348419   \n",
       "80812 2646                        0.454563                   0.892760   \n",
       "\n",
       "              F3_Memory_Accuracy_Ar  F1_Social_Cognition_Efficiency_Ar  \\\n",
       "bblid scanid                                                             \n",
       "80961 2632                 0.103675                          -0.248342   \n",
       "80199 2637                -0.729813                           1.309180   \n",
       "80179 2643                -2.023924                          -2.082903   \n",
       "81005 2644                 0.936387                           0.899698   \n",
       "80812 2646                 0.400804                           1.000376   \n",
       "\n",
       "              F2_Complex_Reasoning_Efficiency_Ar  F3_Memory_Efficiency_Ar  \\\n",
       "bblid scanid                                                                \n",
       "80961 2632                             -1.500726                 0.749361   \n",
       "80199 2637                              0.323467                -0.216490   \n",
       "80179 2643                             -0.919736                -0.722441   \n",
       "81005 2644                              1.231159                 1.485604   \n",
       "80812 2646                              1.442359                 0.554244   \n",
       "\n",
       "              F4_Executive_Efficiency_Ar  F1_Slow_Speed_Ar  \\\n",
       "bblid scanid                                                 \n",
       "80961 2632                      0.276936          0.012737   \n",
       "80199 2637                     -0.439120          0.882288   \n",
       "80179 2643                     -1.598467          1.000161   \n",
       "81005 2644                      0.195561         -0.180368   \n",
       "80812 2646                      0.390312          0.891195   \n",
       "\n",
       "              F2_Memory_Speed_Ar  F3_Fast_Speed_Ar  \n",
       "bblid scanid                                        \n",
       "80961 2632              0.673015          0.927039  \n",
       "80199 2637              0.621913         -0.233789  \n",
       "80179 2643              0.009006         -0.118194  \n",
       "81005 2644              1.025021          0.518658  \n",
       "80812 2646              0.657851          0.582442  \n",
       "\n",
       "[5 rows x 201 columns]"
      ]
     },
     "execution_count": 6,
     "metadata": {},
     "output_type": "execute_result"
    }
   ],
   "source": [
    "df.head()"
   ]
  },
  {
   "cell_type": "markdown",
   "metadata": {},
   "source": [
    "# Filter subjects"
   ]
  },
  {
   "cell_type": "code",
   "execution_count": 7,
   "metadata": {},
   "outputs": [
    {
     "name": "stdout",
     "output_type": "stream",
     "text": [
      "N after initial exclusion: 1445\n",
      "N after T1 exclusion: 1394\n",
      "N after Diffusion exclusion: 1100\n"
     ]
    }
   ],
   "source": [
    "# 1) Primary sample filter\n",
    "df = df[df['healthExcludev2'] == 0]\n",
    "print('N after initial exclusion:', df.shape[0])\n",
    "\n",
    "# 2) T1 exclusion\n",
    "df = df[df[exclude_str] == 0]\n",
    "print('N after T1 exclusion:', df.shape[0])\n",
    "\n",
    "# 3) Diffusion exclusion\n",
    "df = df[df['b0ProtocolValidationStatus'] == 1]\n",
    "df = df[df['dti64ProtocolValidationStatus'] == 1]\n",
    "df = df[df['dti64Exclude'] == 0]\n",
    "print('N after Diffusion exclusion:', df.shape[0])"
   ]
  },
  {
   "cell_type": "code",
   "execution_count": 8,
   "metadata": {},
   "outputs": [
    {
     "data": {
      "text/plain": [
       "array([2., 1.])"
      ]
     },
     "execution_count": 8,
     "metadata": {},
     "output_type": "execute_result"
    }
   ],
   "source": [
    "df['dti64QAManualScore'].unique()"
   ]
  },
  {
   "cell_type": "code",
   "execution_count": 9,
   "metadata": {},
   "outputs": [
    {
     "data": {
      "text/plain": [
       "675"
      ]
     },
     "execution_count": 9,
     "metadata": {},
     "output_type": "execute_result"
    }
   ],
   "source": [
    "np.sum(df['dti64QAManualScore'] == 2)"
   ]
  },
  {
   "cell_type": "code",
   "execution_count": 10,
   "metadata": {},
   "outputs": [],
   "source": [
    "# Convert age to years\n",
    "df['ageAtScan1_Years'] = np.round(df.ageAtScan1/12, decimals=1)"
   ]
  },
  {
   "cell_type": "code",
   "execution_count": 11,
   "metadata": {},
   "outputs": [
    {
     "name": "stdout",
     "output_type": "stream",
     "text": [
      "There are 144 unique age points\n"
     ]
    }
   ],
   "source": [
    "# find unique ages\n",
    "age_unique = np.unique(df.ageAtScan1_Years)\n",
    "print('There are', age_unique.shape[0], 'unique age points')"
   ]
  },
  {
   "cell_type": "markdown",
   "metadata": {},
   "source": [
    "## Export"
   ]
  },
  {
   "cell_type": "code",
   "execution_count": 12,
   "metadata": {},
   "outputs": [],
   "source": [
    "header = ['ageAtScan1', 'ageAtScan1_Years','sex','race2','handednessv2', 'restProtocolValidationStatus', 'restExclude',\n",
    "          'dti64MeanAbsRMS','dti64MeanRelRMS','dti64MaxAbsRMS','dti64MaxRelRMS','mprage_antsCT_vol_TBV', 'averageManualRating',\n",
    "          'Overall_Psychopathology','Psychosis_Positive','Psychosis_NegativeDisorg','AnxiousMisery','Externalizing','Fear',\n",
    "            'Overall_Efficiency', 'Overall_Accuracy',\n",
    "           'Overall_Speed', 'F1_Exec_Comp_Res_Accuracy', 'F2_Social_Cog_Accuracy',\n",
    "           'F3_Memory_Accuracy', 'F1_Complex_Reasoning_Efficiency',\n",
    "           'F2_Memory.Efficiency', 'F3_Executive_Efficiency',\n",
    "           'F4_Social_Cognition_Efficiency', 'F1_Slow_Speed', 'F2_Fast_Speed',\n",
    "           'F3_Memory_Speed', 'Overall_Efficiency_Ar', 'Overall_Accuracy_Ar',\n",
    "           'Overall_Speed_Ar', 'F1_Exec_Comp_Cog_Accuracy_Ar',\n",
    "           'F2_Social_Cog_Accuracy_Ar', 'F3_Memory_Accuracy_Ar',\n",
    "           'F1_Social_Cognition_Efficiency_Ar',\n",
    "           'F2_Complex_Reasoning_Efficiency_Ar', 'F3_Memory_Efficiency_Ar',\n",
    "           'F4_Executive_Efficiency_Ar', 'F1_Slow_Speed_Ar', 'F2_Memory_Speed_Ar',\n",
    "           'F3_Fast_Speed_Ar']\n",
    "df.to_csv(os.path.join(os.environ['TRTEDIR'], 'df_pheno.csv'), columns = header)"
   ]
  },
  {
   "cell_type": "markdown",
   "metadata": {},
   "source": [
    "# Plots"
   ]
  },
  {
   "cell_type": "code",
   "execution_count": 13,
   "metadata": {},
   "outputs": [
    {
     "name": "stdout",
     "output_type": "stream",
     "text": [
      "('Overall_Psychopathology', 'Psychosis_Positive', 'Psychosis_NegativeDisorg', 'AnxiousMisery', 'Externalizing', 'Fear')\n"
     ]
    }
   ],
   "source": [
    "if not os.path.exists(os.environ['FIGDIR']): os.makedirs(os.environ['FIGDIR'])\n",
    "os.chdir(os.environ['FIGDIR'])\n",
    "sns.set(style='white', context = 'paper', font_scale = 1)\n",
    "cmap = my_get_cmap('pair')\n",
    "\n",
    "labels = ['Train', 'Test']\n",
    "phenos = ('Overall_Psychopathology','Psychosis_Positive','Psychosis_NegativeDisorg','AnxiousMisery','Externalizing','Fear')\n",
    "phenos_label_short = ('Ov. Psych.', 'Psy. (pos.)', 'Psy. (neg.)', 'Anx.-mis.', 'Ext.', 'Fear')\n",
    "phenos_label = ('Overall Psychopathology','Psychosis (Positive)','Psychosis (Negative)','Anxious-Misery','Externalizing','Fear')\n",
    "print(phenos)"
   ]
  },
  {
   "cell_type": "markdown",
   "metadata": {},
   "source": [
    "## Age"
   ]
  },
  {
   "cell_type": "code",
   "execution_count": 14,
   "metadata": {},
   "outputs": [
    {
     "data": {
      "text/plain": [
       "array([2, 1])"
      ]
     },
     "execution_count": 14,
     "metadata": {},
     "output_type": "execute_result"
    }
   ],
   "source": [
    "df['sex'].unique()"
   ]
  },
  {
   "cell_type": "code",
   "execution_count": 15,
   "metadata": {},
   "outputs": [
    {
     "data": {
      "image/png": "[encoded data removed]",
      "text/plain": [
       "<Figure size 468x180 with 2 Axes>"
      ]
     },
     "metadata": {},
     "output_type": "display_data"
    }
   ],
   "source": [
    "f, axes = plt.subplots(1,2)\n",
    "f.set_figwidth(6.5)\n",
    "f.set_figheight(2.5)\n",
    "colormap = sns.color_palette(\"pastel\", 2)\n",
    "\n",
    "sns.distplot(df.loc[:,'ageAtScan1_Years'], bins=20, hist=True, kde=False, rug=False, label = labels[1],\n",
    "             hist_kws={\"histtype\": \"step\", \"linewidth\": 2, \"alpha\": 1}, color=list(cmap[0]), ax = axes[0]);\n",
    "axes[0].set_xlabel('Age (years)');\n",
    "axes[0].set_ylabel('Number of participants');\n",
    "axes[0].set_xticks(np.arange(np.min(np.round(age_unique,0)), np.max(np.round(age_unique,0)), 2))\n",
    "\n",
    "# set width of bar\n",
    "barWidth = 0.25\n",
    "\n",
    "# Sex\n",
    "y_train = [np.sum(df.loc[:,'sex'] == 1), np.sum(df.loc[:,'sex'] == 2)]\n",
    "r1 = np.arange(len(y_train))+barWidth/2\n",
    "r2 = [x + barWidth for x in r1]\n",
    "axes[1].bar([0,0.5], y_train, width = barWidth, color = cmap[0])\n",
    "axes[1].set_xlabel('Sex')\n",
    "# axes[1].set_ylabel('Number of participants')\n",
    "axes[1].set_xticks([0,0.5])\n",
    "axes[1].set_xticklabels(['Male', 'Female'])\n",
    "\n",
    "f.savefig('age_distributions.svg', dpi = 300, bbox_inches = 'tight', pad_inches = 0)"
   ]
  },
  {
   "cell_type": "markdown",
   "metadata": {},
   "source": [
    "## Phenotype distributions over train/test"
   ]
  },
  {
   "cell_type": "code",
   "execution_count": 16,
   "metadata": {},
   "outputs": [
    {
     "data": {
      "image/png": "[encoded data removed]",
      "text/plain": [
       "<Figure size 180x288 with 1 Axes>"
      ]
     },
     "metadata": {},
     "output_type": "display_data"
    }
   ],
   "source": [
    "df_rc = pd.melt(df, value_vars = phenos)\n",
    "\n",
    "f, ax = plt.subplots()\n",
    "f.set_figwidth(2.5)\n",
    "f.set_figheight(4)\n",
    "ax = sns.violinplot(y='variable', x='value', data=df_rc, split=True, scale='width', inner = 'quartile', orient = 'h')\n",
    "# ax.get_legend().remove()\n",
    "ax.set_yticklabels(phenos_label_short)\n",
    "ax.set_ylabel('Psychopathology phenotypes')\n",
    "ax.set_xlabel('Phenotype score')\n",
    "f.savefig('phenos_distributions.svg', dpi = 300, bbox_inches = 'tight', pad_inches = 0)"
   ]
  },
  {
   "cell_type": "markdown",
   "metadata": {},
   "source": [
    "### Export sample for FC gradients"
   ]
  },
  {
   "cell_type": "code",
   "execution_count": 17,
   "metadata": {},
   "outputs": [
    {
     "name": "stdout",
     "output_type": "stream",
     "text": [
      "N after rs-fMRI exclusion: 926\n"
     ]
    }
   ],
   "source": [
    "# 4) rs-fMRI exclusion\n",
    "df = df[df['restProtocolValidationStatus'] == 1]\n",
    "df = df[df['restExclude'] == 0]\n",
    "print('N after rs-fMRI exclusion:', df.shape[0])"
   ]
  },
  {
   "cell_type": "code",
   "execution_count": 18,
   "metadata": {},
   "outputs": [],
   "source": [
    "df.to_csv(os.path.join(os.environ['TRTEDIR'], 'df_gradients.csv'), columns = header)"
   ]
  }
 ],
 "metadata": {
  "kernelspec": {
   "display_name": "Python 3",
   "language": "python",
   "name": "python3"
  },
  "language_info": {
   "codemirror_mode": {
    "name": "ipython",
    "version": 3
   },
   "file_extension": ".py",
   "mimetype": "text/x-python",
   "name": "python",
   "nbconvert_exporter": "python",
   "pygments_lexer": "ipython3",
   "version": "3.7.7"
  }
 },
 "nbformat": 4,
 "nbformat_minor": 4
}
