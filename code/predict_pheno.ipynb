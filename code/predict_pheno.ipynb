{
 "cells": [
  {
   "cell_type": "markdown",
   "metadata": {},
   "source": [
    "# Results, section 2:"
   ]
  },
  {
   "cell_type": "code",
   "execution_count": 1,
   "metadata": {},
   "outputs": [],
   "source": [
    "import os, sys\n",
    "import pandas as pd\n",
    "import numpy as np\n",
    "import scipy as sp\n",
    "from scipy import stats\n",
    "import statsmodels.api as sm\n",
    "import matplotlib.pyplot as plt\n",
    "plt.rcParams['svg.fonttype'] = 'none'\n",
    "import seaborn as sns\n",
    "\n",
    "from sklearn.pipeline import Pipeline\n",
    "from sklearn.preprocessing import StandardScaler\n",
    "from sklearn.decomposition import PCA\n",
    "from sklearn.model_selection import train_test_split\n",
    "from sklearn.model_selection import KFold, GridSearchCV, cross_validate, cross_val_score\n",
    "from sklearn.kernel_ridge import KernelRidge\n",
    "from sklearn.metrics import make_scorer, r2_score, mean_squared_error, mean_absolute_error"
   ]
  },
  {
   "cell_type": "code",
   "execution_count": 2,
   "metadata": {},
   "outputs": [],
   "source": [
    "sys.path.append('/Users/lindenmp/Dropbox/Work/ResProjects/NormativeNeuroDev_CrossSec_DWI/code/func/')\n",
    "from proj_environment import set_proj_env\n",
    "from func import mark_outliers, get_cmap, run_corr, get_fdr_p, perc_dev, evd, summarise_network"
   ]
  },
  {
   "cell_type": "code",
   "execution_count": 3,
   "metadata": {},
   "outputs": [],
   "source": [
    "exclude_str = 't1Exclude'\n",
    "parc_str = 'schaefer'\n",
    "parc_scale = 200\n",
    "primary_covariate = 'ageAtScan1'\n",
    "parcel_names, parcel_loc, drop_parcels, num_parcels, yeo_idx, yeo_labels = set_proj_env(exclude_str = exclude_str,\n",
    "                                                                            parc_str = parc_str, parc_scale = parc_scale,\n",
    "                                                                            primary_covariate = primary_covariate)"
   ]
  },
  {
   "cell_type": "code",
   "execution_count": 4,
   "metadata": {},
   "outputs": [
    {
     "data": {
      "text/plain": [
       "'/Users/lindenmp/Dropbox/Work/ResProjects/NormativeNeuroDev_CrossSec_DWI/analysis/normative/t1Exclude/squeakycleanExclude/schaefer_200_streamlineCount/ageAtScan1+sex_adj'"
      ]
     },
     "execution_count": 4,
     "metadata": {},
     "output_type": "execute_result"
    }
   ],
   "source": [
    "os.environ['NORMATIVEDIR']"
   ]
  },
  {
   "cell_type": "code",
   "execution_count": 5,
   "metadata": {},
   "outputs": [],
   "source": [
    "metrics = ('ct', 'vol', 'str', 'ac', 'mc')\n",
    "phenos = ('Overall_Psychopathology','Psychosis_Positive','Psychosis_NegativeDisorg','AnxiousMisery','Externalizing','Fear',\n",
    "         'F1_Exec_Comp_Res_Accuracy', 'F2_Social_Cog_Accuracy', 'F3_Memory_Accuracy', 'F1_Complex_Reasoning_Efficiency',\n",
    "          'F2_Memory.Efficiency', 'F3_Executive_Efficiency', 'F4_Social_Cognition_Efficiency',)"
   ]
  },
  {
   "cell_type": "markdown",
   "metadata": {},
   "source": [
    "## Setup plots"
   ]
  },
  {
   "cell_type": "code",
   "execution_count": 6,
   "metadata": {},
   "outputs": [],
   "source": [
    "if not os.path.exists(os.environ['FIGDIR']): os.makedirs(os.environ['FIGDIR'])\n",
    "os.chdir(os.environ['FIGDIR'])\n",
    "sns.set(style='white', context = 'talk', font_scale = 1)\n",
    "cmap = sns.color_palette(\"pastel\", 3)"
   ]
  },
  {
   "cell_type": "markdown",
   "metadata": {},
   "source": [
    "## Load data"
   ]
  },
  {
   "cell_type": "code",
   "execution_count": 7,
   "metadata": {},
   "outputs": [
    {
     "name": "stdout",
     "output_type": "stream",
     "text": [
      "(1068, 13)\n",
      "(1068, 677)\n",
      "(1068, 677)\n"
     ]
    }
   ],
   "source": [
    "df = pd.read_csv(os.path.join(os.environ['NORMATIVEDIR'], 'df.csv'))\n",
    "df.set_index(['bblid', 'scanid'], inplace = True); print(df.shape)\n",
    "\n",
    "df_node = pd.read_csv(os.path.join(os.environ['NORMATIVEDIR'], 'df_node.csv'))\n",
    "df_node.set_index(['bblid', 'scanid'], inplace = True); print(df_node.shape)\n",
    "\n",
    "df_z = pd.read_csv(os.path.join(os.environ['NORMATIVEDIR'], 'df_z.csv'))\n",
    "df_z.set_index(['bblid', 'scanid'], inplace = True); print(df_node.shape)"
   ]
  },
  {
   "cell_type": "markdown",
   "metadata": {},
   "source": [
    "# Predictive model"
   ]
  },
  {
   "cell_type": "code",
   "execution_count": 17,
   "metadata": {},
   "outputs": [],
   "source": [
    "def run_krr(X,y):\n",
    "    X_train, X_test, y_train, y_test = train_test_split(X, y, test_size=0.10, random_state=0, shuffle = True)\n",
    "    print(X_test.shape)\n",
    "\n",
    "    pipe = Pipeline(steps=[('standardize', StandardScaler()),\n",
    "                           ('pca', PCA()),\n",
    "                           ('reg', KernelRidge(kernel='rbf'))])\n",
    "\n",
    "    param_grid = {'pca__n_components': [10, 15, 20],\n",
    "                  'reg__alpha': np.logspace(-5, 5, 5),\n",
    "                  'reg__gamma': np.logspace(-5, 5, 5)}\n",
    "\n",
    "    # scoring = {'r2': 'r2', 'mse': 'neg_mean_squared_error'}\n",
    "    # scoring = {'r2': 'r2', 'mse': 'neg_mean_squared_error', 'mae': 'neg_mean_absolute_error'}\n",
    "\n",
    "    inner_cv = KFold(n_splits=5, shuffle=True, random_state=0)\n",
    "    grid = GridSearchCV(pipe, param_grid, cv=inner_cv, scoring = 'r2')\n",
    "    grid.fit(X_train, y_train);\n",
    "\n",
    "    print(grid.best_score_)\n",
    "    print(grid.best_params_)\n",
    "\n",
    "#     outer_cv = KFold(n_splits=5, shuffle=True, random_state=0)\n",
    "#     nested_score = cross_val_score(grid, X=X_train, y=y_train, cv=outer_cv)\n",
    "#     print('Nested CV score (mean):', nested_score.mean())\n",
    "\n",
    "    scaler = StandardScaler().fit(X_train)\n",
    "    X_train = scaler.transform(X_train)\n",
    "    X_test = scaler.transform(X_test)\n",
    "\n",
    "    mdl = KernelRidge(kernel='rbf', alpha = grid.best_params_['reg__alpha'], gamma = grid.best_params_['reg__gamma']).fit(X_train, y_train)\n",
    "    y_pred = mdl.predict(X_test)\n",
    "    print('Test set (r2):', r2_score(y_test, y_pred))\n",
    "    print('Test set (mse):', mean_squared_error(y_test, y_pred))\n",
    "    print('Test set (mae):', mean_absolute_error(y_test, y_pred))"
   ]
  },
  {
   "cell_type": "code",
   "execution_count": 25,
   "metadata": {},
   "outputs": [
    {
     "data": {
      "text/plain": [
       "('Overall_Psychopathology',\n",
       " 'Psychosis_Positive',\n",
       " 'Psychosis_NegativeDisorg',\n",
       " 'AnxiousMisery',\n",
       " 'Externalizing',\n",
       " 'Fear',\n",
       " 'F1_Exec_Comp_Res_Accuracy',\n",
       " 'F2_Social_Cog_Accuracy',\n",
       " 'F3_Memory_Accuracy',\n",
       " 'F1_Complex_Reasoning_Efficiency',\n",
       " 'F2_Memory.Efficiency',\n",
       " 'F3_Executive_Efficiency',\n",
       " 'F4_Social_Cognition_Efficiency')"
      ]
     },
     "execution_count": 25,
     "metadata": {},
     "output_type": "execute_result"
    }
   ],
   "source": [
    "phenos"
   ]
  },
  {
   "cell_type": "code",
   "execution_count": 27,
   "metadata": {},
   "outputs": [
    {
     "name": "stdout",
     "output_type": "stream",
     "text": [
      "F3_Executive_Efficiency\n"
     ]
    }
   ],
   "source": [
    "pheno = phenos[11]; print(pheno)\n",
    "y = df.loc[:,pheno]"
   ]
  },
  {
   "cell_type": "code",
   "execution_count": 28,
   "metadata": {},
   "outputs": [
    {
     "name": "stdout",
     "output_type": "stream",
     "text": [
      "ct\n",
      "(107, 179)\n",
      "0.014101317728549412\n",
      "{'pca__n_components': 10, 'reg__alpha': 1.0, 'reg__gamma': 0.0031622776601683794}\n",
      "Test set (r2): -0.07922871194114212\n",
      "Test set (mse): 0.44379665431732845\n",
      "Test set (mae): 0.5344568619922334\n"
     ]
    }
   ],
   "source": [
    "metric = metrics[0]; print(metric)\n",
    "X = df_z.filter(regex = metric)\n",
    "run_krr(X,y)"
   ]
  },
  {
   "cell_type": "code",
   "execution_count": 29,
   "metadata": {},
   "outputs": [
    {
     "name": "stdout",
     "output_type": "stream",
     "text": [
      "ac\n",
      "(107, 102)\n",
      "-0.001566904798941371\n",
      "{'pca__n_components': 10, 'reg__alpha': 316.22776601683796, 'reg__gamma': 1e-05}\n",
      "Test set (r2): -0.04935254327353644\n",
      "Test set (mse): 0.43151108078523115\n",
      "Test set (mae): 0.5344489747485821\n"
     ]
    }
   ],
   "source": [
    "metric = metrics[3]; print(metric)\n",
    "X = df_z.filter(regex = metric)\n",
    "run_krr(X,y)"
   ]
  },
  {
   "cell_type": "code",
   "execution_count": 30,
   "metadata": {},
   "outputs": [
    {
     "name": "stdout",
     "output_type": "stream",
     "text": [
      "mc\n",
      "(107, 138)\n",
      "-0.0009469105942796041\n",
      "{'pca__n_components': 10, 'reg__alpha': 316.22776601683796, 'reg__gamma': 0.0031622776601683794}\n",
      "Test set (r2): -0.04686830713305867\n",
      "Test set (mse): 0.4304895218927743\n",
      "Test set (mae): 0.533972476657107\n"
     ]
    }
   ],
   "source": [
    "metric = metrics[4]; print(metric)\n",
    "X = df_z.filter(regex = metric)\n",
    "run_krr(X,y)"
   ]
  },
  {
   "cell_type": "code",
   "execution_count": null,
   "metadata": {},
   "outputs": [],
   "source": []
  },
  {
   "cell_type": "code",
   "execution_count": null,
   "metadata": {},
   "outputs": [],
   "source": []
  },
  {
   "cell_type": "code",
   "execution_count": null,
   "metadata": {},
   "outputs": [],
   "source": []
  },
  {
   "cell_type": "code",
   "execution_count": 12,
   "metadata": {},
   "outputs": [],
   "source": [
    "if type(X) == pd.Series:\n",
    "    X = X.values.reshape(-1,1)"
   ]
  },
  {
   "cell_type": "code",
   "execution_count": null,
   "metadata": {},
   "outputs": [],
   "source": []
  }
 ],
 "metadata": {
  "kernelspec": {
   "display_name": "Python 3",
   "language": "python",
   "name": "python3"
  },
  "language_info": {
   "codemirror_mode": {
    "name": "ipython",
    "version": 3
   },
   "file_extension": ".py",
   "mimetype": "text/x-python",
   "name": "python",
   "nbconvert_exporter": "python",
   "pygments_lexer": "ipython3",
   "version": "3.7.6"
  }
 },
 "nbformat": 4,
 "nbformat_minor": 4
}
